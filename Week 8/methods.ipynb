{
 "cells": [
  {
   "cell_type": "code",
   "execution_count": 1,
   "metadata": {},
   "outputs": [
    {
     "name": "stdout",
     "output_type": "stream",
     "text": [
      "1522.5\n"
     ]
    }
   ],
   "source": [
    "class BankAccount:\n",
    "\n",
    "    def __init__(self, account_number: str, owner: str, balance: float, annual_interest: float) :\n",
    "        self.account_number = account_number\n",
    "        self.owner = owner\n",
    "        self.balance = balance\n",
    "        self.annual_interest = annual_interest\n",
    "\n",
    "    # add the annual interest to  the balance of the account\n",
    "    def add_interest(self):\n",
    "        self.balance += self.balance * self.annual_interest\n",
    "\n",
    "peters_account = BankAccount(\"12345-678\", \"Peter Python\", 1500.0, 0.015)\n",
    "\n",
    "peters_account.add_interest()\n",
    "print(peters_account.balance)"
   ]
  },
  {
   "attachments": {},
   "cell_type": "markdown",
   "metadata": {},
   "source": [
    "The `add_interest` method multiplies the balance of the account by the annual interest percentage, and then adds the result to the current balance. The method acts only on the object which it is called on.\n",
    "\n",
    "Let's see how this works when we have created multiple instances of the class:"
   ]
  },
  {
   "cell_type": "code",
   "execution_count": 2,
   "metadata": {},
   "outputs": [
    {
     "name": "stdout",
     "output_type": "stream",
     "text": [
      "1522.5\n",
      "1575.0\n",
      "1500.0\n"
     ]
    }
   ],
   "source": [
    "# The class BankAccount is defined in the previous example\n",
    "\n",
    "peters_account = BankAccount(\"12345-678\", \"Peter Python\", 1500.0, 0.015)\n",
    "paulas_account = BankAccount(\"99999-999\", \"Paula Pythonen\", 1500.0, 0.05)\n",
    "pippas_account = BankAccount(\"1111-222\", \"Pippa Programmer\", 1500.0, 0.001)\n",
    "\n",
    "# Add interest on Peter's and Paula's accounts, but not on Pippa's\n",
    "peters_account.add_interest()\n",
    "paulas_account.add_interest()\n",
    "\n",
    "# Print all account balances\n",
    "print(peters_account.balance)\n",
    "print(paulas_account.balance)\n",
    "print(pippas_account.balance)"
   ]
  },
  {
   "attachments": {},
   "cell_type": "markdown",
   "metadata": {},
   "source": [
    "# Encapsulation"
   ]
  },
  {
   "attachments": {},
   "cell_type": "markdown",
   "metadata": {},
   "source": [
    "In object oriented programming the word client comes up from time to time. This is used to refer to a section of code which creates an object and uses the service provided by its methods. When the data contained in an object is used only through the methods it provides, the internal integrity of the object is guaranteed. In practice this means that, for example, a BankAccount class offers methods to handle the balance attribute, so the balance is never accessed directly by the client. These methods can then verify that the balance is not allowed to go below zero, for instance.\n",
    "\n",
    "An example of how this would work:"
   ]
  },
  {
   "cell_type": "code",
   "execution_count": 3,
   "metadata": {},
   "outputs": [
    {
     "name": "stdout",
     "output_type": "stream",
     "text": [
      "The withdrawal was successful, the balance is now 500.0\n",
      "The withdrawal was unsuccessful, the balance is insufficient\n"
     ]
    }
   ],
   "source": [
    "class BankAccount:\n",
    "\n",
    "    def __init__(self, account_number: str, owner: str, balance: float, annual_interest: float) :\n",
    "        self.account_number = account_number\n",
    "        self.owner = owner\n",
    "        self.balance = balance\n",
    "        self.annual_interest = annual_interest\n",
    "\n",
    "    # add the annual interest to  the balance of the account\n",
    "    def add_interest(self):\n",
    "        self.balance += self.balance * self.annual_interest\n",
    "\n",
    "    # This method \"withdraws\" money from the account\n",
    "    # If the withdrawal is successful the method returns True, and False otherwise\n",
    "    def withdraw(self, amount: float):\n",
    "        if amount <= self.balance:\n",
    "            self.balance -= amount\n",
    "            return True\n",
    "        \n",
    "        return False\n",
    "   \n",
    "peters_account = BankAccount(\"12345-678\", \"Peter Python\", 1500.0, 0.015)\n",
    "\n",
    "if peters_account.withdraw(1000):\n",
    "    print(\"The withdrawal was successful, the balance is now\", peters_account.balance)\n",
    "else:\n",
    "    print(\"The withdrawal was unsuccessful, the balance is insufficient\")\n",
    "\n",
    "# Yritetään uudestaan\n",
    "if peters_account.withdraw(1000):\n",
    "    print(\"The withdrawal was successful, the balance is now\", peters_account.balance)\n",
    "else:\n",
    "    print(\"The withdrawal was unsuccessful, the balance is insufficient\")"
   ]
  },
  {
   "attachments": {},
   "cell_type": "markdown",
   "metadata": {},
   "source": [
    "## Programming exercise:\n",
    "## Decreasing counter\n",
    "\n",
    "This exercise has multiple parts. You can submit the parts separately. Each part is worth one exercise point.\n",
    "\n",
    "The exercise template contains a partially completed class DecreasingCounter:"
   ]
  },
  {
   "cell_type": "code",
   "execution_count": null,
   "metadata": {},
   "outputs": [],
   "source": [
    "class DecreasingCounter:\n",
    "    def __init__(self, initial_value: int):\n",
    "        self.value = initial_value\n",
    "\n",
    "    def print_value(self):\n",
    "        print(\"value:\", self.value)\n",
    "\n",
    "    def decrease(self):\n",
    "        pass\n",
    "\n",
    "    # define the rest of your methods here"
   ]
  },
  {
   "attachments": {},
   "cell_type": "markdown",
   "metadata": {},
   "source": [
    "The class can now be used as shown below, and should produce the following printout after completing the first part of the exercise:"
   ]
  },
  {
   "cell_type": "code",
   "execution_count": null,
   "metadata": {},
   "outputs": [],
   "source": [
    "counter = DecreasingCounter(10)\n",
    "counter.print_value()\n",
    "counter.decrease()\n",
    "counter.print_value()\n",
    "counter.decrease()\n",
    "counter.print_value()"
   ]
  },
  {
   "attachments": {},
   "cell_type": "markdown",
   "metadata": {},
   "source": [
    "##  Part 1:Decreasing the value of the counter\n",
    "Please complete the method decrease defined in the template, so that it decreases the value stored in the counter by one. See the example above for expected behaviour.\n",
    "\n"
   ]
  },
  {
   "cell_type": "code",
   "execution_count": 8,
   "metadata": {},
   "outputs": [
    {
     "name": "stdout",
     "output_type": "stream",
     "text": [
      "value: 1\n",
      "value: 0\n",
      "value: 0\n"
     ]
    }
   ],
   "source": [
    "class DecreasingCounter:\n",
    "    def __init__(self, initial_value: int):\n",
    "        self.value = initial_value\n",
    "\n",
    "    def print_value(self):\n",
    "        print(\"value:\", self.value)\n",
    "\n",
    "    def decrease(self):\n",
    "        self.value -= 1\n",
    "        \n",
    "\n",
    "    # define the rest of your methods here\n",
    "\n",
    "counter = DecreasingCounter(1)\n",
    "counter.print_value()\n",
    "counter.decrease()\n",
    "counter.print_value()\n",
    "counter.decrease()\n",
    "counter.print_value()"
   ]
  },
  {
   "attachments": {},
   "cell_type": "markdown",
   "metadata": {},
   "source": [
    "## Part 2:The counter must not have a negative value\n",
    "Please add functionality to your decrease method, so that the value of the counter will never reach negative values. If the value of the counter is 0, it will not be further decreased."
   ]
  },
  {
   "cell_type": "code",
   "execution_count": 9,
   "metadata": {},
   "outputs": [
    {
     "name": "stdout",
     "output_type": "stream",
     "text": [
      "value: 2\n",
      "value: 1\n",
      "value: 0\n",
      "value: 0\n"
     ]
    }
   ],
   "source": [
    "class DecreasingCounter:\n",
    "    def __init__(self, initial_value: int):\n",
    "        self.value = initial_value\n",
    "\n",
    "    def print_value(self):\n",
    "        print(\"value:\", self.value)\n",
    "\n",
    "    def decrease(self):\n",
    "        self.value -= 1\n",
    "        if self.value <= 0:\n",
    "            self.value = 0\n",
    "\n",
    "counter = DecreasingCounter(2)\n",
    "counter.print_value()\n",
    "counter.decrease()\n",
    "counter.print_value()\n",
    "counter.decrease()\n",
    "counter.print_value()\n",
    "counter.decrease()\n",
    "counter.print_value()            "
   ]
  },
  {
   "attachments": {},
   "cell_type": "markdown",
   "metadata": {},
   "source": [
    "## Part 3:Setting the value to zero\n",
    "Please add a method set_to_zero which sets the value of the counter to 0:"
   ]
  },
  {
   "cell_type": "code",
   "execution_count": 10,
   "metadata": {},
   "outputs": [
    {
     "name": "stdout",
     "output_type": "stream",
     "text": [
      "value: 100\n",
      "value: 0\n"
     ]
    }
   ],
   "source": [
    "class DecreasingCounter:\n",
    "    def __init__(self, initial_value: int):\n",
    "        self.value = initial_value\n",
    "\n",
    "    def print_value(self):\n",
    "        print(\"value:\", self.value)\n",
    "\n",
    "    def decrease(self):\n",
    "        self.value -= 1\n",
    "        if self.value <= 0:\n",
    "            self.value = 0\n",
    "\n",
    "    def set_to_zero(self):\n",
    "        self.value = 0\n",
    "\n",
    "counter = DecreasingCounter(100)\n",
    "counter.print_value()\n",
    "counter.set_to_zero()\n",
    "counter.print_value()"
   ]
  },
  {
   "attachments": {},
   "cell_type": "markdown",
   "metadata": {},
   "source": [
    "## Part 4: Resetting the counter\n",
    "Please add a method reset_original_value() which resets the counter to its initial state:"
   ]
  },
  {
   "cell_type": "code",
   "execution_count": 13,
   "metadata": {},
   "outputs": [
    {
     "name": "stdout",
     "output_type": "stream",
     "text": [
      "value: 51\n",
      "value: 55\n"
     ]
    }
   ],
   "source": [
    "class DecreasingCounter:\n",
    "    def __init__(self, initial_value: int):\n",
    "        self.value = initial_value\n",
    "        self.initial_value = initial_value\n",
    "\n",
    "    def print_value(self):\n",
    "        print(\"value:\", self.value)\n",
    "\n",
    "    def decrease(self):\n",
    "        self.value -= 1\n",
    "        if self.value <= 0:\n",
    "            self.value = 0\n",
    "\n",
    "    def set_to_zero(self):\n",
    "        self.value = 0\n",
    "    \n",
    "    def reset_original_value(self):\n",
    "        self.value = self.initial_value\n",
    "\n",
    "counter = DecreasingCounter(55)\n",
    "counter.decrease()\n",
    "counter.decrease()\n",
    "counter.decrease()\n",
    "counter.decrease()\n",
    "counter.print_value()\n",
    "counter.reset_original_value()\n",
    "counter.print_value()        "
   ]
  },
  {
   "attachments": {},
   "cell_type": "markdown",
   "metadata": {},
   "source": [
    "## Programming exercise:\n",
    "First and last name\n",
    "\n",
    "\n",
    "Please write a class named Person with a single attribute name, which is set with an argument given to the constructor.\n",
    "\n",
    "Please also add two methods:\n",
    "\n",
    "The method return_first_name should return the first name of the person, while the method return_last_name should return the last name of the person.\n",
    "\n",
    "You may assume that the name passed to the constructor will contain exactly two name elements separated with a space character.\n",
    "\n",
    "An example use case:\n",
    "\n",
    "```python\n",
    "if __name__ == \"__main__\":\n",
    "    peter = Person(\"Peter Pythons\")\n",
    "    print(peter.return_first_name())\n",
    "    print(peter.return_last_name())\n",
    "\n",
    "    paula = Person(\"Paula Pythonnen\")\n",
    "    print(paula.return_first_name())\n",
    "    print(paula.return_last_name())\n",
    "```\n",
    "Sample output\n",
    "```\n",
    "    Peter\n",
    "    Pythons\n",
    "    Paula\n",
    "    Pythonnen\n",
    "```"
   ]
  },
  {
   "cell_type": "code",
   "execution_count": 2,
   "metadata": {},
   "outputs": [
    {
     "name": "stdout",
     "output_type": "stream",
     "text": [
      "Peter\n",
      "Pythons\n",
      "Paula\n",
      "Pythonnen\n"
     ]
    }
   ],
   "source": [
    "class Person:\n",
    "\n",
    "    def __init__(self, name: str):\n",
    "        self.name = name\n",
    "\n",
    "    def return_first_name(self):\n",
    "        first_name = self.name.split()[0]\n",
    "        return first_name\n",
    "\n",
    "    def return_last_name(self):\n",
    "        last_name = self.name.split()[1]\n",
    "        return last_name\n",
    "\n",
    "if __name__ == \"__main__\":\n",
    "    peter = Person(\"Peter Pythons\")\n",
    "    print(peter.return_first_name())\n",
    "    print(peter.return_last_name())\n",
    "\n",
    "    paula = Person(\"Paula Pythonnen\")\n",
    "    print(paula.return_first_name())\n",
    "    print(paula.return_last_name())"
   ]
  },
  {
   "attachments": {},
   "cell_type": "markdown",
   "metadata": {},
   "source": [
    "Programming exercise:\n",
    "Statistics on numbers\n",
    "\n",
    "\n",
    "NB: Some exercises have multiple parts, and you can receive points for the different parts separately. You can submit a partially completed exercise by choosing 'Submit Solution' from the menu next to the button for executing tests .\n",
    "\n",
    "In this exercise you are asked to create a program for working with numbers, similarly to the exercise completed at the end of part 2 in the Introduction to Programming course. This time you will define a class for the purpose.\n",
    "\n",
    "Count the numbers\n",
    "Please write a class named NumberStats with the following methods:\n",
    "\n",
    "the method add_number adds a new number to the statistical record\n",
    "the method count_numbers returns the count of how many numbers have been added\n",
    "At this point there is no need to store the numbers themselves in any data structure. It is enough to simply remember how many have been added. The add_number method does take an argument, but there is no need to process the actual value in any way just yet.\n",
    "\n",
    "The exercise template contains the following skeleton for the class definition:\n",
    "\n",
    "```python\n",
    "class  NumberStats:\n",
    "    def __init__(self):\n",
    "        self.numbers = 0\n",
    "\n",
    "    def add_number(self, number:int):\n",
    "        pass\n",
    "\n",
    "    def count_numbers(self):\n",
    "        pass\n",
    "```\n",
    "```python\n",
    "stats = NumberStats()\n",
    "stats.add_number(3)\n",
    "stats.add_number(5)\n",
    "stats.add_number(1)\n",
    "stats.add_number(2)\n",
    "print(\"Numbers added:\", stats.count_numbers())\n",
    "```\n",
    "```python\n",
    "Sample output\n",
    "Numbers added: 4\n",
    "```"
   ]
  },
  {
   "cell_type": "code",
   "execution_count": 3,
   "metadata": {},
   "outputs": [
    {
     "name": "stdout",
     "output_type": "stream",
     "text": [
      "Numbers added: 4\n"
     ]
    }
   ],
   "source": [
    "class  NumberStats:\n",
    "    def __init__(self):\n",
    "        self.numbers = 0\n",
    "\n",
    "    def add_number(self, number:int):\n",
    "        self.numbers +=1\n",
    "\n",
    "    def count_numbers(self):\n",
    "        return self.numbers\n",
    "    \n",
    "stats = NumberStats()\n",
    "stats.add_number(3)\n",
    "stats.add_number(5)\n",
    "stats.add_number(1)\n",
    "stats.add_number(2)\n",
    "print(\"Numbers added:\", stats.count_numbers())"
   ]
  },
  {
   "attachments": {},
   "cell_type": "markdown",
   "metadata": {},
   "source": [
    "## part 2: The sum and the mean\n",
    "Please add the following methods to your class definition:\n",
    "\n",
    "the method get_sum should return the sum of the numbers added (if no numbers have been added, the method should return 0)\n",
    "the method average should return the mean of the numbers added (if no numbers have been added, the method should return 0)\n",
    "```python\n",
    "stats = NumberStats()\n",
    "stats.add_number(3)\n",
    "stats.add_number(5)\n",
    "stats.add_number(1)\n",
    "stats.add_number(2)\n",
    "print(\"Numbers added:\", stats.count_numbers())\n",
    "print(\"Sum of numbers:\", stats.get_sum())\n",
    "print(\"Mean of numbers:\", stats.average())\n",
    "```\n",
    "```python\n",
    "Sample output\n",
    "Numbers added: 4\n",
    "Sum of numbers: 11\n",
    "Mean of numbers: 2.75\n",
    "```"
   ]
  },
  {
   "cell_type": "code",
   "execution_count": 6,
   "metadata": {},
   "outputs": [
    {
     "name": "stdout",
     "output_type": "stream",
     "text": [
      "Numbers added: 4\n",
      "Sum of numbers: 11\n",
      "Mean of numbers: 2.75\n"
     ]
    }
   ],
   "source": [
    "class NumberStats:\n",
    "    \"\"\"A class to keep track of statistics for a set of numbers.\"\"\"\n",
    "    \n",
    "    def __init__(self):\n",
    "        \"\"\"\n",
    "        Initializes a new NumberStats object.\n",
    "        \n",
    "        The object starts with zero numbers and a sum of zero.\n",
    "        \"\"\"\n",
    "        self.numbers = 0\n",
    "        self.sum = 0\n",
    "\n",
    "    def add_number(self, number: int):\n",
    "        \"\"\"\n",
    "        Adds a new number to the statistics.\n",
    "\n",
    "        Args:\n",
    "            number (int): The number to add to the statistics.\n",
    "        \"\"\"\n",
    "        self.numbers += 1\n",
    "        self.sum += number\n",
    "\n",
    "    def count_numbers(self):\n",
    "        \"\"\"\n",
    "        Returns the count of numbers added to the statistics.\n",
    "\n",
    "        Returns:\n",
    "            int: The count of numbers added.\n",
    "        \"\"\"\n",
    "        return self.numbers\n",
    "\n",
    "    def get_sum(self):\n",
    "        \"\"\"\n",
    "        Returns the sum of all numbers added to the statistics.\n",
    "\n",
    "        Returns:\n",
    "            int: The sum of all numbers added.\n",
    "        \"\"\"\n",
    "        return self.sum\n",
    "\n",
    "    def average(self):\n",
    "        \"\"\"\n",
    "        Returns the average of all numbers added to the statistics.\n",
    "\n",
    "        Returns:\n",
    "            float: The average of all numbers added. If no numbers have been added, returns 0.\n",
    "        \"\"\"\n",
    "        if self.numbers == 0:\n",
    "            return 0\n",
    "        return self.sum / self.numbers\n",
    "\n",
    "\n",
    "stats = NumberStats()\n",
    "stats.add_number(3)\n",
    "stats.add_number(5)\n",
    "stats.add_number(1)\n",
    "stats.add_number(2)\n",
    "print(\"Numbers added:\", stats.count_numbers())\n",
    "print(\"Sum of numbers:\", stats.get_sum())\n",
    "print(\"Mean of numbers:\", stats.average())        "
   ]
  },
  {
   "attachments": {},
   "cell_type": "markdown",
   "metadata": {},
   "source": [
    "## Part 3: User input\n",
    "Please write a main program which keeps asking the user for integer numbers until the user types in -1. The program should then print out the sum and the mean of the numbers typed in.\n",
    "\n",
    "Your program should use a NumberStats object to keep a record of the numbers added.\n",
    "\n",
    "NB: you do not need to change the NumberStats class in this part of the exercise, provided it passed the tests for the previous part of the exercise. Use an instance of the class to complete this part.\n",
    "\n",
    "NB2: your main program should not be contained in a if __name__ == \"__main__\" block, or the tests will not work.\n",
    "\n",
    "```python\n",
    "Sample output\n",
    "Please type in integer numbers:\n",
    "4\n",
    "2\n",
    "5\n",
    "2\n",
    "-1\n",
    "Sum of numbers: 13\n",
    "Mean of numbers: 3.25\n",
    "```"
   ]
  },
  {
   "cell_type": "code",
   "execution_count": 9,
   "metadata": {},
   "outputs": [
    {
     "name": "stdout",
     "output_type": "stream",
     "text": [
      "Please type in integer numbers:\n",
      "Sum of numbers: 20\n",
      "Mean of numbers: 4.0\n"
     ]
    }
   ],
   "source": [
    "if  __name__ == \"__main__\":\n",
    "    stats = NumberStats()\n",
    "\n",
    "    print(\"Please type in integer numbers:\")\n",
    "    while True:\n",
    "        num = input()\n",
    "        if num == \"-1\":\n",
    "            break\n",
    "        stats.add_number(int(num))\n",
    "\n",
    "    print(\"Sum of numbers:\", stats.get_sum())\n",
    "    print(\"Mean of numbers:\", stats.average())\n",
    "\n",
    "    "
   ]
  },
  {
   "attachments": {},
   "cell_type": "markdown",
   "metadata": {},
   "source": [
    "# Multiple sums\n",
    "Please add to your main program so that it also counts separately the sum of the even and the odd numbers added.\n",
    "\n",
    "NB: do not change your NumberStats class definition in this part of exercise, either. Instead, define three NumberStats objects. One of them should keep track of all the numbers, another should track the even numbers, and the third should track the odd numbers typed in.\n",
    "\n",
    "NB2: your main program should not be contained in a if __name__ == \"__main__\" block, or the tests will not work.\n",
    "\n",
    "Please have look at this example of how your main function should work:\n",
    "\n",
    "Sample output\n",
    "```python\n",
    "Please type in integer numbers:\n",
    "4\n",
    "2\n",
    "5\n",
    "2\n",
    "-1\n",
    "Sum of numbers: 13\n",
    "Mean of numbers: 3.25\n",
    "Sum of even numbers: 8\n",
    "Sum of odd numbers: 5\n",
    "```"
   ]
  },
  {
   "cell_type": "code",
   "execution_count": 16,
   "metadata": {},
   "outputs": [
    {
     "name": "stdout",
     "output_type": "stream",
     "text": [
      "Please type in integer numbers:\n",
      "Sum of numbers: 13\n",
      "Mean of numbers: 3.25\n",
      "Sum of Even Numbers:  8\n",
      "Sum of odd Numbers:  5\n"
     ]
    }
   ],
   "source": [
    "if  __name__ == \"__main__\":\n",
    "    stats = NumberStats()\n",
    "    all_numbers = NumberStats()\n",
    "    even_numbers = NumberStats()\n",
    "    odd_numbers = NumberStats()\n",
    "\n",
    "\n",
    "    print(\"Please type in integer numbers:\")\n",
    "    while True:\n",
    "        num = input()\n",
    "        if num == \"-1\":\n",
    "            break\n",
    "        num = int(num)\n",
    "        stats.add_number(num)\n",
    "\n",
    "        if int(num) % 2 == 0:\n",
    "            even_numbers.add_number(num)\n",
    "        else:\n",
    "            odd_numbers.add_number(num)\n",
    "\n",
    "\n",
    "    print(\"Sum of numbers:\", stats.get_sum())\n",
    "    print(\"Mean of numbers:\", stats.average())\n",
    "    print(\"Sum of Even Numbers: \", even_numbers.get_sum())\n",
    "    print(\"Sum of odd Numbers: \", odd_numbers.get_sum())\n",
    "\n",
    "\n"
   ]
  }
 ],
 "metadata": {
  "kernelspec": {
   "display_name": ".venv",
   "language": "python",
   "name": "python3"
  },
  "language_info": {
   "codemirror_mode": {
    "name": "ipython",
    "version": 3
   },
   "file_extension": ".py",
   "mimetype": "text/x-python",
   "name": "python",
   "nbconvert_exporter": "python",
   "pygments_lexer": "ipython3",
   "version": "3.10.10"
  },
  "orig_nbformat": 4
 },
 "nbformat": 4,
 "nbformat_minor": 2
}
