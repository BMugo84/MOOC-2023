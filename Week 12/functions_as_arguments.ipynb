{
 "cells": [
  {
   "cell_type": "markdown",
   "metadata": {},
   "source": [
    "# Functions as arguments\n",
    "Learning objectives\n",
    "After this section\n",
    "\n",
    "* You will be able to sort lists according to different criteria\n",
    "* You will know what a lambda expression is\n",
    "* You will be able to use lambda expression with other Python functions\n",
    "* You will know how a function is passed as an argument to another function"
   ]
  },
  {
   "cell_type": "markdown",
   "metadata": {},
   "source": [
    "We are already familiar with the method sort and the function sorted, which are used to sort lists into their natural order. For numbers and strings this usually works just fine. For anything more complicated than that, however, what Python deems to be the natural order of items is not always what was intended by us as programmers.\n",
    "\n",
    "For example, a list of tuples is, by default, sorted based on the first item of each tuple:\n"
   ]
  },
  {
   "cell_type": "code",
   "execution_count": 2,
   "metadata": {},
   "outputs": [
    {
     "name": "stdout",
     "output_type": "stream",
     "text": [
      "('apple', 3.95)\n",
      "('banana', 5.95)\n",
      "('orange', 4.5)\n",
      "('watermelon', 4.95)\n"
     ]
    }
   ],
   "source": [
    "\n",
    "products = [(\"banana\", 5.95), (\"apple\", 3.95), (\"orange\", 4.50), (\"watermelon\", 4.95)]\n",
    "\n",
    "products.sort()\n",
    "\n",
    "for product in products:\n",
    "    print(product)\n"
   ]
  },
  {
   "cell_type": "markdown",
   "metadata": {},
   "source": [
    "\n",
    "But what if we wanted to sort the list based on the price?\n",
    "\n",
    "## Functions as arguments\n",
    "A sorting method or function usually accepts an optional second argument which allows you to bypass the default sorting criteria. This second argument is a function which defines how the value of each item on the list is determined. As the list is sorted, Python calls this function when it compares the items to each other.\n",
    "\n",
    "Let's take a look at an example:\n"
   ]
  },
  {
   "cell_type": "code",
   "execution_count": 3,
   "metadata": {},
   "outputs": [
    {
     "name": "stdout",
     "output_type": "stream",
     "text": [
      "('apple', 3.95)\n",
      "('orange', 4.5)\n",
      "('watermelon', 4.95)\n",
      "('banana', 5.95)\n"
     ]
    }
   ],
   "source": [
    "\n",
    "def order_by_price(item: tuple):\n",
    "    # Return the price, which is the second item within the tuple\n",
    "    return item[1]\n",
    "\n",
    "if __name__ == \"__main__\":\n",
    "    products = [(\"banana\", 5.95), (\"apple\", 3.95), (\"orange\", 4.50), (\"watermelon\", 4.95)]\n",
    "\n",
    "    # Use the function order_by_price for sorting\n",
    "    products.sort(key=order_by_price)\n",
    "\n",
    "    for product in products:\n",
    "        print(product)\n"
   ]
  },
  {
   "cell_type": "markdown",
   "metadata": {},
   "source": [
    "\n",
    "Now the list is sorted based on the prices of the items, but what really happens in the program?\n",
    "\n",
    "The function order_by_price is actually pretty simple. It takes one item as its argument and returns a value for that item. More specifically, it returns the second item in the tuple, which represents the price. But then we have this line of code, where the sort method is called:\n"
   ]
  },
  {
   "cell_type": "markdown",
   "metadata": {},
   "source": [
    "\n",
    "products.sort(key=order_by_price)\n"
   ]
  },
  {
   "cell_type": "markdown",
   "metadata": {},
   "source": [
    "\n",
    "Here the sort method is called with a function as its argument. This is not a reference to the return value of the function, but a reference to the function itself. The sort method calls this function multiple times, using each item on the list as the argument in turn.\n",
    "\n",
    "If we include an extra print statement in the function definition of order_by_price, we can verify that the function does indeed get called once per each item on the list:\n"
   ]
  },
  {
   "cell_type": "code",
   "execution_count": 4,
   "metadata": {},
   "outputs": [
    {
     "name": "stdout",
     "output_type": "stream",
     "text": [
      "Function call: order_by_price(('banana', 5.95))\n",
      "Function call: order_by_price(('apple', 3.95))\n",
      "Function call: order_by_price(('orange', 4.5))\n",
      "Function call: order_by_price(('watermelon', 4.95))\n",
      "('apple', 3.95)\n",
      "('orange', 4.5)\n",
      "('watermelon', 4.95)\n",
      "('banana', 5.95)\n"
     ]
    }
   ],
   "source": [
    "\n",
    "def order_by_price(item: tuple):\n",
    "    # Print the item\n",
    "    print(f\"Function call: order_by_price({item})\")\n",
    "\n",
    "    # Return the price, which is the second item within the tuple\n",
    "    return item[1]\n",
    "\n",
    "\n",
    "products = [(\"banana\", 5.95), (\"apple\", 3.95), (\"orange\", 4.50), (\"watermelon\", 4.95)]\n",
    "\n",
    "# Use the function order_by_price for sorting\n",
    "products.sort(key=order_by_price)\n",
    "\n",
    "for product in products:\n",
    "    print(product)\n"
   ]
  },
  {
   "cell_type": "markdown",
   "metadata": {},
   "source": [
    "\n",
    "The order can be reversed with another keyword argument; reverse, which is available with both the sort method and the sorted function:\n"
   ]
  },
  {
   "cell_type": "code",
   "execution_count": 5,
   "metadata": {},
   "outputs": [
    {
     "name": "stdout",
     "output_type": "stream",
     "text": [
      "Function call: order_by_price(('apple', 3.95))\n",
      "Function call: order_by_price(('orange', 4.5))\n",
      "Function call: order_by_price(('watermelon', 4.95))\n",
      "Function call: order_by_price(('banana', 5.95))\n",
      "Function call: order_by_price(('banana', 5.95))\n",
      "Function call: order_by_price(('watermelon', 4.95))\n",
      "Function call: order_by_price(('orange', 4.5))\n",
      "Function call: order_by_price(('apple', 3.95))\n"
     ]
    }
   ],
   "source": [
    "\n",
    "products.sort(key=order_by_price, reverse=True)\n",
    "\n",
    "t2 = sorted(products, key=order_by_price, reverse=True)\n"
   ]
  },
  {
   "cell_type": "markdown",
   "metadata": {},
   "source": [
    "## A function definition within a function definition\n",
    "We could also include a named function for this new price-based sort functionality we created. Let's add a function named sort_by_price:\n"
   ]
  },
  {
   "cell_type": "code",
   "execution_count": 6,
   "metadata": {},
   "outputs": [
    {
     "name": "stdout",
     "output_type": "stream",
     "text": [
      "('apple', 3.95)\n",
      "('orange', 4.5)\n",
      "('watermelon', 4.95)\n",
      "('banana', 5.95)\n"
     ]
    }
   ],
   "source": [
    "\n",
    "def order_by_price(item: tuple):\n",
    "    return item[1]\n",
    "\n",
    "def sort_by_price(items: list):\n",
    "    # use the order_by_price function here\n",
    "    return sorted(items, key=order_by_price)\n",
    "\n",
    "products = [(\"banana\", 5.95), (\"apple\", 3.95), (\"orange\", 4.50), (\"watermelon\", 4.95)]\n",
    "\n",
    "for product in sort_by_price(products):\n",
    "    print(product)\n"
   ]
  },
  {
   "cell_type": "markdown",
   "metadata": {},
   "source": [
    "If we know that the helper function order_by_price is not used anywhere outside the sort_by_price function, we can place the former function definition within the latter function definition:\n"
   ]
  },
  {
   "cell_type": "markdown",
   "metadata": {},
   "source": [
    "\n",
    "def sort_by_price(items: list):\n",
    "    # helper function defined within the function\n",
    "    def order_by_price(item: tuple):\n",
    "        return item[1]\n",
    "\n",
    "    return sorted(items, key=order_by_price)"
   ]
  },
  {
   "cell_type": "markdown",
   "metadata": {},
   "source": [
    "# Programming exercise:Sort by remaining stock\n",
    "\n",
    "Please write a function named sort_by_remaining_stock(items: list). The function takes a list of tuples as its argument. The tuples consist of the name, price and remaining stock of a product. The function should return a new list, where the items are sorted according to the stock remaining, lowest value first. The original list should not be changed.\n",
    "\n",
    "The function should work as follows:\n",
    "\n",
    "```python\n",
    "products = [(\"banana\", 5.95, 12), (\"apple\", 3.95, 3), (\"orange\", 4.50, 2), (\"watermelon\", 4.95, 22)]\n",
    "\n",
    "for product in sort_by_remaining_stock(products):\n",
    "    print(f\"{product[0]} {product[2]} pcs\")\n",
    "```\n",
    "Sample output\n",
    "\n",
    "```console\n",
    "orange 2 pcs\n",
    "apple 3 pcs\n",
    "banana 12 pcs\n",
    "watermelon 22 pcspcs\n",
    "```"
   ]
  },
  {
   "cell_type": "code",
   "execution_count": 9,
   "metadata": {},
   "outputs": [
    {
     "name": "stdout",
     "output_type": "stream",
     "text": [
      "orange 2 pcs\n",
      "apple 3 pcs\n",
      "banana 12 pcs\n",
      "watermelon 22 pcs\n"
     ]
    }
   ],
   "source": [
    "def sort_by_remaining_stock(items: list):\n",
    "    def order_by_stock(item: list):\n",
    "        return item[2]\n",
    "    \n",
    "    return sorted(items, key=order_by_stock)\n",
    "\n",
    "products = [(\"banana\", 5.95, 12), (\"apple\", 3.95, 3), (\"orange\", 4.50, 2), (\"watermelon\", 4.95, 22)]\n",
    "\n",
    "for product in sort_by_remaining_stock(products):\n",
    "    print(f\"{product[0]} {product[2]} pcs\")"
   ]
  },
  {
   "cell_type": "code",
   "execution_count": 10,
   "metadata": {},
   "outputs": [
    {
     "name": "stdout",
     "output_type": "stream",
     "text": [
      "orange 2 pcs\n",
      "apple 3 pcs\n",
      "banana 12 pcs\n",
      "watermelon 22 pcs\n"
     ]
    }
   ],
   "source": [
    "def order_by_stock(item:tuple):\n",
    "    return item[2]\n",
    "\n",
    "def sort_by_remaining_stock(items: list):\n",
    "    return sorted(items, key=order_by_stock)\n",
    "\n",
    "products = [(\"banana\", 5.95, 12), (\"apple\", 3.95, 3), (\"orange\", 4.50, 2), (\"watermelon\", 4.95, 22)]\n",
    "\n",
    "for product in sort_by_remaining_stock(products):\n",
    "    print(f\"{product[0]} {product[2]} pcs\")"
   ]
  },
  {
   "cell_type": "markdown",
   "metadata": {},
   "source": [
    "# Programming exercise:Sort by number of seasons\n",
    "\n",
    "Please write a function named sort_by_seasons(items: list) which takes a list of dictionaries as its argument. Each dictionary contains the information of a single TV show. The function should sort this list by the number of seasons each show has, in ascending order. The function should not change the original list, but return a new list instead.\n",
    "\n",
    "The function should work as follows:\n",
    "\n",
    "```python\n",
    "shows = [{ \"name\": \"Dexter\", \"rating\" : 8.6, \"seasons\":9 }, { \"name\": \"Friends\", \"rating\" : 8.9, \"seasons\":10 },  { \"name\": \"Simpsons\", \"rating\" : 8.7, \"seasons\":32 }  ]\n",
    "\n",
    "for show in sort_by_seasons(shows):\n",
    "    print(f\"{show['name']} {show['seasons']} seasons\")\n",
    "```\n",
    "Sample output\n",
    "```console\n",
    "\n",
    "Dexter 9 seasons\n",
    "Friends 10 seasons\n",
    "Simpsons 32 seasonsseasons\n",
    "```"
   ]
  },
  {
   "cell_type": "code",
   "execution_count": 11,
   "metadata": {},
   "outputs": [
    {
     "name": "stdout",
     "output_type": "stream",
     "text": [
      "Dexter 9 seasons\n",
      "Friends 10 seasons\n",
      "Simpsons 32 seasons\n"
     ]
    }
   ],
   "source": [
    "def order_by_seasons(item: dict):\n",
    "    return item[\"seasons\"]\n",
    "\n",
    "def sort_by_seasons(items: list):\n",
    "    return sorted(items, key=order_by_seasons)\n",
    "\n",
    "shows = [{ \"name\": \"Dexter\", \"rating\" : 8.6, \"seasons\":9 }, { \"name\": \"Friends\", \"rating\" : 8.9, \"seasons\":10 },  { \"name\": \"Simpsons\", \"rating\" : 8.7, \"seasons\":32 }  ]\n",
    "\n",
    "for show in sort_by_seasons(shows):\n",
    "    print(f\"{show['name']} {show['seasons']} seasons\")"
   ]
  },
  {
   "cell_type": "markdown",
   "metadata": {},
   "source": [
    "# Programming exercise:Sort by ratings\n",
    "\n",
    "Please write a function named sort_by_ratings(items: list) which takes a list of dictionaries as its argument. The structure of the dictionaries is identical to the previous exercise. This function should sort the dictionaries in descending order based on the shows' ratings. The function should not change the original list, but return a new list instead.\n",
    "```python\n",
    "\n",
    "shows = [{ \"name\": \"Dexter\", \"rating\" : 8.6, \"seasons\":9 }, { \"name\": \"Friends\", \"rating\" : 8.9, \"seasons\":10 },  { \"name\": \"Simpsons\", \"rating\" : 8.7, \"seasons\":32 }  ]\n",
    "\n",
    "print(\"Rating according to IMDB\")\n",
    "for show in sort_by_ratings(shows):\n",
    "    print(f\"{show['name']}  {show['rating']}\")\n",
    "```\n",
    "Sample output\n",
    "```console\n",
    "Rating according to IMDB\n",
    "Friends 8.9\n",
    "Simpsons 8.7\n",
    "Dexter 8.6\n",
    "```"
   ]
  },
  {
   "cell_type": "code",
   "execution_count": 12,
   "metadata": {},
   "outputs": [
    {
     "name": "stdout",
     "output_type": "stream",
     "text": [
      "Rating according to IMDB\n",
      "Friends  8.9\n",
      "Simpsons  8.7\n",
      "Dexter  8.6\n"
     ]
    }
   ],
   "source": [
    "def order_by_ratings(item: dict):\n",
    "    return item[\"rating\"]\n",
    "\n",
    "def sort_by_ratings(items: list):\n",
    "    return sorted(items, key=order_by_ratings, reverse=True)\n",
    "\n",
    "shows = [{ \"name\": \"Dexter\", \"rating\" : 8.6, \"seasons\":9 }, { \"name\": \"Friends\", \"rating\" : 8.9, \"seasons\":10 },  { \"name\": \"Simpsons\", \"rating\" : 8.7, \"seasons\":32 }  ]\n",
    "\n",
    "print(\"Rating according to IMDB\")\n",
    "for show in sort_by_ratings(shows):\n",
    "    print(f\"{show['name']}  {show['rating']}\")"
   ]
  },
  {
   "cell_type": "markdown",
   "metadata": {},
   "source": [
    "Sorting collections of your own objects\n",
    "Using the same principle, let's write a program which sorts a list of objects from our own Student class in two different ways:\n",
    "\n"
   ]
  },
  {
   "cell_type": "code",
   "execution_count": 13,
   "metadata": {},
   "outputs": [
    {
     "name": "stdout",
     "output_type": "stream",
     "text": [
      "Sort by id:\n",
      "Archie (a123), 220 cr.\n",
      "Anna (a999), 131 cr.\n",
      "Marvin (m321), 210 cr.\n",
      "\n",
      "Sort by credits:\n",
      "Anna (a999), 131 cr.\n",
      "Marvin (m321), 210 cr.\n",
      "Archie (a123), 220 cr.\n"
     ]
    }
   ],
   "source": [
    "\n",
    "class Student:\n",
    "    \"\"\" The class models a single student \"\"\"\n",
    "    def __init__(self, name: str, id: str, credits: int):\n",
    "        self.name = name\n",
    "        self.id = id\n",
    "        self.credits = credits\n",
    "\n",
    "    def __str__(self):\n",
    "        return f\"{self.name} ({self.id}), {self.credits} cr.\"\n",
    "\n",
    "\n",
    "def by_id(item: Student):\n",
    "    return item.id\n",
    "\n",
    "def by_credits(item: Student):\n",
    "    return item.credits\n",
    "\n",
    "\n",
    "if __name__ == \"__main__\":\n",
    "    o1 = Student(\"Archie\", \"a123\", 220)\n",
    "    o2 = Student(\"Marvin\", \"m321\", 210)\n",
    "    o3 = Student(\"Anna\", \"a999\", 131)\n",
    "\n",
    "    students = [o1, o2, o3]\n",
    "\n",
    "    print(\"Sort by id:\")\n",
    "    for student in sorted(students, key=by_id):\n",
    "        print(student)\n",
    "\n",
    "    print()\n",
    "\n",
    "    print(\"Sort by credits:\")\n",
    "    for student in sorted(students, key=by_credits):\n",
    "        print(student)\n"
   ]
  },
  {
   "cell_type": "markdown",
   "metadata": {},
   "source": [
    "\n",
    "Sample output\n",
    "```console\n",
    "Sort by id:\n",
    "Archie (a123), 220 cr.\n",
    "Anna (a999), 131 cr.\n",
    "Marvin (m321), 210 cr.\n",
    "\n",
    "Sort by credits:\n",
    "Anna (a999), 131 cr.\n",
    "Marvin (m321), 210 cr.\n",
    "Archie (a123), 220 cr.\n",
    "```\n",
    "\n",
    "As you can see above, sorting by different criteria works exactly as intended. If the functions by_id and by_credits are not needed elsewhere, there are ways of making the implementation simpler. We will return to this topic after these exercises."
   ]
  },
  {
   "cell_type": "markdown",
   "metadata": {},
   "source": [
    "# Programming exercise:ClimbingRoute\n",
    "\n",
    "NB: Some exercises have multiple parts, and you can receive points for the different parts separately. You can submit a partially completed exercise by choosing 'Submit Solution' from the menu next to the button for executing tests .\n",
    "\n",
    "The exercise template contains the class definition for a ClimbingRoute. It works as follows:\n",
    "\n",
    "```python\n",
    "route1 = ClimbingRoute(\"Edge\", 38, \"6A+\")\n",
    "route2 = ClimbingRoute(\"Smooth operator\", 9, \"7A\")\n",
    "route3 = ClimbingRoute(\"Synchro\", 14, \"8C+\")\n",
    "\n",
    "\n",
    "print(route1)\n",
    "print(route2)\n",
    "print(route3.name, route3.length, route3.grade)\n",
    "```\n",
    "Sample output\n",
    "```console\n",
    "Edge, length 38 metres, grade 6A+\n",
    "Smooth operator, length 9 metres, grade 7A\n",
    "Synchro 14 8C+\n",
    "```\n",
    "\n",
    "## Sort by length\n",
    "Please write a function named sort_by_length(routes: list) which returns a new list of routes, sorted by length from longest to shortest.\n",
    "\n",
    "The function should work as follows:\n",
    "\n",
    "```python\n",
    "r1 = ClimbingRoute(\"Edge\", 38, \"6A+\")\n",
    "r2 = ClimbingRoute(\"Smooth operator\", 11, \"7A\")\n",
    "r3 = ClimbingRoute(\"Synchro\", 14, \"8C+\")\n",
    "r4 = ClimbingRoute(\"Small steps\", 12, \"6A+\")\n",
    "\n",
    "routes = [r1, r2, r3, r4]\n",
    "\n",
    "for route in sort_by_length(routes):\n",
    "    print(route)\n",
    "```\n",
    "Sample output\n",
    "```console\n",
    "Edge, length 38 metres, grade 6A+\n",
    "Synchro, length 14 metres, grade 8C+\n",
    "Small steps, length 12 metres, grade 6A+\n",
    "Smooth operator, length 9 metres, grade 7A\n",
    "```"
   ]
  },
  {
   "cell_type": "code",
   "execution_count": 3,
   "metadata": {},
   "outputs": [
    {
     "name": "stdout",
     "output_type": "stream",
     "text": [
      "Edge, length 38 metres, grade 6A+\n",
      "Synchro, length 14 metres, grade 8C+\n",
      "Small steps, length 12 metres, grade 6A+\n",
      "Smooth operator, length 11 metres, grade 7A\n"
     ]
    }
   ],
   "source": [
    "class ClimbingRoute:\n",
    "    def __init__(self, name: str, length: int, grade: str):\n",
    "        self.name = name\n",
    "        self.length = length\n",
    "        self.grade = grade\n",
    "\n",
    "    def __str__(self):\n",
    "        return f\"{self.name}, length {self.length} metres, grade {self.grade}\"\n",
    "    \n",
    "def order_by_length(item: ClimbingRoute):\n",
    "    return item.length\n",
    "\n",
    "def sort_by_length(items: list):\n",
    "    return sorted(items, key=order_by_length, reverse=True)\n",
    "\n",
    "\n",
    "r1 = ClimbingRoute(\"Edge\", 38, \"6A+\")\n",
    "r2 = ClimbingRoute(\"Smooth operator\", 11, \"7A\")\n",
    "r3 = ClimbingRoute(\"Synchro\", 14, \"8C+\")\n",
    "r4 = ClimbingRoute(\"Small steps\", 12, \"6A+\")\n",
    "\n",
    "routes = [r1, r2, r3, r4]\n",
    "\n",
    "for route in sort_by_length(routes):\n",
    "    print(route)"
   ]
  },
  {
   "cell_type": "markdown",
   "metadata": {},
   "source": [
    "# Sort by difficulty\n",
    "Please write a function named sort_by_difficulty(routes: list) which returns a new list of routes, sorted by difficulty, i.e. grade, from hardest to easiest. For routes with the same grade, the longer one is more difficult. The scale of climbing route grades is 4, 4+, 5, 5+, 6A, 6A+, ..., which in practice works out as the alphabetical order for strings.\n",
    "\n",
    "The function should work as follows:\n",
    "\n",
    "```python\n",
    "r1 = ClimbingRoute(\"Edge\", 38, \"6A+\")\n",
    "r2 = ClimbingRoute(\"Smooth operator\", 11, \"7A\")\n",
    "r3 = ClimbingRoute(\"Synchro\", 14, \"8C+\")\n",
    "r4 = ClimbingRoute(\"Small steps\", 12, \"6A+\")\n",
    "\n",
    "routes = [r1, r2, r3, r4]\n",
    "for route in sort_by_difficulty(routes):\n",
    "    print(route)\n",
    "```\n",
    "Sample output\n",
    "```console\n",
    "Synchro, length 14 metres, grade 8C+\n",
    "Smooth operator, length 11 metres, grade 7A\n",
    "Edge, length 38 metres, grade 6A+\n",
    "Small steps, length 12 metres, grade 6A+\n",
    "```\n",
    "\n",
    "Hint: if the order is based on a list or a tuple, by default Python sorts the items first based on the first item, next based on the second item, and so forth:\n",
    "\n",
    "```python\n",
    "my_list = [(\"a\", 4),(\"a\", 2),(\"b\", 30), (\"b\", 0) ]\n",
    "print(sorted(my_list))\n",
    "```\n",
    "Sample output\n",
    "```console\n",
    "[('a', 2), ('a', 4), ('b', 0), ('b', 30)]\n",
    "```"
   ]
  },
  {
   "cell_type": "code",
   "execution_count": 5,
   "metadata": {},
   "outputs": [
    {
     "name": "stdout",
     "output_type": "stream",
     "text": [
      "Synchro, length 14 metres, grade 8C+\n",
      "Smooth operator, length 11 metres, grade 7A\n",
      "Edge, length 38 metres, grade 6A+\n",
      "Small steps, length 12 metres, grade 6A+\n"
     ]
    }
   ],
   "source": [
    "class ClimbingRoute:\n",
    "    def __init__(self, name: str, length: int, grade: str):\n",
    "        self.name = name\n",
    "        self.length = length\n",
    "        self.grade = grade\n",
    "\n",
    "    def __str__(self):\n",
    "        return f\"{self.name}, length {self.length} metres, grade {self.grade}\"\n",
    "    \n",
    "def order_by_length(item: ClimbingRoute):\n",
    "    return item.length\n",
    "\n",
    "def order_by_grade(item: ClimbingRoute):\n",
    "    return item.grade\n",
    "\n",
    "def sort_by_length(items: list):\n",
    "    return sorted(items, key=order_by_length, reverse=True)\n",
    "\n",
    "def sort_by_difficulty(items: list):\n",
    "    return sorted(items, key=order_by_grade, reverse=True)\n",
    "\n",
    "\n",
    "r1 = ClimbingRoute(\"Edge\", 38, \"6A+\")\n",
    "r2 = ClimbingRoute(\"Smooth operator\", 11, \"7A\")\n",
    "r3 = ClimbingRoute(\"Synchro\", 14, \"8C+\")\n",
    "r4 = ClimbingRoute(\"Small steps\", 12, \"6A+\")\n",
    "\n",
    "routes = [r1, r2, r3, r4]\n",
    "for route in sort_by_difficulty(routes):\n",
    "    print(route)"
   ]
  },
  {
   "cell_type": "markdown",
   "metadata": {},
   "source": [
    "# Programming exercise:Climbing areas\n",
    "\n",
    "NB: Some exercises have multiple parts, and you can receive points for the different parts separately. You can submit a partially completed exercise by choosing 'Submit Solution' from the menu next to the button for executing tests .\n",
    "\n",
    "In addition to the ClimbingRoute from the previous exercise, the exercise template contains the class definition for a ClimbingArea.\n",
    "```python\n",
    "\n",
    "ca1 = ClimbingArea(\"Olhava\")\n",
    "ca1.add_route(ClimbingRoute(\"Edge\", 38, \"6A+\"))\n",
    "ca1.add_route(ClimbingRoute(\"Great cut\", 36, \"6B\"))\n",
    "ca1.add_route(ClimbingRoute(\"Swedish route\", 42, \"5+\"))\n",
    "\n",
    "ca2 = ClimbingArea(\"Nummi\")\n",
    "ca2.add_route(ClimbingRoute(\"Synchro\", 14, \"8C+\"))\n",
    "\n",
    "ca3 = ClimbingArea(\"Nalkkila slab\")\n",
    "ca3.add_route(ClimbingRoute(\"Small steps\", 12, \"6A+\"))\n",
    "ca3.add_route(ClimbingRoute(\"Smooth operator\", 11, \"7A\"))\n",
    "ca3.add_route(ClimbingRoute(\"Piggy not likey\", 12 , \"6B+\"))\n",
    "ca3.add_route(ClimbingRoute(\"Orchard\", 8, \"6A\"))\n",
    "\n",
    "print(ca1)\n",
    "print(ca3.name, ca3.routes())\n",
    "print(ca3.hardest_route())\n",
    "```\n",
    "Sample output\n",
    "```console\n",
    "Olhava, 3 routes, hardest 6B\n",
    "Nalkkila slab 4\n",
    "Smooth operator, length 9 metres, grade 7A\n",
    "```\n",
    "\n",
    "## Sort by number of routes\n",
    "Please write a function named sort_by_number_of_routes which sorts climbing areas in ascending order based on the number of routes they each have.\n",
    "\n",
    "```python\n",
    "# ca1, ca2 and ca3 declared as above\n",
    "areas = [ca1, ca2, ca3]\n",
    "for area in sort_by_number_of_routes(areas):\n",
    "    print(area)\n",
    "```\n",
    "Sample output\n",
    "```console\n",
    "Nummi, 1 routes, hardest 8C+\n",
    "Olhava, 3 routes, hardest 6B\n",
    "Nalkkila slab, 4 routes, hardest 7A\n",
    "```"
   ]
  },
  {
   "cell_type": "code",
   "execution_count": 8,
   "metadata": {},
   "outputs": [
    {
     "name": "stdout",
     "output_type": "stream",
     "text": [
      "Olhava 3 routes, hardest 6B\n",
      "Nalkkila slab 4\n",
      "Smooth operator, length 11 metres, grade 7A\n",
      "Nummi 1 routes, hardest 8C+\n",
      "Olhava 3 routes, hardest 6B\n",
      "Nalkkila slab 4 routes, hardest 7A\n"
     ]
    }
   ],
   "source": [
    "class ClimbingRoute:\n",
    "    def __init__(self, name: str, length: int, grade: str):\n",
    "        self.name = name\n",
    "        self.length = length\n",
    "        self.grade = grade\n",
    "\n",
    "    def __str__(self):\n",
    "        return f\"{self.name}, length {self.length} metres, grade {self.grade}\"\n",
    "\n",
    "class ClimbingArea:\n",
    "    def __init__(self, name: str):\n",
    "        self.name = name\n",
    "        self.__routes = []\n",
    "\n",
    "    def add_route(self, route: ClimbingRoute):\n",
    "        self.__routes.append(route)\n",
    "\n",
    "    def routes(self):\n",
    "        return len(self.__routes)\n",
    "\n",
    "    def hardest_route(self):\n",
    "        def by_difficulty(route):\n",
    "            return route.grade\n",
    "\n",
    "        routes_in_order = sorted(self.__routes, key=by_difficulty)\n",
    "        # last route\n",
    "        return routes_in_order[-1]\n",
    "\n",
    "    def __str__(self):\n",
    "        hardest_route = self.hardest_route()\n",
    "        return f\"{self.name} {self.routes()} routes, hardest {hardest_route.grade}\"\n",
    "    \n",
    "\n",
    "def order_by_number_of_routes(item: ClimbingArea):\n",
    "    return item.routes()\n",
    "\n",
    "def sort_by_number_of_routes(items: list):\n",
    "    return sorted(items, key=order_by_number_of_routes)\n",
    "\n",
    "ca1 = ClimbingArea(\"Olhava\")\n",
    "ca1.add_route(ClimbingRoute(\"Edge\", 38, \"6A+\"))\n",
    "ca1.add_route(ClimbingRoute(\"Great cut\", 36, \"6B\"))\n",
    "ca1.add_route(ClimbingRoute(\"Swedish route\", 42, \"5+\"))\n",
    "\n",
    "ca2 = ClimbingArea(\"Nummi\")\n",
    "ca2.add_route(ClimbingRoute(\"Synchro\", 14, \"8C+\"))\n",
    "\n",
    "ca3 = ClimbingArea(\"Nalkkila slab\")\n",
    "ca3.add_route(ClimbingRoute(\"Small steps\", 12, \"6A+\"))\n",
    "ca3.add_route(ClimbingRoute(\"Smooth operator\", 11, \"7A\"))\n",
    "ca3.add_route(ClimbingRoute(\"Piggy not likey\", 12 , \"6B+\"))\n",
    "ca3.add_route(ClimbingRoute(\"Orchard\", 8, \"6A\"))\n",
    "\n",
    "print(ca1)\n",
    "print(ca3.name, ca3.routes())\n",
    "print(ca3.hardest_route())\n",
    "\n",
    "# ca1, ca2 and ca3 declared as above\n",
    "areas = [ca1, ca2, ca3]\n",
    "for area in sort_by_number_of_routes(areas):\n",
    "    print(area)"
   ]
  },
  {
   "cell_type": "markdown",
   "metadata": {},
   "source": [
    "## Sort by the most difficult route\n",
    "Please write a function named sort_by_most_difficult which sorts climbing areas in descending order based on the most difficult route in each area.\n",
    "\n",
    "```python\n",
    "# ca1, ca2 and ca3 declared as above\n",
    "areas = [ca1, ca2, ca3]\n",
    "for area in sort_by_most_difficult(areas):\n",
    "    print(area)\n",
    "```\n",
    "Sample output\n",
    "```console\n",
    "Nummi, 1 routes, hardest 8C+\n",
    "Nalkkila slab, 4 routes, hardest 7A\n",
    "Olhava, 3 routes, hardest 6B\n",
    "```"
   ]
  },
  {
   "cell_type": "code",
   "execution_count": 10,
   "metadata": {},
   "outputs": [
    {
     "name": "stdout",
     "output_type": "stream",
     "text": [
      "Olhava 3 routes, hardest 6B\n",
      "Nalkkila slab 4\n",
      "Smooth operator, length 11 metres, grade 7A\n",
      "Nummi 1 routes, hardest 8C+\n",
      "Olhava 3 routes, hardest 6B\n",
      "Nalkkila slab 4 routes, hardest 7A\n",
      "Nummi 1 routes, hardest 8C+\n",
      "Nalkkila slab 4 routes, hardest 7A\n",
      "Olhava 3 routes, hardest 6B\n"
     ]
    }
   ],
   "source": [
    "class ClimbingRoute:\n",
    "    def __init__(self, name: str, length: int, grade: str):\n",
    "        self.name = name\n",
    "        self.length = length\n",
    "        self.grade = grade\n",
    "\n",
    "    def __str__(self):\n",
    "        return f\"{self.name}, length {self.length} metres, grade {self.grade}\"\n",
    "\n",
    "class ClimbingArea:\n",
    "    def __init__(self, name: str):\n",
    "        self.name = name\n",
    "        self.__routes = []\n",
    "\n",
    "    def add_route(self, route: ClimbingRoute):\n",
    "        self.__routes.append(route)\n",
    "\n",
    "    def routes(self):\n",
    "        return len(self.__routes)\n",
    "\n",
    "    def hardest_route(self):\n",
    "        def by_difficulty(route):\n",
    "            return route.grade\n",
    "\n",
    "        routes_in_order = sorted(self.__routes, key=by_difficulty)\n",
    "        # last route\n",
    "        return routes_in_order[-1]\n",
    "\n",
    "    def __str__(self):\n",
    "        hardest_route = self.hardest_route()\n",
    "        return f\"{self.name} {self.routes()} routes, hardest {hardest_route.grade}\"\n",
    "    \n",
    "\n",
    "def order_by_number_of_routes(item: ClimbingArea):\n",
    "    return item.routes()\n",
    "\n",
    "def order_by_most_difficult(item: ClimbingArea):\n",
    "    return item.hardest_route().grade\n",
    "\n",
    "\n",
    "def sort_by_number_of_routes(items: list):\n",
    "    return sorted(items, key=order_by_number_of_routes)\n",
    "\n",
    "def sort_by_most_difficult(items: list):\n",
    "    return sorted(items, key=order_by_most_difficult, reverse=True)\n",
    "\n",
    "ca1 = ClimbingArea(\"Olhava\")\n",
    "ca1.add_route(ClimbingRoute(\"Edge\", 38, \"6A+\"))\n",
    "ca1.add_route(ClimbingRoute(\"Great cut\", 36, \"6B\"))\n",
    "ca1.add_route(ClimbingRoute(\"Swedish route\", 42, \"5+\"))\n",
    "\n",
    "ca2 = ClimbingArea(\"Nummi\")\n",
    "ca2.add_route(ClimbingRoute(\"Synchro\", 14, \"8C+\"))\n",
    "\n",
    "ca3 = ClimbingArea(\"Nalkkila slab\")\n",
    "ca3.add_route(ClimbingRoute(\"Small steps\", 12, \"6A+\"))\n",
    "ca3.add_route(ClimbingRoute(\"Smooth operator\", 11, \"7A\"))\n",
    "ca3.add_route(ClimbingRoute(\"Piggy not likey\", 12 , \"6B+\"))\n",
    "ca3.add_route(ClimbingRoute(\"Orchard\", 8, \"6A\"))\n",
    "\n",
    "print(ca1)\n",
    "print(ca3.name, ca3.routes())\n",
    "print(ca3.hardest_route())\n",
    "\n",
    "# ca1, ca2 and ca3 declared as above\n",
    "areas = [ca1, ca2, ca3]\n",
    "for area in sort_by_number_of_routes(areas):\n",
    "    print(area)\n",
    "\n",
    "# ca1, ca2 and ca3 declared as above\n",
    "areas = [ca1, ca2, ca3]\n",
    "for area in sort_by_most_difficult(areas):\n",
    "    print(area)"
   ]
  },
  {
   "cell_type": "markdown",
   "metadata": {},
   "source": [
    "# Lambda expressions\n",
    "We have mostly worked with functions from the viewpoint of modularity. It is true that functions play an important role in managing the complexity of your programs and avoiding code repetition. Functions are usually written so that they can be used many times.\n",
    "\n",
    "But sometimes you need something resembling a function that you will use just once. Lambda expressions allow you to create small, anonymous functions which are created (and discarded) as they are needed in the code. The general syntax is as follows:\n",
    "\n",
    "```python\n",
    "lambda <parameters> : <expression>\n",
    "```\n",
    "\n",
    "Sorting a list of tuples by the second item in each tuple would look like this implemented with a lambda expression:\n"
   ]
  },
  {
   "cell_type": "code",
   "execution_count": 11,
   "metadata": {},
   "outputs": [
    {
     "name": "stdout",
     "output_type": "stream",
     "text": [
      "('apple', 3.95)\n",
      "('orange', 4.5)\n",
      "('watermelon', 4.95)\n",
      "('banana', 5.95)\n"
     ]
    }
   ],
   "source": [
    "\n",
    "products = [(\"banana\", 5.95), (\"apple\", 3.95), (\"orange\", 4.50), (\"watermelon\", 4.95)]\n",
    "\n",
    "# Function is created \"on the fly\" with a lambda expression:\n",
    "products.sort(key=lambda item: item[1])\n",
    "\n",
    "for product in products:\n",
    "    print(product)\n"
   ]
  },
  {
   "cell_type": "markdown",
   "metadata": {},
   "source": [
    "\n",
    "The expression\n",
    "\n",
    "```python\n",
    "lambda item: item[1]\n",
    "```\n",
    "\n",
    "is equivalent to the function definition\n"
   ]
  },
  {
   "cell_type": "code",
   "execution_count": 12,
   "metadata": {},
   "outputs": [],
   "source": [
    "\n",
    "def price(item):\n",
    "    return item[1]\n"
   ]
  },
  {
   "cell_type": "markdown",
   "metadata": {},
   "source": [
    "except for the fact that a lambda function doesn't have a name. This is why lambda functions are called anonymous functions.\n",
    "\n",
    "In every other respect a lambda function is no different from any other function, and they can be used in all the same contexts as any equivalent named function. For example, the following program sorts a list of strings alphabetically by the last character in each string:\n"
   ]
  },
  {
   "cell_type": "code",
   "execution_count": 13,
   "metadata": {},
   "outputs": [
    {
     "name": "stdout",
     "output_type": "stream",
     "text": [
      "Minnie\n",
      "Mack\n",
      "Merl\n",
      "Marvin\n",
      "Mickey\n"
     ]
    }
   ],
   "source": [
    "\n",
    "strings = [\"Mickey\", \"Mack\", \"Marvin\", \"Minnie\", \"Merl\"]\n",
    "\n",
    "for word in sorted(strings, key=lambda word: word[-1]):\n",
    "    print(word)\n"
   ]
  },
  {
   "cell_type": "markdown",
   "metadata": {},
   "source": [
    "\n",
    "We can also combine list comprehensions, the join method and lambda expressions. For example, we could sort strings based on just the vowels in them, ignoring all other characters:\n"
   ]
  },
  {
   "cell_type": "code",
   "execution_count": 14,
   "metadata": {},
   "outputs": [
    {
     "name": "stdout",
     "output_type": "stream",
     "text": [
      "Mack\n",
      "Marvin\n",
      "Merl\n",
      "Mickey\n",
      "Minnie\n"
     ]
    }
   ],
   "source": [
    "\n",
    "strings = [\"Mickey\", \"Mack\", \"Marvin\", \"Minnie\", \"Merl\"]\n",
    "\n",
    "for word in sorted(strings, key=lambda word: \"\".join([c for c in word if c in \"aeiou\"])):\n",
    "    print(word)\n"
   ]
  },
  {
   "cell_type": "markdown",
   "metadata": {},
   "source": [
    "\n",
    "Anonymous functions can also be used with other built in Python functions, not just those used for sorting. For example, the min and max functions also take a keyword argument named key. It is used as the criteria for comparing the items when selecting the minimum or maximum value.\n",
    "\n",
    "In the following example we are dealing with audio recordings. First we select the oldest recording, and then the longest:\n",
    "\n"
   ]
  },
  {
   "cell_type": "code",
   "execution_count": null,
   "metadata": {},
   "outputs": [],
   "source": [
    "\n",
    "class Recording:\n",
    "    \"\"\" The class models a single audio recording \"\"\"\n",
    "    def __init__(self, name: str, performer: str, year: int, runtime: int):\n",
    "        self.name = name\n",
    "        self.performer = performer\n",
    "        self.year = year\n",
    "        self.runtime = runtime\n",
    "\n",
    "\n",
    "    def __str__(self):\n",
    "        return f\"{self.name} ({self.performer}), {self.year}. {self.runtime} min.\"\n",
    "\n",
    "if __name__ == \"__main__\":\n",
    "    r1 = Recording(\"Nevermind\", \"Nirvana\", 1991, 43)\n",
    "    r2 = Recording(\"Let It Be\", \"Beatles\", 1969, 35)\n",
    "    r3 = Recording(\"Joshua Tree\", \"U2\", 1986, 50)\n",
    "\n",
    "    recordings = [r1, r2, r3]\n",
    "\n",
    "\n",
    "    print(\"The oldest recording:\")\n",
    "    print(min(recordings, key=lambda rec: rec.year))\n",
    "\n",
    "    print(\"The longest recording:\")\n",
    "    print(max(recordings, key=lambda rec: rec.runtime))\n"
   ]
  },
  {
   "cell_type": "markdown",
   "metadata": {},
   "source": [
    "# Programming exercise:BallPlayers\n",
    "\n",
    "NB: Some exercises have multiple parts, and you can receive points for the different parts separately. You can submit a partially completed exercise by choosing 'Submit Solution' from the menu next to the button for executing tests .\n",
    "\n",
    "The exercise template contains the definition for a class named BallPlayer. It has the following public attributes:\n",
    "\n",
    "* name\n",
    "* shirt number number\n",
    "* scored goals goals\n",
    "* assists completed assists\n",
    "* minutes played minutes\n",
    "\n",
    "Please implement the following functions. NB: each function has a different type of return value."
   ]
  },
  {
   "cell_type": "code",
   "execution_count": null,
   "metadata": {},
   "outputs": [],
   "source": [
    "class BallPlayer:\n",
    "    def __init__(self, nimi: str, number: int, goals: int, passes: int, minutes: int):\n",
    "        self.nimi = nimi\n",
    "        self.number = number\n",
    "        self.goals = goals\n",
    "        self.passes = passes\n",
    "        self.minutes = minutes\n",
    "\n",
    "    def __str__(self):\n",
    "        return (f'BallPlayer(nimi={self.nimi}, number={self.number}, '\n",
    "            f'goals={self.goals}, passes={self.passes}, minutes={self.minutes})')"
   ]
  },
  {
   "cell_type": "markdown",
   "metadata": {},
   "source": [
    "## Most goals\n",
    "Please write a function named most_goals which takes a list of ball players as its argument.\n",
    "\n",
    "The function should return the name of the player who scored the most goals, in string format."
   ]
  },
  {
   "cell_type": "code",
   "execution_count": 18,
   "metadata": {},
   "outputs": [
    {
     "name": "stdout",
     "output_type": "stream",
     "text": [
      "BallPlayer(nimi=Archie Bonkers, number=13, goals=5, passes=12, minutes=46)\n"
     ]
    }
   ],
   "source": [
    "class BallPlayer:\n",
    "    def __init__(self, nimi: str, number: int, goals: int, passes: int, minutes: int):\n",
    "        self.nimi = nimi\n",
    "        self.number = number\n",
    "        self.goals = goals\n",
    "        self.passes = passes\n",
    "        self.minutes = minutes\n",
    "\n",
    "    def __str__(self):\n",
    "        return (f'BallPlayer(nimi={self.nimi}, number={self.number}, '\n",
    "            f'goals={self.goals}, passes={self.passes}, minutes={self.minutes})')\n",
    "    \n",
    "\n",
    "# def order_by_goals(item: BallPlayer):\n",
    "#     return item.goals\n",
    "\n",
    "def most_goals(items: list):\n",
    "    return max(items, key=lambda item: item.goals)\n",
    "\n",
    "if __name__ == \"__main__\":\n",
    "    player1 = BallPlayer(\"Archie Bonkers\", 13, 5, 12, 46)\n",
    "    player2 = BallPlayer(\"Speedy Tickets\", 7, 2, 26, 55)\n",
    "    player3 = BallPlayer(\"Cruella De Hill\", 9, 1, 32, 26)\n",
    "    player4 = BallPlayer(\"Devilled Tasmanian\", 12, 1, 11, 41)\n",
    "    player5 = BallPlayer(\"Donald Quack\", 4, 3, 9, 12)\n",
    "    \n",
    "    team = [player1, player2, player3, player4, player5]\n",
    "    print(most_goals(team))\n",
    "    # print(most_points(team))\n",
    "    # print(least_minutes(team))"
   ]
  },
  {
   "cell_type": "markdown",
   "metadata": {},
   "source": [
    "Most points\n",
    "Please write a function named most_points, which takes a list of ball players as its argument.\n",
    "\n",
    "The function should return a tuple containing the name and shirt number of the player who has scored the most points. The total number of points is the number of goals and the number of assists combined."
   ]
  },
  {
   "cell_type": "code",
   "execution_count": 20,
   "metadata": {},
   "outputs": [
    {
     "name": "stdout",
     "output_type": "stream",
     "text": [
      "BallPlayer(nimi=Archie Bonkers, number=13, goals=5, passes=12, minutes=46)\n",
      "BallPlayer(nimi=Cruella De Hill, number=9, goals=1, passes=32, minutes=26)\n"
     ]
    }
   ],
   "source": [
    "class BallPlayer:\n",
    "    def __init__(self, nimi: str, number: int, goals: int, passes: int, minutes: int):\n",
    "        self.nimi = nimi\n",
    "        self.number = number\n",
    "        self.goals = goals\n",
    "        self.passes = passes\n",
    "        self.minutes = minutes\n",
    "\n",
    "    def __str__(self):\n",
    "        return (f'BallPlayer(nimi={self.nimi}, number={self.number}, '\n",
    "            f'goals={self.goals}, passes={self.passes}, minutes={self.minutes})')\n",
    "    \n",
    "\n",
    "# def order_by_goals(item: BallPlayer):\n",
    "#     return item.goals\n",
    "\n",
    "def most_goals(items: list):\n",
    "    return max(items, key=lambda item: item.goals)\n",
    "\n",
    "# def order_by_points(item: BallPlayer):\n",
    "#     return item.goals + item.passes\n",
    "\n",
    "def most_points(items: list):\n",
    "    return max(items, key=lambda item: item.goals + item.passes)\n",
    "\n",
    "if __name__ == \"__main__\":\n",
    "    player1 = BallPlayer(\"Archie Bonkers\", 13, 5, 12, 46)\n",
    "    player2 = BallPlayer(\"Speedy Tickets\", 7, 2, 26, 55)\n",
    "    player3 = BallPlayer(\"Cruella De Hill\", 9, 1, 32, 26)\n",
    "    player4 = BallPlayer(\"Devilled Tasmanian\", 12, 1, 11, 41)\n",
    "    player5 = BallPlayer(\"Donald Quack\", 4, 3, 9, 12)\n",
    "    \n",
    "    team = [player1, player2, player3, player4, player5]\n",
    "    print(most_goals(team))\n",
    "    print(most_points(team))\n",
    "    # print(least_minutes(team))"
   ]
  },
  {
   "cell_type": "markdown",
   "metadata": {},
   "source": [
    "## Least minutes\n",
    "Please write a function named least_minutes, which takes a list of ball players as its argument.\n",
    "\n",
    "The function should return the BallPlayer object which has the smallest value of minutes played."
   ]
  },
  {
   "cell_type": "code",
   "execution_count": 23,
   "metadata": {},
   "outputs": [
    {
     "name": "stdout",
     "output_type": "stream",
     "text": [
      "Archie Bonkers\n",
      "('Cruella De Hill', 9)\n",
      "BallPlayer(nimi=Donald Quack, number=4, goals=3, passes=9, minutes=12)\n"
     ]
    }
   ],
   "source": [
    "class BallPlayer:\n",
    "    def __init__(self, nimi: str, number: int, goals: int, passes: int, minutes: int):\n",
    "        self.nimi = nimi\n",
    "        self.number = number\n",
    "        self.goals = goals\n",
    "        self.passes = passes\n",
    "        self.minutes = minutes\n",
    "\n",
    "    def __str__(self):\n",
    "        return (f'BallPlayer(nimi={self.nimi}, number={self.number}, '\n",
    "            f'goals={self.goals}, passes={self.passes}, minutes={self.minutes})')\n",
    "    \n",
    "\n",
    "# def order_by_goals(item: BallPlayer):\n",
    "#     return item.goals\n",
    "\n",
    "# def order_by_points(item: BallPlayer):\n",
    "#     return item.goals + item.passes\n",
    "\n",
    "# def order_by_minutes(item: BallPlayer):\n",
    "#     return item.minutes\n",
    "\n",
    "def most_goals(items: list):\n",
    "    player = max(items, key=lambda item: item.goals)\n",
    "    return player.nimi\n",
    "\n",
    "def most_points(items: list):\n",
    "    player = max(items, key=lambda item: item.goals + item.passes)\n",
    "    return (player.nimi, player.number)\n",
    "\n",
    "def least_minutes(items: list):\n",
    "    return min(items, key=lambda item: item.minutes)\n",
    "\n",
    "if __name__ == \"__main__\":\n",
    "    player1 = BallPlayer(\"Archie Bonkers\", 13, 5, 12, 46)\n",
    "    player2 = BallPlayer(\"Speedy Tickets\", 7, 2, 26, 55)\n",
    "    player3 = BallPlayer(\"Cruella De Hill\", 9, 1, 32, 26)\n",
    "    player4 = BallPlayer(\"Devilled Tasmanian\", 12, 1, 11, 41)\n",
    "    player5 = BallPlayer(\"Donald Quack\", 4, 3, 9, 12)\n",
    "    \n",
    "    team = [player1, player2, player3, player4, player5]\n",
    "    print(most_goals(team))\n",
    "    print(most_points(team))\n",
    "    print(least_minutes(team))"
   ]
  },
  {
   "cell_type": "markdown",
   "metadata": {},
   "source": [
    "# Functions as arguments within your own functions\n",
    "We established above that it is possible to pass a reference to a function as an argument to another function. To wrap this section up, let's write our very own function which takes a function as its argument.\n"
   ]
  },
  {
   "cell_type": "code",
   "execution_count": 24,
   "metadata": {},
   "outputs": [
    {
     "name": "stdout",
     "output_type": "stream",
     "text": [
      "15\n",
      "50\n",
      "5\n"
     ]
    }
   ],
   "source": [
    "\n",
    "# the type hint \"callable\" refers to a function\n",
    "def perform_operation(operation: callable):\n",
    "    # Call the function which was passed as an argument\n",
    "    return operation(10, 5)\n",
    "\n",
    "def my_sum(a: int, b: int):\n",
    "    return a + b\n",
    "\n",
    "def my_product(a: int, b: int):\n",
    "    return a * b\n",
    "\n",
    "\n",
    "if __name__ == \"__main__\":\n",
    "    print(perform_operation(my_sum))\n",
    "    print(perform_operation(my_product))\n",
    "    print(perform_operation(lambda x,y: x - y))\n"
   ]
  },
  {
   "cell_type": "markdown",
   "metadata": {},
   "source": [
    "Sample output\n",
    "15\n",
    "50\n",
    "5\n"
   ]
  },
  {
   "cell_type": "markdown",
   "metadata": {},
   "source": [
    "\n",
    "The value returned by the function `perform_operation` depends on which function was passed as an argument. Any function which accepts two arguments would do, no matter whether it is anonymous or named.\n",
    "\n",
    "Passing references to functions as arguments to other functions might not be something you will end up doing on a daily basis in your programming career, but it can be a useful technique. This following program selects some lines from one file and writes them to another file. The way the lines are selected is determined by a function which returns True only if the lines should be copied:\n"
   ]
  },
  {
   "cell_type": "code",
   "execution_count": 25,
   "metadata": {},
   "outputs": [
    {
     "ename": "FileNotFoundError",
     "evalue": "[Errno 2] No such file or directory: 'first.txt'",
     "output_type": "error",
     "traceback": [
      "\u001b[1;31m---------------------------------------------------------------------------\u001b[0m",
      "\u001b[1;31mFileNotFoundError\u001b[0m                         Traceback (most recent call last)",
      "Cell \u001b[1;32mIn[25], line 13\u001b[0m\n\u001b[0;32m     10\u001b[0m \u001b[39m# Some examples\u001b[39;00m\n\u001b[0;32m     11\u001b[0m \u001b[39mif\u001b[39;00m \u001b[39m__name__\u001b[39m \u001b[39m==\u001b[39m \u001b[39m\"\u001b[39m\u001b[39m__main__\u001b[39m\u001b[39m\"\u001b[39m:\n\u001b[0;32m     12\u001b[0m     \u001b[39m# If the third parameter is not given, copy all lines\u001b[39;00m\n\u001b[1;32m---> 13\u001b[0m     copy_lines(\u001b[39m\"\u001b[39;49m\u001b[39mfirst.txt\u001b[39;49m\u001b[39m\"\u001b[39;49m, \u001b[39m\"\u001b[39;49m\u001b[39msecond.txt\u001b[39;49m\u001b[39m\"\u001b[39;49m)\n\u001b[0;32m     15\u001b[0m     \u001b[39m# Copy all non-empty lines\u001b[39;00m\n\u001b[0;32m     16\u001b[0m     copy_lines(\u001b[39m\"\u001b[39m\u001b[39mfirst.txt\u001b[39m\u001b[39m\"\u001b[39m, \u001b[39m\"\u001b[39m\u001b[39msecond.txt\u001b[39m\u001b[39m\"\u001b[39m, \u001b[39mlambda\u001b[39;00m line: \u001b[39mlen\u001b[39m(line) \u001b[39m>\u001b[39m \u001b[39m0\u001b[39m)\n",
      "Cell \u001b[1;32mIn[25], line 2\u001b[0m, in \u001b[0;36mcopy_lines\u001b[1;34m(source_file, target_file, criterion)\u001b[0m\n\u001b[0;32m      1\u001b[0m \u001b[39mdef\u001b[39;00m \u001b[39mcopy_lines\u001b[39m(source_file: \u001b[39mstr\u001b[39m, target_file: \u001b[39mstr\u001b[39m, criterion\u001b[39m=\u001b[39m \u001b[39mlambda\u001b[39;00m x: \u001b[39mTrue\u001b[39;00m):\n\u001b[1;32m----> 2\u001b[0m     \u001b[39mwith\u001b[39;00m \u001b[39mopen\u001b[39;49m(source_file) \u001b[39mas\u001b[39;00m source, \u001b[39mopen\u001b[39m(target_file, \u001b[39m\"\u001b[39m\u001b[39mw\u001b[39m\u001b[39m\"\u001b[39m) \u001b[39mas\u001b[39;00m target:\n\u001b[0;32m      3\u001b[0m         \u001b[39mfor\u001b[39;00m line \u001b[39min\u001b[39;00m source:\n\u001b[0;32m      4\u001b[0m             \u001b[39m# Remove any whitespace from beginning and end of line\u001b[39;00m\n\u001b[0;32m      5\u001b[0m             line \u001b[39m=\u001b[39m line\u001b[39m.\u001b[39mstrip()\n",
      "File \u001b[1;32mc:\\Users\\BM\\MOOC 2023\\.venv\\lib\\site-packages\\IPython\\core\\interactiveshell.py:284\u001b[0m, in \u001b[0;36m_modified_open\u001b[1;34m(file, *args, **kwargs)\u001b[0m\n\u001b[0;32m    277\u001b[0m \u001b[39mif\u001b[39;00m file \u001b[39min\u001b[39;00m {\u001b[39m0\u001b[39m, \u001b[39m1\u001b[39m, \u001b[39m2\u001b[39m}:\n\u001b[0;32m    278\u001b[0m     \u001b[39mraise\u001b[39;00m \u001b[39mValueError\u001b[39;00m(\n\u001b[0;32m    279\u001b[0m         \u001b[39mf\u001b[39m\u001b[39m\"\u001b[39m\u001b[39mIPython won\u001b[39m\u001b[39m'\u001b[39m\u001b[39mt let you open fd=\u001b[39m\u001b[39m{\u001b[39;00mfile\u001b[39m}\u001b[39;00m\u001b[39m by default \u001b[39m\u001b[39m\"\u001b[39m\n\u001b[0;32m    280\u001b[0m         \u001b[39m\"\u001b[39m\u001b[39mas it is likely to crash IPython. If you know what you are doing, \u001b[39m\u001b[39m\"\u001b[39m\n\u001b[0;32m    281\u001b[0m         \u001b[39m\"\u001b[39m\u001b[39myou can use builtins\u001b[39m\u001b[39m'\u001b[39m\u001b[39m open.\u001b[39m\u001b[39m\"\u001b[39m\n\u001b[0;32m    282\u001b[0m     )\n\u001b[1;32m--> 284\u001b[0m \u001b[39mreturn\u001b[39;00m io_open(file, \u001b[39m*\u001b[39margs, \u001b[39m*\u001b[39m\u001b[39m*\u001b[39mkwargs)\n",
      "\u001b[1;31mFileNotFoundError\u001b[0m: [Errno 2] No such file or directory: 'first.txt'"
     ]
    }
   ],
   "source": [
    "\n",
    "def copy_lines(source_file: str, target_file: str, criterion= lambda x: True):\n",
    "    with open(source_file) as source, open(target_file, \"w\") as target:\n",
    "        for line in source:\n",
    "            # Remove any whitespace from beginning and end of line\n",
    "            line = line.strip()\n",
    "\n",
    "            if criterion(line):\n",
    "                target.write(line + \"\\n\")\n",
    "\n",
    "# Some examples\n",
    "if __name__ == \"__main__\":\n",
    "    # If the third parameter is not given, copy all lines\n",
    "    copy_lines(\"first.txt\", \"second.txt\")\n",
    "\n",
    "    # Copy all non-empty lines\n",
    "    copy_lines(\"first.txt\", \"second.txt\", lambda line: len(line) > 0)\n",
    "\n",
    "    # Copy all lines which contain the word \"Python\"\n",
    "    copy_lines(\"first.txt\", \"second.txt\", lambda line: \"Python\" in line)\n",
    "\n",
    "    # Copy all lines which do not end in a full stop\n",
    "    copy_lines(\"first.txt\", \"second.txt\", lambda line: line[-1] != \".\")\n"
   ]
  },
  {
   "cell_type": "markdown",
   "metadata": {},
   "source": [
    "The function definition contains a default value for the keyword parameter criterion: lambda x: True. This anonymous function always returns True regardless of the input. So, the default behaviour is to copy all lines. As usual, if a value is given for a parameter with a default value, the new value replaces the default value."
   ]
  },
  {
   "cell_type": "code",
   "execution_count": 32,
   "metadata": {},
   "outputs": [
    {
     "name": "stdout",
     "output_type": "stream",
     "text": [
      "('apple', 3.95, 3)\n",
      "('kale', 0.99, 1)\n",
      "---------------\n",
      "('banana', 5.95, 12)\n",
      "('watermelon', 4.95, 22)\n"
     ]
    }
   ],
   "source": [
    "def search(products: list, criterion: callable):\n",
    "    # new_list = []\n",
    "    # for product in products:\n",
    "    #     if criterion(product) == True:\n",
    "    #         new_list.append(product)\n",
    "\n",
    "    return [product for product in products if criterion(product) == True]\n",
    "\n",
    "    \n",
    "\n",
    "products = [(\"banana\", 5.95, 12), (\"apple\", 3.95, 3), (\"orange\", 4.50, 2), (\"watermelon\", 4.95, 22), (\"kale\", 0.99, 1)]\n",
    "\n",
    "def price_under_4_euros(product):\n",
    "    return product[1] < 4\n",
    "\n",
    "for product in search(products, price_under_4_euros):\n",
    "    print(product)\n",
    "\n",
    "print(\"-\"*15)\n",
    "\n",
    "for product in search(products, lambda t: t[2]>10):\n",
    "    print(product)\n"
   ]
  },
  {
   "cell_type": "code",
   "execution_count": null,
   "metadata": {},
   "outputs": [],
   "source": []
  }
 ],
 "metadata": {
  "kernelspec": {
   "display_name": ".venv",
   "language": "python",
   "name": "python3"
  },
  "language_info": {
   "codemirror_mode": {
    "name": "ipython",
    "version": 3
   },
   "file_extension": ".py",
   "mimetype": "text/x-python",
   "name": "python",
   "nbconvert_exporter": "python",
   "pygments_lexer": "ipython3",
   "version": "3.10.10"
  },
  "orig_nbformat": 4
 },
 "nbformat": 4,
 "nbformat_minor": 2
}
