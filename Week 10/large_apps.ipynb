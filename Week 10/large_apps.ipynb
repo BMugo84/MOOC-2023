{
 "cells": [
  {
   "attachments": {},
   "cell_type": "markdown",
   "metadata": {},
   "source": [
    "Developing a larger application\n",
    "Learning objectives\n",
    "After this section\n",
    "\n",
    "You will be familiar with some basic principles of application development\n",
    "You will be comfortable with differentiating between the different parts of an application (user interface, program logic and file handling)\n",
    "You will have practiced writing your own somewhat larger application"
   ]
  },
  {
   "attachments": {},
   "cell_type": "markdown",
   "metadata": {},
   "source": [
    "Thus far in this course material we have covered a large number of Python features.\n",
    "\n",
    "The Introduction to Programming course introduced control structures, such as while and for, functions, and basic data structures, such as lists, tuples and dictionaries. In principle, those tools are all that is needed to express anything a programmer may wish to express with Python.\n",
    "\n",
    "On this Advanced Course in Programming, beginning in part 8 of the material, you have become familiar with classes and objects. Let's take a moment to consider when and why they are necessary, if those basic tools from parts 1 to 7 should be enough.\n",
    "\n",
    "# Managing complexity\n",
    "Objects and classes are by no means necessary in every programming context. For example, if you are programming a smallish script for one-time use, objects are usually surplus to requirement. However, when you are programming something larger and more complicated, objects become very useful.\n",
    "\n",
    "When programs grow in complexity, the amount of details quickly becomes unmanageable, unless the program is organised in some systematic way. Even some of the more complicated exercises on this course so far would have benefited from the examples set in this part of the material.\n",
    "\n",
    "Fo decades the concept of separation of concerns has been one of the central principles in programming, and the larger field of computer science. Quoting from Wikipedia:\n",
    "\n",
    "Separation of concerns is a design principle for separating a computer program into distinct sections such that each section addresses a separate concern. A concern is a set of information that affects the code of a computer program.\n",
    "\n",
    "Separating the program into sections, so that each has its own concern to handle, helps in managing the inevitable complexity of a computer program.\n",
    "\n",
    "Functions are one way of organising a program into distinct, manageable wholes. Instead of writing a single script, the idea is to formulate small, separately verifiable functions which each solve some part of the larger problem.\n",
    "\n",
    "Another common approach to managing larger programs is objects, through object oriented programming principles. There are benefits and drawbacks to both approaches, and each programmer has their own favourite. As we have seen so far, objects and classes allow us to collect all the data and the code processing that data within a single unit, in the attributes and methods of an object. Furthermore, objects provide a way of encapsulating the data they control, so that other parts of the program do not have to worry about the internal details of an object.\n",
    "\n",
    "# A worked example: phone book\n",
    "How should a program be divided into classes and objects? This is by no means an easy question with a single acceptable answer, so we will proceed with an example. In part five you completed a phone book application, and now we will implement something similar using object oriented programming principles.\n",
    "\n",
    "Following the separation of concerns principle, a program should be divided into sections which each have their own cause to take care of. In object oriented programming this translates to the single-responsibility principle. Without going into the finer details, its fundamental purpose is clear from the name: a single class and objects created based on it should have a single responsibility in the program.\n",
    "\n",
    "Object oriented programming is often used as a way of modelling real world objects and phenomena. A single object in the real world is modelled with a single class in program code. In the case of a phone book such objects might be\n",
    "\n",
    "* a person\n",
    "* a name\n",
    "* a phone number\n",
    "\n",
    "\n",
    "A name and a phone number may be thought of as just bits of data which do not merit their own classes, but a person is a distinct physical entity in the real world, and in the programming world it could work as a class. A Person object would be responsible for tying together a name and the phone numbers attached to it.\n",
    "\n",
    "A phone book itself could be a good candidate for a class. Its responsibility would be to manage different person objects and the data they contain.\n",
    "\n",
    "Now we have outlined the core of our application: phone book and person constitute the programming logic of our application, or application logic in short. Our application would need some other classes, too.\n",
    "\n",
    "`It is usually a good idea to keep any interaction with a user separate from the application logic. It is, after all, a responsibility all on its own. In addition to the core application logic, our program should therefore contain a class which handles the user interface.`\n",
    "\n",
    "Furthermore, our phone book should have some means of persistent storage between executions. File handling is, again, a clearly separate responsibility, so it deserves a class of its own.\n",
    "\n",
    "Now that we have an outline of the basic components of our program, the question arises: where should we begin programming? Again, there is no right or wrong answer, but it is often a good idea to start with some part of the application logic.\n",
    "\n",
    "## Step 1: an outline for the application logic\n",
    "Let's start with the class PhoneBook. A skeleton implementation could look like this:\n"
   ]
  },
  {
   "cell_type": "code",
   "execution_count": 2,
   "metadata": {},
   "outputs": [],
   "source": [
    "\n",
    "class PhoneBook:\n",
    "    def __init__(self):\n",
    "        self.__persons = []\n",
    "\n",
    "    def add_number(self, name: str, number: str):\n",
    "        pass\n",
    "\n",
    "    def get_numbers(self, name: str):\n",
    "        pass\n"
   ]
  },
  {
   "cell_type": "markdown",
   "metadata": {},
   "source": [
    "This class consists of a list of persons along with methods for both adding and fetching data.\n",
    "\n",
    "Each person may be connected with multiple numbers, so let's implement the internal structure of persons with a dictionary. A dictionary allows us to search for keys by name, and the value attached to a dictionary key can be a list. So far it looks like we don't really need a separate class to represent a person - an entry in a dictionary will do.\n",
    "\n",
    "Let's implement the methods listed above, and test our phone book:\n"
   ]
  },
  {
   "cell_type": "code",
   "execution_count": 26,
   "metadata": {},
   "outputs": [],
   "source": [
    "\n",
    "class PhoneBook:\n",
    "    def __init__(self):\n",
    "        self.__persons = {}\n",
    "\n",
    "    def add_number(self, name: str, number: str):\n",
    "        if not name in self.__persons:\n",
    "            # add a new dictionary entry with an empty list for the numbers\n",
    "            self.__persons[name] = []\n",
    "\n",
    "        self.__persons[name].append(number)\n",
    "\n",
    "    def get_numbers(self, name: str):\n",
    "        if not name in self.__persons:\n",
    "            return None\n",
    "\n",
    "        return self.__persons[name]\n",
    "    \n",
    "    def get_name(self, number: str):\n",
    "        for name, numbers in self.__persons.items():\n",
    "            if number in numbers:\n",
    "                return name\n",
    "            \n",
    "        return None\n",
    "            \n",
    "\n",
    "\n"
   ]
  },
  {
   "cell_type": "code",
   "execution_count": 27,
   "metadata": {},
   "outputs": [
    {
     "name": "stdout",
     "output_type": "stream",
     "text": [
      "['02-123456']\n",
      "None\n",
      "Eric\n"
     ]
    }
   ],
   "source": [
    "\n",
    "# code for testing\n",
    "phonebook = PhoneBook()\n",
    "phonebook.add_number(\"Eric\", \"02-123456\")\n",
    "print(phonebook.get_numbers(\"Eric\"))\n",
    "print(phonebook.get_numbers(\"Emily\"))\n",
    "print(phonebook.get_name(\"02-123456\"))\n",
    "\n"
   ]
  },
  {
   "attachments": {},
   "cell_type": "markdown",
   "metadata": {},
   "source": [
    "\n",
    "The method get_numbers returns None if a name is not included in the phone book. If the name is found, it returns the list of numbers attached to the name.\n",
    "\n",
    "`Whenever you make changes to a program it is always worth testing that the code works as expected, before moving on to any other changes. The code used for testing is usually something that is deleted soon after, and as such you might think it's not worth the trouble to write any tests in the first place. In most cases this is not true. Testing is essential to good programming results.`\n",
    "\n",
    "A bug in the program should be caught and fixed as soon as possible. If you get into the habit of verifying the functionality of practically every new line of code, you will find that the bugs are usually easy to locate and fix, as you can be quite certain that the bug was caused by the most recent change. If you only test the program after adding dozens of lines of code, the potential sources for bugs also increase by dozens of times.\n"
   ]
  },
  {
   "attachments": {},
   "cell_type": "markdown",
   "metadata": {},
   "source": [
    "\n",
    "## Step 2: an outline for the user interface\n",
    "With the core application logic out of the way, it is time to implement a text-based user interface. We will need a new class, PhoneBookApplication, with the following initial functionality:\n"
   ]
  },
  {
   "cell_type": "code",
   "execution_count": 5,
   "metadata": {},
   "outputs": [
    {
     "name": "stdout",
     "output_type": "stream",
     "text": [
      "commands: \n",
      "0 exit\n",
      "\n"
     ]
    }
   ],
   "source": [
    "\n",
    "class PhoneBookApplication:\n",
    "    def __init__(self):\n",
    "        self.__phonebook = PhoneBook()\n",
    "\n",
    "    def help(self):\n",
    "        print(\"commands: \")\n",
    "        print(\"0 exit\")\n",
    "\n",
    "    def execute(self):\n",
    "        self.help()\n",
    "        while True:\n",
    "            print(\"\")\n",
    "            command = input(\"command: \")\n",
    "            if command == \"0\":\n",
    "                break\n",
    "\n",
    "application = PhoneBookApplication()\n",
    "application.execute()\n"
   ]
  },
  {
   "cell_type": "markdown",
   "metadata": {},
   "source": [
    "This program doesn't do very much yet, but let's go through the contents. The constructor method creates a new PhoneBook, which is stored in a private attribute. The method execute(self) starts the program's text-based user interface, the core of which is the while loop, which keeps asking the user for commands until they type in the command for exiting. There is also a method for intructions, help(self), which is called before entering the loop, so that the instructions are printed out.\n",
    "\n",
    "Now, let's add some actual functionality. First, we implement adding new data to the phone book:\n"
   ]
  },
  {
   "cell_type": "code",
   "execution_count": 6,
   "metadata": {},
   "outputs": [
    {
     "name": "stdout",
     "output_type": "stream",
     "text": [
      "commands: \n",
      "0 exit\n",
      "1 add entry\n",
      "\n"
     ]
    }
   ],
   "source": [
    "\n",
    "class PhoneBookApplication:\n",
    "    def __init__(self):\n",
    "        self.__phonebook = PhoneBook()\n",
    "\n",
    "    def help(self):\n",
    "        print(\"commands: \")\n",
    "        print(\"0 exit\")\n",
    "        print(\"1 add entry\")\n",
    "\n",
    "    def execute(self):\n",
    "        self.help()\n",
    "        while True:\n",
    "            print(\"\")\n",
    "            command = input(\"command: \")\n",
    "            if command == \"0\":\n",
    "                break\n",
    "            elif command == \"1\":\n",
    "                name = input(\"name: \")\n",
    "                number = input(\"number: \")\n",
    "                self.__phonebook.add_number(name, number)\n",
    "\n",
    "application = PhoneBookApplication()\n",
    "application.execute()\n"
   ]
  },
  {
   "cell_type": "markdown",
   "metadata": {},
   "source": [
    "If the user types in 1 for adding a new number, the user interface asks for a name and a number, and adds these to the PhoneBook using the appropriate method defined in the class.\n",
    "\n",
    "The only responsibility of the user interface is to communicate with the user. Any other functionality, such as storing a new name-number pair, is the responsibility of the PhoneBook object.\n",
    "\n",
    "There is room for improvement in the structure of our user interface class. Let's create a method add_entry(self) which handles the command for adding a new entry:\n"
   ]
  },
  {
   "cell_type": "code",
   "execution_count": 7,
   "metadata": {},
   "outputs": [
    {
     "name": "stdout",
     "output_type": "stream",
     "text": [
      "commands: \n",
      "0 exit\n",
      "1 add entry\n",
      "\n"
     ]
    }
   ],
   "source": [
    "\n",
    "class PhoneBookApplication:\n",
    "    def __init__(self):\n",
    "        self.__phonebook = PhoneBook()\n",
    "\n",
    "    def help(self):\n",
    "        print(\"commands: \")\n",
    "        print(\"0 exit\")\n",
    "        print(\"1 add entry\")\n",
    "\n",
    "    # separation of concerns in action: a new method for adding an entry\n",
    "    def add_entry(self):\n",
    "        name = input(\"name: \")\n",
    "        number = input(\"number: \")\n",
    "        self.__phonebook.add_number(name, number)\n",
    "\n",
    "    def execute(self):\n",
    "        self.help()\n",
    "        while True:\n",
    "            print(\"\")\n",
    "            command = input(\"command: \")\n",
    "            if command == \"0\":\n",
    "                break\n",
    "            elif command == \"1\":\n",
    "                self.add_entry()\n",
    "\n",
    "application = PhoneBookApplication()\n",
    "application.execute()\n"
   ]
  },
  {
   "cell_type": "markdown",
   "metadata": {},
   "source": [
    "The separation of concerns principle extends to the level of methods, too. We could have the entire functionality of the user interface in a single complicated while loop, but it is better to separate each functionality into its own method. The responsibility of the execute() method is just delegating the commands typed in by the user to the relevant methods. This helps with managing the growing complexity of our program. For example, if we want to later change the way adding entries works, it is immediately clear that we must then focus our efforts on the add_entry() method.\n",
    "\n",
    "Let's include functionality for searching for entries in our user interface. This should have its own method, too:\n"
   ]
  },
  {
   "cell_type": "code",
   "execution_count": 8,
   "metadata": {},
   "outputs": [
    {
     "name": "stdout",
     "output_type": "stream",
     "text": [
      "commands: \n",
      "0 exit\n",
      "1 add entry\n",
      "2 search\n",
      "\n"
     ]
    }
   ],
   "source": [
    "\n",
    "class PhoneBookApplication:\n",
    "    def __init__(self):\n",
    "        self.__phonebook = PhoneBook()\n",
    "\n",
    "    def help(self):\n",
    "        print(\"commands: \")\n",
    "        print(\"0 exit\")\n",
    "        print(\"1 add entry\")\n",
    "        print(\"2 search\")\n",
    "\n",
    "    def add_entry(self):\n",
    "        name = input(\"name: \")\n",
    "        number = input(\"number: \")\n",
    "        self.__phonebook.add_number(name, number)\n",
    "\n",
    "    def search(self):\n",
    "        name = input(\"name: \")\n",
    "        numbers = self.__phonebook.get_numbers(name)\n",
    "        if numbers == None:\n",
    "            print(\"number unknown\")\n",
    "            return\n",
    "        for number in numbers:\n",
    "            print(number)\n",
    "\n",
    "    def execute(self):\n",
    "        self.help()\n",
    "        while True:\n",
    "            print(\"\")\n",
    "            command = input(\"command: \")\n",
    "            if command == \"0\":\n",
    "                break\n",
    "            elif command == \"1\":\n",
    "                self.add_entry()\n",
    "            elif command == \"2\":\n",
    "                self.search()\n",
    "            else:\n",
    "                self.help()\n",
    "\n",
    "application = PhoneBookApplication()\n",
    "application.execute()\n"
   ]
  },
  {
   "cell_type": "markdown",
   "metadata": {},
   "source": [
    "We now have a simple working phone book application ready for testing. The following is an example run:\n"
   ]
  },
  {
   "attachments": {},
   "cell_type": "markdown",
   "metadata": {},
   "source": [
    "\n",
    "Sample output\n",
    "```console\n",
    "commands:\n",
    "0 exit\n",
    "1 add entry\n",
    "2 search\n",
    "\n",
    "command: 1\n",
    "name: Eric\n",
    "number: 02-123456\n",
    "\n",
    "command: 1\n",
    "name: Eric\n",
    "number: 045-4356713\n",
    "\n",
    "command: 2\n",
    "name: Eric\n",
    "02-123456\n",
    "045-4356713\n",
    "\n",
    "command: 2\n",
    "name: Emily\n",
    "number unknown\n",
    "\n",
    "command: 0\n",
    "```\n"
   ]
  },
  {
   "cell_type": "markdown",
   "metadata": {},
   "source": [
    "\n",
    "For such a simple application we have written quite a lot of code. If we'd written it all within the one while loop we could probably have gotten away with a lot less code. It is, however, quite easy to read the code, the structure is clear, and we should have no trouble adding new features.\n"
   ]
  },
  {
   "attachments": {},
   "cell_type": "markdown",
   "metadata": {},
   "source": [
    "\n",
    "## Step 3: importing data from a file\n",
    "Let's assume we already have some phone numbers stored in a file, and we want to read this as the program starts up. The data file is in the following CSV format:\n"
   ]
  },
  {
   "attachments": {},
   "cell_type": "markdown",
   "metadata": {},
   "source": [
    "\n",
    "```json\n",
    "Eric;02-1234567;045-4356713\n",
    "Emily;040-324344\n",
    "\n",
    "```"
   ]
  },
  {
   "cell_type": "markdown",
   "metadata": {},
   "source": [
    "Handling files is clearly its own area of responsibility, so it merits a class of its own:\n"
   ]
  },
  {
   "cell_type": "code",
   "execution_count": 9,
   "metadata": {},
   "outputs": [],
   "source": [
    "\n",
    "class FileHandler():\n",
    "    def __init__(self, filename):\n",
    "        self.__filename = filename\n",
    "\n",
    "    def load_file(self):\n",
    "        names = {}\n",
    "        with open(self.__filename) as f:\n",
    "            for line in f:\n",
    "                parts = line.strip().split(';')\n",
    "                name, *numbers = parts\n",
    "                names[name] = numbers\n",
    "\n",
    "        return names\n"
   ]
  },
  {
   "cell_type": "markdown",
   "metadata": {},
   "source": [
    "The constructor method takes the name of the file as its argument. The method load_file(self) reads the contents of the file. It splits each line into two parts: a name and a list of numbers. It then adds these to a dictionary, using the name as the key and the list as the value.\n",
    "\n",
    "The method uses a nifty Python feature: it is possible to first select some items from a list separately, and then take the rest of the items in a new list. You can see an example of this below. You may remember from part 6 that the string method split returns a list.\n"
   ]
  },
  {
   "cell_type": "code",
   "execution_count": 10,
   "metadata": {},
   "outputs": [
    {
     "name": "stdout",
     "output_type": "stream",
     "text": [
      "1\n",
      "2\n",
      "[3, 4, 5]\n"
     ]
    }
   ],
   "source": [
    "\n",
    "my_list = [1, 2, 3, 4, 5]\n",
    "first, second, *rest = my_list\n",
    "print(first)\n",
    "print(second)\n",
    "print(rest)\n",
    "\n"
   ]
  },
  {
   "cell_type": "markdown",
   "metadata": {},
   "source": [
    "\n",
    "The * in front of the variable name rest in the assignment statement means that this last variable should contain all the remaining items in the list, from the third one onwards.\n",
    "\n",
    "We should absolutely test the file handler separately before including it in our application:\n"
   ]
  },
  {
   "cell_type": "code",
   "execution_count": 11,
   "metadata": {},
   "outputs": [
    {
     "name": "stdout",
     "output_type": "stream",
     "text": [
      "{'Eric': ['02-1234567', '045-4356713'], 'Emily': ['040-324344']}\n"
     ]
    }
   ],
   "source": [
    "\n",
    "t = FileHandler(\"phonebook.txt\")\n",
    "print(t.load_file())\n"
   ]
  },
  {
   "cell_type": "markdown",
   "metadata": {},
   "source": [
    "\n",
    "As the file handler seems to work fine, we can add it to our application. Let's assume we want to read the file first thing every time the program is run. The logical place for reading the file would be the constructor of the PhoneBookApplication class:\n"
   ]
  },
  {
   "cell_type": "code",
   "execution_count": 19,
   "metadata": {},
   "outputs": [],
   "source": [
    "\n",
    "class PhoneBookApplication:\n",
    "    def __init__(self):\n",
    "        self.__phonebook = PhoneBook()\n",
    "        self.__filehandler = FileHandler(\"phonebook.txt\")\n",
    "\n",
    "        # add the names and numbers from the file to the phone book\n",
    "        for name, numbers in self.__filehandler.load_file().items():\n",
    "            for number in numbers:\n",
    "                self.__phonebook.add_number(name, number)\n",
    "\n",
    "    def help(self):\n",
    "        print(\"commands: \")\n",
    "        print(\"0 exit\")\n",
    "        print(\"1 add entry\")\n",
    "        print(\"2 search\")\n",
    "\n",
    "    def add_entry(self):\n",
    "        name = input(\"name: \")\n",
    "        number = input(\"number: \")\n",
    "        self.__phonebook.add_number(name, number)\n",
    "\n",
    "    def search(self):\n",
    "        name = input(\"name: \")\n",
    "        numbers = self.__phonebook.get_numbers(name)\n",
    "        if numbers == None:\n",
    "            print(\"number unknown\")\n",
    "            return\n",
    "        for number in numbers:\n",
    "            print(number)\n",
    "\n",
    "    def execute(self):\n",
    "        self.help()\n",
    "        while True:\n",
    "            print(\"\")\n",
    "            command = input(\"command: \")\n",
    "            if command == \"0\":\n",
    "                break\n",
    "            elif command == \"1\":\n",
    "                self.add_entry()\n",
    "            elif command == \"2\":\n",
    "                self.search()\n",
    "            else:\n",
    "                self.help()\n"
   ]
  },
  {
   "cell_type": "markdown",
   "metadata": {},
   "source": [
    "This functionality should also be tested. Once we've made certain the contents of the file are accessible through the user interface of our application, we can move on to the next stage.\n"
   ]
  },
  {
   "attachments": {},
   "cell_type": "markdown",
   "metadata": {},
   "source": [
    "\n",
    "## Step 4: export data to a file\n",
    "The final feature in our basic version of the application is saving the contents of the phone book back in the same file the data was read from.\n",
    "\n",
    "This involves a change to the PhoneBook class. We need to be able to export the contents of the phone book:\n"
   ]
  },
  {
   "cell_type": "code",
   "execution_count": 20,
   "metadata": {},
   "outputs": [],
   "source": [
    "\n",
    "class PhoneBook:\n",
    "    def __init__(self):\n",
    "        self.__persons = {}\n",
    "\n",
    "    def add_number(self, name: str, number: str):\n",
    "        if not name in self.__persons:\n",
    "            # add a new dictionary entry with an empty list for the numbers\n",
    "            self.__persons[name] = []\n",
    "\n",
    "        self.__persons[name].append(number)\n",
    "\n",
    "    def get_numbers(self, name: str):\n",
    "        if not name in self.__persons:\n",
    "            return None\n",
    "\n",
    "        return self.__persons[name]\n",
    "\n",
    "    # return all entries (in dictionary format)\n",
    "    def all_entries(self):\n",
    "        return self.__persons\n"
   ]
  },
  {
   "cell_type": "markdown",
   "metadata": {},
   "source": [
    "The actual saving to the file should be handled by the FileHandler class. Let's add the method save_file which takes a dictionary representation of the phone book as its argument:\n"
   ]
  },
  {
   "cell_type": "code",
   "execution_count": 15,
   "metadata": {},
   "outputs": [],
   "source": [
    "\n",
    "class FileHandler():\n",
    "    def __init__(self, filename):\n",
    "        self.__filename = filename\n",
    "\n",
    "    def load_file(self):\n",
    "        names = {}\n",
    "        with open(self.__filename) as f:\n",
    "            for line in f:\n",
    "                parts = line.strip().split(';')\n",
    "                name, *numbers = parts\n",
    "                names[name] = numbers\n",
    "\n",
    "        return names\n",
    "\n",
    "    def save_file(self, phonebook: dict):\n",
    "        with open(self.__filename, \"w\") as f:\n",
    "            for name, numbers in phonebook.items():\n",
    "                line = [name] + numbers\n",
    "                f.write(\";\".join(line) + \"\\n\")\n"
   ]
  },
  {
   "cell_type": "markdown",
   "metadata": {},
   "source": [
    "The saving should happen as the program exits. Let's add a method for this purpose to the user interface, and call it before breaking out of the while loop:\n",
    "\n"
   ]
  },
  {
   "cell_type": "code",
   "execution_count": 18,
   "metadata": {},
   "outputs": [],
   "source": [
    "\n",
    "class PhoneBookApplication:\n",
    "    def __init__(self):\n",
    "        self.__phonebook = PhoneBook()\n",
    "        self.__filehandler = FileHandler(\"phonebook.txt\")\n",
    "\n",
    "        # add the names and numbers from the file to the phone book\n",
    "        for name, numbers in self.__filehandler.load_file().items():\n",
    "            for number in numbers:\n",
    "                self.__phonebook.add_number(name, number)\n",
    "\n",
    "    def help(self):\n",
    "        print(\"commands: \")\n",
    "        print(\"0 exit\")\n",
    "        print(\"1 add entry\")\n",
    "        print(\"2 search\")\n",
    "\n",
    "    def add_entry(self):\n",
    "        name = input(\"name: \")\n",
    "        number = input(\"number: \")\n",
    "        self.__phonebook.add_number(name, number)\n",
    "\n",
    "    def search(self):\n",
    "        name = input(\"name: \")\n",
    "        numbers = self.__phonebook.get_numbers(name)\n",
    "        if numbers == None:\n",
    "            print(\"number unknown\")\n",
    "            return\n",
    "        for number in numbers:\n",
    "            print(number)\n",
    "\n",
    "    # a method which gets executed as the program exits\n",
    "    def exit(self):\n",
    "        self.__filehandler.save_file(self.__phonebook.all_entries())\n",
    "\n",
    "    def execute(self):\n",
    "        self.help()\n",
    "        while True:\n",
    "            print(\"\")\n",
    "            command = input(\"command: \")\n",
    "            if command == \"0\":\n",
    "                self.exit()\n",
    "                break\n",
    "            elif command == \"1\":\n",
    "                self.add_entry()\n",
    "            elif command == \"2\":\n",
    "                self.search()\n",
    "            else:\n",
    "                self.help()"
   ]
  },
  {
   "attachments": {},
   "cell_type": "markdown",
   "metadata": {},
   "source": [
    "# Programming exercise:Phone book expansion, version 1\n",
    "\n",
    "In this exercise you will create a small expansion to the phone book application. The code from the above example is in the exercise template. Please add a command which lets the user search the phone book by number. After the addition the application should work as follows:\n",
    "\n",
    "Sample output\n",
    "```console\n",
    "commands:\n",
    "0 exit\n",
    "1 add entry\n",
    "2 search\n",
    "3 search by number\n",
    "\n",
    "command: 1\n",
    "name: Eric\n",
    "number: 02-123456\n",
    "\n",
    "command: 1\n",
    "name: Eric\n",
    "number: 045-4356713\n",
    "\n",
    "command: 3\n",
    "number: 02-123456\n",
    "Eric\n",
    "\n",
    "command: 3\n",
    "number: 0100100\n",
    "unknown number\n",
    "\n",
    "command: 0\n",
    "```\n",
    "\n",
    "Please implement this addition with respect to the current structure of the program. This means that in the PhoneBookApplication class you should add an appropriate helper method to allow for the new functionality, and also add a new branch to the while loop. In the PhoneBook class you should add a method which allows for searching with a number.\n",
    "\n",
    "NB: as you test your program and end up with lots of different numbers stored in the phonebook.txt file, there is a chance the local tests will not be passed if conflicting data is read from the file as the app starts. You can try emptying the contents of any phonebook.txt files you find in the directory for the exercise before running the local tests. Which one of the files is used by your program may depend on your Visual Studio Code settings. Please have a look at the explanation in part 6. If your solution is correct, the tests on the server should still pass normally, regardless."
   ]
  },
  {
   "cell_type": "code",
   "execution_count": 31,
   "metadata": {},
   "outputs": [
    {
     "name": "stdout",
     "output_type": "stream",
     "text": [
      "commands: \n",
      "0 exit\n",
      "1 add entry\n",
      "2 search\n",
      "\n",
      "eric\n",
      "\n"
     ]
    }
   ],
   "source": [
    "\n",
    "class PhoneBook:\n",
    "    def __init__(self):\n",
    "        self.__persons = {}\n",
    "\n",
    "    def add_number(self, name: str, number: str):\n",
    "        if not name in self.__persons:\n",
    "            # add a new dictionary entry with an empty list for the numbers\n",
    "            self.__persons[name] = []\n",
    "\n",
    "        self.__persons[name].append(number)\n",
    "\n",
    "    def get_numbers(self, name: str):\n",
    "        if not name in self.__persons:\n",
    "            return None\n",
    "\n",
    "        return self.__persons[name]\n",
    "    \n",
    "    def get_name(self, number: str):\n",
    "        for name, numbers in self.__persons.items():\n",
    "            if number in numbers:\n",
    "                return name\n",
    "            \n",
    "        return None\n",
    "\n",
    "    # return all entries (in dictionary format)\n",
    "    def all_entries(self):\n",
    "        return self.__persons\n",
    "\n",
    "class FileHandler():\n",
    "    def __init__(self, filename):\n",
    "        self.__filename = filename\n",
    "\n",
    "    def load_file(self):\n",
    "        names = {}\n",
    "        with open(self.__filename) as f:\n",
    "            for line in f:\n",
    "                parts = line.strip().split(';')\n",
    "                name, *numbers = parts\n",
    "                names[name] = numbers\n",
    "\n",
    "        return names\n",
    "\n",
    "    def save_file(self, phonebook: dict):\n",
    "        with open(self.__filename, \"w\") as f:\n",
    "            for name, numbers in phonebook.items():\n",
    "                line = [name] + numbers\n",
    "                f.write(\";\".join(line) + \"\\n\")\n",
    "                \n",
    "class PhoneBookApplication:\n",
    "    def __init__(self):\n",
    "        self.__phonebook = PhoneBook()\n",
    "        self.__filehandler = FileHandler(\"phonebook.txt\")\n",
    "\n",
    "        # add the names and numbers from the file to the phone book\n",
    "        for name, numbers in self.__filehandler.load_file().items():\n",
    "            for number in numbers:\n",
    "                self.__phonebook.add_number(name, number)\n",
    "\n",
    "    def help(self):\n",
    "        print(\"commands: \")\n",
    "        print(\"0 exit\")\n",
    "        print(\"1 add entry\")\n",
    "        print(\"2 search\")\n",
    "\n",
    "    def add_entry(self):\n",
    "        name = input(\"name: \")\n",
    "        number = input(\"number: \")\n",
    "        self.__phonebook.add_number(name, number)\n",
    "\n",
    "    def search(self):\n",
    "        name = input(\"name: \")\n",
    "        numbers = self.__phonebook.get_numbers(name)\n",
    "        if numbers == None:\n",
    "            print(\"number unknown\")\n",
    "            return\n",
    "        for number in numbers:\n",
    "            print(number)\n",
    "\n",
    "    def search_by_number(self):\n",
    "        number = input(\"number: \")\n",
    "        names = self.__phonebook.get_name(number)\n",
    "        if names == None:\n",
    "            print(\"name unknown\")\n",
    "            return\n",
    "        else:\n",
    "            print(names)\n",
    "\n",
    "    # a method which gets executed as the program exits\n",
    "    def exit(self):\n",
    "        self.__filehandler.save_file(self.__phonebook.all_entries())\n",
    "\n",
    "    def execute(self):\n",
    "        self.help()\n",
    "        while True:\n",
    "            print(\"\")\n",
    "            command = input(\"command: \")\n",
    "            if command == \"0\":\n",
    "                self.exit()\n",
    "                break\n",
    "            elif command == \"1\":\n",
    "                self.add_entry()\n",
    "            elif command == \"2\":\n",
    "                self.search()\n",
    "            elif command == \"3\":\n",
    "                self.search_by_number()\n",
    "            else:\n",
    "                self.help()\n",
    "\n",
    "application = PhoneBookApplication()\n",
    "application.execute()"
   ]
  },
  {
   "cell_type": "code",
   "execution_count": null,
   "metadata": {},
   "outputs": [],
   "source": []
  }
 ],
 "metadata": {
  "kernelspec": {
   "display_name": ".venv",
   "language": "python",
   "name": "python3"
  },
  "language_info": {
   "codemirror_mode": {
    "name": "ipython",
    "version": 3
   },
   "file_extension": ".py",
   "mimetype": "text/x-python",
   "name": "python",
   "nbconvert_exporter": "python",
   "pygments_lexer": "ipython3",
   "version": "3.10.10"
  },
  "orig_nbformat": 4
 },
 "nbformat": 4,
 "nbformat_minor": 2
}
