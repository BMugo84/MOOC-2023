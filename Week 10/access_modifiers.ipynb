{
 "cells": [
  {
   "attachments": {},
   "cell_type": "markdown",
   "metadata": {},
   "source": [
    "# Access modifiers\n",
    "## Learning objectives\n",
    "After this section\n",
    "\n",
    "You will understand the access modifiers private and protected\n",
    "You will know how the visibility of traits is determined in Python"
   ]
  },
  {
   "attachments": {},
   "cell_type": "markdown",
   "metadata": {},
   "source": [
    "If a trait is defined as private in the base class, it is not directly accessible in any derived classes, as was briefly mentioned in the previous section. Let's take a look at an example. In the Notebook class below the notes are stored in a list, and the list attribute is private:\n",
    "\n"
   ]
  },
  {
   "cell_type": "code",
   "execution_count": 15,
   "metadata": {},
   "outputs": [],
   "source": [
    "\n",
    "class Notebook:\n",
    "    \"\"\" A Notebook stores notes in string format \"\"\"\n",
    "\n",
    "    def __init__(self):\n",
    "        # private attribute\n",
    "        self.__notes = []\n",
    "\n",
    "    def add_note(self, note):\n",
    "        self.__notes.append(note)\n",
    "\n",
    "    def retrieve_note(self, index):\n",
    "        return self.__notes[index]\n",
    "\n",
    "    def all_notes(self):\n",
    "        return \",\".join(self.__notes)\n"
   ]
  },
  {
   "cell_type": "markdown",
   "metadata": {},
   "source": [
    "If the integrity of the class is key, making the list attribute notes private makes sense. The class provides the client with suitable methods for adding and browsing notes, after all. This approach becomes problematic if we define a new class NotebookPro, which inherits the Notebook class. The private list attribute is not accessible to the client, but neither is it accessible to the derived classes. If we try to access it, as in the find_notes method below, we get an error:\n"
   ]
  },
  {
   "cell_type": "code",
   "execution_count": 16,
   "metadata": {},
   "outputs": [],
   "source": [
    "\n",
    "class NotebookPro(Notebook):\n",
    "    \"\"\" A better Notebook with search functionality \"\"\"\n",
    "    def __init__(self):\n",
    "        # This is OK, the constructor is public despite the underscores\n",
    "        super().__init__()\n",
    "\n",
    "    # This causes an error\n",
    "    def find_notes(self, search_term):\n",
    "        found = []\n",
    "        # the attribute __notes is private\n",
    "        # the derived class can't access it directly\n",
    "        for note in self.__notes:\n",
    "            if search_term in note:\n",
    "                found.append(note)\n",
    "\n",
    "        return found\n"
   ]
  },
  {
   "cell_type": "markdown",
   "metadata": {},
   "source": [
    "Sample output\n",
    "AttributeError: 'NotebookPro' object has no attribute '_NotebookPro__notes'\n"
   ]
  },
  {
   "attachments": {},
   "cell_type": "markdown",
   "metadata": {},
   "source": [
    "\n",
    "# Protected traits\n",
    "Many object oriented programming languages have a feature, usually a special keyword, for protecting traits. This means that a trait should be hidden from the clients of the class, but kept accessible to its subclasses. Python in general abhors keywords, so no such feature is directly available in Python. Instead, there is a convention of marking protected traits in a certain way.\n",
    "\n",
    "Remember, a trait can be hidden by prefixing its name with two underscores:\n"
   ]
  },
  {
   "cell_type": "code",
   "execution_count": 17,
   "metadata": {},
   "outputs": [],
   "source": [
    "\n",
    "def __init__(self):\n",
    "    self.__notes = []\n"
   ]
  },
  {
   "cell_type": "markdown",
   "metadata": {},
   "source": [
    "The agreed convention to protect a trait is to prefix the name with a single underscore. Now, this is just a convention. Nothing prevents a programmer from breaking the convention, but it is considered a bad programming practice.\n"
   ]
  },
  {
   "cell_type": "code",
   "execution_count": 18,
   "metadata": {},
   "outputs": [],
   "source": [
    "\n",
    "def __init__(self):\n",
    "    self._notes = []\n"
   ]
  },
  {
   "cell_type": "markdown",
   "metadata": {},
   "source": [
    "Below we have the entire Notebook example, with protected _notes instead of private __notes:\n"
   ]
  },
  {
   "cell_type": "code",
   "execution_count": 19,
   "metadata": {},
   "outputs": [],
   "source": [
    "\n",
    "class Notebook:\n",
    "    \"\"\" A Notebook stores notes in string format \"\"\"\n",
    "\n",
    "    def __init__(self):\n",
    "        # protected attribute\n",
    "        self._notes = []\n",
    "\n",
    "    def add_note(self, note):\n",
    "        self._notes.append(note)\n",
    "\n",
    "    def retrieve_note(self, index):\n",
    "        return self._notes[index]\n",
    "\n",
    "    def all_notes(self):\n",
    "        return \",\".join(self._notes)\n",
    "\n",
    "class NotebookPro(Notebook):\n",
    "    \"\"\" A better Notebook with search functionality \"\"\"\n",
    "    def __init__(self):\n",
    "        # This is OK, the constructor is public despite the underscores\n",
    "        super().__init__()\n",
    "\n",
    "    # This works, the protected attribute is accessible to the derived class\n",
    "    def find_notes(self, search_term):\n",
    "        found = []\n",
    "        for note in self._notes:\n",
    "            if search_term in note:\n",
    "                found.append(note)\n",
    "\n",
    "        return found\n"
   ]
  },
  {
   "attachments": {},
   "cell_type": "markdown",
   "metadata": {},
   "source": [
    "| Access modifier | Example      | Visible to client | Visible to derived class |\n",
    "|-----------------|--------------|------------------|--------------------------|\n",
    "| Public          | `self.name`  | yes              | yes                      |\n",
    "| Protected       | `self._name` | no               | yes                      |\n",
    "| Private         | `self.__name` | no               | no                       |\n",
    "\n",
    "In the table, we list three different access modifiers: Public, Protected, and Private. For each access modifier, we provide an example attribute name and indicate whether it is visible to the client (outside the class) and visible to the derived class (a class that inherits from the current class).\n",
    "\n",
    "- Public attributes, such as `self.name`, are visible both to the client and the derived class.\n",
    "- Protected attributes, represented by `self._name`, are not intended to be accessed by the client directly, but they are visible to the derived class.\n",
    "- Private attributes, denoted by `self.__name`, are not accessible to the client or the derived class. The double underscore prefix causes the name to be \"mangled,\" making it effectively private within the class."
   ]
  },
  {
   "cell_type": "markdown",
   "metadata": {},
   "source": [
    "Access modifiers work the same with all traits. For example, in the Person class below we have the protected method capitalize_initials. It can be used from the derived class Footballer:\n"
   ]
  },
  {
   "cell_type": "code",
   "execution_count": 20,
   "metadata": {},
   "outputs": [
    {
     "name": "stdout",
     "output_type": "stream",
     "text": [
      "Footballer - name: Peter Pythons, nickname: Pyper, position: forward\n"
     ]
    }
   ],
   "source": [
    "\n",
    "class Person:\n",
    "    def __init__(self, name: str):\n",
    "        self._name = self._capitalize_initials(name)\n",
    "\n",
    "    def _capitalize_initials(self, name):\n",
    "        name_capitalized = []\n",
    "        for n in name.split(\" \"):\n",
    "            name_capitalized.append(n.capitalize())\n",
    "\n",
    "        return \" \".join(name_capitalized)\n",
    "\n",
    "    def __repr__(self):\n",
    "        return self.__name\n",
    "\n",
    "class Footballer(Person):\n",
    "\n",
    "    def __init__(self, name: str, nickname: str, position: str):\n",
    "        super().__init__(name)\n",
    "        # the method is available as it is protected in the base class\n",
    "        self.__nickname = self._capitalize_initials(nickname)\n",
    "        self.__position = position\n",
    "\n",
    "    def __repr__(self):\n",
    "        r =  f\"Footballer - name: {self._name}, nickname: {self.__nickname}\"\n",
    "        r += f\", position: {self.__position}\"\n",
    "        return r\n",
    "\n",
    "# Test the classes\n",
    "if __name__ == \"__main__\":\n",
    "    jp = Footballer(\"peter pythons\", \"pyper\", \"forward\")\n",
    "    print(jp)"
   ]
  },
  {
   "attachments": {},
   "cell_type": "markdown",
   "metadata": {},
   "source": [
    "# Programming exercise:Supergroup\n",
    "\n",
    "The exercise template contains the class definition for a SuperHero.\n",
    "\n",
    "Please define a class named SuperGroup which represents a group of superheroes. The class should contain the following members:\n",
    "\n",
    "* Protected attributes name (str), location (str) and members (list)\n",
    "* A constructor which takes the name and location of the group as arguments, in that order\n",
    "* Getter methods for the name and location attributes\n",
    "* A method named add_member(hero: SuperHero) which adds a new member to the group\n",
    "* A method named print_group which prints out information about the group and its members, following the format specified below\n",
    "\n",
    "\n",
    "An example of the class in action:\n",
    "\n",
    "```python\n",
    "superperson = SuperHero(\"SuperPerson\", \"Superspeed, superstrength\")\n",
    "invisible = SuperHero(\"Invisible Inca\", \"Invisibility\")\n",
    "revengers = SuperGroup(\"Revengers\", \"Emerald City\")\n",
    "\n",
    "revengers.add_member(superperson)\n",
    "revengers.add_member(invisible)\n",
    "revengers.print_group()\n",
    "```\n",
    "Sample output\n",
    "```console\n",
    "Revengers, Emerald City\n",
    "Members:\n",
    "SuperPerson, superpowers: Superspeed, superstrength\n",
    "Invisible Inca, superpowers: Invisibility\n",
    "```"
   ]
  },
  {
   "cell_type": "code",
   "execution_count": 21,
   "metadata": {},
   "outputs": [
    {
     "name": "stdout",
     "output_type": "stream",
     "text": [
      "Revengers, Revengers\n",
      "Members:\n",
      "SuperPerson, superpowers: Superspeed, superstrength\n",
      "Invisible Inca, superpowers: Invisibility\n"
     ]
    }
   ],
   "source": [
    "# Write your solution here:\n",
    "class SuperHero:\n",
    "    def __init__(self, name: str, superpowers: str):\n",
    "        self.name = name\n",
    "        self.superpowers = superpowers\n",
    "\n",
    "    def __str__(self):\n",
    "        return f'{self.name}, superpowers: {self.superpowers}'\n",
    "    \n",
    "class SuperGroup(SuperHero):\n",
    "    def __init__(self, name: str, location: str):\n",
    "        self._name = name\n",
    "        self._location = name\n",
    "        self._members = []\n",
    "\n",
    "    # encapsulating name \n",
    "    @property\n",
    "    def name(self):\n",
    "        return self._name\n",
    "    \n",
    "    @property\n",
    "    def location(self):\n",
    "        return self._location\n",
    "    \n",
    "    def add_member(self, hero: SuperHero):\n",
    "        self._members.append(hero)\n",
    "\n",
    "    def print_group(self):\n",
    "        print(f\"{self._name}, {self._location}\")\n",
    "        print(\"Members:\")\n",
    "\n",
    "        for person in self._members:\n",
    "            print(f\"{person.name}, superpowers: {person.superpowers}\")\n",
    "\n",
    "\n",
    "superperson = SuperHero(\"SuperPerson\", \"Superspeed, superstrength\")\n",
    "invisible = SuperHero(\"Invisible Inca\", \"Invisibility\")\n",
    "revengers = SuperGroup(\"Revengers\", \"Emerald City\")\n",
    "\n",
    "revengers.add_member(superperson)\n",
    "revengers.add_member(invisible)\n",
    "revengers.print_group()"
   ]
  },
  {
   "attachments": {},
   "cell_type": "markdown",
   "metadata": {},
   "source": [
    "# Programming exercise:Secret magic potion\n",
    "\n",
    "\n",
    "The exercise template contains the class definition for a MagicPotion which allows you to save a recipe for a magic potion. The class definition contains a constructor along with the methods\n",
    "\n",
    "* add_ingredient(ingredient: str, amount: float) and\n",
    "* print_recipe()\n",
    "\n",
    "Please define a class named SecretMagicPotion which inherits the MagicPotion class and allows you to also protect the recipe with a password.\n",
    "\n",
    "The new class should have a constructor which also takes the password string as an argument.\n",
    "\n",
    "The class should also contain the following methods:\n",
    "\n",
    "* add_ingredient(ingredient: str, amount: float, password: str)\n",
    "* print_recipe(password: str)\n",
    "\n",
    "If the password argument given to either of these methods is wrong, the methods should raise a ValueError exception.\n",
    "\n",
    "If the password is correct, each method should call the relevant method in the parent class. Do not copy and paste anything from the MagicPotion class.\n",
    "\n",
    "An example of how this would work:\n",
    "\n",
    "```python\n",
    "diminuendo = SecretMagicPotion(\"Diminuendo maximus\", \"hocuspocus\")\n",
    "diminuendo.add_ingredient(\"Toadstool\", 1.5, \"hocuspocus\")\n",
    "diminuendo.add_ingredient(\"Magic sand\", 3.0, \"hocuspocus\")\n",
    "diminuendo.add_ingredient(\"Frogspawn\", 4.0, \"hocuspocus\")\n",
    "diminuendo.print_recipe(\"hocuspocus\")\n",
    "\n",
    "diminuendo.print_recipe(\"pocushocus\") # WRONG password!\n",
    "```\n",
    "Sample output\n",
    "```console\n",
    "Diminuendo maximus:\n",
    "Toadstool 1.5 grams\n",
    "Magic sand 3.0 grams\n",
    "Frogspawn 4.0 grams\n",
    "Traceback (most recent call last):\n",
    "File \"secret_magic_potion.py\", line 98, in \n",
    "raise ValueError(\"Wrong password!\")\n",
    "ValueError: Wrong password!\n",
    "```"
   ]
  },
  {
   "cell_type": "code",
   "execution_count": 24,
   "metadata": {},
   "outputs": [
    {
     "name": "stdout",
     "output_type": "stream",
     "text": [
      "Diminuendo maximus:\n",
      "Toadstool 1.5 grams\n",
      "Magic sand 3.0 grams\n",
      "Frogspawn 4.0 grams\n"
     ]
    },
    {
     "ename": "ValueError",
     "evalue": "Wrong Pasword!",
     "output_type": "error",
     "traceback": [
      "\u001b[1;31m---------------------------------------------------------------------------\u001b[0m",
      "\u001b[1;31mValueError\u001b[0m                                Traceback (most recent call last)",
      "Cell \u001b[1;32mIn[24], line 42\u001b[0m\n\u001b[0;32m     39\u001b[0m diminuendo\u001b[39m.\u001b[39madd_ingredient(\u001b[39m\"\u001b[39m\u001b[39mFrogspawn\u001b[39m\u001b[39m\"\u001b[39m, \u001b[39m4.0\u001b[39m, \u001b[39m\"\u001b[39m\u001b[39mhocuspocus\u001b[39m\u001b[39m\"\u001b[39m)\n\u001b[0;32m     40\u001b[0m diminuendo\u001b[39m.\u001b[39mprint_recipe(\u001b[39m\"\u001b[39m\u001b[39mhocuspocus\u001b[39m\u001b[39m\"\u001b[39m)\n\u001b[1;32m---> 42\u001b[0m diminuendo\u001b[39m.\u001b[39;49mprint_recipe(\u001b[39m\"\u001b[39;49m\u001b[39mpocushocus\u001b[39;49m\u001b[39m\"\u001b[39;49m) \u001b[39m# WRONG password!\u001b[39;00m\n",
      "Cell \u001b[1;32mIn[24], line 33\u001b[0m, in \u001b[0;36mSecretMagicPotion.print_recipe\u001b[1;34m(self, password)\u001b[0m\n\u001b[0;32m     31\u001b[0m         \u001b[39mprint\u001b[39m(\u001b[39mf\u001b[39m\u001b[39m\"\u001b[39m\u001b[39m{\u001b[39;00mingredient[\u001b[39m0\u001b[39m]\u001b[39m}\u001b[39;00m\u001b[39m \u001b[39m\u001b[39m{\u001b[39;00mingredient[\u001b[39m1\u001b[39m]\u001b[39m}\u001b[39;00m\u001b[39m grams\u001b[39m\u001b[39m\"\u001b[39m)\n\u001b[0;32m     32\u001b[0m \u001b[39melse\u001b[39;00m:\n\u001b[1;32m---> 33\u001b[0m     \u001b[39mraise\u001b[39;00m \u001b[39mValueError\u001b[39;00m(\u001b[39m\"\u001b[39m\u001b[39mWrong Pasword!\u001b[39m\u001b[39m\"\u001b[39m)\n",
      "\u001b[1;31mValueError\u001b[0m: Wrong Pasword!"
     ]
    }
   ],
   "source": [
    "# Write your solution here:\n",
    "class MagicPotion:\n",
    "    def __init__(self, name: str):\n",
    "        self._name = name\n",
    "        self._ingredients = []\n",
    "\n",
    "    def add_ingredient(self, ingredient: str, amount: float):\n",
    "        self._ingredients.append((ingredient, amount))\n",
    "\n",
    "    def print_recipe(self):\n",
    "        print(self._name + \":\")\n",
    "        for ingredient in self._ingredients:\n",
    "            print(f\"{ingredient[0]} {ingredient[1]} grams\")\n",
    "\n",
    "class SecretMagicPotion(MagicPotion):\n",
    "    def __init__(self, name: str, password: str):\n",
    "        self._name = name\n",
    "        self._password = password\n",
    "        self._ingredients = []\n",
    "\n",
    "    def add_ingredient(self, ingredient: str, amount: float, password: str):\n",
    "        if password == self._password:\n",
    "            self._ingredients.append((ingredient, amount))\n",
    "        else:\n",
    "            raise ValueError(\"Wrong Pasword!\")\n",
    "\n",
    "    def print_recipe(self, password: str):\n",
    "        if password == self._password:\n",
    "            print(self._name + \":\")\n",
    "            for ingredient in self._ingredients:\n",
    "                print(f\"{ingredient[0]} {ingredient[1]} grams\")\n",
    "        else:\n",
    "            raise ValueError(\"Wrong Pasword!\")\n",
    "        \n",
    "if __name__ == \"__main__\":\n",
    "    diminuendo = SecretMagicPotion(\"Diminuendo maximus\", \"hocuspocus\")\n",
    "    diminuendo.add_ingredient(\"Toadstool\", 1.5, \"hocuspocus\")\n",
    "    diminuendo.add_ingredient(\"Magic sand\", 3.0, \"hocuspocus\")\n",
    "    diminuendo.add_ingredient(\"Frogspawn\", 4.0, \"hocuspocus\")\n",
    "    diminuendo.print_recipe(\"hocuspocus\")\n",
    "\n",
    "    diminuendo.print_recipe(\"pocushocus\") # WRONG password!"
   ]
  },
  {
   "cell_type": "code",
   "execution_count": null,
   "metadata": {},
   "outputs": [],
   "source": []
  }
 ],
 "metadata": {
  "kernelspec": {
   "display_name": ".venv",
   "language": "python",
   "name": "python3"
  },
  "language_info": {
   "codemirror_mode": {
    "name": "ipython",
    "version": 3
   },
   "file_extension": ".py",
   "mimetype": "text/x-python",
   "name": "python",
   "nbconvert_exporter": "python",
   "pygments_lexer": "ipython3",
   "version": "3.10.10"
  },
  "orig_nbformat": 4
 },
 "nbformat": 4,
 "nbformat_minor": 2
}
