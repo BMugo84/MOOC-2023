{
 "cells": [
  {
   "attachments": {},
   "cell_type": "markdown",
   "metadata": {},
   "source": [
    "# Class hierarchies\n",
    "Learning objectives\n",
    "After this section\n",
    "\n",
    "* You will know what inheritance means in a programming context\n",
    "* You will be able to write classes which inherit other classes\n",
    "* You will know how inheritance affects the traits in classes"
   ]
  },
  {
   "attachments": {},
   "cell_type": "markdown",
   "metadata": {},
   "source": [
    "Special classes for special purposes\n",
    "Sometimes you come across a situation where you have already defined a class, but then realize you need special traits in some, but not all, instances of the class. Then again, sometimes you realize you've defined two very similar classes with only minor differences. As programmers we aim to always repeat ourselves as little as possible, while maintaining clarity and readability. So how can we accommodate for different implementations of intrinsically similar objects?\n",
    "\n",
    "Let's have a look at two class definitions: Student and Teacher. Getter and setter methods have been left out for now, in order to keep the example short.\n",
    "\n"
   ]
  },
  {
   "cell_type": "code",
   "execution_count": 1,
   "metadata": {},
   "outputs": [],
   "source": [
    "\n",
    "class Student:\n",
    "\n",
    "    def __init__(self, name: str, id: str, email: str, credits: str):\n",
    "        self.name = name\n",
    "        self.id = id\n",
    "        self.email = email\n",
    "        self.credits = credits\n",
    "\n",
    "class Teacher:\n",
    "\n",
    "    def __init__(self, name: str, email: str, room: str, teaching_years: int):\n",
    "        self.name = name\n",
    "        self.email = email\n",
    "        self.room = room\n",
    "        self.teaching_years = teaching_years\n"
   ]
  },
  {
   "cell_type": "markdown",
   "metadata": {},
   "source": [
    "Even in a stripped down example, like the above, we already have quite a bit of repetition: both classes contain attributes name and email. It would be a good idea to have a single attribute definition, so that a single function would suffice for editing both attributes.\n",
    "\n",
    "For example, imagine the school's email address changed. All addresses would have to be updated. We could write two separate versions of essentially the same function:\n",
    "\n"
   ]
  },
  {
   "cell_type": "code",
   "execution_count": null,
   "metadata": {},
   "outputs": [],
   "source": [
    "\n",
    "def update_email(o: Student):\n",
    "    o.email = o.email.replace(\".com\", \".edu\")\n",
    "\n",
    "def update_email2(o: Teacher):\n",
    "    o.email = o.email.replace(\".com\", \".edu\")\n"
   ]
  },
  {
   "cell_type": "markdown",
   "metadata": {},
   "source": [
    "Writing practically the same thing twice is unnecessary repetition, not to mention it doubles the possibilities for errors. It would be a definite improvement if we could use a single function to work with instances of both classes.\n",
    "\n",
    "Both classes also have attributes which are unique to them. Simply combining all attributes in a single class would mean all instances of the class would then have unnecessary attributes, just different ones for different instances. That doesn't seem like an ideal situation, either.\n"
   ]
  },
  {
   "attachments": {},
   "cell_type": "markdown",
   "metadata": {},
   "source": [
    "\n",
    "# Inheritance\n",
    "Object oriented programming languages usually feature a technique called inheritance. A class can inherit the traits of another class. In addition to these inherited traits a class can also contain traits which are unique to it.\n",
    "\n",
    "Knowing this, it would make sense for the Teacher and Student classes to have a common base or parent class Person:\n",
    "\n"
   ]
  },
  {
   "cell_type": "code",
   "execution_count": null,
   "metadata": {},
   "outputs": [],
   "source": [
    "\n",
    "class Person:\n",
    "\n",
    "   def __init__(self, name: str, email: str):\n",
    "       self.name = name\n",
    "       self.email = email\n"
   ]
  },
  {
   "cell_type": "markdown",
   "metadata": {},
   "source": [
    "The new class contains those traits which are shared by the other two classes. Now Student and Teacher can inherit these traits and add their own besides.\n",
    "\n",
    "The syntax for inheritance simply involves adding the base class name in parentheses on the header line:\n"
   ]
  },
  {
   "cell_type": "code",
   "execution_count": 2,
   "metadata": {},
   "outputs": [
    {
     "name": "stdout",
     "output_type": "stream",
     "text": [
      "saul@example.edu\n",
      "tara@example.ex\n"
     ]
    }
   ],
   "source": [
    "\n",
    "class Person:\n",
    "\n",
    "   def __init__(self, name: str, email: str):\n",
    "       self.name = name\n",
    "       self.email = email\n",
    "\n",
    "   def update_email_domain(self, new_domain: str):\n",
    "       old_domain = self.email.split(\"@\")[1]\n",
    "       self.email = self.email.replace(old_domain, new_domain)\n",
    "\n",
    "\n",
    "class Student(Person):\n",
    "\n",
    "   def __init__(self, name: str, id: str, email: str, credits: str):\n",
    "       self.name = name\n",
    "       self.id = id\n",
    "       self.email = email\n",
    "       self.credits = credits\n",
    "\n",
    "\n",
    "class Teacher(Person):\n",
    "\n",
    "   def __init__(self, name: str, email: str, room: str, teaching_years: int):\n",
    "       self.name = name\n",
    "       self.email = email\n",
    "       self.room = room\n",
    "       self.teaching_years = teaching_years\n",
    "\n",
    "# Let's test our classes\n",
    "if __name__ == \"__main__\":\n",
    "   saul = Student(\"Saul Student\", \"1234\", \"saul@example.com\", 0)\n",
    "   saul.update_email_domain(\"example.edu\")\n",
    "   print(saul.email)\n",
    "\n",
    "   tara = Teacher(\"Tara Teacher\", \"tara@example.fi\", \"A123\", 2)\n",
    "   tara.update_email_domain(\"example.ex\")\n",
    "   print(tara.email)\n"
   ]
  },
  {
   "cell_type": "markdown",
   "metadata": {},
   "source": [
    "Both Student and Teacher inherit the Person class, so both have the traits defined in the Person class, including the method update_email_domain. The same method works for instances of both the derived classes.\n",
    "\n",
    "Let's have a look at another example. We have a Bookshelf which inherits the class BookContainer:\n"
   ]
  },
  {
   "cell_type": "code",
   "execution_count": 3,
   "metadata": {},
   "outputs": [],
   "source": [
    "\n",
    "class Book:\n",
    "   \"\"\" This class models a simple book \"\"\"\n",
    "   def __init__(self, name: str, author: str):\n",
    "       self.name = name\n",
    "       self.author = author\n",
    "\n",
    "\n",
    "class BookContainer:\n",
    "   \"\"\" This class models a container for books \"\"\"\n",
    "\n",
    "   def __init__(self):\n",
    "       self.books = []\n",
    "\n",
    "   def add_book(self, book: Book):\n",
    "       self.books.append(book)\n",
    "\n",
    "   def list_books(self):\n",
    "       for book in self.books:\n",
    "           print(f\"{book.name} ({book.author})\")\n",
    "\n",
    "\n",
    "class Bookshelf(BookContainer):\n",
    "   \"\"\" This class models a shelf for books \"\"\"\n",
    "\n",
    "   def __init__(self):\n",
    "       super().__init__()\n",
    "\n",
    "   def add_book(self, book: Book, location: int):\n",
    "       self.books.insert(location, book)\n"
   ]
  },
  {
   "cell_type": "markdown",
   "metadata": {},
   "source": [
    "The class Bookshelf contains the method add_book. A method with the same name is defined in the base class BookContainer. This is called overriding: if a derived class has a method with the same name as the base class, the derived version overrides the original in instances of the derived class.\n",
    "\n",
    "The idea in the example above is that a new book added to a BookContainer always goes to the top, but with a Bookshelf you can specify the location yourself. The method list_books works the same for both classes, as there is no overriding method in the derived class.\n",
    "\n",
    "Let's try out these classes:\n"
   ]
  },
  {
   "cell_type": "code",
   "execution_count": 4,
   "metadata": {},
   "outputs": [
    {
     "name": "stdout",
     "output_type": "stream",
     "text": [
      "Container:\n",
      "Old Man and the Sea (Ernest Hemingway)\n",
      "Silent Spring (Rachel Carson)\n",
      "Pride and Prejudice (Jane Austen)\n",
      "\n",
      "Shelf:\n",
      "Pride and Prejudice (Jane Austen)\n",
      "Silent Spring (Rachel Carson)\n",
      "Old Man and the Sea (Ernest Hemingway)\n"
     ]
    }
   ],
   "source": [
    "\n",
    "if __name__ == \"__main__\":\n",
    "   # Create some books for testing\n",
    "   b1 = Book(\"Old Man and the Sea\", \"Ernest Hemingway\")\n",
    "   b2 = Book(\"Silent Spring\", \"Rachel Carson\")\n",
    "   b3 = Book(\"Pride and Prejudice\", \"Jane Austen\")\n",
    "\n",
    "   # Create a BookContainer and add the books\n",
    "   container = BookContainer()\n",
    "   container.add_book(b1)\n",
    "   container.add_book(b2)\n",
    "   container.add_book(b3)\n",
    "\n",
    "   # Create a Bookshelf and add the books (always to the beginning)\n",
    "   shelf = Bookshelf()\n",
    "   shelf.add_book(b1, 0)\n",
    "   shelf.add_book(b2, 0)\n",
    "   shelf.add_book(b3, 0)\n",
    "\n",
    "\n",
    "   # Tulostetaan\n",
    "   print(\"Container:\")\n",
    "   container.list_books()\n",
    "\n",
    "   print()\n",
    "\n",
    "   print(\"Shelf:\")\n",
    "   shelf.list_books()\n"
   ]
  },
  {
   "cell_type": "markdown",
   "metadata": {},
   "source": [
    "So, the Bookshelf class also has access to the list_books method. Through inheritance the method is a member of all the classes derived from the BookContainer class.\n",
    "\n",
    "Inheritance and scope of traits\n",
    "A derived class inherits all traits from its base class. Those traits are directly accessible in the derived class, unless they have been defined as private in the base class (with two underscores before the name of the trait).\n",
    "\n",
    "As the attributes of a Bookshelf are identical to a BookContainer, there was no need to rewrite the constructor of Bookshelf. We simply called the constructor of the base class:\n"
   ]
  },
  {
   "cell_type": "code",
   "execution_count": null,
   "metadata": {},
   "outputs": [],
   "source": [
    "\n",
    "class Bookshelf(BookContainer):\n",
    "\n",
    "   def __init__(self):\n",
    "       super().__init__()\n"
   ]
  },
  {
   "cell_type": "markdown",
   "metadata": {},
   "source": [
    "Any trait in the base class can be accessed from the derived class with the function super(). The self argument is left out from the method call, as Python adds it automatically.\n",
    "\n",
    "But what if the attributes are not identical; can we still use the base class constructor in some way? Let's have a look at a class named Thesis which inherits the Book class. The derived class can still call the constructor from the base class:\n",
    "\n"
   ]
  },
  {
   "cell_type": "code",
   "execution_count": 5,
   "metadata": {},
   "outputs": [],
   "source": [
    "\n",
    "class Book:\n",
    "    \"\"\" This class models a simple book \"\"\"\n",
    "\n",
    "    def __init__(self, name: str, author: str):\n",
    "        self.name = name\n",
    "        self.author = author\n",
    "\n",
    "\n",
    "class Thesis(Book):\n",
    "    \"\"\" This class models a graduate thesis \"\"\"\n",
    "\n",
    "    def __init__(self, name: str, author: str, grade: int):\n",
    "        super().__init__(name, author)\n",
    "        self.grade = grade\n"
   ]
  },
  {
   "cell_type": "markdown",
   "metadata": {},
   "source": [
    "The constructor in the Thesis class calls the constructor in the base class Book with the arguments for name and author. Additionally, the constructor in the derived class sets the value for the attribute grade. This naturally cannot be a part of the base class constructor, as the base class has no such attribute.\n",
    "\n",
    "The above class can be used like this:\n"
   ]
  },
  {
   "cell_type": "code",
   "execution_count": 6,
   "metadata": {},
   "outputs": [
    {
     "name": "stdout",
     "output_type": "stream",
     "text": [
      "Python and the Universe\n",
      "Peter Pythons\n",
      "3\n"
     ]
    }
   ],
   "source": [
    "\n",
    "if __name__ == \"__main__\":\n",
    "    thesis = Thesis(\"Python and the Universe\", \"Peter Pythons\", 3)\n",
    "\n",
    "    # Print out the values of the attributes\n",
    "    print(thesis.name)\n",
    "    print(thesis.author)\n",
    "    print(thesis.grade)\n"
   ]
  },
  {
   "cell_type": "markdown",
   "metadata": {},
   "source": [
    "\n",
    "Even if a derived class overrides a method in its base class, the derived class can still call the overridden method in the base class. In the following example we have a basic BonusCard and a special PlatinumCard for especially loyal customers. The calculate_bonus method is overridden in the derived class, but the overriding method calls the base method:\n",
    "\n"
   ]
  },
  {
   "cell_type": "code",
   "execution_count": 7,
   "metadata": {},
   "outputs": [],
   "source": [
    "\n",
    "class Product:\n",
    "\n",
    "    def __init__(self, name: str, price: float):\n",
    "        self.name = name\n",
    "        self.price = price\n",
    "\n",
    "class BonusCard:\n",
    "\n",
    "    def __init__(self):\n",
    "        self.products_bought = []\n",
    "\n",
    "    def add_product(self, product: Product):\n",
    "        self.products_bought.append(product)\n",
    "\n",
    "    def calculate_bonus(self):\n",
    "        bonus = 0\n",
    "        for product in self.products_bought:\n",
    "            bonus += product.price * 0.05\n",
    "\n",
    "        return bonus\n",
    "\n",
    "class PlatinumCard(BonusCard):\n",
    "\n",
    "    def __init__(self):\n",
    "        super().__init__()\n",
    "\n",
    "    def calculate_bonus(self):\n",
    "        # Call the method in the base class\n",
    "        bonus = super().calculate_bonus()\n",
    "\n",
    "        # ...and add five percent to the total\n",
    "        bonus = bonus * 1.05\n",
    "        return bonus\n"
   ]
  },
  {
   "cell_type": "markdown",
   "metadata": {},
   "source": [
    "So, the bonus for a PlatinumCard is calculated by calling the overriden method in the base class, and then adding an extra 5 percent to the base result. An example of how these classes are used:\n"
   ]
  },
  {
   "cell_type": "code",
   "execution_count": 8,
   "metadata": {},
   "outputs": [
    {
     "name": "stdout",
     "output_type": "stream",
     "text": [
      "0.7225\n",
      "0.7586250000000001\n"
     ]
    }
   ],
   "source": [
    "\n",
    "if __name__ == \"__main__\":\n",
    "    card = BonusCard()\n",
    "    card.add_product(Product(\"Bananas\", 6.50))\n",
    "    card.add_product(Product(\"Satsumas\", 7.95))\n",
    "    bonus = card.calculate_bonus()\n",
    "\n",
    "    card2 = PlatinumCard()\n",
    "    card2.add_product(Product(\"Bananas\", 6.50))\n",
    "    card2.add_product(Product(\"Satsumas\", 7.95))\n",
    "    bonus2 = card2.calculate_bonus()\n",
    "\n",
    "    print(bonus)\n",
    "    print(bonus2)"
   ]
  },
  {
   "attachments": {},
   "cell_type": "markdown",
   "metadata": {},
   "source": [
    "# Programming exercise:Laptop computer\n",
    "\n",
    "\n",
    "The exercise template contains a class definition for a Computer, which has the attributes model and speed.\n",
    "\n",
    "Please define a class named LaptopComputer which inherits the class Computer. The constructor of the new class should take a third argument: weight, of type integer.\n",
    "\n",
    "Please also include a __str__ method in your class definition. See the example below for the expected format of the string representation printed out.\n",
    "\n",
    "```python\n",
    "laptop = LaptopComputer(\"NoteBook Pro15\", 1500, 2)\n",
    "print(laptop)\n",
    "```\n",
    "Sample output\n",
    "```console\n",
    "NoteBook Pro15, 1500 MHz, 2 kg\n",
    "```"
   ]
  },
  {
   "cell_type": "code",
   "execution_count": 9,
   "metadata": {},
   "outputs": [
    {
     "name": "stdout",
     "output_type": "stream",
     "text": [
      "NoteBook Pro15, 1500, 2 Kg\n"
     ]
    }
   ],
   "source": [
    "# Write your solution here:\n",
    "class Computer:\n",
    "    def __init__(self, model: str, speed: int):\n",
    "        self.__model = model\n",
    "        self.__speed = speed\n",
    "\n",
    "    @property\n",
    "    def model(self):\n",
    "        return self.__model\n",
    "\n",
    "    @property\n",
    "    def speed(self):\n",
    "        return self.__speed\n",
    "    \n",
    "class LaptopComputer(Computer):\n",
    "    def __init__(self, model: str, speed: int, weight: int):\n",
    "        super().__init__(model, speed)\n",
    "        self.__weight = weight\n",
    "\n",
    "    def __str__(self) -> str:\n",
    "        return f\"{self.model}, {self.speed}, {self.__weight} Kg\"\n",
    "    \n",
    "laptop = LaptopComputer(\"NoteBook Pro15\", 1500, 2)\n",
    "print(laptop)"
   ]
  },
  {
   "attachments": {},
   "cell_type": "markdown",
   "metadata": {},
   "source": [
    "# Programming exercise:Game Museum\n",
    "\n",
    "\n",
    "The exercise template contains class definitions for a ComputerGame and a GameWarehouse. A GameWarehouse object is used to store ComputerGame objects.\n",
    "\n",
    "Please familiarize yourself with these classes. Then define a new class named GameMuseum which inherits the GameWarehouse class.\n",
    "\n",
    "The GameMuseum class should override the list_games() method, so that it returns a list of only those games which were made before the year 1990.\n",
    "\n",
    "The new class should also have a constructor which calls the constructor from the parent class GameWarehouse. The constructor takes no arguments.\n",
    "\n",
    "You may use the following code to test your implementation:\n",
    "\n",
    "```python\n",
    "museum = GameMuseum()\n",
    "museum.add_game(ComputerGame(\"Pacman\", \"Namco\", 1980))\n",
    "museum.add_game(ComputerGame(\"GTA 2\", \"Rockstar\", 1999))\n",
    "museum.add_game(ComputerGame(\"Bubble Bobble\", \"Taito\", 1986))\n",
    "for game in museum.list_games():\n",
    "    print(game.name)\n",
    "```\n",
    "Sample output\n",
    "```console\n",
    "Pacman\n",
    "Bubble Bobble\n",
    "```"
   ]
  },
  {
   "cell_type": "code",
   "execution_count": 11,
   "metadata": {},
   "outputs": [
    {
     "name": "stdout",
     "output_type": "stream",
     "text": [
      "Pacman\n",
      "Bubble Bobble\n"
     ]
    }
   ],
   "source": [
    "# TEE RATKAISUSI TÄHÄN:\n",
    "class ComputerGame:\n",
    "    def __init__(self, name: str, publisher: str, year: int):\n",
    "        self.name = name\n",
    "        self.publisher = publisher\n",
    "        self.year = year\n",
    "\n",
    "class GameWarehouse:\n",
    "    def __init__(self):\n",
    "        self.__games = []\n",
    "\n",
    "    def add_game(self, game: ComputerGame):\n",
    "        self.__games.append(game)\n",
    "\n",
    "    def list_games(self):\n",
    "        return self.__games\n",
    "    \n",
    "class GameMuseum(GameWarehouse):\n",
    "    def __init__(self):\n",
    "        super().__init__()\n",
    "\n",
    "    def list_games(self):\n",
    "        game_list = super().list_games()\n",
    "\n",
    "        new_game_list = []\n",
    "        for item in game_list:\n",
    "            if item.year < 1990:\n",
    "                new_game_list.append(item)\n",
    "\n",
    "        return new_game_list\n",
    "\n",
    "museum = GameMuseum()\n",
    "museum.add_game(ComputerGame(\"Pacman\", \"Namco\", 1980))\n",
    "museum.add_game(ComputerGame(\"GTA 2\", \"Rockstar\", 1999))\n",
    "museum.add_game(ComputerGame(\"Bubble Bobble\", \"Taito\", 1986))\n",
    "for game in museum.list_games():\n",
    "    print(game.name)"
   ]
  },
  {
   "attachments": {},
   "cell_type": "markdown",
   "metadata": {},
   "source": [
    "# Programming exercise:Areas\n",
    "\n",
    "\n",
    "The exercise template contains a class definition for a Rectangle. It represents a rectangle shape. A Rectangle works like this:\n",
    "\n",
    "```python\n",
    "rectangle = Rectangle(2, 3)\n",
    "print(rectangle)\n",
    "print(\"area:\", rectangle.area())\n",
    "```\n",
    "Sample output\n",
    "```console\n",
    "rectangle 2x3\n",
    "area: 6\n",
    "```\n",
    "\n",
    "## Square\n",
    "Please define a class named Square which inherits the Rectangle class. The sides of a square are all of equal length, which makes the square a special case of the rectangle. The new class should not contain any new attributes.\n",
    "\n",
    "A Square object is used as follows:\n",
    "\n",
    "```python\n",
    "square = Square(4)\n",
    "print(square)\n",
    "print(\"area:\", square.area())\n",
    "```\n",
    "Sample output\n",
    "```console\n",
    "square 4x4\n",
    "area: 16\n",
    "```"
   ]
  },
  {
   "cell_type": "code",
   "execution_count": 1,
   "metadata": {},
   "outputs": [
    {
     "name": "stdout",
     "output_type": "stream",
     "text": [
      "rectangle 2x3\n",
      "area: 6\n",
      "square 4x4\n",
      "area: 16\n"
     ]
    }
   ],
   "source": [
    "# Write your solution here!\n",
    "class Rectangle:\n",
    "    def __init__(self, width: int, height: int):\n",
    "        self.width = width\n",
    "        self.height = height\n",
    "\n",
    "    def __str__(self):\n",
    "        return f\"rectangle {self.width}x{self.height}\"\n",
    "\n",
    "    def area(self):\n",
    "        return self.width * self.height\n",
    "    \n",
    "class Square(Rectangle):\n",
    "    def __init__(self, side: int):\n",
    "        super().__init__(side, side)\n",
    "\n",
    "    def __str__(self):\n",
    "        return f\"square {self.width}x{self.height}\"\n",
    "    \n",
    "\n",
    "rectangle = Rectangle(2, 3)\n",
    "print(rectangle)\n",
    "print(\"area:\", rectangle.area())\n",
    "\n",
    "square = Square(4)\n",
    "print(square)\n",
    "print(\"area:\", square.area())"
   ]
  },
  {
   "attachments": {},
   "cell_type": "markdown",
   "metadata": {},
   "source": [
    "# Programming exercise:Word game\n",
    "\n",
    "\n",
    "NB: Some exercises have multiple parts, and you can receive points for the different parts separately. You can submit a partially completed exercise by choosing 'Submit Solution' from the menu next to the button for executing tests .\n",
    "\n",
    "The exercise template contains the class definition for a WordGame. It provides some basic functionality for playing different word-based games:\n",
    "\n",
    "```python\n",
    "import random\n",
    "\n",
    "class WordGame():\n",
    "    def __init__(self, rounds: int):\n",
    "        self.wins1 = 0\n",
    "        self.wins2 = 0\n",
    "        self.rounds = rounds\n",
    "\n",
    "    def round_winner(self, player1_word: str, player2_word: str):\n",
    "        # determine a random winner\n",
    "        return random.randint(1, 2)\n",
    "\n",
    "    def play(self):\n",
    "        print(\"Word game:\")\n",
    "        for i in range(1, self.rounds+1):\n",
    "            print(f\"round {i}\")\n",
    "            answer1 = input(\"player1: \")\n",
    "            answer2 = input(\"player2: \")\n",
    "\n",
    "            if self.round_winner(answer1, answer2) == 1:\n",
    "                self.wins1 += 1\n",
    "                print(\"player 1 won\")\n",
    "            elif self.round_winner(answer1, answer2) == 2:\n",
    "                self.wins2 += 1\n",
    "                print(\"player 2 won\")\n",
    "            else:\n",
    "                pass # it's a tie\n",
    "\n",
    "        print(\"game over, wins:\")\n",
    "        print(f\"player 1: {self.wins1}\")\n",
    "        print(f\"player 2: {self.wins2}\")\n",
    "```\n",
    "The game is played as follows:\n",
    "\n",
    "```python\n",
    "p = WordGame(3)\n",
    "p.play()\n",
    "```\n",
    "Sample output\n",
    "```console\n",
    "Word game:\n",
    "round 1\n",
    "player1: longword\n",
    "player2: ??\n",
    "player 2 won\n",
    "round 2\n",
    "player1: i'm the best\n",
    "player2: wut?\n",
    "player 1 won\n",
    "round 3\n",
    "player1: who's gonna win\n",
    "player2: me\n",
    "player 1 won\n",
    "game over, wins:\n",
    "player 1: 2\n",
    "player 2: 1\n",
    "```\n",
    "\n",
    "In this \"basic\" version of the game the winner is determined randomly. The input from the players has no effect on the result.\n",
    "\n",
    "## Longest word wins\n",
    "Please define a class named LongestWord. It is a version of the game where whoever types in the longest word on each round wins.\n",
    "\n",
    "The new version of the game is implemented by inheriting the WordGame class. The round_winner method should also be suitably overridden. The outline of the new class is as follows:\n",
    "\n",
    "```python\n",
    "class LongestWord(WordGame):\n",
    "    def __init__(self, rounds: int):\n",
    "        super().__init__(rounds)\n",
    "\n",
    "    def round_winner(self, player1_word: str, player2_word: str):\n",
    "        # your code for determining the winner goes here\n",
    "```\n",
    "An example of how the new game is played:\n",
    "\n",
    "```python\n",
    "p = LongestWord(3)\n",
    "p.play()\n",
    "```\n",
    "Sample output\n",
    "Word game:\n",
    "round 1\n",
    "player1: short\n",
    "player2: longword\n",
    "player 2 won\n",
    "round 2\n",
    "player1: word\n",
    "player2: wut?\n",
    "round 3\n",
    "player1: i'm the best\n",
    "player2: no, me\n",
    "player 1 won\n",
    "game over, wins:\n",
    "player 1: 1\n",
    "player 2: 1"
   ]
  },
  {
   "cell_type": "code",
   "execution_count": 3,
   "metadata": {},
   "outputs": [
    {
     "name": "stdout",
     "output_type": "stream",
     "text": [
      "Word game:\n",
      "round 1\n",
      "player 2 won\n",
      "round 2\n",
      "player 1 won\n",
      "round 3\n",
      "player 1 won\n",
      "game over, wins:\n",
      "player 1: 2\n",
      "player 2: 1\n"
     ]
    }
   ],
   "source": [
    "import random\n",
    "\n",
    "class WordGame():\n",
    "    def __init__(self, rounds: int):\n",
    "        self.wins1 = 0\n",
    "        self.wins2 = 0\n",
    "        self.rounds = rounds\n",
    "\n",
    "    def round_winner(self, player1_word: str, player2_word: str):\n",
    "        # determine a random winner\n",
    "        return random.randint(1, 2)\n",
    "\n",
    "    def play(self):\n",
    "        print(\"Word game:\")\n",
    "        for i in range(1, self.rounds+1):\n",
    "            print(f\"round {i}\")\n",
    "            answer1 = input(\"player1: \")\n",
    "            answer2 = input(\"player2: \")\n",
    "\n",
    "            if self.round_winner(answer1, answer2) == 1:\n",
    "                self.wins1 += 1\n",
    "                print(\"player 1 won\")\n",
    "            elif self.round_winner(answer1, answer2) == 2:\n",
    "                self.wins2 += 1\n",
    "                print(\"player 2 won\")\n",
    "            else:\n",
    "                pass # it's a tie\n",
    "\n",
    "        print(\"game over, wins:\")\n",
    "        print(f\"player 1: {self.wins1}\")\n",
    "        print(f\"player 2: {self.wins2}\")\n",
    "\n",
    "class LongestWord(WordGame):\n",
    "    def __init__(self, rounds: int):\n",
    "        super().__init__(rounds)\n",
    "\n",
    "    def round_winner(self, player1_word: str, player2_word: str):\n",
    "        # your code for determining the winner goes here\n",
    "        if len(player1_word) > len(player2_word):\n",
    "            return 1\n",
    "        else:\n",
    "            return 2\n",
    "        \n",
    "    \n",
    "p = LongestWord(3)\n",
    "p.play()\n"
   ]
  },
  {
   "attachments": {},
   "cell_type": "markdown",
   "metadata": {},
   "source": [
    "## Most vowels wins\n",
    "Please define another WordGame class named MostVowels. In this version of the game whoever has squeezed more vowels into their word wins the round."
   ]
  },
  {
   "cell_type": "code",
   "execution_count": 4,
   "metadata": {},
   "outputs": [
    {
     "name": "stdout",
     "output_type": "stream",
     "text": [
      "Word game:\n",
      "round 1\n",
      "player 2 won\n",
      "round 2\n",
      "player 1 won\n",
      "round 3\n",
      "player 2 won\n",
      "game over, wins:\n",
      "player 1: 1\n",
      "player 2: 2\n"
     ]
    }
   ],
   "source": [
    "class MostVowels(WordGame):\n",
    "    def __init__(self, rounds: int):\n",
    "        super().__init__(rounds)\n",
    "\n",
    "    \n",
    "    def most_vowels(self, word: str):\n",
    "        vowel_count = 0\n",
    "\n",
    "        for char in word:\n",
    "            if char in \"aeiou\":\n",
    "                vowel_count += 1\n",
    "        \n",
    "        return vowel_count\n",
    "    \n",
    "    def round_winner(self, player1_word: str, player2_word: str):\n",
    "        # your code for determining the winner goes here\n",
    "        if self.most_vowels(player1_word) > self.most_vowels(player2_word):\n",
    "            return 1\n",
    "        else:\n",
    "            return 2\n",
    "        \n",
    "p = MostVowels(3)\n",
    "p.play()\n"
   ]
  },
  {
   "attachments": {},
   "cell_type": "markdown",
   "metadata": {},
   "source": [
    "## Rock paper scissors\n",
    "Finally, please define a class named RockPaperScissors which allows you to play a game of rock paper scissors.\n",
    "\n",
    "The rules of the game are as follows:\n",
    "\n",
    "rock beats scissors (the rock can break the scissors but the scissors can't cut the rock)\n",
    "paper beats rock (the paper can cover the rock)\n",
    "scissors beats paper (the scissors can cut the paper)\n",
    "If the input from either player is invalid, they lose the round. If both players type in something else than rock, paper or scissors, the result is a tie.\n",
    "\n",
    "An example of how the game is played:\n",
    "\n",
    "```python\n",
    "p = RockPaperScissors(4)\n",
    "p.play()\n",
    "```\n",
    "Sample output\n",
    "```console\n",
    "Word game:\n",
    "round 1\n",
    "player1: rock\n",
    "player2: rock\n",
    "round 2\n",
    "player1: rock\n",
    "player2: paper\n",
    "player 2 won\n",
    "round 3\n",
    "player1: scissors\n",
    "player2: paper\n",
    "player 1 won\n",
    "round 4\n",
    "player1: paper\n",
    "player2: dynamite\n",
    "player 1 won\n",
    "game over, wins:\n",
    "player 1: 2\n",
    "player 2: 1\n",
    "```"
   ]
  },
  {
   "cell_type": "code",
   "execution_count": 7,
   "metadata": {},
   "outputs": [
    {
     "name": "stdout",
     "output_type": "stream",
     "text": [
      "Word game:\n",
      "round 1\n",
      "round 2\n",
      "player 1 won\n",
      "round 3\n",
      "player 1 won\n",
      "round 4\n",
      "player 1 won\n",
      "game over, wins:\n",
      "player 1: 3\n",
      "player 2: 0\n"
     ]
    }
   ],
   "source": [
    "class RockPaperScissors(WordGame):\n",
    "    def __init__(self, rounds: int):\n",
    "        super().__init__(rounds)\n",
    "\n",
    "    def round_winner(self, player1_word: str, player2_word: str):\n",
    "        # your code for determining the winner goes here\n",
    "        if player1_word == \"rock\":\n",
    "            if player2_word == \"rock\":\n",
    "                return 3\n",
    "            elif player2_word == \"paper\":\n",
    "                return 2\n",
    "            elif player2_word == \"scissors\":\n",
    "                return 1\n",
    "            else:\n",
    "                return 1\n",
    "            \n",
    "        if player1_word == \"paper\":\n",
    "            if player2_word == \"rock\":\n",
    "                return 1\n",
    "            elif player2_word == \"paper\":\n",
    "                return 3\n",
    "            elif player2_word == \"scissors\":\n",
    "                return 2\n",
    "            else:\n",
    "                return 1\n",
    "            \n",
    "        if player1_word == \"scissors\":\n",
    "            if player2_word == \"rock\":\n",
    "                return 2\n",
    "            elif player2_word == \"paper\":\n",
    "                return 1\n",
    "            elif player2_word == \"scissors\":\n",
    "                return 3\n",
    "            else:\n",
    "                return 1\n",
    "            \n",
    "        if player1_word not in [\"rock\", \"paper\", \"scissors\"]:\n",
    "            return 2\n",
    "            \n",
    "p = RockPaperScissors(4)\n",
    "p.play()"
   ]
  },
  {
   "cell_type": "code",
   "execution_count": null,
   "metadata": {},
   "outputs": [],
   "source": []
  }
 ],
 "metadata": {
  "kernelspec": {
   "display_name": ".venv",
   "language": "python",
   "name": "python3"
  },
  "language_info": {
   "codemirror_mode": {
    "name": "ipython",
    "version": 3
   },
   "file_extension": ".py",
   "mimetype": "text/x-python",
   "name": "python",
   "nbconvert_exporter": "python",
   "pygments_lexer": "ipython3",
   "version": "3.10.10"
  },
  "orig_nbformat": 4
 },
 "nbformat": 4,
 "nbformat_minor": 2
}
