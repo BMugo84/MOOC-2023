{
 "cells": [
  {
   "attachments": {},
   "cell_type": "markdown",
   "metadata": {},
   "source": [
    "# Object oriented programming techniques\n",
    "Learning objectives\n",
    "After this section\n",
    "\n",
    "* You will be familiar with some of the different uses for the variable name self\n",
    "* You will know how to overload operators in your own classes\n",
    "* You will be able to create an iterable class"
   ]
  },
  {
   "attachments": {},
   "cell_type": "markdown",
   "metadata": {},
   "source": [
    "A class can contain a method which returns an object of the very same class. For example, below we have the class Product, whose method product_on_sale returns a new Product object with the same name as the original but with a price which is 25 % lower:\n"
   ]
  },
  {
   "cell_type": "code",
   "execution_count": 1,
   "metadata": {},
   "outputs": [
    {
     "name": "stdout",
     "output_type": "stream",
     "text": [
      "Apple (price 2.99)\n",
      "Apple (price 2.2425)\n"
     ]
    }
   ],
   "source": [
    "\n",
    "class Product:\n",
    "    def __init__(self, name: str, price: float):\n",
    "        self.__name = name\n",
    "        self.__price = price\n",
    "\n",
    "    def __str__(self):\n",
    "        return f\"{self.__name} (price {self.__price})\"\n",
    "\n",
    "    def product_on_sale(self):\n",
    "        on_sale = Product(self.__name, self.__price * 0.75)\n",
    "        return on_sale\n",
    "apple1 = Product(\"Apple\", 2.99)\n",
    "apple2 = apple1.product_on_sale()\n",
    "print(apple1)\n",
    "print(apple2)\n"
   ]
  },
  {
   "cell_type": "markdown",
   "metadata": {},
   "source": [
    "\n",
    "Let's review the purpose of the variable self: within a class definition it refers to the object itself. Typically it is used to refer to the object's own traits, its attributes and methods. The variable can be used to refer to the entire object as well, for example if the object itself needs to be returned to the client code. In the example below we've added the method cheaper to the class definition. It takes another Product as its argument and returns the cheaper of the two:\n"
   ]
  },
  {
   "cell_type": "code",
   "execution_count": 2,
   "metadata": {},
   "outputs": [
    {
     "name": "stdout",
     "output_type": "stream",
     "text": [
      "Apple (price 2.99)\n",
      "Orange (price 3.95)\n"
     ]
    }
   ],
   "source": [
    "\n",
    "class Product:\n",
    "    def __init__(self, name: str, price: float):\n",
    "        self.__name = name\n",
    "        self.__price = price\n",
    "\n",
    "    def __str__(self):\n",
    "        return f\"{self.__name} (price {self.__price})\"\n",
    "\n",
    "    @property\n",
    "    def price(self):\n",
    "        return self.__price\n",
    "\n",
    "    def cheaper(self, Product):\n",
    "        if self.__price < Product.price:\n",
    "            return self\n",
    "        else:\n",
    "            return Product\n",
    "apple = Product(\"Apple\", 2.99)\n",
    "orange = Product(\"Orange\", 3.95)\n",
    "banana = Product(\"Banana\", 5.25)\n",
    "\n",
    "print(orange.cheaper(apple))\n",
    "print(orange.cheaper(banana))\n"
   ]
  },
  {
   "cell_type": "markdown",
   "metadata": {},
   "source": [
    "Sample output\n",
    "Apple (2.99)\n",
    "Orange (3.95)\n"
   ]
  },
  {
   "cell_type": "markdown",
   "metadata": {},
   "source": [
    "\n",
    "While this works just fine, it is a very specialised case of comparing two objects. It would be better if we could use the Python comparison operators directly on these Product objects.\n"
   ]
  },
  {
   "cell_type": "markdown",
   "metadata": {},
   "source": [
    "\n",
    "Overloading operators\n",
    "Python contains some specially named built-in methods for working with the standard arithmetic and comparison operators. The technique is called operator overloading. If you want to be able to use a certain operator on instances of self-defined classes, you can write a special method which returns the correct result of the operator. We have already used this technique with the __str__ method: Python knows to look for a method named like this when a string representation of an object is called for.\n",
    "\n",
    "Let's start with the operator > which tells us if the first operand is greater than the second. The Product class definition below contains the method __gt__, which is short for greater than. This specially named method should return the correct result of the comparison. Specifically, it should return True if and only if the current object is greater than the object passed as an argument. The criteria used can be determined by the programmer. By current object we mean the object on which the method is called with the dot . notation.\n"
   ]
  },
  {
   "cell_type": "code",
   "execution_count": 3,
   "metadata": {},
   "outputs": [],
   "source": [
    "\n",
    "class Product:\n",
    "    def __init__(self, name: str, price: float):\n",
    "        self.__name = name\n",
    "        self.__price = price\n",
    "\n",
    "    def __str__(self):\n",
    "        return f\"{self.__name} (price {self.__price})\"\n",
    "\n",
    "    @property\n",
    "    def price(self):\n",
    "        return self.__price\n",
    "\n",
    "    def __gt__(self, another_product):\n",
    "        return self.price > another_product.price\n"
   ]
  },
  {
   "cell_type": "markdown",
   "metadata": {},
   "source": [
    "In the implementation above, the method __gt__ returns True if the price of the current product is greater than the price of the product passed as an argument. Otherwise the method returns False.\n",
    "\n",
    "Now the comparison operator > is available for use with objects of type Product:\n"
   ]
  },
  {
   "cell_type": "code",
   "execution_count": 4,
   "metadata": {},
   "outputs": [
    {
     "name": "stdout",
     "output_type": "stream",
     "text": [
      "Apple is greater\n"
     ]
    }
   ],
   "source": [
    "\n",
    "orange = Product(\"Orange\", 2.90)\n",
    "apple = Product(\"Apple\", 3.95)\n",
    "\n",
    "if orange > apple:\n",
    "    print(\"Orange is greater\")\n",
    "else:\n",
    "    print(\"Apple is greater\")\n"
   ]
  },
  {
   "cell_type": "markdown",
   "metadata": {},
   "source": [
    "\n",
    "As stated above, it is up to the programmer to determine the criteria by which it is decided which is greater and which is lesser. We could, for instance, decide that the order should not be based on price, but be alphabetical by name instead. This would mean that orange would now be \"greater than\" apple, as \"orange\" comes alphabetically last.\n"
   ]
  },
  {
   "cell_type": "code",
   "execution_count": 5,
   "metadata": {},
   "outputs": [
    {
     "name": "stdout",
     "output_type": "stream",
     "text": [
      "Orange is greater\n"
     ]
    }
   ],
   "source": [
    "\n",
    "class Product:\n",
    "    def __init__(self, name: str, price: float):\n",
    "        self.__name = name\n",
    "        self.__price = price\n",
    "\n",
    "    def __str__(self):\n",
    "        return f\"{self.__name} (price {self.__price})\"\n",
    "\n",
    "    @property\n",
    "    def price(self):\n",
    "        return self.__price\n",
    "\n",
    "    @property\n",
    "    def name(self):\n",
    "        return self.__name\n",
    "\n",
    "    def __gt__(self, another_product):\n",
    "        return self.name > another_product.name\n",
    "Orange = Product(\"Orange\", 4.90)\n",
    "Apple = Product(\"Apple\", 3.95)\n",
    "\n",
    "if Orange > Apple:\n",
    "    print(\"Orange is greater\")\n",
    "else:\n",
    "    print(\"Apple is greater\")\n"
   ]
  },
  {
   "cell_type": "markdown",
   "metadata": {},
   "source": [
    "\n",
    "More operators\n",
    "Here we have a table containing the standard comparison operators, along with the methods which need to be implemented if we want to make them available for use on our objects:\n"
   ]
  },
  {
   "attachments": {},
   "cell_type": "markdown",
   "metadata": {},
   "source": [
    "\n",
    "\n",
    "\n",
    "| Operator | Traditional meaning    | Name of method           |\n",
    "| -------- | ---------------------- | ------------------------ |\n",
    "| <        | Less than              | `__lt__(self, another)`  |\n",
    "| >        | Greater than           | `__gt__(self, another)`  |\n",
    "| ==       | Equal to               | `__eq__(self, another)`  |\n",
    "| !=       | Not equal to           | `__ne__(self, another)`  |\n",
    "| <=       | Less than or equal to  | `__le__(self, another)`  |\n",
    "| >=       | Greater than or equal to | `__ge__(self, another)`  |\n",
    "\n",
    "\n"
   ]
  },
  {
   "attachments": {},
   "cell_type": "markdown",
   "metadata": {},
   "source": [
    "\n",
    "\n",
    "| Operator | Traditional meaning             | Name of method                 |\n",
    "| -------- | ------------------------------- | ------------------------------ |\n",
    "| +        | Addition                        | `__add__(self, another)`       |\n",
    "| -        | Subtraction                     | `__sub__(self, another)`       |\n",
    "| *        | Multiplication                  | `__mul__(self, another)`       |\n",
    "| /        | Division (floating point result) | `__truediv__(self, another)`   |\n",
    "| //       | Division (integer result)        | `__floordiv__(self, another)`  |\n",
    "\n",
    "\n"
   ]
  },
  {
   "cell_type": "markdown",
   "metadata": {},
   "source": [
    "More operators and method names are easily found online. Remember also the dir command for listing the methods available for use on a given object.\n",
    "\n",
    "It is very rarely necessary to implement all the arithmetic and comparison operators in your own classes. For example, division is an operation which rarely makes sense outside numerical objects. What would be the result of dividing a Student object by three, or by another Student object? Nevertheless, some of these operators are often very useful with also your own classes. The selection of methods to implement depends on what makes sense, knowing the properties of your objects.\n",
    "\n",
    "Let's have a look at a class which models a single note. If we implement the __add__ method within our class definition, the addition operator + becomes available on our Note objects:\n"
   ]
  },
  {
   "cell_type": "code",
   "execution_count": 6,
   "metadata": {},
   "outputs": [
    {
     "name": "stdout",
     "output_type": "stream",
     "text": [
      "2023-07-02 19:27:34.067331: Remember to buy presents and Remember to get a tree\n"
     ]
    }
   ],
   "source": [
    "\n",
    "from datetime import datetime\n",
    "\n",
    "class Note:\n",
    "    def __init__(self, entry_date: datetime, entry: str):\n",
    "        self.entry_date = entry_date\n",
    "        self.entry = entry\n",
    "\n",
    "    def __str__(self):\n",
    "        return f\"{self.entry_date}: {self.entry}\"\n",
    "\n",
    "    def __add__(self, another):\n",
    "        # The date of the new note is the current time\n",
    "        new_note = Note(datetime.now(), \"\")\n",
    "        new_note.entry = self.entry + \" and \" + another.entry\n",
    "        return new_note\n",
    "entry1 = Note(datetime(2016, 12, 17), \"Remember to buy presents\")\n",
    "entry2 = Note(datetime(2016, 12, 23), \"Remember to get a tree\")\n",
    "\n",
    "# These notes can be added together with the + operator\n",
    "# This calls the  __add__ method in the Note class\n",
    "both = entry1 + entry2\n",
    "print(both)\n"
   ]
  },
  {
   "attachments": {},
   "cell_type": "markdown",
   "metadata": {},
   "source": [
    "\n",
    "# A string representation of an object\n",
    "You have already implemented quite a few __str__ methods in your classes. As you know, the method returns a string representation of the object. Another quite similar method is __repr__ which returns a technical representation of the object. The method __repr__ is often implemented so that it returns the program code which can be executed to return an object with identical contents to the current object.\n",
    "\n",
    "The function repr returns this technical string representation of the object. The technical representation is used also whenever the __str__ method has not been defined for the object. The example below will make this clearer:\n"
   ]
  },
  {
   "cell_type": "code",
   "execution_count": 7,
   "metadata": {},
   "outputs": [
    {
     "name": "stdout",
     "output_type": "stream",
     "text": [
      "Person('Anna', 25)\n",
      "Person('Peter', 99)\n"
     ]
    }
   ],
   "source": [
    "\n",
    "class Person:\n",
    "    def __init__(self, name: str, age: int):\n",
    "        self.name = name\n",
    "        self.age = age\n",
    "        \n",
    "    def __repr__(self):\n",
    "        return f\"Person({repr(self.name)}, {self.age})\"\n",
    "person1 = Person(\"Anna\", 25)\n",
    "person2 = Person(\"Peter\", 99)\n",
    "print(person1)\n",
    "print(person2)\n"
   ]
  },
  {
   "cell_type": "markdown",
   "metadata": {},
   "source": [
    "\n",
    "Notice how the __repr__ method itself uses the repr function to retrieve the technical representation of the string. This is necessary to include the ' characters in the result.\n",
    "\n",
    "The following class has definitions for both __repr__ and __str__:\n"
   ]
  },
  {
   "cell_type": "code",
   "execution_count": 8,
   "metadata": {},
   "outputs": [
    {
     "name": "stdout",
     "output_type": "stream",
     "text": [
      "Anna (25 years)\n",
      "Person('Anna', 25)\n"
     ]
    }
   ],
   "source": [
    "\n",
    "class Person:\n",
    "    def __init__(self, name: str, age: int):\n",
    "        self.name = name\n",
    "        self.age = age\n",
    "        \n",
    "    def __repr__(self):\n",
    "        return f\"Person({repr(self.name)}, {self.age})\"\n",
    "\n",
    "    def __str__(self):\n",
    "        return f\"{self.name} ({self.age} years)\"\n",
    "Person = Person(\"Anna\", 25)\n",
    "print(Person)\n",
    "print(repr(Person))\n"
   ]
  },
  {
   "cell_type": "markdown",
   "metadata": {},
   "source": [
    "Sample output\n",
    "Anna (25 years)\n",
    "Person('Anna', 25)\n"
   ]
  },
  {
   "cell_type": "markdown",
   "metadata": {},
   "source": [
    "\n",
    "It is worth mentioning that with data structures, such as lists, Python always uses the __repr__ method for the string representation of the contents. This can sometimes look a bit baffling:\n"
   ]
  },
  {
   "cell_type": "code",
   "execution_count": 12,
   "metadata": {},
   "outputs": [
    {
     "name": "stdout",
     "output_type": "stream",
     "text": [
      "[Person('Anna', 25), Person('Peter', 99), Person('Mary', 55)]\n"
     ]
    }
   ],
   "source": [
    "class Person:\n",
    "    def __init__(self, name: str, age: int):\n",
    "        self.name = name\n",
    "        self.age = age\n",
    "        \n",
    "    def __repr__(self):\n",
    "        return f\"Person({repr(self.name)}, {self.age})\"\n",
    "\n",
    "    def __str__(self):\n",
    "        return f\"{self.name} ({self.age} years)\"\n",
    "\n",
    "persons = []\n",
    "persons.append(Person(\"Anna\", 25))\n",
    "persons.append(Person(\"Peter\", 99))\n",
    "persons.append(Person(\"Mary\", 55))\n",
    "print(persons)\n"
   ]
  },
  {
   "cell_type": "markdown",
   "metadata": {},
   "source": [
    "Sample output\n",
    "[Person('Anna', 25), Person('Peter', 99), Person('Mary', 55)]"
   ]
  },
  {
   "attachments": {},
   "cell_type": "markdown",
   "metadata": {},
   "source": [
    "# Programming exercise:Money\n",
    "\n",
    "\n",
    "The exercise template contains an outline for a class named Money. This exercise asks you to implement some additional methods and to fix some small problems in the template.\n",
    "\n",
    "## Fix the string representation\n",
    "The __str__ method in the class definition doesn't work quite right. Given the following two Money objects, the latter is printed out wrong:\n",
    "\n",
    "e1 = Money(4, 10)\n",
    "e2 = Money(2, 5)  # two euros and five cents\n",
    "\n",
    "print(e1)\n",
    "print(e2)\n",
    "Sample output\n",
    "4.10\n",
    "2.5\n",
    "\n",
    "Please fix the method so that it prints out\n",
    "\n",
    "Sample output\n",
    "4.10 eur\n",
    "2.05 eur"
   ]
  },
  {
   "cell_type": "code",
   "execution_count": 15,
   "metadata": {},
   "outputs": [
    {
     "name": "stdout",
     "output_type": "stream",
     "text": [
      "4.10 eur\n",
      "2.05 eur\n"
     ]
    }
   ],
   "source": [
    "# TEE RATKAISUSI TÄHÄN:\n",
    "class Money:\n",
    "    def __init__(self, euros: int, cents: int):\n",
    "        self.__euros = euros\n",
    "        self.__cents = cents\n",
    "\n",
    "    def __get_money(self):\n",
    "        pass\n",
    "\n",
    "    def __str__(self):\n",
    "        eur = self.__euros + self.__cents/100\n",
    "        return f\"{eur:.2f} eur\"\n",
    "\n",
    "    def __eq__(self, another: 'Money'):\n",
    "        pass\n",
    "\n",
    "    def __lt__(self, another: 'Money'):\n",
    "        pass\n",
    "\n",
    "    def __gt__(self, another: 'Money'):\n",
    "        pass\n",
    "\n",
    "    def __ne__(self, another: 'Money'):\n",
    "        pass\n",
    "\n",
    "    def __add__(self, another: 'Money'):\n",
    "        pass\n",
    "\n",
    "\n",
    "    def __sub__(self, another: 'Money'):\n",
    "        pass\n",
    "\n",
    "\n",
    "e1 = Money(4, 10)\n",
    "e2 = Money(2, 5)  # two euros and five cents\n",
    "\n",
    "print(e1)\n",
    "print(e2)"
   ]
  },
  {
   "attachments": {},
   "cell_type": "markdown",
   "metadata": {},
   "source": [
    "## Equal amounts\n",
    "Please define a new method named __eq__(self, another) which allows you to use the == comparison operator on Money objects. You can test your implementation with the following code:\n",
    "\n",
    "```python\n",
    "e1 = Money(4, 10)\n",
    "e2 = Money(2, 5)\n",
    "e3 = Money(4, 10)\n",
    "\n",
    "print(e1)\n",
    "print(e2)\n",
    "print(e3)\n",
    "print(e1 == e2)\n",
    "print(e1 == e3)\n",
    "```\n",
    "Sample output\n",
    "```console\n",
    "4.10 eur\n",
    "2.05 eur\n",
    "4.10 eur\n",
    "False\n",
    "True\n",
    "```"
   ]
  },
  {
   "cell_type": "code",
   "execution_count": 17,
   "metadata": {},
   "outputs": [
    {
     "name": "stdout",
     "output_type": "stream",
     "text": [
      "4.10 eur\n",
      "2.05 eur\n",
      "4.10 eur\n",
      "False\n",
      "True\n"
     ]
    }
   ],
   "source": [
    "# TEE RATKAISUSI TÄHÄN:\n",
    "class Money:\n",
    "    def __init__(self, euros: int, cents: int):\n",
    "        self.__euros = euros\n",
    "        self.__cents = cents\n",
    "\n",
    "    def __get_money(self):\n",
    "        return self.__euros + (self.__cents/100)\n",
    "\n",
    "    def __str__(self):\n",
    "        eur = self.__euros + self.__cents/100\n",
    "        return f\"{eur:.2f} eur\"\n",
    "\n",
    "    def __eq__(self, another: 'Money'):\n",
    "        return self.__euros == another.__euros\n",
    "\n",
    "    def __lt__(self, another: 'Money'):\n",
    "        pass\n",
    "\n",
    "    def __gt__(self, another: 'Money'):\n",
    "        pass\n",
    "\n",
    "    def __ne__(self, another: 'Money'):\n",
    "        pass\n",
    "\n",
    "    def __add__(self, another: 'Money'):\n",
    "        pass\n",
    "\n",
    "\n",
    "    def __sub__(self, another: 'Money'):\n",
    "        pass\n",
    "\n",
    "\n",
    "e1 = Money(4, 10)\n",
    "e2 = Money(2, 5)\n",
    "e3 = Money(4, 10)\n",
    "\n",
    "print(e1)\n",
    "print(e2)\n",
    "print(e3)\n",
    "print(e1 == e2)\n",
    "print(e1 == e3)"
   ]
  },
  {
   "attachments": {},
   "cell_type": "markdown",
   "metadata": {},
   "source": [
    "## Other comparison operators\n",
    "Please implement the appropriate methods for the comparison operators <, > and !=.\n",
    "\n",
    "```python\n",
    "e1 = Money(4, 10)\n",
    "e2 = Money(2, 5)\n",
    "\n",
    "print(e1 != e2)\n",
    "print(e1 < e2)\n",
    "print(e1 > e2)\n",
    "```\n",
    "Sample output\n",
    "```console\n",
    "True\n",
    "False\n",
    "True\n",
    "```"
   ]
  },
  {
   "cell_type": "code",
   "execution_count": 19,
   "metadata": {},
   "outputs": [
    {
     "name": "stdout",
     "output_type": "stream",
     "text": [
      "True\n",
      "False\n",
      "True\n"
     ]
    }
   ],
   "source": [
    "# TEE RATKAISUSI TÄHÄN:\n",
    "class Money:\n",
    "    def __init__(self, euros: int, cents: int):\n",
    "        self.__euros = euros\n",
    "        self.__cents = cents\n",
    "\n",
    "    def __get_money(self):\n",
    "        return self.__euros + (self.__cents/100)\n",
    "\n",
    "    def __str__(self):\n",
    "        eur = self.__euros + self.__cents/100\n",
    "        return f\"{eur:.2f} eur\"\n",
    "\n",
    "    def __eq__(self, another: 'Money'):\n",
    "        return self.__euros == another.__euros\n",
    "\n",
    "    def __lt__(self, another: 'Money'):\n",
    "        return self.__euros < another.__euros\n",
    "\n",
    "    def __gt__(self, another: 'Money'):\n",
    "        return self.__euros > another.__euros\n",
    "\n",
    "    def __ne__(self, another: 'Money'):\n",
    "        return self.__euros != another.__euros\n",
    "\n",
    "    def __add__(self, another: 'Money'):\n",
    "        pass\n",
    "\n",
    "\n",
    "    def __sub__(self, another: 'Money'):\n",
    "        pass\n",
    "\n",
    "\n",
    "e1 = Money(4, 10)\n",
    "e2 = Money(2, 5)\n",
    "e3 = Money(4, 10)\n",
    "\n",
    "e1 = Money(4, 10)\n",
    "e2 = Money(2, 5)\n",
    "\n",
    "print(e1 != e2)\n",
    "print(e1 < e2)\n",
    "print(e1 > e2)"
   ]
  },
  {
   "attachments": {},
   "cell_type": "markdown",
   "metadata": {},
   "source": [
    "## Addition and subtraction\n",
    "Please implement the addition and subtraction operators + and - for Money objects. Both should return a new object of type Money. Neither the object itself nor the object passed as an argument should be changed as a result.\n",
    "\n",
    "NB: the value of a Money object cannot be negative. If an attempt to subtract would result in a negative result, the method should raise a ValueError exception.\n",
    "\n",
    "```python\n",
    "e1 = Money(4, 5)\n",
    "e2 = Money(2, 95)\n",
    "\n",
    "e3 = e1 + e2\n",
    "e4 = e1 - e2\n",
    "\n",
    "print(e3)\n",
    "print(e4)\n",
    "\n",
    "e5 = e2-e1\n",
    "```\n",
    "Sample output\n",
    "```console\n",
    "7.00 eur\n",
    "1.10 eur\n",
    "Traceback (most recent call last):\n",
    "File \"money.py\", line 416, in \n",
    "e5 = e2-e1\n",
    "File \"money.py\", line 404, in sub\n",
    "raise ValueError(f\"a negative result is not allowed\")\n",
    "ValueError: a negative result is not allowed\n",
    "```"
   ]
  },
  {
   "cell_type": "code",
   "execution_count": 20,
   "metadata": {},
   "outputs": [
    {
     "name": "stdout",
     "output_type": "stream",
     "text": [
      "7.00 eur\n",
      "1.10 eur\n"
     ]
    },
    {
     "ename": "ValueError",
     "evalue": "a negative result is not allowed",
     "output_type": "error",
     "traceback": [
      "\u001b[1;31m---------------------------------------------------------------------------\u001b[0m",
      "\u001b[1;31mValueError\u001b[0m                                Traceback (most recent call last)",
      "Cell \u001b[1;32mIn[20], line 60\u001b[0m\n\u001b[0;32m     57\u001b[0m \u001b[39mprint\u001b[39m(e3)\n\u001b[0;32m     58\u001b[0m \u001b[39mprint\u001b[39m(e4)\n\u001b[1;32m---> 60\u001b[0m e5 \u001b[39m=\u001b[39m e2\u001b[39m-\u001b[39;49me1\n",
      "Cell \u001b[1;32mIn[20], line 46\u001b[0m, in \u001b[0;36mMoney.__sub__\u001b[1;34m(self, another)\u001b[0m\n\u001b[0;32m     44\u001b[0m         total_euros \u001b[39m-\u001b[39m\u001b[39m=\u001b[39m \u001b[39m1\u001b[39m\n\u001b[0;32m     45\u001b[0m \u001b[39melse\u001b[39;00m:\n\u001b[1;32m---> 46\u001b[0m     \u001b[39mraise\u001b[39;00m \u001b[39mValueError\u001b[39;00m(\u001b[39m\"\u001b[39m\u001b[39ma negative result is not allowed\u001b[39m\u001b[39m\"\u001b[39m)\n\u001b[0;32m     48\u001b[0m \u001b[39mreturn\u001b[39;00m Money(total_euros, total_cents)\n",
      "\u001b[1;31mValueError\u001b[0m: a negative result is not allowed"
     ]
    }
   ],
   "source": [
    "# TEE RATKAISUSI TÄHÄN:\n",
    "class Money:\n",
    "    def __init__(self, euros: int, cents: int):\n",
    "        self.__euros = euros\n",
    "        self.__cents = cents\n",
    "\n",
    "    def __get_money(self):\n",
    "        return self.__euros + (self.__cents/100)\n",
    "\n",
    "    def __str__(self):\n",
    "        eur = self.__euros + self.__cents/100\n",
    "        return f\"{eur:.2f} eur\"\n",
    "\n",
    "    def __eq__(self, another: 'Money'):\n",
    "        return self.__euros == another.__euros\n",
    "\n",
    "    def __lt__(self, another: 'Money'):\n",
    "        return self.__euros < another.__euros\n",
    "\n",
    "    def __gt__(self, another: 'Money'):\n",
    "        return self.__euros > another.__euros\n",
    "\n",
    "    def __ne__(self, another: 'Money'):\n",
    "        return self.__euros != another.__euros\n",
    "\n",
    "    def __add__(self, another: 'Money'):\n",
    "        total_euros = self.__euros + another.__euros\n",
    "        total_cents = self.__cents + another.__cents\n",
    "\n",
    "        if total_cents >= 100:\n",
    "            total_cents -= 100\n",
    "            total_euros += 1\n",
    "        \n",
    "        return Money(total_euros, total_cents)\n",
    "\n",
    "\n",
    "    def __sub__(self, another: 'Money'):\n",
    "        if self.__euros > another.__euros:\n",
    "            total_euros = self.__euros - another.__euros\n",
    "            if self.__cents > another.__cents:\n",
    "                total_cents = self.__cents - another.__cents\n",
    "            else:\n",
    "                total_cents = self.__cents + 100 - another.__cents\n",
    "                total_euros -= 1\n",
    "        else:\n",
    "            raise ValueError(\"a negative result is not allowed\")\n",
    "        \n",
    "        return Money(total_euros, total_cents)\n",
    "\n",
    "\n",
    "e1 = Money(4, 5)\n",
    "e2 = Money(2, 95)\n",
    "\n",
    "e3 = e1 + e2\n",
    "e4 = e1 - e2\n",
    "\n",
    "print(e3)\n",
    "print(e4)\n",
    "\n",
    "e5 = e2-e1"
   ]
  },
  {
   "attachments": {},
   "cell_type": "markdown",
   "metadata": {},
   "source": [
    "## The value must not be directly accessible\n",
    "The class still has a small integrity issue. The user can \"cheat\" by accessing the attributes directly and changing the value stored in the Money object:\n",
    "\n",
    "```python\n",
    "print(e1)\n",
    "e1.euros = 1000\n",
    "print(e1)\n",
    "```\n",
    "Sample output\n",
    "```console\n",
    "4.05 eur\n",
    "1000.05 eur\n",
    "```\n",
    "\n",
    "Please encapsulate the implementation of the attributes defined in the class so that the cheat used above is not possible. The class should have no public attributes, and no getter or setter methods for the euros or the cents."
   ]
  },
  {
   "cell_type": "code",
   "execution_count": 21,
   "metadata": {},
   "outputs": [
    {
     "name": "stdout",
     "output_type": "stream",
     "text": [
      "4.05 eur\n",
      "4.05 eur\n"
     ]
    }
   ],
   "source": [
    "# TEE RATKAISUSI TÄHÄN:\n",
    "class Money:\n",
    "    def __init__(self, euros: int, cents: int):\n",
    "        self.__euros = euros\n",
    "        self.__cents = cents\n",
    "\n",
    "    def __get_money(self):\n",
    "        return self.__euros + (self.__cents/100)\n",
    "\n",
    "    def __str__(self):\n",
    "        eur = self.__euros + self.__cents/100\n",
    "        return f\"{eur:.2f} eur\"\n",
    "\n",
    "    def __eq__(self, another: 'Money'):\n",
    "        return self.__euros == another.__euros\n",
    "\n",
    "    def __lt__(self, another: 'Money'):\n",
    "        return self.__euros < another.__euros\n",
    "\n",
    "    def __gt__(self, another: 'Money'):\n",
    "        return self.__euros > another.__euros\n",
    "\n",
    "    def __ne__(self, another: 'Money'):\n",
    "        return self.__euros != another.__euros\n",
    "\n",
    "    def __add__(self, another: 'Money'):\n",
    "        total_euros = self.__euros + another.__euros\n",
    "        total_cents = self.__cents + another.__cents\n",
    "\n",
    "        if total_cents >= 100:\n",
    "            total_cents -= 100\n",
    "            total_euros += 1\n",
    "        \n",
    "        return Money(total_euros, total_cents)\n",
    "\n",
    "\n",
    "    def __sub__(self, another: 'Money'):\n",
    "        if self.__euros > another.__euros:\n",
    "            total_euros = self.__euros - another.__euros\n",
    "            if self.__cents > another.__cents:\n",
    "                total_cents = self.__cents - another.__cents\n",
    "            else:\n",
    "                total_cents = self.__cents + 100 - another.__cents\n",
    "                total_euros -= 1\n",
    "        else:\n",
    "            raise ValueError(\"a negative result is not allowed\")\n",
    "        \n",
    "        return Money(total_euros, total_cents)\n",
    "\n",
    "\n",
    "print(e1)\n",
    "e1.euros = 1000\n",
    "print(e1)"
   ]
  },
  {
   "attachments": {},
   "cell_type": "markdown",
   "metadata": {},
   "source": [
    "# Programming exercise:\n",
    "Simple date\n",
    "\n",
    "\n",
    "In this exercise you are asked to implement the class SimpleDate which allows you to handle dates. For simplicity's sake we assume here that each month has 30 days.\n",
    "\n",
    "Because of this simplification you should not use the datetime module from the Python standard library. You will implement similar functionality by yourself instead.\n",
    "\n",
    "## Comparisons\n",
    "Please implement the outline of the class, along with methods allowing for comparisons with the operators <, >, == and !=. You can use the following code to test your implementation:\n",
    "\n",
    "```python\n",
    "d1 = SimpleDate(4, 10, 2020)\n",
    "d2 = SimpleDate(28, 12, 1985)\n",
    "d3 = SimpleDate(28, 12, 1985)\n",
    "\n",
    "print(d1)\n",
    "print(d2)\n",
    "print(d1 == d2)\n",
    "print(d1 != d2)\n",
    "print(d1 == d3)\n",
    "print(d1 < d2)\n",
    "print(d1 > d2)\n",
    "```\n",
    "\n",
    "Sample output\n",
    "```console\n",
    "4.10.2020\n",
    "28.12.1985\n",
    "False\n",
    "True\n",
    "False\n",
    "False\n",
    "True\n",
    "```"
   ]
  },
  {
   "cell_type": "code",
   "execution_count": 23,
   "metadata": {},
   "outputs": [
    {
     "name": "stdout",
     "output_type": "stream",
     "text": [
      "4.10.2020\n",
      "28.12.1985\n",
      "False\n",
      "True\n",
      "False\n",
      "False\n",
      "True\n"
     ]
    }
   ],
   "source": [
    "class SimpleDate:\n",
    "    def __init__(self, day: int, month: int, year: int):\n",
    "        self.day = day\n",
    "        self.month = month\n",
    "        self.year = year\n",
    "\n",
    "    def __lt__(self, another: 'SimpleDate'):\n",
    "        if self.year < another.year:\n",
    "            return True\n",
    "        elif self.year == another.year:\n",
    "            if self.month < another.month:\n",
    "                return True\n",
    "            elif self.month == another.month:\n",
    "                if self.day < another.day:\n",
    "                    return True\n",
    "        \n",
    "        return False\n",
    "        \n",
    "        \n",
    "\n",
    "    def __gt__(self, another: 'SimpleDate'):\n",
    "        if self.year > another.year:\n",
    "            return True\n",
    "        elif self.year == another.year:\n",
    "            if self.month > another.month:\n",
    "                return True\n",
    "            elif self.month == another.month:\n",
    "                if self.day > another.day:\n",
    "                    return True\n",
    "        \n",
    "        return False\n",
    "\n",
    "    def __eq__(self, another: 'SimpleDate'):\n",
    "        if self.year == another.year and self.month == another.month and self.day == another.day:\n",
    "            return True\n",
    "        \n",
    "        return False\n",
    "\n",
    "\n",
    "    def __ne__(self, another: 'SimpleDate'):\n",
    "        if self.year != another.year or self.month != another.month or self.day != another.day:\n",
    "            return True\n",
    "        \n",
    "        return False\n",
    "\n",
    "    def __str__(self) -> str:\n",
    "        return f\"{self.day}.{self.month}.{self.year}\"\n",
    "\n",
    "        \n",
    "\n",
    "d1 = SimpleDate(4, 10, 2020)\n",
    "d2 = SimpleDate(28, 12, 1985)\n",
    "d3 = SimpleDate(28, 12, 1985)\n",
    "\n",
    "print(d1)\n",
    "print(d2)\n",
    "print(d1 == d2)\n",
    "print(d1 != d2)\n",
    "print(d1 == d3)\n",
    "print(d1 < d2)\n",
    "print(d1 > d2)"
   ]
  },
  {
   "attachments": {},
   "cell_type": "markdown",
   "metadata": {},
   "source": [
    "## Increment\n",
    "Please implement the addition operator + which allows you to add a given number of days to a SimpleDate object. The operator should return a new SimpleDate object. The original object should not be changed.\n",
    "\n",
    "```python\n",
    "d1 = SimpleDate(4, 10, 2020)\n",
    "d2 = SimpleDate(28, 12, 1985)\n",
    "\n",
    "d3 = d1 + 3\n",
    "d4 = d2 + 400\n",
    "\n",
    "print(d1)\n",
    "print(d2)\n",
    "print(d3)\n",
    "print(d4)\n",
    "```\n",
    "Sample output\n",
    "```console\n",
    "4.10.2020\n",
    "28.12.1985\n",
    "7.10.2020\n",
    "8.2.1987\n",
    "```"
   ]
  },
  {
   "cell_type": "code",
   "execution_count": 28,
   "metadata": {},
   "outputs": [
    {
     "name": "stdout",
     "output_type": "stream",
     "text": [
      "4.10.2020\n",
      "28.2.1987\n",
      "7.10.2020\n",
      "8.2.1987\n"
     ]
    }
   ],
   "source": [
    "class SimpleDate:\n",
    "    def __init__(self, day: int, month: int, year: int):\n",
    "        self.day = day\n",
    "        self.month = month\n",
    "        self.year = year\n",
    "\n",
    "    def __lt__(self, another: 'SimpleDate'):\n",
    "        if self.year < another.year:\n",
    "            return True\n",
    "        elif self.year == another.year:\n",
    "            if self.month < another.month:\n",
    "                return True\n",
    "            elif self.month == another.month:\n",
    "                if self.day < another.day:\n",
    "                    return True\n",
    "        \n",
    "        return False\n",
    "        \n",
    "        \n",
    "\n",
    "    def __gt__(self, another: 'SimpleDate'):\n",
    "        if self.year > another.year:\n",
    "            return True\n",
    "        elif self.year == another.year:\n",
    "            if self.month > another.month:\n",
    "                return True\n",
    "            elif self.month == another.month:\n",
    "                if self.day > another.day:\n",
    "                    return True\n",
    "        \n",
    "        return False\n",
    "\n",
    "    def __eq__(self, another: 'SimpleDate'):\n",
    "        if self.year == another.year and self.month == another.month and self.day == another.day:\n",
    "            return True\n",
    "        \n",
    "        return False\n",
    "\n",
    "\n",
    "    def __ne__(self, another: 'SimpleDate'):\n",
    "        if self.year != another.year or self.month != another.month or self.day != another.day:\n",
    "            return True\n",
    "        \n",
    "        return False\n",
    "    \n",
    "    def __add__(self, days: int):\n",
    "        sum_day = self.day + days\n",
    "\n",
    "        while sum_day > 30:\n",
    "            sum_day -= 30\n",
    "            self.month += 1\n",
    "            if self.month > 12:\n",
    "                self.month = 1\n",
    "                self.year += 1\n",
    "\n",
    "        return SimpleDate(sum_day, self.month, self.year)\n",
    "\n",
    "    def __str__(self) -> str:\n",
    "        return f\"{self.day}.{self.month}.{self.year}\"\n",
    "\n",
    "        \n",
    "\n",
    "d1 = SimpleDate(4, 10, 2020)\n",
    "d2 = SimpleDate(28, 12, 1985)\n",
    "\n",
    "d3 = d1 + 3\n",
    "d4 = d2 + 400\n",
    "\n",
    "print(d1)\n",
    "print(d2)\n",
    "print(d3)\n",
    "print(d4)"
   ]
  },
  {
   "attachments": {},
   "cell_type": "markdown",
   "metadata": {},
   "source": [
    "## Difference\n",
    "Please implement the subtraction operator - which allows you to find out the difference in days between two SimpleDate objects. As we assumed each month to have 30 days, a year within the confines of this exercise is 12*30 = 360 days long.\n",
    "\n",
    "You can use the following code to test your program:\n",
    "\n",
    "```python\n",
    "d1 = SimpleDate(4, 10, 2020)\n",
    "d2 = SimpleDate(2, 11, 2020)\n",
    "d3 = SimpleDate(28, 12, 1985)\n",
    "\n",
    "print(d2-d1)\n",
    "print(d1-d2)\n",
    "print(d1-d3)\n",
    "```\n",
    "Sample output\n",
    "```console\n",
    "28\n",
    "28\n",
    "12516\n",
    "```"
   ]
  },
  {
   "cell_type": "code",
   "execution_count": 29,
   "metadata": {},
   "outputs": [
    {
     "name": "stdout",
     "output_type": "stream",
     "text": [
      "28\n",
      "28\n",
      "12516\n"
     ]
    }
   ],
   "source": [
    "class SimpleDate:\n",
    "    def __init__(self, day: int, month: int, year: int):\n",
    "        self.day = day\n",
    "        self.month = month\n",
    "        self.year = year\n",
    "\n",
    "    def __lt__(self, another: 'SimpleDate'):\n",
    "        if self.year < another.year:\n",
    "            return True\n",
    "        elif self.year == another.year:\n",
    "            if self.month < another.month:\n",
    "                return True\n",
    "            elif self.month == another.month:\n",
    "                if self.day < another.day:\n",
    "                    return True\n",
    "        \n",
    "        return False\n",
    "        \n",
    "        \n",
    "\n",
    "    def __gt__(self, another: 'SimpleDate'):\n",
    "        if self.year > another.year:\n",
    "            return True\n",
    "        elif self.year == another.year:\n",
    "            if self.month > another.month:\n",
    "                return True\n",
    "            elif self.month == another.month:\n",
    "                if self.day > another.day:\n",
    "                    return True\n",
    "        \n",
    "        return False\n",
    "\n",
    "    def __eq__(self, another: 'SimpleDate'):\n",
    "        if self.year == another.year and self.month == another.month and self.day == another.day:\n",
    "            return True\n",
    "        \n",
    "        return False\n",
    "\n",
    "\n",
    "    def __ne__(self, another: 'SimpleDate'):\n",
    "        if self.year != another.year or self.month != another.month or self.day != another.day:\n",
    "            return True\n",
    "        \n",
    "        return False\n",
    "    \n",
    "    def __add__(self, days: int):\n",
    "        sum_day = self.day + days\n",
    "\n",
    "        while sum_day > 30:\n",
    "            sum_day -= 30\n",
    "            self.month += 1\n",
    "            if self.month > 12:\n",
    "                self.month = 1\n",
    "                self.year += 1\n",
    "\n",
    "        return SimpleDate(sum_day, self.month, self.year)\n",
    "    \n",
    "    def __convert(self):\n",
    "        return self.day + ((self.month-1) * 30) + ((self.year-1) * 360)\n",
    "    \n",
    "    def __sub__(self, another: SimpleDate):\n",
    "        current = self.__convert()\n",
    "        another_days = another.__convert()\n",
    "\n",
    "        return abs(current - another_days)\n",
    "\n",
    "\n",
    "\n",
    "    def __str__(self) -> str:\n",
    "        return f\"{self.day}.{self.month}.{self.year}\"\n",
    "\n",
    "        \n",
    "\n",
    "d1 = SimpleDate(4, 10, 2020)\n",
    "d2 = SimpleDate(2, 11, 2020)\n",
    "d3 = SimpleDate(28, 12, 1985)\n",
    "\n",
    "print(d2-d1)\n",
    "print(d1-d2)\n",
    "print(d1-d3)"
   ]
  },
  {
   "attachments": {},
   "cell_type": "markdown",
   "metadata": {},
   "source": [
    "# Iterators\n",
    "We know that the for statement can be used to iterate through many different data structures, files and collections of items. A typical use case would be the following function:\n"
   ]
  },
  {
   "cell_type": "code",
   "execution_count": 1,
   "metadata": {},
   "outputs": [],
   "source": [
    "\n",
    "\n",
    "def count_positives(my_list: list):\n",
    "    n = 0\n",
    "    for item in my_list:\n",
    "        if item > 0:\n",
    "            n += 1\n",
    "    return n\n"
   ]
  },
  {
   "cell_type": "markdown",
   "metadata": {},
   "source": [
    "The function goes through the items in the list one by one, and keeps track of how many of the items were positive.\n",
    "\n",
    "It is possible to make your own classes iterable, too. This is useful when the core purpose of the class involves storing a collection of items. The Bookshelf class from a previous example would be a good candidate, as it would make sense to use a for loop to go through the books on the shelf. The same applies to, say, a student register. Being able to iterate through the collection of students could be useful.\n",
    "\n",
    "To make a class iterable you must implement the iterator methods __iter__ and __next__. We will return to the specifics of these methods after the following example:\n"
   ]
  },
  {
   "cell_type": "code",
   "execution_count": 3,
   "metadata": {},
   "outputs": [],
   "source": [
    "\n",
    "class Book:\n",
    "    def __init__(self, name: str, author: str, page_count: int):\n",
    "        self.name = name\n",
    "        self.author = author\n",
    "        self.page_count = page_count\n",
    "\n",
    "class Bookshelf:\n",
    "    def __init__(self):\n",
    "        self._books = []\n",
    "\n",
    "    def add_book(self, book: Book):\n",
    "        self._books.append(book)\n",
    "\n",
    "    # This is the iterator initialization method\n",
    "    # The iteration variable(s) should be initialized here\n",
    "    def __iter__(self):\n",
    "        self.n = 0\n",
    "        # the method returns a reference to the object itself as \n",
    "        # the iterator is implemented within the same class definition\n",
    "        return self\n",
    "\n",
    "    # This method returns the next item within the object\n",
    "    # If all items have been traversed, the StopIteration event is raised\n",
    "    def __next__(self):\n",
    "        if self.n < len(self._books):\n",
    "            # Select the current item from the list within the object\n",
    "            book = self._books[self.n]\n",
    "            # increase the counter (i.e. iteration variable) by one\n",
    "            self.n += 1\n",
    "            # return the current item\n",
    "            return book\n",
    "        else:\n",
    "            # All books have been traversed\n",
    "            raise StopIteration\n"
   ]
  },
  {
   "cell_type": "markdown",
   "metadata": {},
   "source": [
    "The method __iter__ initializes the iteration variable or variables. In this case it suffices to have a simple counter containing the index of the current item in the list. We also need the method __next__, which returns the next item in the iterator. In the example above the method returns the item at index n from the list within the Bookshelf object, and the iterator variable is also incremented.\n",
    "\n",
    "When all objects have been traversed, the __next__ method raises the StopIteration exception. The process is no different from raising any other exceptions, but this exception is automatically handled by Python and its purpose is to signal to the code calling the iterator (e.g. a for loop) that the iteration is now over.\n",
    "\n",
    "Our Bookshelf is now ready for iteration, for example with a for loop:\n"
   ]
  },
  {
   "cell_type": "code",
   "execution_count": 4,
   "metadata": {},
   "outputs": [
    {
     "name": "stdout",
     "output_type": "stream",
     "text": [
      "The Life of Python\n",
      "The Old Man and the C\n",
      "A Good Cup of Java\n"
     ]
    }
   ],
   "source": [
    "\n",
    "if __name__ == \"__main__\":\n",
    "    b1 = Book(\"The Life of Python\", \"Montague Python\", 123)\n",
    "    b2 = Book(\"The Old Man and the C\", \"Ernest Hemingjavay\", 204)\n",
    "    b3 = Book(\"A Good Cup of Java\", \"Caffee Coder\", 997)\n",
    "\n",
    "    shelf = Bookshelf()\n",
    "    shelf.add_book(b1)\n",
    "    shelf.add_book(b2)\n",
    "    shelf.add_book(b3)\n",
    "\n",
    "    # Print the names of all the books\n",
    "    for book in shelf:\n",
    "        print(book.name)\n"
   ]
  },
  {
   "attachments": {},
   "cell_type": "markdown",
   "metadata": {},
   "source": [
    "# Programming exercise:An iterable shopping list\n",
    "\n",
    "\n",
    "The exercise template contains the ShoppingList class from the exercise in part 8. Please adjust the class so that it is iterable and can thus be used as follows:\n",
    "\n",
    "```python\n",
    "shopping_list = ShoppingList()\n",
    "shopping_list.add(\"bananas\", 10)\n",
    "shopping_list.add(\"apples\", 5)\n",
    "shopping_list.add(\"pineapple\", 1)\n",
    "for product in shopping_list:\n",
    "    print(f\"{product[0]}: {product[1]} units\")\n",
    "```\n",
    "\n",
    "Sample output\n",
    "```console\n",
    "bananas: 10 units\n",
    "apples: 5 units\n",
    "pineapple: 1 units\n",
    "```\n",
    "\n",
    "The __next__ method of your iterator should return tuples, where the first item is the name of the product and the second item is the amount."
   ]
  },
  {
   "cell_type": "code",
   "execution_count": 5,
   "metadata": {},
   "outputs": [
    {
     "name": "stdout",
     "output_type": "stream",
     "text": [
      "bananas: 10 units\n",
      "apples: 5 units\n",
      "pineapple: 1 units\n"
     ]
    }
   ],
   "source": [
    "# TEE RATKAISUSI TÄHÄN:\n",
    "class ShoppingList:\n",
    "    def __init__(self):\n",
    "        self.products = []\n",
    "\n",
    "    def number_of_items(self):\n",
    "        return len(self.products)\n",
    "\n",
    "    def add(self, product: str, number: int):\n",
    "        self.products.append((product, number))\n",
    "\n",
    "    def product(self, n: int):\n",
    "        return self.products[n - 1][0]\n",
    "\n",
    "    def number(self, n: int):\n",
    "        return self.products[n - 1][1]\n",
    "    \n",
    "    def __iter__(self):\n",
    "        self.n = 0\n",
    "        return self\n",
    "    \n",
    "    def __next__(self):\n",
    "        if self.n < len(self.products):\n",
    "            item = self.products[self.n]\n",
    "            self.n += 1\n",
    "\n",
    "            return item\n",
    "        else:\n",
    "            raise StopIteration\n",
    "    \n",
    "shopping_list = ShoppingList()\n",
    "shopping_list.add(\"bananas\", 10)\n",
    "shopping_list.add(\"apples\", 5)\n",
    "shopping_list.add(\"pineapple\", 1)\n",
    "\n",
    "for product in shopping_list:\n",
    "    print(f\"{product[0]}: {product[1]} units\")"
   ]
  },
  {
   "cell_type": "code",
   "execution_count": null,
   "metadata": {},
   "outputs": [],
   "source": []
  }
 ],
 "metadata": {
  "kernelspec": {
   "display_name": ".venv",
   "language": "python",
   "name": "python3"
  },
  "language_info": {
   "codemirror_mode": {
    "name": "ipython",
    "version": 3
   },
   "file_extension": ".py",
   "mimetype": "text/x-python",
   "name": "python",
   "nbconvert_exporter": "python",
   "pygments_lexer": "ipython3",
   "version": "3.10.10"
  },
  "orig_nbformat": 4
 },
 "nbformat": 4,
 "nbformat_minor": 2
}
