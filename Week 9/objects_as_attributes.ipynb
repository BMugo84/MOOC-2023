{
 "cells": [
  {
   "attachments": {},
   "cell_type": "markdown",
   "metadata": {},
   "source": [
    "# Objects as attributes\n",
    "## Learning objectives\n",
    "After this section\n",
    "\n",
    "* You will know how to use objects as attributes in other objects\n",
    "* You will be familiar with the keyword None"
   ]
  },
  {
   "attachments": {},
   "cell_type": "markdown",
   "metadata": {},
   "source": [
    "We have already seen examples of classes which have lists as attributes. As there is thus nothing stopping us from including mutable objects as attributes in our classes, we might as well use instances of our own classes as attributes in other classes we've defined ourselves. In the following examples we will define the classes Course, Student and CompletedCourse. A completed course makes use of the first two classes. The class definitions are very short and simple in order to better concentrate on the technique of using instances of our own classes as attributes.\n",
    "\n",
    "We will assume each class is defined in a separate file.\n",
    "\n",
    "First we define the class Course in a file named course.py:"
   ]
  },
  {
   "cell_type": "code",
   "execution_count": 1,
   "metadata": {},
   "outputs": [],
   "source": [
    "class Course:\n",
    "    def __init__(self, name: str, code: str, credits: int):\n",
    "        self.name = name\n",
    "        self.code = code\n",
    "        self.credits = credits\n"
   ]
  },
  {
   "cell_type": "markdown",
   "metadata": {},
   "source": [
    "Next, the class Student in a file named student.py:\n"
   ]
  },
  {
   "cell_type": "code",
   "execution_count": 2,
   "metadata": {},
   "outputs": [],
   "source": [
    "\n",
    "class Student:\n",
    "    def __init__(self, name: str, student_number: str, credits: int):\n",
    "        self.name = name\n",
    "        self.student_number = student_number\n",
    "        self.credits = credits\n"
   ]
  },
  {
   "cell_type": "markdown",
   "metadata": {},
   "source": [
    "Finally, the class CompletedCourse is defined in a file named completedcourse.py. As it uses the other two classes, they have to be imported before they can be used:\n"
   ]
  },
  {
   "cell_type": "code",
   "execution_count": 3,
   "metadata": {},
   "outputs": [],
   "source": [
    "\n",
    "from course import Course\n",
    "from student import Student\n",
    "\n",
    "class CompletedCourse:\n",
    "    def __init__(self, student: Student, course: Course, grade: int):\n",
    "        self.student = student\n",
    "        self.course = course\n",
    "        self.grade = grade\n"
   ]
  },
  {
   "cell_type": "markdown",
   "metadata": {},
   "source": [
    "Here is an example of a main function which adds some completed courses to a list:\n"
   ]
  },
  {
   "cell_type": "code",
   "execution_count": 4,
   "metadata": {},
   "outputs": [
    {
     "name": "stdout",
     "output_type": "stream",
     "text": [
      "Ollie\n",
      "Peter\n",
      "Lena\n",
      "Tina\n"
     ]
    }
   ],
   "source": [
    "\n",
    "from completedcourse import CompletedCourse\n",
    "from course import Course\n",
    "from student import Student\n",
    "\n",
    "# Create a list of students\n",
    "students = []\n",
    "students.append(Student(\"Ollie\", \"1234\", 10))\n",
    "students.append(Student(\"Peter\", \"3210\", 23))\n",
    "students.append(Student(\"Lena\", \"9999\", 43))\n",
    "students.append(Student(\"Tina\", \"3333\", 8))\n",
    "\n",
    "# Create a course named Introduction to Programming\n",
    "itp = Course(\"Introduction to Programming\", \"itp1\", 5)\n",
    "\n",
    "# Add completed courses for each student, with grade 3 for all\n",
    "completed = []\n",
    "for student in students:\n",
    "    completed.append(CompletedCourse(student, itp, 3))\n",
    "\n",
    "# Print out the name of the student for each completed course\n",
    "for course in completed:\n",
    "    print(course.student.name)\n"
   ]
  },
  {
   "attachments": {},
   "cell_type": "markdown",
   "metadata": {},
   "source": [
    "\n",
    "\n",
    "What exactly is happening with all the dots on the line print(course.student.name)?\n",
    "\n",
    "* course is an instance of the class CompletedCourse\n",
    "* student refers to an attribute of the CompletedCourse object, which is an object of type Student\n",
    "* the attribute name in the Student object contains the name of the student\n"
   ]
  },
  {
   "attachments": {},
   "cell_type": "markdown",
   "metadata": {},
   "source": [
    "## When is an import necessary?\n",
    "In the examples above an import statement appeared quite a few times:\n"
   ]
  },
  {
   "cell_type": "code",
   "execution_count": 5,
   "metadata": {},
   "outputs": [],
   "source": [
    "\n",
    "from completedcourse import CompletedCourse\n",
    "from course import Course\n",
    "from student import Student\n",
    "\n",
    "# rest of the main function\n"
   ]
  },
  {
   "cell_type": "markdown",
   "metadata": {},
   "source": [
    "An import statement is only necessary when using code which is defined somewhere outside the current file (or Python interpreter session). This includes situations where we want to use something defined in the Python standard library. For example, the math module contains some mathematical operations:\n"
   ]
  },
  {
   "cell_type": "code",
   "execution_count": 6,
   "metadata": {},
   "outputs": [
    {
     "name": "stdout",
     "output_type": "stream",
     "text": [
      "the square root of 10 is 3.1622776601683795\n"
     ]
    }
   ],
   "source": [
    "\n",
    "import math\n",
    "\n",
    "x = 10\n",
    "print(f\"the square root of {x} is {math.sqrt(x)}\")\n"
   ]
  },
  {
   "cell_type": "markdown",
   "metadata": {},
   "source": [
    "In the example above we assumed the three classes were each defined in a separate file, and the main function was run from yet another file. This is why the import statements were necessary.\n",
    "\n",
    "If all program code is written in the same file, as most of the exercises on this course advise you to do, you will not need import statements to use the classes you have defined.\n",
    "\n",
    "If you find yourself writing something along the lines of\n"
   ]
  },
  {
   "attachments": {},
   "cell_type": "markdown",
   "metadata": {},
   "source": [
    "```python\n",
    "\n",
    "from person import Person\n",
    "\n",
    "# more code goes here\n",
    "```\n"
   ]
  },
  {
   "cell_type": "markdown",
   "metadata": {},
   "source": [
    "it is likely you have gotten something wrong. If you need a refresher, the import statement was first introduced in part 7 of this course material."
   ]
  },
  {
   "attachments": {},
   "cell_type": "markdown",
   "metadata": {},
   "source": [
    "# Programming exercise:Pets\n",
    "\n",
    "The exercise template contains the outlines of two classes: Person and Pet. Each person has one pet. Please change the __str__ method in the class Person so that it also prints out information about the person's pet as shown in the example below.\n",
    "\n",
    "The string returned by the method must follow the format specified below exactly.\n",
    "\n",
    "```python\n",
    "hulda = Pet(\"Hulda\", \"mixed-breed dog\")\n",
    "levi = Person(\"Levi\", hulda)\n",
    "\n",
    "print(levi)\n",
    "```\n",
    "Sample output\n",
    "```console\n",
    "Levi, whose pal is Hulda, a mixed-breed dog\n",
    "```\n",
    "\n",
    "NB: all class definitions are in the same text file. You should not need to import anything."
   ]
  },
  {
   "cell_type": "code",
   "execution_count": 8,
   "metadata": {},
   "outputs": [
    {
     "name": "stdout",
     "output_type": "stream",
     "text": [
      "Levi, whose pal is Hulda, a mixed-breed dog\n"
     ]
    }
   ],
   "source": [
    "class Pet:\n",
    "    def __init__(self, name: str, description: str):\n",
    "        self.name = name\n",
    "        self.description = description\n",
    "\n",
    "    def __str__(self):\n",
    "        return f\"{self.name} ({self.description})\"\n",
    "\n",
    "class Person:\n",
    "    def __init__(self, name: str, pet: Pet):\n",
    "        self.name = name\n",
    "        self.pet = pet\n",
    "\n",
    "    def __str__(self):\n",
    "        return self.name + \", whose pal is \" + self.pet.name + \", a \" + self.pet.description\n",
    "    \n",
    "hulda = Pet(\"Hulda\", \"mixed-breed dog\")\n",
    "levi = Person(\"Levi\", hulda)\n",
    "\n",
    "print(levi)\n"
   ]
  },
  {
   "attachments": {},
   "cell_type": "markdown",
   "metadata": {},
   "source": [
    "# A list of objects as an attribute of an object\n",
    "In the examples above we used single instances of other classes as attributes: a Person has a single Pet as an attribute, and a CompletedCourse has one Student and one Course as its attributes.\n",
    "\n",
    "In object oriented programming it is often the case that we want to have a collection of objects as an attribute. For example, the relationship between a sports team and its players follows this pattern:\n",
    "\n"
   ]
  },
  {
   "cell_type": "code",
   "execution_count": 10,
   "metadata": {},
   "outputs": [],
   "source": [
    "class Player:\n",
    "    def __init__(self, name: str, goals: int):\n",
    "        self.name = name\n",
    "        self.goals = goals\n",
    "\n",
    "    def __str__(self):\n",
    "        return f\"{self.name} ({self.goals} goals)\"\n",
    "\n",
    "class Team:\n",
    "    def __init__(self, name: str):\n",
    "        self.name = name\n",
    "        self.players = []\n",
    "\n",
    "    def add_player(self, player: Player):\n",
    "        self.players.append(player)\n",
    "\n",
    "    def summary(self):\n",
    "        goals = []\n",
    "        for player in self.players:\n",
    "            goals.append(player.goals)\n",
    "        print(\"Team:\", self.name)\n",
    "        print(\"Players:\", len(self.players))\n",
    "        print(\"Goals scored by each player:\", goals)\n"
   ]
  },
  {
   "cell_type": "markdown",
   "metadata": {},
   "source": [
    "An example of our class in action:\n"
   ]
  },
  {
   "cell_type": "code",
   "execution_count": 11,
   "metadata": {},
   "outputs": [
    {
     "name": "stdout",
     "output_type": "stream",
     "text": [
      "Team: Campus Allstars\n",
      "Players: 3\n",
      "Goals scored by each player: [10, 22, 1]\n"
     ]
    }
   ],
   "source": [
    "\n",
    "ca = Team(\"Campus Allstars\")\n",
    "ca.add_player(Player(\"Eric\", 10))\n",
    "ca.add_player(Player(\"Emily\", 22))\n",
    "ca.add_player(Player(\"Andy\", 1))\n",
    "ca.summary()\n"
   ]
  },
  {
   "attachments": {},
   "cell_type": "markdown",
   "metadata": {},
   "source": [
    "# Programming exercise:A box of presents\n",
    "\n",
    "\n",
    "NB: Some exercises have multiple parts, and you can receive points for the different parts separately. You can submit a partially completed exercise by choosing 'Submit Solution' from the menu next to the button for executing tests .\n",
    "\n",
    "In this exercise you will practice wrapping presents. You will write two classes: Present and Box. A present has a name and a weight, and a box contains presents."
   ]
  },
  {
   "attachments": {},
   "cell_type": "markdown",
   "metadata": {},
   "source": [
    "## The Present class\n",
    "Please define the class Present which can be used to represent different kinds of presents. The class definition should contain attributes for the name and the weight (in kg) of the present. Instances of the class should work as follows:\n",
    "\n",
    "```python\n",
    "book = Present(\"ABC Book\", 2)\n",
    "\n",
    "print(\"The name of the present:\", book.name)\n",
    "print(\"The weight of the present:\", book.weight)\n",
    "print(\"Present:\", book)\n",
    "```\n",
    "This should print out\n",
    "\n",
    "Sample output\n",
    "```console\n",
    "The name of the present: ABC Book\n",
    "The weight of the present: 2\n",
    "Present: ABC Book (2 kg)\n",
    "```"
   ]
  },
  {
   "cell_type": "code",
   "execution_count": 13,
   "metadata": {},
   "outputs": [
    {
     "name": "stdout",
     "output_type": "stream",
     "text": [
      "The name of the present: ABC Book\n",
      "The weight of the present: 2\n",
      "Present: ABC Book (2 kg)\n"
     ]
    }
   ],
   "source": [
    "class Present:\n",
    "    def __init__(self, name: str, weight: float):\n",
    "        self.name = name\n",
    "        self.weight = weight\n",
    "\n",
    "    def __str__(self) -> str:\n",
    "        return f\"{self.name} ({self.weight} kg)\"\n",
    "    \n",
    "book = Present(\"ABC Book\", 2)\n",
    "\n",
    "print(\"The name of the present:\", book.name)\n",
    "print(\"The weight of the present:\", book.weight)\n",
    "print(\"Present:\", book)"
   ]
  },
  {
   "attachments": {},
   "cell_type": "markdown",
   "metadata": {},
   "source": [
    "## The Box class\n",
    "Please define the class Box. You should be able to add presents to the box, and the box should keep track of the combined weight of the presents within. The class definition should contain these methods:\n",
    "\n",
    "* add_present(self, present: Present) which adds the present given as an argument to the box. The method has no return value.\n",
    "* total_weight(self) which returns the combined weight of the presents in the box.\n",
    "You may use the following code to test your class:\n",
    "\n",
    "```python\n",
    "book = Present(\"ABC Book\", 2)\n",
    "\n",
    "box = Box()\n",
    "box.add_present(book)\n",
    "print(box.total_weight())\n",
    "\n",
    "cd = Present(\"Pink Floyd: Dark Side of the Moon\", 1)\n",
    "box.add_present(cd)\n",
    "print(box.total_weight())\n",
    "```\n",
    "Sample output\n",
    "```console\n",
    "2\n",
    "3\n",
    "```"
   ]
  },
  {
   "cell_type": "code",
   "execution_count": 15,
   "metadata": {},
   "outputs": [
    {
     "name": "stdout",
     "output_type": "stream",
     "text": [
      "2\n",
      "3\n"
     ]
    }
   ],
   "source": [
    "class Present:\n",
    "    def __init__(self, name: str, weight: float):\n",
    "        self.name = name\n",
    "        self.weight = weight\n",
    "\n",
    "    def __str__(self) -> str:\n",
    "        return f\"{self.name} ({self.weight} kg)\"\n",
    "    \n",
    "class Box:\n",
    "    def __init__(self):\n",
    "        self.present_list = []\n",
    "\n",
    "    def add_present(self, present: Present):\n",
    "        self.present_list.append(present)\n",
    "\n",
    "    def total_weight(self):\n",
    "        sum = 0\n",
    "        for present in self.present_list:\n",
    "            sum+=present.weight\n",
    "        \n",
    "        return sum\n",
    "\n",
    "book = Present(\"ABC Book\", 2)\n",
    "\n",
    "box = Box()\n",
    "box.add_present(book)\n",
    "print(box.total_weight())\n",
    "\n",
    "cd = Present(\"Pink Floyd: Dark Side of the Moon\", 1)\n",
    "box.add_present(cd)\n",
    "print(box.total_weight())"
   ]
  },
  {
   "attachments": {},
   "cell_type": "markdown",
   "metadata": {},
   "source": [
    "# None: a reference to nothing\n",
    "In Python programming all initialised variables refer to an object. There are, however, inevitably situations where we need to refer to something which does not exist, without causing errors. The keyword None represents exactly such an \"empty\" object.\n",
    "\n",
    "Continuing from the Team and Player example above, let's assume we want to add a method for searching for players on the team by the name of the player. If no such player is found, it might make sense to return None:"
   ]
  },
  {
   "cell_type": "code",
   "execution_count": 16,
   "metadata": {},
   "outputs": [],
   "source": [
    "class Player:\n",
    "    def __init__(self, name: str, goals: int):\n",
    "        self.name = name\n",
    "        self.goals = goals\n",
    "\n",
    "    def __str__(self):\n",
    "        return f\"{self.name} ({self.goals} goals)\"\n",
    "\n",
    "class Team:\n",
    "    def __init__(self, name: str):\n",
    "        self.name = name\n",
    "        self.players = []\n",
    "\n",
    "    def add_player(self, player: Player):\n",
    "        self.players.append(player)\n",
    "\n",
    "    def find_player(self, name: str):\n",
    "        for player in self.players:\n",
    "            if player.name == name:\n",
    "                return player\n",
    "        return None"
   ]
  },
  {
   "attachments": {},
   "cell_type": "markdown",
   "metadata": {},
   "source": [
    "Let's test our function:"
   ]
  },
  {
   "cell_type": "code",
   "execution_count": 17,
   "metadata": {},
   "outputs": [
    {
     "name": "stdout",
     "output_type": "stream",
     "text": [
      "Andy (1 goals)\n",
      "None\n"
     ]
    }
   ],
   "source": [
    "ca = Team(\"Campus Allstars\")\n",
    "ca.add_player(Player(\"Eric\", 10))\n",
    "ca.add_player(Player(\"Amily\", 22))\n",
    "ca.add_player(Player(\"Andy\", 1))\n",
    "\n",
    "player1 = ca.find_player(\"Andy\")\n",
    "print(player1)\n",
    "player2 = ca.find_player(\"Charlie\")\n",
    "print(player2)"
   ]
  },
  {
   "attachments": {},
   "cell_type": "markdown",
   "metadata": {},
   "source": [
    "Be careful with None, though. It can sometimes cause more trouble than it solves. It is a common programming error to try to access a method or an attribute through a reference which evaluates to None:"
   ]
  },
  {
   "cell_type": "code",
   "execution_count": 18,
   "metadata": {},
   "outputs": [
    {
     "ename": "AttributeError",
     "evalue": "'NoneType' object has no attribute 'goals'",
     "output_type": "error",
     "traceback": [
      "\u001b[1;31m---------------------------------------------------------------------------\u001b[0m",
      "\u001b[1;31mAttributeError\u001b[0m                            Traceback (most recent call last)",
      "Cell \u001b[1;32mIn[18], line 5\u001b[0m\n\u001b[0;32m      2\u001b[0m ca\u001b[39m.\u001b[39madd_player(Player(\u001b[39m\"\u001b[39m\u001b[39mEric\u001b[39m\u001b[39m\"\u001b[39m, \u001b[39m10\u001b[39m))\n\u001b[0;32m      4\u001b[0m player \u001b[39m=\u001b[39m ca\u001b[39m.\u001b[39mfind_player(\u001b[39m\"\u001b[39m\u001b[39mCharlie\u001b[39m\u001b[39m\"\u001b[39m)\n\u001b[1;32m----> 5\u001b[0m \u001b[39mprint\u001b[39m(\u001b[39mf\u001b[39m\u001b[39m\"\u001b[39m\u001b[39mGoals by Charlie: \u001b[39m\u001b[39m{\u001b[39;00mplayer\u001b[39m.\u001b[39;49mgoals\u001b[39m}\u001b[39;00m\u001b[39m\"\u001b[39m)\n",
      "\u001b[1;31mAttributeError\u001b[0m: 'NoneType' object has no attribute 'goals'"
     ]
    }
   ],
   "source": [
    "ca = Team(\"Campus Allstars\")\n",
    "ca.add_player(Player(\"Eric\", 10))\n",
    "\n",
    "player = ca.find_player(\"Charlie\")\n",
    "print(f\"Goals by Charlie: {player.goals}\")"
   ]
  },
  {
   "attachments": {},
   "cell_type": "markdown",
   "metadata": {},
   "source": [
    "Executing the above would cause an error:"
   ]
  },
  {
   "attachments": {},
   "cell_type": "markdown",
   "metadata": {},
   "source": [
    "It is a good idea to check for None before trying to access any attributes or methods of return values:"
   ]
  },
  {
   "cell_type": "code",
   "execution_count": 19,
   "metadata": {},
   "outputs": [
    {
     "name": "stdout",
     "output_type": "stream",
     "text": [
      "Charlie doesn't play in Campus Allstars :(\n"
     ]
    }
   ],
   "source": [
    "ca = Team(\"Campus Allstars\")\n",
    "ca.add_player(Player(\"Eric\", 10))\n",
    "\n",
    "player = ca.find_player(\"Charlie\")\n",
    "if player is not None:\n",
    "    print(f\"Goals by Charlie: {player.goals}\")\n",
    "else:\n",
    "    print(f\"Charlie doesn't play in Campus Allstars :(\")"
   ]
  },
  {
   "attachments": {},
   "cell_type": "markdown",
   "metadata": {},
   "source": [
    "# Programming exercise:The shortest person in the room\n",
    "\n",
    "\n",
    "NB: Some exercises have multiple parts, and you can receive points for the different parts separately. You can submit a partially completed exercise by choosing 'Submit Solution' from the menu next to the button for executing tests .\n",
    "\n",
    "The exercise template contains the class Person. A person has a name and a height. In this exercise you will implement the class Room. You may add any number of persons to a room, and you may also search for and remove the shortest person in the room.\n",
    "\n",
    "## Room\n",
    "Please define the class Room. It should have a list of persons as an attribute, and also contain the following methods:\n",
    "\n",
    "* add(person: Person) adds the person given as an argument to the room.\n",
    "* is_empty() returns True or False depending on whether the room is empty.\n",
    "* print_contents() prints out the contents of the list of persons in the room.\n",
    "\n",
    "Please have a look at the following usage example:\n",
    "\n",
    "```python\n",
    "room = Room()\n",
    "print(\"Is the room empty?\", room.is_empty())\n",
    "room.add(Person(\"Lea\", 183))\n",
    "room.add(Person(\"Kenya\", 172))\n",
    "room.add(Person(\"Ally\", 166))\n",
    "room.add(Person(\"Nina\", 162))\n",
    "room.add(Person(\"Dorothy\", 155))\n",
    "print(\"Is the room empty?\", room.is_empty())\n",
    "room.print_contents()\n",
    "```\n",
    "Sample output\n",
    "```console\n",
    "Is the room empty? True\n",
    "Is the room empty? False\n",
    "There are 5 persons in the room, and their combined height is 838 cm\n",
    "Lea (183 cm)\n",
    "Kenya (172 cm)\n",
    "Ally (166 cm)\n",
    "Nina (162 cm)\n",
    "Dorothy (155 cm)\n",
    "```"
   ]
  },
  {
   "cell_type": "code",
   "execution_count": 24,
   "metadata": {},
   "outputs": [
    {
     "name": "stdout",
     "output_type": "stream",
     "text": [
      "Is the room empty? False\n",
      "Is the room empty? False\n",
      "There are 5 persons in the room, and their combined height is 838 cm \n",
      "Lea (183 cm) \n",
      "Kenya (172 cm) \n",
      "Ally (166 cm) \n",
      "Nina (162 cm) \n",
      "Dorothy (155 cm) \n",
      "\n"
     ]
    }
   ],
   "source": [
    "\n",
    "class Person:\n",
    "    def __init__(self, name: str, height: int):\n",
    "        self.name = name\n",
    "        self.height = height\n",
    "\n",
    "    def __str__(self):\n",
    "        return self.name\n",
    "    \n",
    "class Room:\n",
    "    def __init__(self) -> None:\n",
    "        self.person_list = []\n",
    "\n",
    "    def add(self, person: Person):\n",
    "        self.person_list.append(person)\n",
    "\n",
    "    def is_empty(self):\n",
    "        if self.person_list is None:\n",
    "            return True\n",
    "        return False\n",
    "    def total_height(self):\n",
    "        total = 0\n",
    "        for person in self.person_list:\n",
    "            total += person.height\n",
    "        \n",
    "        return total\n",
    "    \n",
    "    def print_contents(self):\n",
    "        final_str = f\"There are {len(self.person_list)} persons in the room, and their combined height is {self.total_height()} cm \\n\"\n",
    "        for person in self.person_list:\n",
    "            final_str += f\"{person.name} ({person.height} cm) \\n\"\n",
    "        final_str.strip()\n",
    "\n",
    "        print(final_str)\n",
    "\n",
    "room = Room()\n",
    "print(\"Is the room empty?\", room.is_empty())\n",
    "room.add(Person(\"Lea\", 183))\n",
    "room.add(Person(\"Kenya\", 172))\n",
    "room.add(Person(\"Ally\", 166))\n",
    "room.add(Person(\"Nina\", 162))\n",
    "room.add(Person(\"Dorothy\", 155))\n",
    "print(\"Is the room empty?\", room.is_empty())\n",
    "room.print_contents()"
   ]
  },
  {
   "attachments": {},
   "cell_type": "markdown",
   "metadata": {},
   "source": [
    "## The shortest person\n",
    "Please define the method shortest() within the Room class definition. The method should return the shortest person in the room it is called on. If the room is empty, the method should return None. The method should not remove the person fron the room.\n",
    "\n",
    "```python\n",
    "room = Room()\n",
    "\n",
    "print(\"Is the room empty?\", room.is_empty())\n",
    "print(\"Shortest:\", room.shortest())\n",
    "\n",
    "room.add(Person(\"Lea\", 183))\n",
    "room.add(Person(\"Kenya\", 172))\n",
    "room.add(Person(\"Nina\", 162))\n",
    "room.add(Person(\"Ally\", 166))\n",
    "\n",
    "print()\n",
    "\n",
    "print(\"Is the room empty?\", room.is_empty())\n",
    "print(\"Shortest:\", room.shortest())\n",
    "\n",
    "print()\n",
    "\n",
    "room.print_contents()\n",
    "```\n",
    "Sample output\n",
    "```console\n",
    "Is the room empty? True\n",
    "Shortest: None\n",
    "\n",
    "Is the room empty? False\n",
    "Shortest: Nina\n",
    "\n",
    "There are 4 persons in the room, and their combined height is 683 cm\n",
    "Lea (183 cm)\n",
    "Kenya (172 cm)\n",
    "Nina (162 cm)\n",
    "Ally (166 cm)\n",
    "```"
   ]
  },
  {
   "cell_type": "code",
   "execution_count": 29,
   "metadata": {},
   "outputs": [
    {
     "name": "stdout",
     "output_type": "stream",
     "text": [
      "Is the room empty? False\n",
      "Shortest: None\n",
      "\n",
      "Is the room empty? False\n",
      "Shortest: Nina\n",
      "\n",
      "There are 4 persons in the room, and their combined height is 683 cm \n",
      "Lea (183 cm) \n",
      "Kenya (172 cm) \n",
      "Nina (162 cm) \n",
      "Ally (166 cm) \n",
      "\n"
     ]
    }
   ],
   "source": [
    "\n",
    "class Person:\n",
    "    def __init__(self, name: str, height: int):\n",
    "        self.name = name\n",
    "        self.height = height\n",
    "\n",
    "    def __str__(self):\n",
    "        return self.name\n",
    "    \n",
    "class Room:\n",
    "    def __init__(self) -> None:\n",
    "        self.person_list = []\n",
    "\n",
    "    def add(self, person: Person):\n",
    "        self.person_list.append(person)\n",
    "\n",
    "    def is_empty(self):\n",
    "        if self.person_list is None:\n",
    "            return True\n",
    "        return False\n",
    "    def total_height(self):\n",
    "        total = 0\n",
    "        for person in self.person_list:\n",
    "            total += person.height\n",
    "        \n",
    "        return total\n",
    "    \n",
    "    def print_contents(self):\n",
    "        final_str = f\"There are {len(self.person_list)} persons in the room, and their combined height is {self.total_height()} cm \\n\"\n",
    "        for person in self.person_list:\n",
    "            final_str += f\"{person.name} ({person.height} cm) \\n\"\n",
    "        final_str.strip()\n",
    "\n",
    "        print(final_str)\n",
    "        \n",
    "\n",
    "    def shortest(self):\n",
    "        if not self.person_list:\n",
    "            return None\n",
    "        shortest = self.person_list[0]\n",
    "        for person in self.person_list:\n",
    "            if person.height < shortest.height:\n",
    "                shortest = person\n",
    "\n",
    "        return shortest\n",
    "\n",
    "\n",
    "\n",
    "room = Room()\n",
    "\n",
    "print(\"Is the room empty?\", room.is_empty())\n",
    "print(\"Shortest:\", room.shortest())\n",
    "\n",
    "room.add(Person(\"Lea\", 183))\n",
    "room.add(Person(\"Kenya\", 172))\n",
    "room.add(Person(\"Nina\", 162))\n",
    "room.add(Person(\"Ally\", 166))\n",
    "\n",
    "print()\n",
    "\n",
    "print(\"Is the room empty?\", room.is_empty())\n",
    "print(\"Shortest:\", room.shortest())\n",
    "\n",
    "print()\n",
    "\n",
    "room.print_contents()"
   ]
  },
  {
   "attachments": {},
   "cell_type": "markdown",
   "metadata": {},
   "source": [
    "Removing a person from the room\n",
    "Please define the method remove_shortest() within the Room class definition. The method should remove the shortest Person object from the room and return the reference to the object. If the room is empty, the method should return None.\n",
    "```python\n",
    "\n",
    "room = Room()\n",
    "\n",
    "room.add(Person(\"Lea\", 183))\n",
    "room.add(Person(\"Kenya\", 172))\n",
    "room.add(Person(\"Nina\", 162))\n",
    "room.add(Person(\"Ally\", 166))\n",
    "room.print_contents()\n",
    "\n",
    "print()\n",
    "\n",
    "removed = room.remove_shortest()\n",
    "print(f\"Removed from room: {removed.name}\")\n",
    "\n",
    "print()\n",
    "\n",
    "room.print_contents()\n",
    "```\n",
    "Sample output\n",
    "```console\n",
    "There are 4 persons in the room, and their combined height is 683 cm\n",
    "Lea (183 cm)\n",
    "Kenya (172 cm)\n",
    "Nina (162 cm)\n",
    "Ally (166 cm)\n",
    "\n",
    "Removed from room: Nina\n",
    "\n",
    "There are 3 persons in the room, and their combined height is 521 cm\n",
    "Lea (183 cm)\n",
    "Kenya (172 cm)\n",
    "Ally (166 cm)\n",
    "```\n",
    "\n",
    "Hint: in part 4 you will find instructions for removing items from a list.\n",
    "\n",
    "Hint2: it is always possible to call another method of the same class from within a method. The following should work just fine:\n",
    "\n",
    "```python\n",
    "class Room:\n",
    "    # ...\n",
    "    def shortest(self):\n",
    "        # your code goes here\n",
    "\n",
    "    def remove_shortest(self):\n",
    "        shortest_person = self.shortest()\n",
    "        # ...\n",
    "```"
   ]
  },
  {
   "cell_type": "code",
   "execution_count": 31,
   "metadata": {},
   "outputs": [
    {
     "name": "stdout",
     "output_type": "stream",
     "text": [
      "There are 4 persons in the room, and their combined height is 683 cm \n",
      "Lea (183 cm) \n",
      "Kenya (172 cm) \n",
      "Nina (162 cm) \n",
      "Ally (166 cm) \n",
      "\n",
      "\n",
      "Removed from room: Nina\n",
      "\n",
      "There are 3 persons in the room, and their combined height is 521 cm \n",
      "Lea (183 cm) \n",
      "Kenya (172 cm) \n",
      "Ally (166 cm) \n",
      "\n"
     ]
    }
   ],
   "source": [
    "class Person:\n",
    "    def __init__(self, name: str, height: int):\n",
    "        self.name = name\n",
    "        self.height = height\n",
    "\n",
    "    def __str__(self):\n",
    "        return self.name\n",
    "    \n",
    "class Room:\n",
    "    def __init__(self) -> None:\n",
    "        self.person_list = []\n",
    "\n",
    "    def add(self, person: Person):\n",
    "        self.person_list.append(person)\n",
    "\n",
    "    def is_empty(self):\n",
    "        if self.person_list is None:\n",
    "            return True\n",
    "        return False\n",
    "    def total_height(self):\n",
    "        total = 0\n",
    "        for person in self.person_list:\n",
    "            total += person.height\n",
    "        \n",
    "        return total\n",
    "    \n",
    "    def print_contents(self):\n",
    "        final_str = f\"There are {len(self.person_list)} persons in the room, and their combined height is {self.total_height()} cm \\n\"\n",
    "        for person in self.person_list:\n",
    "            final_str += f\"{person.name} ({person.height} cm) \\n\"\n",
    "        final_str.strip()\n",
    "\n",
    "        print(final_str)\n",
    "        \n",
    "\n",
    "    def shortest(self):\n",
    "        if not self.person_list:\n",
    "            return None\n",
    "        shortest = self.person_list[0]\n",
    "        for person in self.person_list:\n",
    "            if person.height < shortest.height:\n",
    "                shortest = person\n",
    "\n",
    "        return shortest\n",
    "    \n",
    "    def remove_shortest(self):\n",
    "        if not self.person_list:\n",
    "            return None\n",
    "        shortest_person = self.shortest()\n",
    "        self.person_list.remove(shortest_person)\n",
    "        return shortest_person\n",
    "\n",
    "\n",
    "room = Room()\n",
    "\n",
    "room.add(Person(\"Lea\", 183))\n",
    "room.add(Person(\"Kenya\", 172))\n",
    "room.add(Person(\"Nina\", 162))\n",
    "room.add(Person(\"Ally\", 166))\n",
    "room.print_contents()\n",
    "\n",
    "print()\n",
    "\n",
    "removed = room.remove_shortest()\n",
    "print(f\"Removed from room: {removed.name}\")\n",
    "\n",
    "print()\n",
    "\n",
    "room.print_contents()"
   ]
  },
  {
   "cell_type": "code",
   "execution_count": null,
   "metadata": {},
   "outputs": [],
   "source": []
  }
 ],
 "metadata": {
  "kernelspec": {
   "display_name": ".venv",
   "language": "python",
   "name": "python3"
  },
  "language_info": {
   "codemirror_mode": {
    "name": "ipython",
    "version": 3
   },
   "file_extension": ".py",
   "mimetype": "text/x-python",
   "name": "python",
   "nbconvert_exporter": "python",
   "pygments_lexer": "ipython3",
   "version": "3.10.10"
  },
  "orig_nbformat": 4
 },
 "nbformat": 4,
 "nbformat_minor": 2
}
