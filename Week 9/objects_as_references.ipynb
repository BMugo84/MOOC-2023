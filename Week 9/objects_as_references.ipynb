{
 "cells": [
  {
   "attachments": {},
   "cell_type": "markdown",
   "metadata": {},
   "source": [
    "# Objects and references\n",
    "Learning objectives\n",
    "After this section\n",
    "\n",
    "* You will be able to use different data structures for handling objects\n",
    "* You will know how objects can be passed as arguments\n",
    "\n",
    "\n",
    "Every value in Python is an object. Any object you create based on a class you've defined yourself works exactly the same as any \"regular\" Python object. For example, objects can be stored in a list:"
   ]
  },
  {
   "cell_type": "code",
   "execution_count": 4,
   "metadata": {},
   "outputs": [
    {
     "name": "stdout",
     "output_type": "stream",
     "text": [
      "Mathematics 1\n",
      "Programming 1\n",
      "Physics 2\n",
      "Programming 2\n",
      "Total credits received: 20\n"
     ]
    }
   ],
   "source": [
    "from datetime import date\n",
    "\n",
    "class CompletedCourse:\n",
    "\n",
    "    def __init__(self, course_name: str, credits: int, completion_date: date):\n",
    "        self.name = course_name\n",
    "        self.credits = credits\n",
    "        self.completion_date = completion_date\n",
    "\n",
    "\n",
    "if __name__ == \"__main__\":\n",
    "    # Here we create some completed courses and add these to a list \n",
    "    completed = []\n",
    "\n",
    "    maths1 = CompletedCourse(\"Mathematics 1\", 5, date(2020, 3, 11))\n",
    "    prog1 = CompletedCourse(\"Programming 1\", 6, date(2019, 12, 17))\n",
    "\n",
    "    completed.append(maths1)\n",
    "    completed.append(prog1)\n",
    "\n",
    "    # Let's add a couple more straight to the list\n",
    "    completed.append(CompletedCourse(\"Physics 2\", 4, date(2019, 11, 10)))\n",
    "    completed.append(CompletedCourse(\"Programming 2\", 5, date(2020, 5, 19)))\n",
    "\n",
    "    # Go through all the completed courses, print out their names \n",
    "    # and sum up the credits received\n",
    "    credits = 0\n",
    "    for course in completed:\n",
    "        print(course.name)\n",
    "        credits += course.credits\n",
    "\n",
    "    print(\"Total credits received:\", credits)"
   ]
  },
  {
   "attachments": {},
   "cell_type": "markdown",
   "metadata": {},
   "source": [
    "## Programming exercise:\n",
    "The fastest car\n",
    "\n",
    "\n",
    "The exercise template contains a class named Car which represents the features of a car through two attributes: make (str) and top_speed (int).\n",
    "\n",
    "Please write a function named fastest_car(cars: list) which takes a list of Car objects as its argument.\n",
    "\n",
    "The function should return the make of the fastest car. You may assume there will always be a single car with the highest top speed. Do not change the list given as an argument, or make any changes to the Car class definition.\n",
    "\n",
    "You may use the following code to test your function:\n",
    "\n",
    "```python\n",
    "if __name__ == \"__main__\":\n",
    "    car1 = Car(\"Saab\", 195)\n",
    "    car2 = Car(\"Lada\", 110)\n",
    "    car3 = Car(\"Ferrari\", 280)\n",
    "    car4 = Car(\"Trabant\", 85)\n",
    "\n",
    "    cars = [car1, car2, car3, car4]\n",
    "    print(fastest_car(cars))\n",
    "```\n",
    "Sample output\n",
    "```console\n",
    "Ferrari\n",
    "```"
   ]
  },
  {
   "cell_type": "code",
   "execution_count": 5,
   "metadata": {},
   "outputs": [
    {
     "name": "stdout",
     "output_type": "stream",
     "text": [
      "Ferrari\n"
     ]
    }
   ],
   "source": [
    "class Car:\n",
    "    def __init__(self, make: str, top_speed: int) -> None:\n",
    "        self.make = make\n",
    "        self.top_speed = top_speed\n",
    "\n",
    "def fastest_car(cars: list):\n",
    "    fastest = max(cars, key=lambda car: car.top_speed)\n",
    "    return fastest.make    \n",
    "        \n",
    "if __name__ == \"__main__\":\n",
    "    car1 = Car(\"Saab\", 195)\n",
    "    car2 = Car(\"Lada\", 110)\n",
    "    car3 = Car(\"Ferrari\", 280)\n",
    "    car4 = Car(\"Trabant\", 85)\n",
    "\n",
    "    cars = [car1, car2, car3, car4]\n",
    "    print(fastest_car(cars))"
   ]
  },
  {
   "attachments": {},
   "cell_type": "markdown",
   "metadata": {},
   "source": [
    "## Programming exercise:Passing submissions\n",
    "\n",
    "\n",
    "The exercise template contains a class named ExamSubmission which, as the name implies, models an examinee's submission in an exam. The class has two attributes defined: examinee (str) and points (int).\n",
    "\n",
    "Please write a function named passed(submissions: list, lowest_passing: int) which takes a list of exam submissions and an integer number representing the lowest passing grade as its arguments.\n",
    "\n",
    "The function should create and return a new list, which contains only the passed submissions from the original list. Please do not change the list given as an argument, or make any changes to the ExamSubmission class definition.\n",
    "\n",
    "You may use the following code to test your function:\n",
    "\n",
    "```python\n",
    "if __name__ == \"__main__\":\n",
    "    s1 = ExamSubmission(\"Peter\", 12)\n",
    "    s2 = ExamSubmission(\"Pippa\", 19)\n",
    "    s3 = ExamSubmission(\"Paul\", 15)\n",
    "    s4 = ExamSubmission(\"Phoebe\", 9)\n",
    "    s5 = ExamSubmission(\"Persephone\", 17)\n",
    "\n",
    "    passes = passed([s1, s2, s3, s4, s5], 15)\n",
    "    for passing in passes:\n",
    "        print(passing)\n",
    "```\n",
    "\n",
    "```console\n",
    "ExamSubmission (examinee: Pippa, points: 19)\n",
    "ExamSubmission (examinee: Paul, points: 15)\n",
    "ExamSubmission (examinee: Persephone, points: 17)\n",
    "```"
   ]
  },
  {
   "cell_type": "code",
   "execution_count": 6,
   "metadata": {},
   "outputs": [
    {
     "name": "stdout",
     "output_type": "stream",
     "text": [
      "ExamSubmission (examinee: Pippa, points: 19)\n",
      "ExamSubmission (examinee: Paul, points: 15)\n",
      "ExamSubmission (examinee: Persephone, points: 17)\n"
     ]
    }
   ],
   "source": [
    "class ExamSubmission:\n",
    "    def __init__(self, examinee: str, points: int):\n",
    "        self.examinee = examinee\n",
    "        self.points = points\n",
    "\n",
    "    def __str__(self):\n",
    "        return f\"ExamSubmission (examinee: {self.examinee}, points: {self.points})\"\n",
    "\n",
    "\n",
    "def passed(submissions: list, lowest_passing: int) -> list:\n",
    "    new_list = []\n",
    "    for item in submissions:\n",
    "        if item.points >= lowest_passing:\n",
    "            new_list.append(item)\n",
    "\n",
    "    return new_list\n",
    "\n",
    "\n",
    "if __name__ == \"__main__\":\n",
    "    s1 = ExamSubmission(\"Peter\", 12)\n",
    "    s2 = ExamSubmission(\"Pippa\", 19)\n",
    "    s3 = ExamSubmission(\"Paul\", 15)\n",
    "    s4 = ExamSubmission(\"Phoebe\", 9)\n",
    "    s5 = ExamSubmission(\"Persephone\", 17)\n",
    "\n",
    "    passes = passed([s1, s2, s3, s4, s5], 15)\n",
    "    for passing in passes:\n",
    "        print(passing)"
   ]
  },
  {
   "attachments": {},
   "cell_type": "markdown",
   "metadata": {},
   "source": [
    "You may remember that lists do not contain any objects themselves. They contain references to objects. The exact same object can appear multiple times in a single list, and it can be referred to multiple times within the list or outside it. Let's have a look at an example:"
   ]
  },
  {
   "cell_type": "code",
   "execution_count": 7,
   "metadata": {},
   "outputs": [],
   "source": [
    "class Product:\n",
    "    def __init__(self, name: int, unit: str):\n",
    "        self.name = name\n",
    "        self.unit = unit\n",
    "\n",
    "\n",
    "if __name__ == \"__main__\":\n",
    "    shopping_list = []\n",
    "    milk = Product(\"Milk\", \"litre\")\n",
    "\n",
    "    shopping_list.append(milk)\n",
    "    shopping_list.append(milk)\n",
    "    shopping_list.append(Product(\"Cucumber\", \"piece\"))"
   ]
  },
  {
   "attachments": {
    "9_1_1.webp": {
     "image/webp": "[encoded data removed]"
    }
   },
   "cell_type": "markdown",
   "metadata": {},
   "source": [
    "![9_1_1.webp](attachment:9_1_1.webp)\n",
    "If there is more than one reference to the same object, it makes no difference which one of the references is used:"
   ]
  },
  {
   "cell_type": "code",
   "execution_count": 8,
   "metadata": {},
   "outputs": [
    {
     "name": "stdout",
     "output_type": "stream",
     "text": [
      "Dogs initially:\n",
      "Fluffy\n",
      "Fluffy\n",
      "Fluffy\n",
      "The dog at index 0 is renamed:\n",
      "Pooch\n",
      "Pooch\n",
      "Fluffy\n",
      "The dog at index 2 is renamed:\n",
      "Pooch\n",
      "Pooch\n",
      "Fifi\n"
     ]
    }
   ],
   "source": [
    "class Dog:\n",
    "    def __init__(self, name):\n",
    "        self.name = name\n",
    "\n",
    "    def __str__(self):\n",
    "        return self.name\n",
    "\n",
    "dogs = []\n",
    "fluffy = Dog(\"Fluffy\")\n",
    "dogs.append(fluffy)\n",
    "dogs.append(fluffy)\n",
    "dogs.append(Dog(\"Fluffy\"))\n",
    "\n",
    "print(\"Dogs initially:\")\n",
    "for dog in dogs:\n",
    "    print(dog)\n",
    "\n",
    "print(\"The dog at index 0 is renamed:\")\n",
    "dogs[0].name = \"Pooch\"\n",
    "for dog in dogs:\n",
    "    print(dog)\n",
    "\n",
    "print(\"The dog at index 2 is renamed:\")\n",
    "dogs[2].name = \"Fifi\"\n",
    "for dog in dogs:\n",
    "    print(dog)"
   ]
  },
  {
   "attachments": {},
   "cell_type": "markdown",
   "metadata": {},
   "source": [
    "The references at indexes 0 and 1 in the list refer to the same object. Either one of the references can be used to access the object. The reference at index 2 refers to a different object, albeit with seemingly the same contents. Changing the contents of this latter object does not affect the other one.\n",
    "\n",
    "The operator is is used for checking if the two references refer to the exact same object, while the operator == will tell you if the contents of the objects are the same. The following example hopefully makes the difference clear:"
   ]
  },
  {
   "cell_type": "code",
   "execution_count": 9,
   "metadata": {},
   "outputs": [
    {
     "name": "stdout",
     "output_type": "stream",
     "text": [
      "False\n",
      "True\n",
      "False\n",
      "\n",
      "True\n",
      "True\n",
      "True\n"
     ]
    }
   ],
   "source": [
    "list1 = [1, 2, 3]\n",
    "list2 = [1, 2, 3]\n",
    "list3 = list1\n",
    "\n",
    "print(list1 is list2)\n",
    "print(list1 is list3)\n",
    "print(list2 is list3)\n",
    "\n",
    "print()\n",
    "\n",
    "print(list1 == list2)\n",
    "print(list1 == list3)\n",
    "print(list2 == list3)"
   ]
  },
  {
   "attachments": {},
   "cell_type": "markdown",
   "metadata": {},
   "source": [
    "Any Python object can also be stored in a dictionary or any other data structure. This also applies to objects created based on a class you've defined yourself."
   ]
  },
  {
   "cell_type": "code",
   "execution_count": 10,
   "metadata": {},
   "outputs": [],
   "source": [
    "class Student:\n",
    "    def __init__(self, name: str, cr: int):\n",
    "        self.name = name\n",
    "        self.cr = cr\n",
    "\n",
    "if __name__ == \"__main__\":\n",
    "    # The key in this dictionary is the student number, \n",
    "    # and the value is an object of type Student\n",
    "    students = {}\n",
    "    students[\"12345\"] = Student(\"Saul Student\", 10)\n",
    "    students[\"54321\"] = Student(\"Sally Student\", 67)"
   ]
  },
  {
   "attachments": {
    "9_1_2.webp": {
     "image/webp": "[encoded data removed]"
    }
   },
   "cell_type": "markdown",
   "metadata": {},
   "source": [
    "The [visualisation too]([https://](https://pythontutor.com/visualize.html#mode=display))l can help in making sense of the above example:\n",
    "\n",
    "![9_1_2.webp](attachment:9_1_2.webp)"
   ]
  },
  {
   "attachments": {},
   "cell_type": "markdown",
   "metadata": {},
   "source": [
    "## Self or no self?\n",
    "Thus far we've only touched upon the surface of using the self parameter name. Let's have a closer look at when it should or should not be used.\n",
    "\n",
    "Below we have a simple class which lets us create a vocabulary object containing some words:"
   ]
  },
  {
   "cell_type": "code",
   "execution_count": 11,
   "metadata": {},
   "outputs": [
    {
     "name": "stdout",
     "output_type": "stream",
     "text": [
      "nerd\n",
      "object\n",
      "object-oriented programming\n",
      "python\n"
     ]
    }
   ],
   "source": [
    "class Vocabulary:\n",
    "    def __init__(self):\n",
    "        self.words = []\n",
    "\n",
    "    def add_word(self, word: str):\n",
    "        if not word in self.words:\n",
    "            self.words.append(word)\n",
    "\n",
    "    def print_vocabulary(self):\n",
    "        for word in sorted(self.words):\n",
    "            print(word)\n",
    "\n",
    "vocab = Vocabulary()\n",
    "vocab.add_word(\"python\")\n",
    "vocab.add_word(\"object\")\n",
    "vocab.add_word(\"object-oriented programming\")\n",
    "vocab.add_word(\"object\")\n",
    "vocab.add_word(\"nerd\")\n",
    "\n",
    "vocab.print_vocabulary()"
   ]
  },
  {
   "attachments": {},
   "cell_type": "markdown",
   "metadata": {},
   "source": [
    "The list of words is stored in an attribute named self.words. In this case the self parameter name is mandatory in both the constructor method of the class and in any other method accessing that variable. If self is left out, the different methods will not access the same list of words.\n",
    "\n",
    "Let's add a new method to our class definition. The method longest_word(self) returns (one of) the longest words in the vocabulary.\n",
    "\n",
    "The following is one way of completing this task, but we will soon see it is not a very good way:"
   ]
  },
  {
   "cell_type": "code",
   "execution_count": 12,
   "metadata": {},
   "outputs": [],
   "source": [
    "class Vocabulary:\n",
    "    def __init__(self):\n",
    "        self.words = []\n",
    "\n",
    "    def add_word(self, word: str):\n",
    "        if not word in self.words:\n",
    "            self.words.append(word)\n",
    "\n",
    "    def print_vocabulary(self):\n",
    "        for word in sorted(self.words):\n",
    "            print(word)\n",
    "\n",
    "    def longest_word(self):\n",
    "        # define two helper variables\n",
    "        self.longest = \"\"\n",
    "        self.length_of_longest = 0\n",
    "\n",
    "        for word in self.words:\n",
    "            if len(word) > self.length_of_longest:\n",
    "                self.length_of_longest = len(word)\n",
    "                self.longest = word\n",
    "\n",
    "        return self.longest"
   ]
  },
  {
   "attachments": {},
   "cell_type": "markdown",
   "metadata": {},
   "source": [
    "This method uses two helper variables which are declared with the self parameter name. Remember, the names of variables do not matter in the functional sense, so these variables could also be named more confusingly as, for example, helper and helper2. The code begins to look a bit cryptic:"
   ]
  },
  {
   "cell_type": "code",
   "execution_count": 13,
   "metadata": {},
   "outputs": [],
   "source": [
    "class Vocabulary:\n",
    "    def __init__(self):\n",
    "        self.words = []\n",
    "\n",
    "    def add_word(self, word: str):\n",
    "        if not word in self.words:\n",
    "            self.words.append(word)\n",
    "\n",
    "    def print_vocabulary(self):\n",
    "        for word in sorted(self.words):\n",
    "            print(word)\n",
    "\n",
    "    def longest_word(self):\n",
    "        # define two helper variables\n",
    "        self.helper = \"\"\n",
    "        self.helper2 = 0\n",
    "\n",
    "        for word in self.words:\n",
    "            if len(word) > self.helper2:\n",
    "                self.helper2 = len(word)\n",
    "                self.helper = word\n",
    "\n",
    "        return self.helper"
   ]
  },
  {
   "attachments": {},
   "cell_type": "markdown",
   "metadata": {},
   "source": [
    "When a variable is declared with the self parameter name, it becomes an attribute of the object. This means that the variable will exist for as long as the object exists. Specifically, the variable will continue existing also after the method declaring it has finished its execution. In the example above this is quite unnecessary, as the helper variables are meant to be used only within the method longest_word(self). So, declaring helper variables with the self parameter name is not a very good idea here.\n",
    "\n",
    "Besides causing variables to exist beyond their \"expiration date\", using self to create new attributes where they aren't necessary can cause difficult bugs in your code. Especially generically named attributes such as self.helper, which are then used in various different methods, can cause unexpected behaviour which is hard to trace.\n",
    "\n",
    "For example, if a helper variable is declared as an attribute and assigned an initial value in the constructor, but the variable is then used in an unrelated context in another method, the results are often unpredictable:"
   ]
  },
  {
   "cell_type": "code",
   "execution_count": 14,
   "metadata": {},
   "outputs": [],
   "source": [
    "class Vocabulary:\n",
    "    def __init__(self):\n",
    "        self.words = []\n",
    "        # define helper variables\n",
    "        self.helper = \"\"\n",
    "        self.helper2 = \"\"\n",
    "        self.helper3 = \"\"\n",
    "        self.helper4 = \"\"\n",
    "\n",
    "    # ...\n",
    "\n",
    "    def longest_word(self):\n",
    "        for word in self.words:\n",
    "            # above the helper variables were all assigned string values\n",
    "            # the following will not work because the type of helper2 is wrong\n",
    "            if len(word) > self.helper2:\n",
    "                self.helper2 = len(word)\n",
    "                self.helper = word\n",
    "\n",
    "        return self.helper"
   ]
  },
  {
   "attachments": {},
   "cell_type": "markdown",
   "metadata": {},
   "source": [
    "\n",
    "\n",
    "\n",
    "You might think this would be solved by just declaring attributes where they are used, outside the constructor, but this results in a situation where the attributes accessible through an object are dependent on which methods have been executed. In the previous part we saw that the advantage of declaring attributes in the constructor is that all instances of the class will then have the exact same attributes. If this is not the case, using different instances of the class can easily lead to errors.\n",
    "\n",
    "In conclusion, if you need helper variables for use within a single method, the correct way to do it is without self. To make your code easier to understand, also use informative variable names:\n",
    "\n"
   ]
  },
  {
   "cell_type": "code",
   "execution_count": null,
   "metadata": {},
   "outputs": [],
   "source": [
    "\n",
    "\n",
    "class Vocabulary:\n",
    "    def __init__(self):\n",
    "        self.words = []\n",
    "\n",
    "    # ...\n",
    "\n",
    "    def longest_word(self):\n",
    "        # the correct way of declaring helper variables \n",
    "        # for use within a single method\n",
    "        longest = \"\"\n",
    "        length_of_longest = 0\n",
    "\n",
    "        for word in self.words:\n",
    "            if len(word) > length_of_longest:\n",
    "                length_of_longest = len(word)\n",
    "                longest = word\n",
    "\n",
    "        return longest\n",
    "\n",
    "        \n"
   ]
  },
  {
   "attachments": {},
   "cell_type": "markdown",
   "metadata": {},
   "source": [
    "In the above implementation the helper variables are only accessible while the method is being executed. The values stored within cannot cause complications in other parts of the program.\n"
   ]
  },
  {
   "attachments": {},
   "cell_type": "markdown",
   "metadata": {},
   "source": [
    "\n",
    "## Objects as arguments to functions\n",
    "The objects created based on our own classes are usually mutable. You may remember that, for instance, Python lists are mutable: when passed as arguments to functions, their contents can change as a result of the execution.\n",
    "\n",
    "Let's have a look at a simple example where a function receives a reference to an object of type Student as its argument. The function then changes the name of the student. Both the function and the main function calling it access the same object, so the change is apparent in the main function as well.\n"
   ]
  },
  {
   "cell_type": "code",
   "execution_count": 15,
   "metadata": {},
   "outputs": [
    {
     "name": "stdout",
     "output_type": "stream",
     "text": [
      "Steve Student (12345)\n",
      "Saul Student (12345)\n"
     ]
    }
   ],
   "source": [
    "\n",
    "class Student:\n",
    "    def __init__(self, name: str, student_number: str):\n",
    "        self.name = name\n",
    "        self.student_number = student_number\n",
    "\n",
    "    def __str__(self):\n",
    "        return f\"{self.name} ({self.student_number})\"\n",
    "\n",
    "# the type hint here uses the name of the class defined above\n",
    "def change_name(student: Student):\n",
    "    student.name = \"Saul Student\"\n",
    "\n",
    "# create a Student object\n",
    "steve = Student(\"Steve Student\", \"12345\")\n",
    "\n",
    "print(steve)\n",
    "change_name(steve)\n",
    "print(steve)\n",
    "\n"
   ]
  },
  {
   "attachments": {},
   "cell_type": "markdown",
   "metadata": {},
   "source": [
    "\n",
    "\n",
    "It is also possible to create objects within functions. If a function returns a reference to the newly created object, it is also accessible within the main function:\n"
   ]
  },
  {
   "cell_type": "code",
   "execution_count": 16,
   "metadata": {},
   "outputs": [
    {
     "name": "stdout",
     "output_type": "stream",
     "text": [
      "Mindy Pythons (35653)\n",
      "Mike Pythons (84070)\n",
      "Mindy Javanese (93179)\n",
      "Mike Javanese (51852)\n",
      "Mindy Pythons (83175)\n"
     ]
    }
   ],
   "source": [
    "\n",
    "from random import randint, choice\n",
    "\n",
    "class Student:\n",
    "    def __init__(self, name: str, student_number: str):\n",
    "        self.name = name\n",
    "        self.student_number = student_number\n",
    "\n",
    "    def __str__(self):\n",
    "        return f\"{self.name} ({self.student_number})\"\n",
    "\n",
    "# This function creates and returns a new Student object.\n",
    "# It randomly selects values for the name and the student number.\n",
    "def new_student():\n",
    "    first_names = [\"Mark\",\"Mindy\",\"Mary\",\"Mike\"]\n",
    "    last_names = [\"Javanese\", \"Rusty\", \"Scriptor\", \"Pythons\"]\n",
    "\n",
    "    # randomly determine the name\n",
    "    name = choice(first_names) + \" \" + choice(last_names)\n",
    "\n",
    "    # randomly determine the student number\n",
    "    student_number = str(randint(10000,99999))\n",
    "\n",
    "    # Create and return a Student object\n",
    "    return Student(name, student_number)\n",
    "\n",
    "if __name__ == \"__main__\":\n",
    "    # Call the function five times and store the results in a list\n",
    "    students = []\n",
    "    for i in range(5):\n",
    "        students.append(new_student())\n",
    "\n",
    "    # Print out the results\n",
    "    for student in students :\n",
    "        print(student)\n"
   ]
  },
  {
   "cell_type": "markdown",
   "metadata": {},
   "source": [
    "Executing the above could result in the following printout (NB: as randomness is involved, if you try the code yourself, the results will likely be different).\n",
    "\n",
    "Sample output\n",
    "Mary Rusty (78218)\n",
    "Mindy Rusty (80068)\n",
    "Mike Pythons (70396)\n",
    "Mark Javanese (83307)\n",
    "Mary Pythons (45149)\n"
   ]
  },
  {
   "cell_type": "markdown",
   "metadata": {},
   "source": [
    "\n",
    "Objects as arguments to methods\n",
    "Similarly, objects can act as arguments to methods. Let's have a look at an example from an amusement park:\n"
   ]
  },
  {
   "cell_type": "code",
   "execution_count": 17,
   "metadata": {},
   "outputs": [],
   "source": [
    "\n",
    "class Person:\n",
    "    def __init__(self, name: str, height: int):\n",
    "        self.name = name\n",
    "        self.height = height\n",
    "\n",
    "class Attraction:\n",
    "    def __init__(self, name: str, min_height: int):\n",
    "        self.visitors = 0\n",
    "        self.name = name\n",
    "        self.min_height = min_height\n",
    "\n",
    "    def admit_visitor(self, person: Person):\n",
    "        if person.height >= self.min_height:\n",
    "            self.visitors += 1\n",
    "            print(f\"{person.name} got on board\")\n",
    "        else:\n",
    "            print(f\"{person.name} was too short :(\")\n",
    "\n",
    "    def __str__(self):\n",
    "        return f\"{self.name} ({self.visitors} visitors)\"\n"
   ]
  },
  {
   "cell_type": "markdown",
   "metadata": {},
   "source": [
    "The Attraction contains a method admit_visitor, which takes an object of type Person as an argument. If the visitor is tall enough, they are admitted on board and the number of visitors is increased. The classes can be tested as follows:\n"
   ]
  },
  {
   "cell_type": "code",
   "execution_count": 18,
   "metadata": {},
   "outputs": [
    {
     "name": "stdout",
     "output_type": "stream",
     "text": [
      "Jared got on board\n",
      "Alice was too short :(\n",
      "Rollercoaster (1 visitors)\n"
     ]
    }
   ],
   "source": [
    "\n",
    "rollercoaster = Attraction(\"Rollercoaster\", 120)\n",
    "jared = Person(\"Jared\", 172)\n",
    "alice = Person(\"Alice\", 105)\n",
    "\n",
    "rollercoaster.admit_visitor(jared)\n",
    "rollercoaster.admit_visitor(alice)\n",
    "\n",
    "print(rollercoaster)"
   ]
  },
  {
   "attachments": {},
   "cell_type": "markdown",
   "metadata": {},
   "source": [
    "# Programming exercise:Baby Centre\n",
    "\n",
    "\n",
    "NB: Some exercises have multiple parts, and you can receive points for the different parts separately. You can submit a partially completed exercise by choosing 'Submit Solution' from the menu next to the button for executing tests .\n",
    "\n",
    "The exercise template contains a class named Person and a skeleton implementation for the class BabyCentre. A BabyCentre object performs various actions on a Person object. It may, for example, weigh or feed the person. In this exercise you will implement the rest of the BabyCentre class. Please do not change the class definition of Person in any way.\n",
    "\n",
    "## Weighing persons\n",
    "The BabyCentre class definition contains an outline for the function weigh:\n",
    "\n",
    "```python\n",
    "class BabyCentre:\n",
    "    def weigh(self, person: Person):\n",
    "        # return the weight of the person passed as an argument\n",
    "        return -1\n",
    "```\n",
    "The method takes a Person object as its argument. It should return the weight of the person. You can access the weight of a person through the appropriate attribute defined in the Person class. Please fill in the rest of the implementation for the method weigh.\n",
    "\n",
    "Below is an example of a main function where a BabyCentre weighs two separate Person objects:\n",
    "\n",
    "```python\n",
    "baby_centre = BabyCentre()\n",
    "\n",
    "eric = Person(\"Eric\", 1, 110, 7)\n",
    "peter = Person(\"Peter\", 33, 176, 85)\n",
    "\n",
    "print(f\"{eric.name} weighs {baby_centre.weigh(eric)} kg\")\n",
    "print(f\"{peter.name} weighs {baby_centre.weigh(peter)} kg\")\n",
    "```\n",
    "Sample output\n",
    "\n",
    "```console\n",
    "Eric weighs 7 kg\n",
    "Peter weighs 85 kg\n",
    "```"
   ]
  },
  {
   "cell_type": "code",
   "execution_count": 19,
   "metadata": {},
   "outputs": [
    {
     "name": "stdout",
     "output_type": "stream",
     "text": [
      "Eric weighs 7 kg\n",
      "Peter weighs 85 kg\n"
     ]
    }
   ],
   "source": [
    "class Person:\n",
    "    def __init__(self, name: str, age: int, height: int, weight: int):\n",
    "        self.name = name\n",
    "        self.age = age\n",
    "        self.height = height\n",
    "        self.weight = weight\n",
    "\n",
    "class BabyCentre:\n",
    "    def weigh(self, person: Person):\n",
    "        # return the weight of the person passed as an argument\n",
    "        return person.weight\n",
    "    \n",
    "baby_centre = BabyCentre()\n",
    "\n",
    "eric = Person(\"Eric\", 1, 110, 7)\n",
    "peter = Person(\"Peter\", 33, 176, 85)\n",
    "\n",
    "print(f\"{eric.name} weighs {baby_centre.weigh(eric)} kg\")\n",
    "print(f\"{peter.name} weighs {baby_centre.weigh(peter)} kg\")"
   ]
  },
  {
   "attachments": {},
   "cell_type": "markdown",
   "metadata": {},
   "source": [
    "## Feeding\n",
    "It is possible to change the state of an object passed as an argument. Please implement the method feed(person: Person) which increases by one the weight of the person passed as an argument.\n",
    "\n",
    "In the following example two persons are weighed, and then one of them is fed three times. Then the persons are weighed again:\n",
    "\n",
    "```python\n",
    "baby_centre = BabyCentre()\n",
    "\n",
    "eric = Person(\"Eric\", 1, 110, 7)\n",
    "peter = Person(\"Peter\", 33, 176, 85)\n",
    "\n",
    "print(f\"{eric.name} weighs {baby_centre.weigh(eric)} kg\")\n",
    "print(f\"{peter.name} weighs {baby_centre.weigh(peter)} kg\")\n",
    "print() \n",
    "\n",
    "baby_centre.feed(eric)\n",
    "baby_centre.feed(eric)\n",
    "baby_centre.feed(eric)\n",
    "\n",
    "print(f\"{eric.name} weighs {baby_centre.weigh(eric)} kg\")\n",
    "print(f\"{peter.name} weighs {baby_centre.weigh(peter)} kg\")\n",
    "```\n",
    "\n",
    "The printout should reveal that Eric's weight has increased by three:\n",
    "\n",
    "Sample output\n",
    "```console\n",
    "Eric weighs 7 kg\n",
    "Peter weighs 85 kg\n",
    "\n",
    "Eric weighs 10 kg\n",
    "Peter weighs 85 kg\n",
    "```"
   ]
  },
  {
   "cell_type": "code",
   "execution_count": 23,
   "metadata": {},
   "outputs": [
    {
     "name": "stdout",
     "output_type": "stream",
     "text": [
      "Eric weighs 7 kg\n",
      "Peter weighs 85 kg\n",
      "\n",
      "Eric weighs 10 kg\n",
      "Peter weighs 85 kg\n"
     ]
    }
   ],
   "source": [
    "class Person:\n",
    "    def __init__(self, name: str, age: int, height: int, weight: int):\n",
    "        self.name = name\n",
    "        self.age = age\n",
    "        self.height = height\n",
    "        self.weight = weight\n",
    "\n",
    "class BabyCentre:\n",
    "    def weigh(self, person: Person):\n",
    "        # return the weight of the person passed as an argument\n",
    "        return person.weight\n",
    "    \n",
    "    def feed(self, person: Person):\n",
    "        person.weight += 1\n",
    "    \n",
    "baby_centre = BabyCentre()\n",
    "\n",
    "eric = Person(\"Eric\", 1, 110, 7)\n",
    "peter = Person(\"Peter\", 33, 176, 85)\n",
    "\n",
    "print(f\"{eric.name} weighs {baby_centre.weigh(eric)} kg\")\n",
    "print(f\"{peter.name} weighs {baby_centre.weigh(peter)} kg\")\n",
    "print() \n",
    "\n",
    "baby_centre.feed(eric)\n",
    "baby_centre.feed(eric)\n",
    "baby_centre.feed(eric)\n",
    "\n",
    "print(f\"{eric.name} weighs {baby_centre.weigh(eric)} kg\")\n",
    "print(f\"{peter.name} weighs {baby_centre.weigh(peter)} kg\")"
   ]
  },
  {
   "attachments": {},
   "cell_type": "markdown",
   "metadata": {},
   "source": [
    "## Counting weigh-ins\n",
    "Please implement the method weigh_ins() which returns the total number of weigh-ins a BabyCentre object has performed. NB: you will need a new attribute for keeping track of the number of weigh-ins. You can use the following code to test your method:\n",
    "\n",
    "```python\n",
    "baby_centre = BabyCentre()\n",
    "\n",
    "eric = Person(\"Eric\", 1, 110, 7)\n",
    "peter = Person(\"Peter\", 33, 176, 85)\n",
    "\n",
    "print(f\"Total number of weigh-ins is {baby_centre.weigh_ins()}\")\n",
    "\n",
    "baby_centre.weigh(eric)\n",
    "baby_centre.weigh(eric)\n",
    "\n",
    "print(f\"Total number of weigh-ins is {baby_centre.weigh_ins()}\")\n",
    "\n",
    "baby_centre.weigh(eric)\n",
    "baby_centre.weigh(eric)\n",
    "baby_centre.weigh(eric)\n",
    "baby_centre.weigh(eric)\n",
    "\n",
    "print(f\"Total number of weigh-ins is {baby_centre.weigh_ins()}\")\n",
    "```\n",
    "Sample output\n",
    "```console\n",
    "Total number of weigh-ins is 0\n",
    "Total number of weigh-ins is 2\n",
    "Total number of weigh-ins is 6\n",
    "```"
   ]
  },
  {
   "cell_type": "code",
   "execution_count": 24,
   "metadata": {},
   "outputs": [
    {
     "name": "stdout",
     "output_type": "stream",
     "text": [
      "Total number of weigh-ins is 0\n",
      "Total number of weigh-ins is 2\n",
      "Total number of weigh-ins is 6\n"
     ]
    }
   ],
   "source": [
    "class Person:\n",
    "    def __init__(self, name: str, age: int, height: int, weight: int):\n",
    "        self.name = name\n",
    "        self.age = age\n",
    "        self.height = height\n",
    "        self.weight = weight\n",
    "\n",
    "class BabyCentre:\n",
    "    def __init__(self):\n",
    "        self.number_of_weigh_ins = 0\n",
    "    def weigh(self, person: Person):\n",
    "        self.number_of_weigh_ins += 1\n",
    "        # return the weight of the person passed as an argument\n",
    "        return person.weight\n",
    "    \n",
    "    def feed(self, person: Person):\n",
    "        person.weight += 1\n",
    "\n",
    "    def weigh_ins(self):\n",
    "        return self.number_of_weigh_ins\n",
    "        \n",
    "        \n",
    "\n",
    "baby_centre = BabyCentre()\n",
    "\n",
    "eric = Person(\"Eric\", 1, 110, 7)\n",
    "peter = Person(\"Peter\", 33, 176, 85)\n",
    "\n",
    "print(f\"Total number of weigh-ins is {baby_centre.weigh_ins()}\")\n",
    "\n",
    "baby_centre.weigh(eric)\n",
    "baby_centre.weigh(eric)\n",
    "\n",
    "print(f\"Total number of weigh-ins is {baby_centre.weigh_ins()}\")\n",
    "\n",
    "baby_centre.weigh(eric)\n",
    "baby_centre.weigh(eric)\n",
    "baby_centre.weigh(eric)\n",
    "baby_centre.weigh(eric)\n",
    "\n",
    "print(f\"Total number of weigh-ins is {baby_centre.weigh_ins()}\")"
   ]
  },
  {
   "attachments": {},
   "cell_type": "markdown",
   "metadata": {},
   "source": [
    "# Programming exercise:LunchCard and PaymentTerminal\n",
    "\n",
    "\n",
    "NB: Some exercises have multiple parts, and you can receive points for the different parts separately. You can submit a partially completed exercise by choosing 'Submit Solution' from the menu next to the button for executing tests .\n",
    "\n",
    "In the previous part there was an exercise where you implemented the class LunchCard. The card had separate methods for eating a regular and a special lunch, along with a method for depositing money on the card.\n",
    "\n",
    "The LunchCard class, as you were asked to implement it, has some problems, however. The card itself had knowledge of the prices of the different lunch options, and knew to subtract the right amount of money from the balance based on these. But imagine the prices changed, or there were new items introduced to the system, but several cards were already registered in the system. This would mean all existing cards would need to be replaced by versions with knowledge of the new prices.\n",
    "\n",
    "A better solution would be to make the cards \"stupid\", ignorant of the prices of different products. The purpose of the card would be to simply keep track of the available balance. All more complicated features should be contained within another class: the payment terminal.\n",
    "\n",
    "## A simpler LunchCard\n",
    "Let's first implement a simpler version of the LunchCard class. The card should contain functionality only for finding out the current balance, depositing money on the card, and subtracting from the balance. Please fill in the subtract_from_balance(amount) method in the exercise template according to the instructions in the comments:\n",
    "\n",
    "```python\n",
    "class LunchCard:\n",
    "    def __init__(self, balance: float):\n",
    "        self.balance = balance\n",
    "\n",
    "    def deposit_money(self, amount: float):\n",
    "        self.balance += amount\n",
    "\n",
    "    def subtract_from_balance(self, amount: float):\n",
    "        pass\n",
    "        # The amount should be subtracted from the balance only if\n",
    "        # there is enough money on the card.\n",
    "        # If the payment is successful, the method returns True. \n",
    "        # Otherwise it returns False.\n",
    "```\n",
    "You may use the following code to test your function:\n",
    "\n",
    "```python\n",
    "if __name__ == \"__main__\":\n",
    "    card = LunchCard(10)\n",
    "    print(\"Balance\", card.balance)\n",
    "    result = card.subtract_from_balance(8)\n",
    "    print(\"Payment successful:\", result)\n",
    "    print(\"Balance\", card.balance)\n",
    "    result = card.subtract_from_balance(4)\n",
    "    print(\"Payment successful:\", result)\n",
    "    print(\"Balance\", card.balance)\n",
    "```\n",
    "Sample output\n",
    "```console\n",
    "Balance 10\n",
    "Payment successful: True\n",
    "Balance 2\n",
    "Payment successful: False\n",
    "Balance 2\n",
    "```"
   ]
  },
  {
   "cell_type": "code",
   "execution_count": 28,
   "metadata": {},
   "outputs": [
    {
     "name": "stdout",
     "output_type": "stream",
     "text": [
      "Balance 10\n",
      "Payment successful: True\n",
      "Balance 2\n",
      "Payment successful: False\n",
      "Balance 2\n"
     ]
    }
   ],
   "source": [
    "class LunchCard:\n",
    "    def __init__(self, balance: float):\n",
    "        \"\"\"\n",
    "        Initialize a LunchCard instance with the given balance.\n",
    "\n",
    "        Args:\n",
    "            balance (float): The initial balance of the LunchCard.\n",
    "        \"\"\"\n",
    "        self.balance = balance\n",
    "\n",
    "    def deposit_money(self, amount: float):\n",
    "        \"\"\"\n",
    "        Deposit the specified amount of money into the LunchCard balance.\n",
    "\n",
    "        Args:\n",
    "            amount (float): The amount of money to be deposited.\n",
    "        \"\"\"\n",
    "        self.balance += amount\n",
    "\n",
    "    def subtract_from_balance(self, amount: float) -> bool:\n",
    "        \"\"\"\n",
    "        Subtract the specified amount from the LunchCard balance.\n",
    "\n",
    "        Args:\n",
    "            amount (float): The amount of money to be subtracted.\n",
    "\n",
    "        Returns:\n",
    "            bool: True if the payment is successful (balance is sufficient), False otherwise.\n",
    "        \"\"\"\n",
    "        if self.balance >= amount:\n",
    "            self.balance -= amount\n",
    "            return True\n",
    "        else:\n",
    "            return False\n",
    "\n",
    "\n",
    "if __name__ == \"__main__\":\n",
    "    card = LunchCard(10)\n",
    "    print(\"Balance\", card.balance)\n",
    "    result = card.subtract_from_balance(8)\n",
    "    print(\"Payment successful:\", result)\n",
    "    print(\"Balance\", card.balance)\n",
    "    result = card.subtract_from_balance(4)\n",
    "    print(\"Payment successful:\", result)\n",
    "    print(\"Balance\", card.balance)"
   ]
  },
  {
   "attachments": {},
   "cell_type": "markdown",
   "metadata": {},
   "source": [
    "## The payment terminal and dealing with cash payments\n",
    "In the student cafeteria it is possible to pay with either cash or a LunchCard. A payment terminal is used to handle both cash and card transactions. Let's start with the cash transactions.\n",
    "\n",
    "Here we have a skeleton implementation for a PaymentTerminal class. Please implement the methods as described in the comments:\n",
    "\n",
    "```python\n",
    "class PaymentTerminal:\n",
    "    def __init__(self):\n",
    "        # Initially there is 1000 euros in cash available at the terminal\n",
    "        self.funds = 1000\n",
    "        self.lunches = 0\n",
    "        self.specials = 0\n",
    "\n",
    "    def eat_lunch(self, payment: float):\n",
    "        # A regular lunch costs 2.50 euros.\n",
    "        # Increase the value of the funds at the terminal by the \n",
    "        # price of the lunch, increase the number of lunches sold, \n",
    "        # and return the appropriate change.\n",
    "        # If the payment passed as an argument is not large enough to cover\n",
    "        # the price, the lunch is not sold, and the entire sum is returned.\n",
    "\n",
    "    def eat_special(self, payment: float):\n",
    "        # A special lunch costs 4.30 euros.\n",
    "        # Increase the value of the funds at the terminal by the \n",
    "        # price of the lunch, increase the number of lunches sold, \n",
    "        # and return the appropriate change.\n",
    "        # If the payment passed as an argument is not large enough to cover\n",
    "        # the price, the lunch is not sold, and the entire sum is returned.\n",
    "```\n",
    "You may use the following code to test your class:\n",
    "\n",
    "```python\n",
    "exactum = PaymentTerminal()\n",
    "\n",
    "change = exactum.eat_lunch(10)\n",
    "print(\"The change returned was\", change)\n",
    "\n",
    "change = exactum.eat_lunch(5)\n",
    "print(\"The change returned was\", change)\n",
    "\n",
    "change = exactum.eat_special(4.3)\n",
    "print(\"The change returned was\", change)\n",
    "\n",
    "print(\"Funds available at the terminal:\", exactum.funds)\n",
    "print(\"Regular lunches sold:\", exactum.lunches)\n",
    "print(\"Special lunches sold:\", exactum.specials)\n",
    "```\n",
    "Sample output\n",
    "```console\n",
    "The change returned was 7.5\n",
    "The change returned was 2.5\n",
    "The change returned was 0.0\n",
    "Funds available at the terminal: 1009.3\n",
    "Regular lunches sold: 2\n",
    "Special lunches sold: 1\n",
    "```"
   ]
  },
  {
   "cell_type": "code",
   "execution_count": 27,
   "metadata": {},
   "outputs": [
    {
     "name": "stdout",
     "output_type": "stream",
     "text": [
      "The change returned was 7.5\n",
      "The change returned was 2.5\n",
      "The change returned was 0.0\n",
      "Funds available at the terminal: 1009.3\n",
      "Regular lunches sold: 2\n",
      "Special lunches sold: 1\n"
     ]
    }
   ],
   "source": [
    "class PaymentTerminal:\n",
    "    def __init__(self):\n",
    "        # Initially there is 1000 euros in cash available at the terminal\n",
    "        self.funds = 1000\n",
    "        self.lunches = 0\n",
    "        self.specials = 0\n",
    "\n",
    "    def eat_lunch(self, payment: float):\n",
    "        # A regular lunch costs 2.50 euros.\n",
    "        # Increase the value of the funds at the terminal by the \n",
    "        # price of the lunch, increase the number of lunches sold, \n",
    "        # and return the appropriate change.\n",
    "        # If the payment passed as an argument is not large enough to cover\n",
    "        # the price, the lunch is not sold, and the entire sum is returned.\n",
    "        if payment > 2.50:\n",
    "            self.lunches += 1\n",
    "            self.funds += 2.50\n",
    "            change = payment - 2.50\n",
    "        else:\n",
    "            change = payment\n",
    "\n",
    "        return change\n",
    "        \n",
    "\n",
    "    def eat_special(self, payment: float):\n",
    "        # A special lunch costs 4.30 euros.\n",
    "        # Increase the value of the funds at the terminal by the \n",
    "        # price of the lunch, increase the number of lunches sold, \n",
    "        # and return the appropriate change.\n",
    "        # If the payment passed as an argument is not large enough to cover\n",
    "        # the price, the lunch is not sold, and the entire sum is returned.\n",
    "        if payment > 2.50:\n",
    "            self.specials += 1\n",
    "            self.funds += 4.30\n",
    "            change = payment - 4.30\n",
    "        else:\n",
    "            change = payment\n",
    "\n",
    "        return change\n",
    "\n",
    "exactum = PaymentTerminal()\n",
    "\n",
    "change = exactum.eat_lunch(10)\n",
    "print(\"The change returned was\", change)\n",
    "\n",
    "change = exactum.eat_lunch(5)\n",
    "print(\"The change returned was\", change)\n",
    "\n",
    "change = exactum.eat_special(4.3)\n",
    "print(\"The change returned was\", change)\n",
    "\n",
    "print(\"Funds available at the terminal:\", exactum.funds)\n",
    "print(\"Regular lunches sold:\", exactum.lunches)\n",
    "print(\"Special lunches sold:\", exactum.specials)"
   ]
  },
  {
   "attachments": {},
   "cell_type": "markdown",
   "metadata": {},
   "source": [
    "## Dealing with card transactions\n",
    "Now let's implement card transactions. We will need methods which take a LunchCard as an argument, and reduce the balance on the card by the price of the lunch. Below you will find the outlines of these functions. Please fill in the methods as described in the comments:\n",
    "\n",
    "```python\n",
    "class PaymentTerminal:\n",
    "    # ...\n",
    "\n",
    "    def eat_lunch_lunchcard(self, card: LunchCard):\n",
    "        # A regular lunch costs 2.50 euros.\n",
    "        # If there is enough money on the card, \n",
    "        # subtract the price of the lunch from the balance\n",
    "        # and return True. If not, return False.\n",
    "\n",
    "\n",
    "    def eat_special_lunchcard(self, card: LunchCard):\n",
    "        # A special lunch costs 4.30 euros.\n",
    "        # If there is enough money on the card, \n",
    "        # subtract the price of the lunch from the balance\n",
    "        # and return True. If not, return False.\n",
    "```\n",
    "NB: when paying with a LunchCard the cash funds available at the terminal do not change. However, the lunches are still sold whenever there is the required balance available, so remember to increase the number of lunches sold appropriately.\n",
    "\n",
    "You may use the following code to test your class:\n",
    "\n",
    "```python\n",
    "exactum = PaymentTerminal()\n",
    "\n",
    "change = exactum.eat_lunch(10)\n",
    "print(\"The change returned was\", change)\n",
    "\n",
    "card = LunchCard(7)\n",
    "\n",
    "result = exactum.eat_special_lunchcard(card)\n",
    "print(\"Payment successful:\", result)\n",
    "result = exactum.eat_special_lunchcard(card)\n",
    "print(\"Payment successful:\", result)\n",
    "result = exactum.eat_lunch_lunchcard(card)\n",
    "print(\"Payment successful:\", result)\n",
    "\n",
    "print(\"Funds available at the terminal:\", exactum.funds)\n",
    "print(\"Regular lunches sold:\", exactum.lunches)\n",
    "print(\"Special lunches sold:\", exactum.specials)\n",
    "```\n",
    "Sample output\n",
    "```console\n",
    "The change returned was 7.5\n",
    "Payment successful: True\n",
    "Payment successful: False\n",
    "Payment successful: True\n",
    "Funds available at the terminal: 1002.5\n",
    "Regular lunches sold: 2\n",
    "Special lunches sold: 1\n",
    "```"
   ]
  },
  {
   "cell_type": "code",
   "execution_count": 32,
   "metadata": {},
   "outputs": [
    {
     "name": "stdout",
     "output_type": "stream",
     "text": [
      "The change returned was 7.5\n",
      "Payment successful: True\n",
      "Payment successful: False\n",
      "Payment successful: True\n",
      "Funds available at the terminal: 1002.5\n",
      "Regular lunches sold: 2\n",
      "Special lunches sold: 1\n"
     ]
    }
   ],
   "source": [
    "class PaymentTerminal:\n",
    "    def __init__(self):\n",
    "        # Initially there is 1000 euros in cash available at the terminal\n",
    "        self.funds = 1000\n",
    "        self.lunches = 0\n",
    "        self.specials = 0\n",
    "\n",
    "    def eat_lunch(self, payment: float):\n",
    "        # A regular lunch costs 2.50 euros.\n",
    "        # Increase the value of the funds at the terminal by the \n",
    "        # price of the lunch, increase the number of lunches sold, \n",
    "        # and return the appropriate change.\n",
    "        # If the payment passed as an argument is not large enough to cover\n",
    "        # the price, the lunch is not sold, and the entire sum is returned.\n",
    "        if payment > 2.50:\n",
    "            self.lunches += 1\n",
    "            self.funds += 2.50\n",
    "            change = payment - 2.50\n",
    "        else:\n",
    "            change = payment\n",
    "\n",
    "        return change\n",
    "        \n",
    "\n",
    "    def eat_special(self, payment: float):\n",
    "        # A special lunch costs 4.30 euros.\n",
    "        # Increase the value of the funds at the terminal by the \n",
    "        # price of the lunch, increase the number of lunches sold, \n",
    "        # and return the appropriate change.\n",
    "        # If the payment passed as an argument is not large enough to cover\n",
    "        # the price, the lunch is not sold, and the entire sum is returned.\n",
    "        if payment > 2.50:\n",
    "            self.specials += 1\n",
    "            self.funds += 4.30\n",
    "            change = payment - 4.30\n",
    "        else:\n",
    "            change = payment\n",
    "\n",
    "        return change\n",
    "    \n",
    "    def eat_lunch_lunchcard(self, card: LunchCard):\n",
    "        # A regular lunch costs 2.50 euros.\n",
    "        # If there is enough money on the card, \n",
    "        # subtract the price of the lunch from the balance\n",
    "        # and return True. If not, return False.\n",
    "        if card.balance > 2.50:\n",
    "            self.lunches += 1\n",
    "            card.subtract_from_balance(2.50)\n",
    "            return True\n",
    "        else:\n",
    "            return False\n",
    "\n",
    "\n",
    "\n",
    "\n",
    "    def eat_special_lunchcard(self, card: LunchCard):\n",
    "        # A special lunch costs 4.30 euros.\n",
    "        # If there is enough money on the card, \n",
    "        # subtract the price of the lunch from the balance\n",
    "        # and return True. If not, return False. \n",
    "        if card.balance > 4.30:\n",
    "            self.specials += 1\n",
    "            card.subtract_from_balance(4.30)\n",
    "            return True\n",
    "        else:\n",
    "            return False   \n",
    "\n",
    "\n",
    "exactum = PaymentTerminal()\n",
    "\n",
    "change = exactum.eat_lunch(10)\n",
    "print(\"The change returned was\", change)\n",
    "\n",
    "card = LunchCard(7)\n",
    "\n",
    "result = exactum.eat_special_lunchcard(card)\n",
    "print(\"Payment successful:\", result)\n",
    "result = exactum.eat_special_lunchcard(card)\n",
    "print(\"Payment successful:\", result)\n",
    "result = exactum.eat_lunch_lunchcard(card)\n",
    "print(\"Payment successful:\", result)\n",
    "\n",
    "print(\"Funds available at the terminal:\", exactum.funds)\n",
    "print(\"Regular lunches sold:\", exactum.lunches)\n",
    "print(\"Special lunches sold:\", exactum.specials)"
   ]
  },
  {
   "attachments": {},
   "cell_type": "markdown",
   "metadata": {},
   "source": [
    "## Depositing money on the card\n",
    "Finally, let's add a method which lets you deposit money on the card. The card owner pays this by cash, so the deposited sum is added to the funds available at the terminal. Here is an outline for the method:\n",
    "\n",
    "```python\n",
    "def deposit_money_on_card(self, card: LunchCard, amount: float):\n",
    "    pass\n",
    "```\n",
    "You may use the following code to test your method:\n",
    "\n",
    "```python\n",
    "exactum = PaymentTerminal()\n",
    "\n",
    "card = LunchCard(2)\n",
    "print(f\"Card balance is {card.balance} euros\")\n",
    "\n",
    "result = exactum.eat_special_lunchcard(card)\n",
    "print(\"Payment successful:\", result)\n",
    "\n",
    "exactum.deposit_money_on_card(card, 100)\n",
    "print(f\"Card balance is {card.balance} euros\")\n",
    "\n",
    "result = exactum.eat_special_lunchcard(card)\n",
    "print(\"Payment successful:\", result)\n",
    "print(f\"Card balance is {card.balance} euros\")\n",
    "\n",
    "print(\"Funds available at the terminal:\", exactum.funds)\n",
    "print(\"Regular lunches sold:\", exactum.lunches)\n",
    "print(\"Special lunches sold:\", exactum.specials)\n",
    "```\n",
    "Sample output\n",
    "```console\n",
    "Card balance is 2 euros\n",
    "Payment successful: False\n",
    "Card balance is 102 euros\n",
    "Payment successful: True\n",
    "Card balance is 97.7 euros\n",
    "Funds available at the terminal: 1100\n",
    "Regular lunches sold: 0\n",
    "Special lunches sold: \n",
    "```"
   ]
  },
  {
   "cell_type": "code",
   "execution_count": 35,
   "metadata": {},
   "outputs": [
    {
     "name": "stdout",
     "output_type": "stream",
     "text": [
      "Card balance is 2 euros\n",
      "Payment successful: False\n",
      "Card balance is 102 euros\n",
      "Payment successful: True\n",
      "Card balance is 97.7 euros\n",
      "Funds available at the terminal: 1100\n",
      "Regular lunches sold: 0\n",
      "Special lunches sold: 1\n"
     ]
    }
   ],
   "source": [
    "class PaymentTerminal:\n",
    "    def __init__(self):\n",
    "        # Initially there is 1000 euros in cash available at the terminal\n",
    "        self.funds = 1000\n",
    "        self.lunches = 0\n",
    "        self.specials = 0\n",
    "\n",
    "    def eat_lunch(self, payment: float):\n",
    "        # A regular lunch costs 2.50 euros.\n",
    "        # Increase the value of the funds at the terminal by the \n",
    "        # price of the lunch, increase the number of lunches sold, \n",
    "        # and return the appropriate change.\n",
    "        # If the payment passed as an argument is not large enough to cover\n",
    "        # the price, the lunch is not sold, and the entire sum is returned.\n",
    "        if payment > 2.50:\n",
    "            self.lunches += 1\n",
    "            self.funds += 2.50\n",
    "            change = payment - 2.50\n",
    "        else:\n",
    "            change = payment\n",
    "\n",
    "        return change\n",
    "        \n",
    "\n",
    "    def eat_special(self, payment: float):\n",
    "        # A special lunch costs 4.30 euros.\n",
    "        # Increase the value of the funds at the terminal by the \n",
    "        # price of the lunch, increase the number of lunches sold, \n",
    "        # and return the appropriate change.\n",
    "        # If the payment passed as an argument is not large enough to cover\n",
    "        # the price, the lunch is not sold, and the entire sum is returned.\n",
    "        if payment > 2.50:\n",
    "            self.specials += 1\n",
    "            self.funds += 4.30\n",
    "            change = payment - 4.30\n",
    "        else:\n",
    "            change = payment\n",
    "\n",
    "        return change\n",
    "    \n",
    "    def eat_lunch_lunchcard(self, card: LunchCard):\n",
    "        # A regular lunch costs 2.50 euros.\n",
    "        # If there is enough money on the card, \n",
    "        # subtract the price of the lunch from the balance\n",
    "        # and return True. If not, return False.\n",
    "        if card.balance > 2.50:\n",
    "            self.lunches += 1\n",
    "            card.subtract_from_balance(2.50)\n",
    "            return True\n",
    "        else:\n",
    "            return False\n",
    "\n",
    "\n",
    "\n",
    "\n",
    "    def eat_special_lunchcard(self, card: LunchCard):\n",
    "        # A special lunch costs 4.30 euros.\n",
    "        # If there is enough money on the card, \n",
    "        # subtract the price of the lunch from the balance\n",
    "        # and return True. If not, return False. \n",
    "        if card.balance > 4.30:\n",
    "            self.specials += 1\n",
    "            card.subtract_from_balance(4.30)\n",
    "            return True\n",
    "        else:\n",
    "            return False  \n",
    "\n",
    "    def deposit_money_on_card(self, card: LunchCard, amount: float):\n",
    "        card.deposit_money(amount)\n",
    "        self.funds += amount\n",
    "\n",
    "\n",
    "exactum = PaymentTerminal()\n",
    "\n",
    "card = LunchCard(2)\n",
    "print(f\"Card balance is {card.balance} euros\")\n",
    "\n",
    "result = exactum.eat_special_lunchcard(card)\n",
    "print(\"Payment successful:\", result)\n",
    "\n",
    "exactum.deposit_money_on_card(card, 100)\n",
    "print(f\"Card balance is {card.balance} euros\")\n",
    "\n",
    "result = exactum.eat_special_lunchcard(card)\n",
    "print(\"Payment successful:\", result)\n",
    "print(f\"Card balance is {card.balance} euros\")\n",
    "\n",
    "print(\"Funds available at the terminal:\", exactum.funds)\n",
    "print(\"Regular lunches sold:\", exactum.lunches)\n",
    "print(\"Special lunches sold:\", exactum.specials)"
   ]
  },
  {
   "attachments": {},
   "cell_type": "markdown",
   "metadata": {},
   "source": [
    "# An instance of the same class as an argument to a method\n",
    "Below we have yet another version of the class Person:\n"
   ]
  },
  {
   "cell_type": "code",
   "execution_count": 1,
   "metadata": {},
   "outputs": [],
   "source": [
    "\n",
    "class Person:\n",
    "    def __init__(self, name: str, year_of_birth: int):\n",
    "        self.name = name\n",
    "        self.year_of_birth = year_of_birth\n"
   ]
  },
  {
   "cell_type": "markdown",
   "metadata": {},
   "source": [
    "Let's assume we want to write a program which compares the ages of objects of type Person. We could write a separate function for this purpose:\n"
   ]
  },
  {
   "cell_type": "code",
   "execution_count": 7,
   "metadata": {},
   "outputs": [
    {
     "name": "stdout",
     "output_type": "stream",
     "text": [
      "Muhammad ibn Musa al-Khwarizmi is older than Blaise Pascal\n",
      "Grace Hopper is not older than Blaise Pascal\n"
     ]
    }
   ],
   "source": [
    "class Person:\n",
    "    def __init__(self, name: str, year_of_birth: int):\n",
    "        self.name = name\n",
    "        self.year_of_birth = year_of_birth\n",
    "\n",
    "def older_than(person1: Person, person2: Person):\n",
    "    if person1.year_of_birth < person2.year_of_birth:\n",
    "        return True\n",
    "    else:\n",
    "        return False\n",
    "\n",
    "muhammad = Person(\"Muhammad ibn Musa al-Khwarizmi\", 780)\n",
    "pascal = Person(\"Blaise Pascal\", 1623)\n",
    "grace = Person(\"Grace Hopper\", 1906)\n",
    "\n",
    "if older_than(muhammad, pascal):\n",
    "    print(f\"{muhammad.name} is older than {pascal.name}\")\n",
    "else:\n",
    "    print(f\"{muhammad.name} is not older than {pascal.name}\")\n",
    "\n",
    "if older_than(grace, pascal):\n",
    "    print(f\"{grace.name} is older than {pascal.name}\")\n",
    "else:\n",
    "    print(f\"{grace.name} is not older than {pascal.name}\")\n"
   ]
  },
  {
   "cell_type": "markdown",
   "metadata": {},
   "source": [
    "Sample output\n",
    "Muhammad ibn Musa al-Khwarizmi is older than Blaise Pascal\n",
    "Grace Hopper is not older than Blaise Pascal\n"
   ]
  },
  {
   "cell_type": "markdown",
   "metadata": {},
   "source": [
    "\n",
    "One of the principles of object oriented programming is to include any functionality which handles objects of a certain type in the class definition, as methods. So instead of a function we could write a method which allows us to compare the age of a Person object to another Person object:\n"
   ]
  },
  {
   "cell_type": "code",
   "execution_count": 3,
   "metadata": {},
   "outputs": [],
   "source": [
    "\n",
    "class Person:\n",
    "    def __init__(self, name: str, year_of_birth: int):\n",
    "        self.name = name\n",
    "        self.year_of_birth = year_of_birth\n",
    "\n",
    "    # NB: type hints must be enclosed in quotation marks if the parameter\n",
    "    # is of the same type as the class itself!\n",
    "    def older_than(self, another: \"Person\"):\n",
    "        if self.year_of_birth < another.year_of_birth:\n",
    "            return True\n",
    "        else:\n",
    "            return False\n"
   ]
  },
  {
   "cell_type": "markdown",
   "metadata": {},
   "source": [
    "Here the object which the method is called on is referred to as self, while the other Person object is another.\n",
    "\n",
    "Remember, calling a method differs from calling a function. A method is attached to an object with the dot notation:\n"
   ]
  },
  {
   "cell_type": "code",
   "execution_count": 4,
   "metadata": {},
   "outputs": [
    {
     "name": "stdout",
     "output_type": "stream",
     "text": [
      "Muhammad ibn Musa al-Khwarizmi is older than Blaise Pascal\n",
      "Grace Hopper is not older than Blaise Pascal\n"
     ]
    }
   ],
   "source": [
    "\n",
    "muhammad = Person(\"Muhammad ibn Musa al-Khwarizmi\", 780)\n",
    "pascal = Person(\"Blaise Pascal\", 1623)\n",
    "grace = Person(\"Grace Hopper\", 1906)\n",
    "\n",
    "if muhammad.older_than(pascal):\n",
    "    print(f\"{muhammad.name} is older than {pascal.name}\")\n",
    "else:\n",
    "    print(f\"{muhammad.name} is not older than {pascal.name}\")\n",
    "\n",
    "if grace.older_than(pascal):\n",
    "    print(f\"{grace.name} is older than {pascal.name}\")\n",
    "else:\n",
    "    print(f\"{grace.name} is not older than {pascal.name}\")\n"
   ]
  },
  {
   "cell_type": "markdown",
   "metadata": {},
   "source": [
    "To the left of the dot is the object itself, which is referred to as self within the method definition. In parentheses is the argument to the method, which is the object referred to as another.\n",
    "\n",
    "The printout from the program is exactly the same as with the function implementation above.\n",
    "\n",
    "A rather cosmetic point to finish off: the if...else structure in the method older_than is by and large unneccessary. The value of the Boolean expression in the condition is already the exact same truth value which is returned. The method can thus be simplified:\n"
   ]
  },
  {
   "cell_type": "code",
   "execution_count": 8,
   "metadata": {},
   "outputs": [],
   "source": [
    "\n",
    "class Person:\n",
    "    def __init__(self, name: str, year_of_birth: int):\n",
    "        self.name = name\n",
    "        self.year_of_birth = year_of_birth\n",
    "\n",
    "    # NB: type hints must be enclosed in quotation marks if the parameter \n",
    "    # is of the same type as the class itself!\n",
    "    def older_than(self, another: \"Person\"):\n",
    "        return self.year_of_birth < another.year_of_birth\n"
   ]
  },
  {
   "cell_type": "markdown",
   "metadata": {},
   "source": [
    "As stated in the comments in the examples above, if the parameter in a method definition is of the same type as the class itself, the type hint must be enclosed in quotation marks. Leaving the quotation marks out causes an error, which you will see if you try the following:\n"
   ]
  },
  {
   "cell_type": "code",
   "execution_count": null,
   "metadata": {},
   "outputs": [],
   "source": [
    "\n",
    "class Person:\n",
    "    # ...\n",
    "\n",
    "    # this would cause an error, as Person must be enclosed in quotation marks\n",
    "    def older_than(self, another: Person):\n",
    "        return self.year_of_birth < another.year_of_birth"
   ]
  },
  {
   "cell_type": "markdown",
   "metadata": {},
   "source": []
  },
  {
   "attachments": {},
   "cell_type": "markdown",
   "metadata": {},
   "source": [
    "# Programming exercise:Comparing properties\n",
    "\n",
    "NB: Some exercises have multiple parts, and you can receive points for the different parts separately. You can submit a partially completed exercise by choosing 'Submit Solution' from the menu next to the button for executing tests .\n",
    "\n",
    "The database of a real estate agency keeps records of available properties with objects defined by the following class:\n",
    "\n",
    "```python\n",
    "class RealProperty:\n",
    "    def __init__(self, rooms: int, square_metres: int, price_per_sqm: int):\n",
    "        self.rooms = rooms\n",
    "        self.square_metres = square_metres\n",
    "        self.price_per_sqm = price_per_sqm\n",
    "```\n",
    "Your task is to implement methods which allow for comparison between available properties.\n",
    "\n",
    "## Is it bigger?\n",
    "Please write a method named bigger(self, compared_to) which returns True if the RealProperty object itself is bigger than the one it is compared to.\n",
    "\n",
    "An example of how the function should work:\n",
    "\n",
    "```python\n",
    "central_studio = RealProperty(1, 16, 5500)\n",
    "downtown_two_bedroom = RealProperty(2, 38, 4200)\n",
    "suburbs_three_bedroom = RealProperty(3, 78, 2500)\n",
    "\n",
    "print(central_studio.bigger(downtown_two_bedroom))\n",
    "print(suburbs_three_bedroom.bigger(downtown_two_bedroom))\n",
    "```\n",
    "Sample output\n",
    "```console\n",
    "False\n",
    "True\n",
    "```"
   ]
  },
  {
   "cell_type": "code",
   "execution_count": 9,
   "metadata": {},
   "outputs": [
    {
     "name": "stdout",
     "output_type": "stream",
     "text": [
      "False\n",
      "True\n"
     ]
    }
   ],
   "source": [
    "class RealProperty:\n",
    "    def __init__(self, rooms: int, square_metres: int, price_per_sqm: int):\n",
    "        self.rooms = rooms\n",
    "        self.square_metres = square_metres\n",
    "        self.price_per_sqm = price_per_sqm\n",
    "\n",
    "    def bigger(self, compared_to: \"RealProperty\") -> bool:\n",
    "        if self.square_metres > compared_to.square_metres:\n",
    "            return True\n",
    "        else:\n",
    "            return False\n",
    "\n",
    "central_studio = RealProperty(1, 16, 5500)\n",
    "downtown_two_bedroom = RealProperty(2, 38, 4200)\n",
    "suburbs_three_bedroom = RealProperty(3, 78, 2500)\n",
    "\n",
    "print(central_studio.bigger(downtown_two_bedroom))\n",
    "print(suburbs_three_bedroom.bigger(downtown_two_bedroom))"
   ]
  },
  {
   "attachments": {},
   "cell_type": "markdown",
   "metadata": {},
   "source": [
    "## Price difference\n",
    "Please write a method named price_difference(self, compared_to) which returns the difference in price between the RealProperty object itself and the one it is compared to. The price difference is the absolute value of the difference between the total prices of the two properties. The total price of a property is its price per square metre multiplied by the amount of square metres in the property.\n",
    "\n",
    "An example of how the function should work:\n",
    "\n",
    "```python\n",
    "central_studio = RealProperty(1, 16, 5500)\n",
    "downtown_two_bedroom = RealProperty(2, 38, 4200)\n",
    "suburbs_three_bedroom = RealProperty(3, 78, 2500)\n",
    "\n",
    "print(central_studio.price_difference(downtown_two_bedroom))\n",
    "print(suburbs_three_bedroom.price_difference(downtown_two_bedroom))\n",
    "```\n",
    "Sample output\n",
    "```console\n",
    "71600\n",
    "35400\n",
    "```"
   ]
  },
  {
   "cell_type": "code",
   "execution_count": 15,
   "metadata": {},
   "outputs": [
    {
     "name": "stdout",
     "output_type": "stream",
     "text": [
      "71600\n",
      "35400\n"
     ]
    }
   ],
   "source": [
    "class RealProperty:\n",
    "    def __init__(self, rooms: int, square_metres: int, price_per_sqm: int):\n",
    "        self.rooms = rooms\n",
    "        self.square_metres = square_metres\n",
    "        self.price_per_sqm = price_per_sqm\n",
    "\n",
    "    def bigger(self, compared_to: \"RealProperty\") -> bool:\n",
    "        if self.square_metres > compared_to.square_metres:\n",
    "            return True\n",
    "        else:\n",
    "            return False\n",
    "    def total_price(self):\n",
    "        return self.price_per_sqm  * self.square_metres\n",
    "        \n",
    "    def price_difference(self, compared_to: \"RealProperty\"):\n",
    "        return abs(self.total_price() - compared_to.total_price())\n",
    "\n",
    "central_studio = RealProperty(1, 16, 5500)\n",
    "downtown_two_bedroom = RealProperty(2, 38, 4200)\n",
    "suburbs_three_bedroom = RealProperty(3, 78, 2500)\n",
    "\n",
    "print(central_studio.price_difference(downtown_two_bedroom))\n",
    "print(suburbs_three_bedroom.price_difference(downtown_two_bedroom))"
   ]
  },
  {
   "attachments": {},
   "cell_type": "markdown",
   "metadata": {},
   "source": [
    "## Is it more expensive?\n",
    "Please write a method named more_expensive(self, compared_to) which returns True if the RealProperty object itself is more expensive that the one it is compared to.\n",
    "\n",
    "An example of how the function should work:\n",
    "\n",
    "```python\n",
    "central_studio = RealProperty(1, 16, 5500)\n",
    "downtown_two_bedroom = RealProperty(2, 38, 4200)\n",
    "suburbs_three_bedroom = RealProperty(3, 78, 2500)\n",
    "\n",
    "print(central_studio.more_expensive(downtown_two_bedroom))\n",
    "print(suburbs_three_bedroom.more_expensive(downtown_two_bedroom))\n",
    "```\n",
    "Sample output\n",
    "```console\n",
    "False\n",
    "True\n",
    "```"
   ]
  },
  {
   "cell_type": "code",
   "execution_count": 16,
   "metadata": {},
   "outputs": [
    {
     "name": "stdout",
     "output_type": "stream",
     "text": [
      "False\n",
      "True\n"
     ]
    }
   ],
   "source": [
    "class RealProperty:\n",
    "    def __init__(self, rooms: int, square_metres: int, price_per_sqm: int):\n",
    "        self.rooms = rooms\n",
    "        self.square_metres = square_metres\n",
    "        self.price_per_sqm = price_per_sqm\n",
    "\n",
    "    def bigger(self, compared_to: \"RealProperty\") -> bool:\n",
    "        if self.square_metres > compared_to.square_metres:\n",
    "            return True\n",
    "        else:\n",
    "            return False\n",
    "    def total_price(self):\n",
    "        return self.price_per_sqm  * self.square_metres\n",
    "        \n",
    "    def price_difference(self, compared_to: \"RealProperty\"):\n",
    "        return abs(self.total_price() - compared_to.total_price())\n",
    "    \n",
    "    def more_expensive(self, compared_to: \"RealProperty\") -> bool:\n",
    "        if self.total_price() > compared_to.total_price():\n",
    "            return True\n",
    "        else:\n",
    "            return False\n",
    "\n",
    "central_studio = RealProperty(1, 16, 5500)\n",
    "downtown_two_bedroom = RealProperty(2, 38, 4200)\n",
    "suburbs_three_bedroom = RealProperty(3, 78, 2500)\n",
    "\n",
    "print(central_studio.more_expensive(downtown_two_bedroom))\n",
    "print(suburbs_three_bedroom.more_expensive(downtown_two_bedroom))"
   ]
  },
  {
   "cell_type": "code",
   "execution_count": null,
   "metadata": {},
   "outputs": [],
   "source": []
  }
 ],
 "metadata": {
  "kernelspec": {
   "display_name": ".venv",
   "language": "python",
   "name": "python3"
  },
  "language_info": {
   "codemirror_mode": {
    "name": "ipython",
    "version": 3
   },
   "file_extension": ".py",
   "mimetype": "text/x-python",
   "name": "python",
   "nbconvert_exporter": "python",
   "pygments_lexer": "ipython3",
   "version": "3.10.10"
  },
  "orig_nbformat": 4
 },
 "nbformat": 4,
 "nbformat_minor": 2
}
