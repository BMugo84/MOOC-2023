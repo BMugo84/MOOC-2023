{
 "cells": [
  {
   "attachments": {},
   "cell_type": "markdown",
   "metadata": {},
   "source": [
    "# Scope of methods\n",
    "## Learning objectives\n",
    "* After this section\n",
    "* You will be able to write private methods"
   ]
  },
  {
   "attachments": {},
   "cell_type": "markdown",
   "metadata": {},
   "source": [
    "The methods defined within a class can be hidden in exactly the same way as the attributes were in the previous section. If the method begins with two underscores __, it is not directly accessible by the client.\n",
    "\n",
    "So, the technique is the same for both methods and attributes, but the use cases are usually a little different. Private attributes often come paired with getter and setter methods for controlling access to them. Private methods, on the other hand, are usually intended for internal use only, as helper methods for processes which the client does not need to know about.\n",
    "\n",
    "A private method can be used within the class just like any other method, of course remembering to include the self prefix. The following is a simple class representing the recipient of email letters. It includes a private helper method for checking the email address is in a valid format:\n"
   ]
  },
  {
   "cell_type": "code",
   "execution_count": 2,
   "metadata": {},
   "outputs": [],
   "source": [
    "class Recipient:\n",
    "    def __init__(self, name: str, email: str):\n",
    "        self.__name = name\n",
    "        if self.__check_email(email):\n",
    "            self.__email = email\n",
    "        else:\n",
    "            raise ValueError(\"The email address is not valid\")\n",
    "\n",
    "    def __check_email(self, email: str):\n",
    "        # A simple check: the address must be over 5 characters long \n",
    "        # and contain a dot and an @ character\n",
    "        return len(email) > 5 and \".\" in email and \"@\" in email\n"
   ]
  },
  {
   "cell_type": "markdown",
   "metadata": {},
   "source": [
    "Attempting to call the private method directly causes an error:\n"
   ]
  },
  {
   "cell_type": "code",
   "execution_count": 3,
   "metadata": {},
   "outputs": [
    {
     "ename": "AttributeError",
     "evalue": "'Recipient' object has no attribute '__check_email'",
     "output_type": "error",
     "traceback": [
      "\u001b[1;31m---------------------------------------------------------------------------\u001b[0m",
      "\u001b[1;31mAttributeError\u001b[0m                            Traceback (most recent call last)",
      "Cell \u001b[1;32mIn[3], line 2\u001b[0m\n\u001b[0;32m      1\u001b[0m peter \u001b[39m=\u001b[39m Recipient(\u001b[39m\"\u001b[39m\u001b[39mPeter Emailer\u001b[39m\u001b[39m\"\u001b[39m, \u001b[39m\"\u001b[39m\u001b[39mpeter@example.com\u001b[39m\u001b[39m\"\u001b[39m)\n\u001b[1;32m----> 2\u001b[0m peter\u001b[39m.\u001b[39;49m__check_email(\u001b[39m\"\u001b[39m\u001b[39msomeone@example.com\u001b[39m\u001b[39m\"\u001b[39m)\n",
      "\u001b[1;31mAttributeError\u001b[0m: 'Recipient' object has no attribute '__check_email'"
     ]
    }
   ],
   "source": [
    "\n",
    "peter = Recipient(\"Peter Emailer\", \"peter@example.com\")\n",
    "peter.__check_email(\"someone@example.com\")\n"
   ]
  },
  {
   "cell_type": "markdown",
   "metadata": {},
   "source": [
    "\n",
    "Within the class the method can be accessed normally, and it makes sense to use it also for setting a new value for the address. Let's add getter and setter methods for the email address:\n"
   ]
  },
  {
   "cell_type": "code",
   "execution_count": 1,
   "metadata": {},
   "outputs": [],
   "source": [
    "\n",
    "class Recipient:\n",
    "    def __init__(self, name: str, email: str):\n",
    "        self.__name = name\n",
    "        if self.__check_email(email):\n",
    "            self.__email = email\n",
    "        else:\n",
    "            raise ValueError(\"The email address is not valid\")\n",
    "\n",
    "    def __check_email(self, email: str):\n",
    "        # A simple check: the address must be over 5 characters long \n",
    "        # and contain a dot and an @ character\n",
    "        return len(email) > 5 and \".\" in email and \"@\" in email\n",
    "\n",
    "    @property\n",
    "    def email(self):\n",
    "        return self.__email\n",
    "\n",
    "    @email.setter\n",
    "    def email(self, email: str):\n",
    "        if self.__check_email(email):\n",
    "            self.__email = email\n",
    "        else:\n",
    "            raise ValueError(\"The email address is not valid\")\n"
   ]
  },
  {
   "attachments": {},
   "cell_type": "markdown",
   "metadata": {},
   "source": [
    "## Python scope and namespace\n",
    "We already came across the term scope in part 6 of this material, and defined it as the sections of a program where a (variable) name is visible. Looking at the term from another direction, it also refers to what is visible from a specific point in program code. Another related term is namespace, which refers to the names specifically available within a defined Python unit, such as a class or a function definition.\n",
    "\n",
    "The scope within a method is different from the scope within a class, which is again different from the scope at the client code which creates an instance of the class. A method has access to its local variables, but also to the attributes and other methods in the class it is a part of, even if they are private. The class also has access to these, its own members, but it cannot directly access the local variables within its methods. The client code has access to only the public methods and attributes defined in the class, but of course also some other names in the environment in which it exists.\n",
    "\n",
    "It may seem counter-intuitive that a class would not have access to all its contents, but it is essential for ensuring integrity. For example, it might make sense to use the same local variable name in various different methods within the same class, if they perform somehow similar functionalities. If the class had direct access to all of the local variables within the methods, they would have to be named differently, or else it would not be clear which version of the variable was meant where. We have already seen with attributes declared with self that helper variables should not be made accessible outside a method, so adding the variables as attributes or global variables should not be an option. There has to be a way to keep names in different parts of the program separate, and this is what namespaces are for.\n",
    "\n",
    "The idea of a namespace helps with understanding how the same name can happily coexist in different functions, classes or modules at the same time. If a name is specific to a namespace, such as a method definition, it is not directly accessible outside it, and so there is no reason why another namespace could not use the same name. Mastering namespaces and scopes is essential in becoming a proficient programmer, and you will get much practice on this course.\n",
    "\n",
    "## Do I need a private method?\n",
    "In the following example the class DeckOfCards is a model for a deck of 52 cards. It contains the helper method __reset_deck, which creates a new shuffled deck of cards. The private method is at the moment only called in the constructor method, so the implementation could arguably be placed directly in the constructor. However, using a separate method makes the code easier to read and also makes it possible to access the functionality later in other methods if necessary.\n"
   ]
  },
  {
   "cell_type": "code",
   "execution_count": 4,
   "metadata": {},
   "outputs": [],
   "source": [
    "\n",
    "from random import shuffle\n",
    "\n",
    "class DeckOfCards:\n",
    "    def __init__(self):\n",
    "        self.__reset_deck()\n",
    "\n",
    "    def __reset_deck(self):\n",
    "        self.__deck = []\n",
    "        # Add all 52 cards to the deck\n",
    "        suits = [\"spades\", \"hearts\", \"clubs\", \"diamonds\"]\n",
    "        for suit in suits:\n",
    "            for number in range(1, 14):\n",
    "                self.__deck.append((suit, number))\n",
    "        # Shuffle the deck\n",
    "        shuffle(self.__deck)\n",
    "\n",
    "    def deal(self, number_of_cards: int):\n",
    "        hand = []\n",
    "        # Move the top cards in the deck to the hand\n",
    "        for i in range(number_of_cards):\n",
    "            hand.append(self.__deck.pop())\n",
    "        return hand\n"
   ]
  },
  {
   "cell_type": "markdown",
   "metadata": {},
   "source": [
    "Let's test the class:\n"
   ]
  },
  {
   "cell_type": "code",
   "execution_count": 8,
   "metadata": {},
   "outputs": [
    {
     "name": "stdout",
     "output_type": "stream",
     "text": [
      "[('diamonds', 9), ('hearts', 6), ('diamonds', 11), ('clubs', 1), ('diamonds', 1)]\n",
      "[('clubs', 11), ('clubs', 3), ('hearts', 4), ('spades', 1), ('spades', 2)]\n"
     ]
    }
   ],
   "source": [
    "\n",
    "deck = DeckOfCards()\n",
    "hand1 = deck.deal(5)\n",
    "print(hand1)\n",
    "hand2 = deck.deal(5)\n",
    "print(hand2)\n"
   ]
  },
  {
   "cell_type": "markdown",
   "metadata": {},
   "source": [
    "As the hands are randomly generated, the following is only an example of what could be printed out:\n"
   ]
  },
  {
   "cell_type": "markdown",
   "metadata": {},
   "source": [
    "\n",
    "Private methods are generally less common than private attributes. As a rule of thumb, a method should be hidden whenever the client has no need to directly access it. This is especially the case when it is possible that the client could adversely affect the integrity of the object by calling the method."
   ]
  },
  {
   "attachments": {},
   "cell_type": "markdown",
   "metadata": {},
   "source": [
    "# Programming exercise:Service charge\n",
    "\n",
    "\n",
    "Please create a class named BankAccount which models a bank account. The class should contain\n",
    "\n",
    "* a constructor which takes the name of the owner (str), account number (str) and balance (float) as arguments\n",
    "* a method deposit(amount: float) for depositing money to the account\n",
    "* a method withdraw(amount: float) for withdrawing money from the account\n",
    "* a getter method balance which returns the balance of the account\n",
    "\n",
    "\n",
    "The class should also contain the private method\n",
    "\n",
    "* __service_charge(), which decreases the balance on the account by one percent. Whenever either of the methods deposit or withdraw is called, this method should also be called. The service charge is calculated and subtracted only after the actual operation is completed (that is, after the amount specified has been added to or subtracted from the balance).\n",
    "\n",
    "\n",
    "All data attributes within the class definition should be private.\n",
    "\n",
    "You may use the following code for testing your class:?\n",
    "\n",
    "```python\n",
    "account = BankAccount(\"Randy Riches\", \"12345-6789\", 1000)\n",
    "account.withdraw(100)\n",
    "print(account.balance)\n",
    "account.deposit(100)\n",
    "print(account.balance)\n",
    "```"
   ]
  },
  {
   "cell_type": "code",
   "execution_count": 2,
   "metadata": {},
   "outputs": [
    {
     "name": "stdout",
     "output_type": "stream",
     "text": [
      "891.0\n",
      "981.09\n"
     ]
    }
   ],
   "source": [
    "class BankAccount:\n",
    "    def __init__(self, name: str, account_number: str, balance: float):\n",
    "        self.__name = name\n",
    "        self.__account_number = account_number\n",
    "        self.__balance = balance\n",
    "\n",
    "    # encapsulate balance \n",
    "    @property\n",
    "    def balance(self):\n",
    "        return self.__balance\n",
    "    \n",
    "    @balance.setter\n",
    "    def balance(self, balance: float):\n",
    "        if self.__balance >= 0:\n",
    "            self.__balance = balance\n",
    "        else:\n",
    "            raise ValueError(\"The balance cant be less than zero\")\n",
    "\n",
    "    def deposit(self, amount: float):\n",
    "        self.balance += amount\n",
    "        self.__service_charge()\n",
    "\n",
    "    def withdraw(self, amount: float):\n",
    "        self.balance -= amount\n",
    "        self.__service_charge()\n",
    "\n",
    "    def __service_charge(self):\n",
    "        self.__balance -= self.__balance * 0.01\n",
    "\n",
    "\n",
    "        \n",
    "        \n",
    "\n",
    "\n",
    "account = BankAccount(\"Randy Riches\", \"12345-6789\", 1000)\n",
    "account.withdraw(100)\n",
    "print(account.balance)\n",
    "account.deposit(100)\n",
    "print(account.balance)"
   ]
  },
  {
   "cell_type": "code",
   "execution_count": null,
   "metadata": {},
   "outputs": [],
   "source": []
  }
 ],
 "metadata": {
  "kernelspec": {
   "display_name": ".venv",
   "language": "python",
   "name": "python3"
  },
  "language_info": {
   "codemirror_mode": {
    "name": "ipython",
    "version": 3
   },
   "file_extension": ".py",
   "mimetype": "text/x-python",
   "name": "python",
   "nbconvert_exporter": "python",
   "pygments_lexer": "ipython3",
   "version": "3.10.10"
  },
  "orig_nbformat": 4
 },
 "nbformat": 4,
 "nbformat_minor": 2
}
