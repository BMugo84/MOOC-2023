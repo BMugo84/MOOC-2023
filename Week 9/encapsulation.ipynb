{
 "cells": [
  {
   "attachments": {},
   "cell_type": "markdown",
   "metadata": {},
   "source": [
    "# Encapsulation\n",
    "Learning objectives\n",
    "After this section\n",
    "\n",
    "* You will know what encapsulation means\n",
    "* You will be able to create private attributes\n",
    "* You will know how to create getters and setters for your attributes"
   ]
  },
  {
   "attachments": {},
   "cell_type": "markdown",
   "metadata": {},
   "source": [
    "In object oriented programming the term `client` refers to a program which uses a class, or instances of a class. A class offers the client `services` through which the client can access the objects created based on the class. The goals here are that\n",
    "\n",
    "1. the use of a class and/or objects is as simple as possible from the client's point of view\n",
    "1. the integrity of any object is preserved at all times\n",
    "\n",
    "\n",
    "The integrity of an object means that the state of an object always remains acceptable. In practice this means that the values of the object's attributes are always acceptable. For example, an object representing a date should never have 13 as the value of the month, an object modelling a student should never have a negative number as the value of study credits attained, and so forth.\n",
    "\n",
    "Let's take a look at a class named Student:\n"
   ]
  },
  {
   "cell_type": "code",
   "execution_count": 1,
   "metadata": {},
   "outputs": [],
   "source": [
    "class Student:\n",
    "    def __init__(self, name: str, student_number: str):\n",
    "        self.name = name\n",
    "        self.student_number = student_number\n",
    "        self.study_credits = 0\n",
    "\n",
    "    def add_credits(self, study_credits):\n",
    "        if study_credits > 0:\n",
    "            self.study_credits += study_credits\n"
   ]
  },
  {
   "cell_type": "markdown",
   "metadata": {},
   "source": [
    "The Student object offers its clients the method add_credits, which allows the client to add a specified number of credits to the student's total. The method ensures the value passed as the argument is above zero. The following code adds study credits on three occasions:\n"
   ]
  },
  {
   "cell_type": "code",
   "execution_count": 2,
   "metadata": {},
   "outputs": [
    {
     "name": "stdout",
     "output_type": "stream",
     "text": [
      "Study credits: 20\n"
     ]
    }
   ],
   "source": [
    "\n",
    "sally = Student(\"Sally Student\", \"12345\")\n",
    "sally.add_credits(5)\n",
    "sally.add_credits(5)\n",
    "sally.add_credits(10)\n",
    "print(\"Study credits:\", sally.study_credits)\n"
   ]
  },
  {
   "cell_type": "markdown",
   "metadata": {},
   "source": [
    "\n",
    "Despite the method definition it is still possible to access the study_credits attribute directly. This could result in an erroneous state where the integrity of the object is lost:\n"
   ]
  },
  {
   "cell_type": "code",
   "execution_count": 3,
   "metadata": {},
   "outputs": [
    {
     "name": "stdout",
     "output_type": "stream",
     "text": [
      "Study credits: -100\n"
     ]
    }
   ],
   "source": [
    "\n",
    "sally = Student(\"Sally Student\", \"12345\")\n",
    "sally.study_credits = -100\n",
    "print(\"Study credits:\", sally.study_credits)\n"
   ]
  },
  {
   "attachments": {},
   "cell_type": "markdown",
   "metadata": {},
   "source": [
    "\n",
    "## Encapsulation\n",
    "A common feature in object oriented programming languages is that classes can usually hide their attributes from any prospective clients. Hidden attributes are usually called private. In Python this privacy is achieved by adding two underscores __ to the beginning of the attribute name:\n"
   ]
  },
  {
   "cell_type": "code",
   "execution_count": 5,
   "metadata": {},
   "outputs": [],
   "source": [
    "\n",
    "class CreditCard:\n",
    "    # the attribute number is private, while the attribute name is accessible\n",
    "    def __init__(self, number: str, name: str):\n",
    "        self.__number = number\n",
    "        self.name = name\n"
   ]
  },
  {
   "cell_type": "markdown",
   "metadata": {},
   "source": [
    "A private attribute is not directly visible to the client. Trying to refer to it causes an error. In the above example the name attribute can be easily accessed and changed:\n"
   ]
  },
  {
   "cell_type": "code",
   "execution_count": 6,
   "metadata": {},
   "outputs": [
    {
     "name": "stdout",
     "output_type": "stream",
     "text": [
      "Randy Riches\n",
      "Charlie Churchmouse\n"
     ]
    }
   ],
   "source": [
    "\n",
    "card = CreditCard(\"123456\",\"Randy Riches\")\n",
    "print(card.name)\n",
    "card.name = \"Charlie Churchmouse\"\n",
    "print(card.name)\n"
   ]
  },
  {
   "cell_type": "markdown",
   "metadata": {},
   "source": [
    "\n",
    "Trying to print out the card number, however, causes and error:\n"
   ]
  },
  {
   "cell_type": "code",
   "execution_count": 7,
   "metadata": {},
   "outputs": [
    {
     "ename": "AttributeError",
     "evalue": "'CreditCard' object has no attribute '__number'",
     "output_type": "error",
     "traceback": [
      "\u001b[1;31m---------------------------------------------------------------------------\u001b[0m",
      "\u001b[1;31mAttributeError\u001b[0m                            Traceback (most recent call last)",
      "Cell \u001b[1;32mIn[7], line 2\u001b[0m\n\u001b[0;32m      1\u001b[0m card \u001b[39m=\u001b[39m CreditCard(\u001b[39m\"\u001b[39m\u001b[39m123456\u001b[39m\u001b[39m\"\u001b[39m,\u001b[39m\"\u001b[39m\u001b[39mRandy Riches\u001b[39m\u001b[39m\"\u001b[39m)\n\u001b[1;32m----> 2\u001b[0m \u001b[39mprint\u001b[39m(card\u001b[39m.\u001b[39;49m__number)\n",
      "\u001b[1;31mAttributeError\u001b[0m: 'CreditCard' object has no attribute '__number'"
     ]
    }
   ],
   "source": [
    "\n",
    "card = CreditCard(\"123456\",\"Randy Riches\")\n",
    "print(card.__number)\n"
   ]
  },
  {
   "cell_type": "markdown",
   "metadata": {},
   "source": [
    "\n",
    "Hiding attributes from clients is called encapsulation. As the name implies, the attribute is \"enclosed in a capsule\". The client is then offered a suitable interface for accessing and processing the data stored in the object.\n",
    "\n",
    "Let's add another encapsulated attribute: the balance on the credit card. This time we'll also add publicly visible methods which allow the client to access and change the balance:\n"
   ]
  },
  {
   "cell_type": "code",
   "execution_count": 8,
   "metadata": {},
   "outputs": [
    {
     "name": "stdout",
     "output_type": "stream",
     "text": [
      "5000\n",
      "5100\n",
      "4600\n",
      "4600\n"
     ]
    }
   ],
   "source": [
    "\n",
    "class CreditCard:\n",
    "    def __init__(self, number: str, name: str, balance: float):\n",
    "        self.__number = number\n",
    "        self.name = name\n",
    "        self.__balance = balance\n",
    "\n",
    "    def deposit_money(self, amount: float):\n",
    "        if amount > 0:\n",
    "            self.__balance += amount\n",
    "\n",
    "    def withdraw_money(self, amount: float):\n",
    "        if amount > 0 and amount <= self.__balance:\n",
    "            self.__balance -= amount\n",
    "\n",
    "    def retrieve_balance(self):\n",
    "        return self.__balance\n",
    "card = CreditCard(\"123456\", \"Randy Riches\", 5000)\n",
    "print(card.retrieve_balance())\n",
    "card.deposit_money(100)\n",
    "print(card.retrieve_balance())\n",
    "card.withdraw_money(500)\n",
    "print(card.retrieve_balance())\n",
    "# The following will not work because the balance is not sufficient\n",
    "card.withdraw_money(10000)\n",
    "print(card.retrieve_balance())\n"
   ]
  },
  {
   "cell_type": "markdown",
   "metadata": {},
   "source": [
    "\n",
    "The balance cannot be changed directly because the attribute is private, but we've included the methods deposit_money and withdraw_money for changing the value. The method retrieve_balance returns the value stored in balance. The methods include some rudimentary checks for retaining the integrity of the object: for instance, the card cannot be overdrawn."
   ]
  },
  {
   "attachments": {},
   "cell_type": "markdown",
   "metadata": {},
   "source": [
    "# Programming exercise:Car\n",
    "\n",
    "Please implement a class named Car which has two private, encapsulated variables: the amount of petrol in the tank (0 to 60 litres) and odometer reading (in kilometres). The car consumes one litre of petrol per kilometre.\n",
    "\n",
    "The class should also contain the following methods:\n",
    "\n",
    "fill_up() which fills up the tank\n",
    "drive(km:int) which drives the car for the distance indicated, or for however long the petrol in the tank allows\n",
    "__str__ which returns a string representation of the car as per the examples below\n",
    "An example of how the class is used:\n",
    "\n",
    "```python\n",
    "car = Car()\n",
    "print(car)\n",
    "car.fill_up()\n",
    "print(car)\n",
    "car.drive(20)\n",
    "print(car)\n",
    "car.drive(50)\n",
    "print(car)\n",
    "car.drive(10)\n",
    "print(car)\n",
    "car.fill_up()\n",
    "car.fill_up()\n",
    "print(car)\n",
    "```\n",
    "Sample output\n",
    "```console\n",
    "Car: odometer reading 0 km, petrol remaining 0 litres\n",
    "Car: odometer reading 0 km, petrol remaining 60 litres\n",
    "Car: odometer reading 20 km, petrol remaining 40 litres\n",
    "Car: odometer reading 60 km, petrol remaining 0 litres\n",
    "Car: odometer reading 60 km, petrol remaining 0 litres\n",
    "Car: odometer reading 60 km, petrol remaining 60 litres\n",
    "\n",
    "```\n",
    "NB: you are asked to encapsulate the amount of petrol left and the odometer reading. It should not be possible to access them directly from outside the class's own methods."
   ]
  },
  {
   "cell_type": "code",
   "execution_count": 12,
   "metadata": {},
   "outputs": [
    {
     "name": "stdout",
     "output_type": "stream",
     "text": [
      "Car: odometer reading 0 km, petrol remaining 0 litres\n",
      "Car: odometer reading 0 km, petrol remaining 60 litres\n",
      "Car: odometer reading 20 km, petrol remaining 40 litres\n",
      "Car: odometer reading 60 km, petrol remaining 0 litres\n",
      "Car: odometer reading 60 km, petrol remaining 0 litres\n",
      "Car: odometer reading 60 km, petrol remaining 60 litres\n"
     ]
    }
   ],
   "source": [
    "class Car:\n",
    "    def __init__(self):\n",
    "        self.__petrol = 0\n",
    "        self.__odometer = 0\n",
    "    \n",
    "    def fill_up(self):\n",
    "        self.__petrol = 60\n",
    "\n",
    "    def drive(self, km: int):\n",
    "        if self.__petrol >= km:\n",
    "            self.__petrol -= km\n",
    "            self.__odometer += km\n",
    "        else:\n",
    "            self.__odometer += self.__petrol\n",
    "            self.__petrol = 0\n",
    "        \n",
    "    def __str__(self) -> str:\n",
    "        return f\"Car: odometer reading {self.__odometer} km, petrol remaining {self.__petrol} litres\"\n",
    "\n",
    "car = Car()\n",
    "print(car)\n",
    "car.fill_up()\n",
    "print(car)\n",
    "car.drive(20)\n",
    "print(car)\n",
    "car.drive(50)\n",
    "print(car)\n",
    "car.drive(10)\n",
    "print(car)\n",
    "car.fill_up()\n",
    "car.fill_up()\n",
    "print(car)\n",
    "\n",
    "    \n",
    "\n"
   ]
  },
  {
   "attachments": {},
   "cell_type": "markdown",
   "metadata": {},
   "source": [
    "# A brief note on private attributes, Python and object oriented programming\n",
    "There are ways around the underscore __ notation for hiding attributes, which you may come across if you search for resources online. No Python attribute is truly private, and this is intentional on the part of the creators of Python. On the other hand, a Python programmer is generally expected to respect the visibility guidelines set in classes, and it takes a special effort to get around these. In other object oriented programming languages, such as Java, private variables are often truly hidden, and it is best if you think of private Python variables as such as well.\n",
    "\n",
    "## Getters and setters\n",
    "In object oriented programming, methods which are dedicated to accessing and changing attributes are usually called getters and setters. Not all Python programmers use the terms \"getter\" and \"setter\", but the concept of properties outlined below is very similar, which is why we will use the generally accepted object oriented programming terminology here.\n",
    "\n",
    "So, above we created some public methods for accessing private attributes, but there is a more straightforward, \"pythonic\" way of accessing attributes. Let's have a look at a simple class named Wallet with a single, private attribute money:\n"
   ]
  },
  {
   "cell_type": "code",
   "execution_count": 1,
   "metadata": {},
   "outputs": [],
   "source": [
    "\n",
    "class Wallet:\n",
    "    def __init__(self):\n",
    "        self.__money = 0\n"
   ]
  },
  {
   "cell_type": "markdown",
   "metadata": {},
   "source": [
    "We can add getter and setter methods for accessing the private attribute using the @property decorator:\n"
   ]
  },
  {
   "cell_type": "code",
   "execution_count": 2,
   "metadata": {},
   "outputs": [],
   "source": [
    "\n",
    "class Wallet:\n",
    "    def __init__(self):\n",
    "        self.__money = 0\n",
    "\n",
    "    # A getter method\n",
    "    @property\n",
    "    def money(self):\n",
    "        return self.__money\n",
    "\n",
    "    # A setter method\n",
    "    @money.setter\n",
    "    def money(self, money):\n",
    "        if money >= 0:\n",
    "            self.__money = money\n"
   ]
  },
  {
   "cell_type": "markdown",
   "metadata": {},
   "source": [
    "First, we define a getter method, which returns the amount of money currently in the wallet. Then we define a setter method, which sets a new value for the money attribute while making sure the new value is not negative.\n",
    "\n",
    "The new methods can be used like so:\n"
   ]
  },
  {
   "cell_type": "code",
   "execution_count": 3,
   "metadata": {},
   "outputs": [
    {
     "name": "stdout",
     "output_type": "stream",
     "text": [
      "0\n",
      "50\n",
      "50\n"
     ]
    }
   ],
   "source": [
    "\n",
    "wallet = Wallet()\n",
    "print(wallet.money)\n",
    "\n",
    "wallet.money = 50\n",
    "print(wallet.money)\n",
    "\n",
    "wallet.money = -30\n",
    "print(wallet.money)\n"
   ]
  },
  {
   "cell_type": "markdown",
   "metadata": {},
   "source": [
    "Sample output\n",
    "0\n",
    "50\n",
    "50\n"
   ]
  },
  {
   "cell_type": "markdown",
   "metadata": {},
   "source": [
    "\n",
    "As far as the client is concerned, using these new methods is no different from directly accessing an attribute. Parentheses are not necessary; instead it is perfectly acceptable to state wallet.money = 50, as if we were simply assigning a value to a variable. Indeed, the purpose was to hide (i.e. encapsulate) the internal implementation of the attribute while offering an easy way of accessing and modifying the data stored in the object.\n",
    "\n",
    "The previous example has a small problem: the client is not notified of the failure to set a negative value for the money attribute. When a value supplied is clearly wrong, it is usually a good idea to raise an exception and thus let the client know. In this case the exception should probably be of type ValueError to signify that the value supplied was unacceptable.\n",
    "\n",
    "Here we have an improved version of the class, along with some code for testing it:\n"
   ]
  },
  {
   "cell_type": "code",
   "execution_count": null,
   "metadata": {},
   "outputs": [],
   "source": [
    "\n",
    "class Wallet:\n",
    "    def __init__(self):\n",
    "        self.__money = 0\n",
    "\n",
    "    # A getter method\n",
    "    @property\n",
    "    def money(self):\n",
    "        return self.__money\n",
    "\n",
    "    # A setter method\n",
    "    @money.setter\n",
    "    def money(self, money):\n",
    "        if money >= 0:\n",
    "            self.__money = money\n",
    "        else:\n",
    "            raise ValueError(\"The amount must not be below zero\")\n",
    "wallet.money = -30\n",
    "print(wallet.money)\n"
   ]
  },
  {
   "cell_type": "markdown",
   "metadata": {},
   "source": [
    "\n",
    "NB: the getter method, i.e. the @property decorator, must be introduced before the setter method, or there will be an error when the class is executed. This is because the @property decorator defines the name of the \"attribute\" offerred to the client. The setter method, added with .setter, simply adds a new functionality to it.\n"
   ]
  },
  {
   "attachments": {},
   "cell_type": "markdown",
   "metadata": {},
   "source": [
    "# Programming exercise:Recording\n",
    "\n",
    "\n",
    "Please create a class named Recording which models a single recording. The class should have one private variable: __length of type integer.\n",
    "\n",
    "Please implement the following:\n",
    "\n",
    "a constructor which takes the length as an argument\n",
    "a getter method length which returns the length of the recording\n",
    "a setter method which sets the length of the recording\n",
    "It should be possible to make use of the class as follows:\n",
    "\n",
    "```python\n",
    "the_wall = Recording(43)\n",
    "print(the_wall.length)\n",
    "the_wall.length = 44\n",
    "print(the_wall.length)\n",
    "```\n",
    "Sample output\n",
    "```console\n",
    "43\n",
    "44\n",
    "```\n",
    "\n",
    "If the argument for either the constructor or the setter method is below zero, this should raise a ValueError.\n",
    "\n",
    "If you need a refresher on raising exceptions, please see part 6 of the course materials."
   ]
  },
  {
   "cell_type": "code",
   "execution_count": 7,
   "metadata": {},
   "outputs": [
    {
     "name": "stdout",
     "output_type": "stream",
     "text": [
      "43\n",
      "44\n"
     ]
    }
   ],
   "source": [
    "class Recording:\n",
    "    def __init__(self, length: int) -> None:\n",
    "        self.__length = length\n",
    "\n",
    "    @property\n",
    "    def length(self):\n",
    "        return self.__length\n",
    "    \n",
    "    @length.setter\n",
    "    def length(self, length: int):\n",
    "        if length >= 0:\n",
    "            self.__length = length\n",
    "        else:\n",
    "            raise ValueError(\"The value must be above zero\")\n",
    "        \n",
    "\n",
    "the_wall = Recording(43)\n",
    "print(the_wall.length)\n",
    "the_wall.length = 44\n",
    "print(the_wall.length)\n"
   ]
  },
  {
   "attachments": {},
   "cell_type": "markdown",
   "metadata": {},
   "source": [
    "The following example has a class with two private attributes, along with getters and setters for both. Please try the program out with different values passed as arguments:\n"
   ]
  },
  {
   "cell_type": "code",
   "execution_count": 8,
   "metadata": {},
   "outputs": [
    {
     "name": "stdout",
     "output_type": "stream",
     "text": [
      "Betty Ballmer\n",
      "10\n",
      "Buster Ballmer\n",
      "11\n"
     ]
    }
   ],
   "source": [
    "\n",
    "class Player:\n",
    "    def __init__(self, name: str, player_number: int):\n",
    "        self.__name = name\n",
    "        self.__player_number = player_number\n",
    "\n",
    "    @property\n",
    "    def name(self):\n",
    "        return self.__name\n",
    "\n",
    "    @name.setter\n",
    "    def name(self, name: str):\n",
    "        if name != \"\":\n",
    "            self.__name = name\n",
    "        else:\n",
    "            raise ValueError(\"The name may not be an empty string\")\n",
    "\n",
    "    @property\n",
    "    def player_number(self):\n",
    "        return self.__player_number\n",
    "\n",
    "    @player_number.setter\n",
    "    def player_number(self, player_number: int):\n",
    "        if player_number > 0:\n",
    "            self.__player_number = player_number\n",
    "        else:\n",
    "            raise ValueError(\"The player number must be a positive integer\")\n",
    "player = Player(\"Betty Ballmer\", 10)\n",
    "print(player.name)\n",
    "print(player.player_number)\n",
    "\n",
    "player.name = \"Buster Ballmer\"\n",
    "player.player_number = 11\n",
    "print(player.name)\n",
    "print(player.player_number)\n"
   ]
  },
  {
   "cell_type": "markdown",
   "metadata": {},
   "source": [
    "\n",
    "To finish off this section, let's take a look at a class which models a simple diary. All attributes are private, but they are handled through differing interfaces: the owner of the diary has getter and setter methods, but the diary entries are processed with \"traditional\" methods. In this case it makes sense to deny the client all access to the internal data structure of the diary. Only the public methods are directly visible to the client.\n",
    "\n",
    "Encapsulation also ensures that the internal implementation of the class can be changed at will, provided that the public interface stays intact. The client does not have to know or care whether the internal data structure is based on lists, dictionaries, or something completely different.\n"
   ]
  },
  {
   "cell_type": "code",
   "execution_count": 9,
   "metadata": {},
   "outputs": [
    {
     "name": "stdout",
     "output_type": "stream",
     "text": [
      "A total of 3 entries\n",
      "- Today I ate porridge\n",
      "- Today I learned object oriented programming\n",
      "- Today I went to bed early\n"
     ]
    }
   ],
   "source": [
    "\n",
    "class Diary:\n",
    "    def __init__(self, owner: str):\n",
    "        self.__owner = owner\n",
    "        self.__entries = []\n",
    "\n",
    "    @property\n",
    "    def owner(self):\n",
    "        return self.__owner\n",
    "\n",
    "    @owner.setter\n",
    "    def owner(self, owner):\n",
    "        if owner != \"\":\n",
    "            self.__owner = owner\n",
    "        else:\n",
    "            raise ValueError(\"The owner may not be an empty string\")\n",
    "\n",
    "    def add_entry(self, entry: str):\n",
    "        self.__entries.append(entry)\n",
    "\n",
    "    def print_entries(self):\n",
    "        print(\"A total of\", len(self.__entries), \"entries\")\n",
    "        for entry in self.__entries:\n",
    "            print(\"- \" + entry)\n",
    "diary = Diary(\"Peter\")\n",
    "diary.add_entry(\"Today I ate porridge\")\n",
    "diary.add_entry(\"Today I learned object oriented programming\")\n",
    "diary.add_entry(\"Today I went to bed early\")\n",
    "diary.print_entries()"
   ]
  },
  {
   "attachments": {},
   "cell_type": "markdown",
   "metadata": {},
   "source": [
    "# Programming exercise:Weather station\n",
    "\n",
    "\n",
    "Please create a class named WeatherStation which is used to store observations about the weather. The class should have the following public attributes:\n",
    "\n",
    "* a constructor which takes the name of the station as its argument\n",
    "* a method named add_observation(observation: str) which adds an observation as the last entry in a list\n",
    "* a method named latest_observation() which returns the latest observation added to the list. If there are no observations yet, the method should return an empty string.\n",
    "* a method named number_of_observations() which returns the total number of observations added\n",
    "* a __str__ method which returns the name of the station and the total number of observations added as per the example below.\n",
    "All attributes should be encapsulated, so they can't be directly accessed. It is up to you how you implement the class, as long as the public interface is exactly as described above.\n",
    "\n",
    "An example of how the class is used:\n",
    "\n",
    "```python\n",
    "station = WeatherStation(\"Houston\")\n",
    "station.add_observation(\"Rain 10mm\")\n",
    "station.add_observation(\"Sunny\")\n",
    "print(station.latest_observation())\n",
    "\n",
    "station.add_observation(\"Thunderstorm\")\n",
    "print(station.latest_observation())\n",
    "\n",
    "print(station.number_of_observations())\n",
    "print(station)\n",
    "```"
   ]
  },
  {
   "cell_type": "code",
   "execution_count": 11,
   "metadata": {},
   "outputs": [
    {
     "name": "stdout",
     "output_type": "stream",
     "text": [
      "Sunny\n",
      "Thunderstorm\n",
      "3\n",
      "Houston, 3 observations\n"
     ]
    }
   ],
   "source": [
    "class WeatherStation:\n",
    "    def __init__(self, name: str):\n",
    "        self.__name = name\n",
    "        self.__list = []\n",
    "\n",
    "    # encapsulating name \n",
    "    @property\n",
    "    def name(self):\n",
    "        return self.__name\n",
    "    \n",
    "    @name.setter\n",
    "    def name(self, name):\n",
    "        if name != \"\":\n",
    "            self.__name = name\n",
    "        else:\n",
    "            raise ValueError(\"The weather station may not be an empty string\")\n",
    "    \n",
    "    def add_observation(self, observation: str):\n",
    "        self.__list.append(observation)\n",
    "\n",
    "    def latest_observation(self):\n",
    "        return self.__list[-1]\n",
    "\n",
    "    def number_of_observations(self):\n",
    "        return len(self.__list)\n",
    "\n",
    "    def __str__(self):\n",
    "        return f\"{self.name}, {len(self.__list)} observations\"\n",
    "\n",
    "\n",
    "station = WeatherStation(\"Houston\")\n",
    "station.add_observation(\"Rain 10mm\")\n",
    "station.add_observation(\"Sunny\")\n",
    "print(station.latest_observation())\n",
    "\n",
    "station.add_observation(\"Thunderstorm\")\n",
    "print(station.latest_observation())\n",
    "\n",
    "print(station.number_of_observations())\n",
    "print(station)"
   ]
  },
  {
   "cell_type": "code",
   "execution_count": null,
   "metadata": {},
   "outputs": [],
   "source": []
  }
 ],
 "metadata": {
  "kernelspec": {
   "display_name": ".venv",
   "language": "python",
   "name": "python3"
  },
  "language_info": {
   "codemirror_mode": {
    "name": "ipython",
    "version": 3
   },
   "file_extension": ".py",
   "mimetype": "text/x-python",
   "name": "python",
   "nbconvert_exporter": "python",
   "pygments_lexer": "ipython3",
   "version": "3.10.10"
  },
  "orig_nbformat": 4
 },
 "nbformat": 4,
 "nbformat_minor": 2
}
