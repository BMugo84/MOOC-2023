{
 "cells": [
  {
   "attachments": {},
   "cell_type": "markdown",
   "metadata": {},
   "source": [
    "# Class attributes\n",
    "## Learning objectives\n",
    "After this section\n",
    "\n",
    "You will be familiar with the terms class variable and class method\n",
    "You will know how static traits are different from the traits of instances\n",
    "You will be able to add static traits to your own classes"
   ]
  },
  {
   "attachments": {},
   "cell_type": "markdown",
   "metadata": {},
   "source": [
    "The traits of objects are a central concept in object oriented programming. The term encompasses the methods and variables defined in the class definition. Again, not all Python programmers use the term \"traits\", some preferring attributes, features or members. Traits is quite accepted in the wider object oriented programming world, so that is the term we use here.\n",
    "\n",
    "Thus far we have dealt mostly with traits of objects. These include the methods and attributes accessible in any instance of a class. In fact, classes themselves can also have traits, which are sometimes called static traits, or more specifically class variables and class methods.\n"
   ]
  },
  {
   "cell_type": "markdown",
   "metadata": {},
   "source": [
    "\n",
    "Class variables\n",
    "Each instance of a class has its own specific values for each attribute defined in the class, as we've seen in the examples in the previous sections. But what if we wanted to have some data that is shared by the different instances? Enter class variables, also known as static variables. A class variable is a variable which is accessed through the class itself, not through the instances created based on the class. At any given time during the execution of the program a class variable has one single value, no matter how many instances of the class are created.\n",
    "\n",
    "A class variable is declared without the self prefix, and usually outside any method definition as it should be accessible from anywhere within the class, or even from outside the class.\n"
   ]
  },
  {
   "cell_type": "code",
   "execution_count": 1,
   "metadata": {},
   "outputs": [],
   "source": [
    "\n",
    "class SavingsAccount:\n",
    "    general_rate = 0.03\n",
    "\n",
    "    def __init__(self, account_number: str, balance: float, interest_rate: float):\n",
    "        self.__account_number = account_number\n",
    "        self.__balance = balance\n",
    "        self.__interest_rate = interest_rate\n",
    "\n",
    "    def add_interest(self):\n",
    "        # The total interest rate equals \n",
    "        # the general rate + the interest rate of the account\n",
    "        total_interest = SavingsAccount.general_rate + self.__interest_rate\n",
    "        self.__balance += self.__balance * total_interest\n",
    "\n",
    "    @property\n",
    "    def balance(self):\n",
    "        return self.__balance\n"
   ]
  },
  {
   "cell_type": "markdown",
   "metadata": {},
   "source": [
    "As the variable general_rate is defined within the class but outside any method definitions, and it does not use the self prefix, it is a class variable.\n",
    "\n",
    "A class variable is accessed through the name of the class, for example like this:\n"
   ]
  },
  {
   "cell_type": "code",
   "execution_count": 2,
   "metadata": {},
   "outputs": [
    {
     "name": "stdout",
     "output_type": "stream",
     "text": [
      "The general interest rate is 0.03\n",
      "1080.0\n"
     ]
    }
   ],
   "source": [
    "\n",
    "# The general rate exists independently of any object instances\n",
    "print(\"The general interest rate is\", SavingsAccount.general_rate)\n",
    "\n",
    "account = SavingsAccount(\"12345\", 1000, 0.05)\n",
    "# Add the total interest accrued to the balance on the account\n",
    "account.add_interest()\n",
    "print(account.balance)\n"
   ]
  },
  {
   "cell_type": "markdown",
   "metadata": {},
   "source": [
    "\n",
    "So, the class variables are accessed through the name of the class, for instance with SavingsAccount.general_rate, while instance variables are accessed through the name of the object variable, such as account.balance. An instance variable naturally only exists when an instance of the class has been created, but a class variable is available everywhere and at any point in time where the class itself is available.\n",
    "\n",
    "Class variables are useful when there is need for values which are shared by all instances of the class. In the example above we assumed the total interest rate of all savings accounts is formed from two components: the general rate of interest is shared by all accounts, but each account also has it's own interest rate in an instance variable. The general rate may also change, but the change will then affect all instances of the class equally.\n"
   ]
  },
  {
   "cell_type": "code",
   "execution_count": 3,
   "metadata": {},
   "outputs": [
    {
     "name": "stdout",
     "output_type": "stream",
     "text": [
      "General interest rate: 0.03\n",
      "0.06\n",
      "0.09\n",
      "General interest rate: 0.1\n",
      "0.13\n",
      "0.16\n"
     ]
    }
   ],
   "source": [
    "\n",
    "class SavingsAccount:\n",
    "    general_rate = 0.03\n",
    "\n",
    "    def __init__(self, account_number: str, balance: float, interest_rate: float):\n",
    "        self.__account_number = account_number\n",
    "        self.__balance = balance\n",
    "        self.__interest_rate = interest_rate\n",
    "\n",
    "    def add_interest(self):\n",
    "        # The total interest rate equals \n",
    "        # the general rate + the interest rate of the account\n",
    "        total_interest = SavingsAccount.general_rate + self.__interest_rate\n",
    "        self.__balance += self.__balance * total_interest\n",
    "\n",
    "    @property\n",
    "    def balance(self):\n",
    "        return self.__balance\n",
    "\n",
    "    @property\n",
    "    def total_interest(self):\n",
    "        return self.__interest_rate + SavingsAccount.general_rate\n",
    "    \n",
    "account1 = SavingsAccount(\"12345\", 100, 0.03)\n",
    "account2 = SavingsAccount(\"54321\", 200, 0.06)\n",
    "\n",
    "print(\"General interest rate:\", SavingsAccount.general_rate)\n",
    "print(account1.total_interest)\n",
    "print(account2.total_interest)\n",
    "\n",
    "# The general rate of interest is now 10 percent\n",
    "SavingsAccount.general_rate = 0.10\n",
    "\n",
    "print(\"General interest rate:\", SavingsAccount.general_rate)\n",
    "print(account1.total_interest)\n",
    "print(account2.total_interest)\n"
   ]
  },
  {
   "cell_type": "markdown",
   "metadata": {},
   "source": [
    "\n",
    "When the general rate of interest changes, the total interest rate for all instances of the class changes. As you can see above, it is possible to add a getter method with the @property decorator even though there isn't an attribute of the same name in the class. This method returns the sum of the general rate of interest and the account specific interest rate.\n",
    "\n",
    "Let's have a look at another example. The class PhoneNumber is used to define a single phone number, but it also contains some country codes in a dictionary. This dictionary is a class variable, and as such is shared by all the instances of the class, because the country code for phone numbers from a single country is always the same.\n"
   ]
  },
  {
   "cell_type": "code",
   "execution_count": 4,
   "metadata": {},
   "outputs": [
    {
     "name": "stdout",
     "output_type": "stream",
     "text": [
      "+358 50 1234 567\n"
     ]
    }
   ],
   "source": [
    "\n",
    "class PhoneNumber:\n",
    "    country_codes = {\"Finland\": \"+358\", \"Sweden\": \"+46\", \"United States\": \"+1\"}\n",
    "\n",
    "    def __init__(self, name: str, phone_number: str, country: str):\n",
    "        self.__name = name\n",
    "        self.__phone_number = phone_number\n",
    "        self.__country = country\n",
    "\n",
    "    @property\n",
    "    def phone_number(self):\n",
    "        # When the country code prefix is added \n",
    "        # the initial zero is removed from the phone number\n",
    "        return PhoneNumber.country_codes[self.__country] + \" \" + self.__phone_number[1:]\n",
    "    \n",
    "paulas_no = PhoneNumber(\"Paula Pythons\", \"050 1234 567\", \"Finland\")\n",
    "print(paulas_no.phone_number)\n"
   ]
  },
  {
   "cell_type": "markdown",
   "metadata": {},
   "source": [
    "\n",
    "Each PhoneNumber object contains the name of the owner, the number itself, and the country of the phone number. When the attribute containing the phone number is accessed with the getter method, the appropriate country code is retrieved from the class variable dictionary based on the country attribute, and the result is prefixed to the number.\n",
    "\n",
    "The example implementation above is not yet very functional otherwise. In the following example we've added getter and setters for all attributes:\n"
   ]
  },
  {
   "cell_type": "code",
   "execution_count": null,
   "metadata": {},
   "outputs": [],
   "source": [
    "\n",
    "class PhoneNumber:\n",
    "    country_codes = {\"Finland\": \"+358\", \"Sweden\": \"+46\", \"United States\": \"+1\"}\n",
    "\n",
    "    def __init__(self, name: str, phone_number: str, country: str):\n",
    "        self.__name = name\n",
    "        # This is a call to the phone_number.setter method\n",
    "        self.phone_number = phone_number\n",
    "        # This is a call to the country.setter method\n",
    "        self.country = country\n",
    "\n",
    "    # the getter method for phone_number combines the country code \n",
    "    # and the attribute phone_number\n",
    "    @property\n",
    "    def phone_number(self):\n",
    "        # the initial zero is removed as the country code is prefixed\n",
    "        return PhoneNumber.country_codes[self.__country] + \" \" + self.__phone_number[1:]\n",
    "\n",
    "    @phone_number.setter\n",
    "    def phone_number(self, number):\n",
    "        # Making sure the number contains only numbers and space characters\n",
    "        for character in number:\n",
    "            if character not in \"1234567890 \":\n",
    "                raise ValueError(\"A phone number can only contain numbers and spaces\")\n",
    "        self.__phone_number = number\n",
    "\n",
    "    # a getter for only the number itself without the country code\n",
    "    @property\n",
    "    def local_number(self):\n",
    "        return self.__phone_number\n",
    "\n",
    "    @property\n",
    "    def country(self):\n",
    "        return self.__country\n",
    "\n",
    "    @country.setter\n",
    "    def country(self, country):\n",
    "        # Making sure the country is a key in the dictionary of country codes\n",
    "        if country not in PhoneNumber.country_codes:\n",
    "            raise ValueError(\"This country is not on the list.\")\n",
    "        self.__country = country\n",
    "\n",
    "    @property\n",
    "    def name(self):\n",
    "        return self.__name\n",
    "\n",
    "    @name.setter\n",
    "    def name(self, name):\n",
    "        self.__name = name\n",
    "\n",
    "    def __str__(self):\n",
    "        return f\"{self.phone_number} ({self.__name})\"\n",
    "if __name__ == \"__main__\":\n",
    "    pn = PhoneNumber(\"Peter Pythons\", \"040 111 1111\", \"Sweden\")\n",
    "    print(pn)\n",
    "    print(pn.phone_number)\n",
    "    print(pn.local_number)"
   ]
  },
  {
   "attachments": {},
   "cell_type": "markdown",
   "metadata": {},
   "source": [
    "# Programming exercise:Postcodes\n",
    "\n",
    "\n",
    "The exercise template contains the class definition City which is a model for a single city.\n",
    "\n",
    "Please add a class variable named postcodes which refers to a dictionary. The keys of the dictionary are names of cities, and the values attached are the postcodes for those cities. Both are strings.\n",
    "\n",
    "The dictionary should contain (at least) the following postcodes:\n",
    "\n",
    "* Helsinki 00100\n",
    "* Turku 20100\n",
    "* Tampere 33100\n",
    "* Rovaniemi 96100\n",
    "* Oulu 90100\n",
    "\n",
    "\n",
    "You do not need to implement any other functionality."
   ]
  },
  {
   "cell_type": "code",
   "execution_count": null,
   "metadata": {},
   "outputs": [],
   "source": [
    "class City:\n",
    "\n",
    "    postcodes = {\n",
    "        'Helsinki' : '00100',\n",
    "        'Turku' : '20100',\n",
    "        'Tampere' : '33100',\n",
    "        'Rovaniemi' : '96100',\n",
    "        'Oulu' : '90100'\n",
    "    }\n",
    "\n",
    "\n",
    "    def __init__(self, name: str, population: int):\n",
    "        self.__name = name\n",
    "        self.__population = population\n",
    "\n",
    "    @property\n",
    "    def name(self):\n",
    "        return self.__name\n",
    "\n",
    "    @property\n",
    "    def population(self):\n",
    "        return self.__population\n",
    "\n",
    "    def __str__(self):\n",
    "        return f\"{self.__name} ({self.__population} residents.)\""
   ]
  },
  {
   "attachments": {},
   "cell_type": "markdown",
   "metadata": {},
   "source": [
    "# Class methods\n",
    "A class method, also called a static method, is a method which is not attached to any single instance of the class. A class method can be called without creating any instances of the class.\n",
    "\n",
    "Class methods are usually tools which have something to do with the purpose of the class, but which are detached in the sense that it should not be necessary to create instances of the class in order to be able to call them. Class methods are usually public, so that they can be called both from outside the class and from within the class, including from within instances of the class.\n",
    "\n",
    "A class method is defined with the @classmethod annotation. The first parameter is always cls. The variable name cls is similar to the self parameter. The difference is that cls points to the class while self point to an instance of the class. Neither parameter is included in the argument list when the function is called; Python fills in the appropriate value automatically.\n",
    "\n",
    "In the following example we have a class modelling vehicle registrations. The Registration class contains a static method for checking whether a license plate is valid. The method is a static class method because it is useful to be able to check if a license plate is valid even before a single Registration object is created:\n"
   ]
  },
  {
   "cell_type": "code",
   "execution_count": 5,
   "metadata": {},
   "outputs": [
    {
     "name": "stdout",
     "output_type": "stream",
     "text": [
      "This is a valid license plate!\n"
     ]
    }
   ],
   "source": [
    "\n",
    "class Registration:\n",
    "    def __init__(self, owner: str, make: str, year: int, license_plate: str):\n",
    "        self.__owner = owner\n",
    "        self.__make = make\n",
    "        self.__year = year\n",
    "\n",
    "        # Call the license_plate.setter method\n",
    "        self.license_plate = license_plate\n",
    "\n",
    "    @property\n",
    "    def license_plate(self):\n",
    "        return self.__license_plate\n",
    "\n",
    "    @license_plate.setter\n",
    "    def license_plate(self, plate):\n",
    "        if Registration.license_plate_valid(plate):\n",
    "            self.__license_plate = plate\n",
    "        else:\n",
    "            raise ValueError(\"The license plate is not valid\")\n",
    "\n",
    "    # A class method for validating the license plate\n",
    "    @classmethod\n",
    "    def license_plate_valid(cls, plate: str):\n",
    "        if len(plate) < 3 or \"-\" not in plate:\n",
    "            return False\n",
    "\n",
    "        # Check the beginning and end sections of the plate separately\n",
    "        letters, numbers = plate.split(\"-\")\n",
    "\n",
    "        # the beginning section can have only letters\n",
    "        for character in letters:\n",
    "            if character.lower() not in \"abcdefghijklmnopqrstuvwxyzåäö\":\n",
    "                return False\n",
    "\n",
    "        # the end section can have only numbers\n",
    "        for character in numbers:\n",
    "            if character not in \"1234567890\":\n",
    "                return False\n",
    "\n",
    "        return True\n",
    "registration = Registration(\"Mary Motorist\", \"Volvo\", \"1992\", \"abc-123\")\n",
    "\n",
    "if Registration.license_plate_valid(\"xyz-789\"):\n",
    "    print(\"This is a valid license plate!\")\n"
   ]
  },
  {
   "cell_type": "markdown",
   "metadata": {},
   "source": [
    "Sample output\n",
    "This is a valid license plate!\n",
    "\n",
    "The validity of a license plate can be checked even without creating a single instance of the class, for example with Registration.license_plate_valid(\"xyz-789\"). The same method is called within the constructor of the class. NB: even within the constructor this method is accessed through the name of the class, not self!"
   ]
  },
  {
   "attachments": {},
   "cell_type": "markdown",
   "metadata": {},
   "source": [
    "# Programming exercise:List helper\n",
    "\n",
    "Please create a class named ListHelper which contains the following two class methods.\n",
    "\n",
    "* greatest_frequency(my_list: list) returns the most common item on the list\n",
    "* doubles(my_list: list) returns the number of unique items which appear at least twice on the list\n",
    "\n",
    "\n",
    "It should be possible to use these methods without creating an instance of the class. An example of how the methods could be used:\n",
    "\n",
    "```python\n",
    "numbers = [1, 1, 2, 1, 3, 3, 4, 5, 5, 5, 6, 5, 5, 5]\n",
    "print(ListHelper.greatest_frequency(numbers))\n",
    "print(ListHelper.doubles(numbers))\n",
    "```\n",
    "Sample output\n",
    "```console\n",
    "5\n",
    "3\n",
    "```"
   ]
  },
  {
   "cell_type": "code",
   "execution_count": 6,
   "metadata": {},
   "outputs": [
    {
     "name": "stdout",
     "output_type": "stream",
     "text": [
      "[5]\n",
      "8\n"
     ]
    }
   ],
   "source": [
    "class ListHelper:\n",
    "    @classmethod\n",
    "    def greatest_frequency(cls, my_list: list):\n",
    "        # Create a dictionary to store the count of each item\n",
    "        item_count = {}\n",
    "\n",
    "        # Iterate over the list and update the item count in the dictionary\n",
    "        for item in my_list:\n",
    "            if item in item_count:\n",
    "                item_count[item] += 1\n",
    "            else:\n",
    "                item_count[item] = 1\n",
    "\n",
    "        # Find the maximum frequency in the item count dictionary\n",
    "        max_frequency = max(item_count.values())\n",
    "\n",
    "        # Find the items with the maximum frequency\n",
    "        most_common_items = [item for item, count in item_count.items() if count == max_frequency]\n",
    "\n",
    "        # Return the most common item(s)\n",
    "        return most_common_items\n",
    "\n",
    "    @classmethod\n",
    "    def doubles(cls, my_list: list):\n",
    "        # Create a set to store unique items that appear at least twice\n",
    "        unique_items = set()\n",
    "        doubles_count = 0\n",
    "\n",
    "        # Iterate over the list and track the count of each item\n",
    "        for item in my_list:\n",
    "            if item in unique_items:\n",
    "                doubles_count += 1\n",
    "            elif my_list.count(item) >= 2:\n",
    "                unique_items.add(item)\n",
    "\n",
    "        # Return the count of unique items that appear at least twice\n",
    "        return doubles_count\n",
    "    \n",
    "numbers = [1, 1, 2, 1, 3, 3, 4, 5, 5, 5, 6, 5, 5, 5]\n",
    "print(ListHelper.greatest_frequency(numbers))\n",
    "print(ListHelper.doubles(numbers))\n",
    "\n"
   ]
  },
  {
   "attachments": {},
   "cell_type": "markdown",
   "metadata": {},
   "source": [
    "\n",
    "\n",
    "Explanation of `greatest_frequency` method:\n",
    "1. We create a dictionary called `item_count` to store the count of each item in the list.\n",
    "2. We iterate over the list and update the count of each item in the dictionary.\n",
    "3. We find the maximum frequency (count) of any item in the list by using the `max` function on the values of `item_count`.\n",
    "4. We find the item(s) with the maximum frequency by iterating over the key-value pairs in `item_count` and adding the item to the `most_common_items` list if its count matches the maximum frequency.\n",
    "5. We return the `most_common_items` list containing the most common item(s).\n",
    "\n",
    "Explanation of `doubles` method:\n",
    "1. We create an empty set called `unique_items` to store unique items that appear at least twice.\n",
    "2. We initialize `doubles_count` to zero to keep track of the count of unique items that appear at least twice.\n",
    "3. We iterate over the list and check if each item is already in the `unique_items` set.\n",
    "4. If an item is in the `unique_items` set, it means it has already appeared before, so we increment the `doubles_count`.\n",
    "5. If an item is not in the `unique_items` set, we check if its count in the list is greater than or equal to 2. If so, we add it to the `unique_items` set.\n",
    "6. Finally, we return the `doubles_count`, which represents the count of unique items that appear at least twice in the list.\n",
    "\n",
    "You can use these methods without creating an instance of the `ListHelper` class by calling them directly on the class, as shown in the example usage in the code you provided."
   ]
  },
  {
   "cell_type": "markdown",
   "metadata": {},
   "source": []
  }
 ],
 "metadata": {
  "kernelspec": {
   "display_name": ".venv",
   "language": "python",
   "name": "python3"
  },
  "language_info": {
   "codemirror_mode": {
    "name": "ipython",
    "version": 3
   },
   "file_extension": ".py",
   "mimetype": "text/x-python",
   "name": "python",
   "nbconvert_exporter": "python",
   "pygments_lexer": "ipython3",
   "version": "3.10.10"
  },
  "orig_nbformat": 4
 },
 "nbformat": 4,
 "nbformat_minor": 2
}
