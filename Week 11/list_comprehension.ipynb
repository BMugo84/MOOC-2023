{
 "cells": [
  {
   "attachments": {},
   "cell_type": "markdown",
   "metadata": {},
   "source": [
    "# List comprehensions\n",
    "Learning objectives\n",
    "After this section\n",
    "\n",
    "You will know what list comprehensions are\n",
    "You will be able to use list comprehensions to create new lists"
   ]
  },
  {
   "attachments": {},
   "cell_type": "markdown",
   "metadata": {},
   "source": [
    "One of the situations where programming is at its most powerful is processing sequences of items and events. Computers are good at repeating things. For example, in the previous parts of this material we have been iterating over strings, lists and dictionaries in various ways.\n",
    "\n",
    "Let's assume we have a list of integers, and we would need the same list of items in string format. A traditional way of completing the task could look like this:\n"
   ]
  },
  {
   "cell_type": "code",
   "execution_count": 1,
   "metadata": {},
   "outputs": [],
   "source": [
    "\n",
    "numbers = [1, 2, 3, 6, 5, 4, 7]\n",
    "\n",
    "strings = []\n",
    "for number in numbers:\n",
    "    strings.append(str(number))\n"
   ]
  },
  {
   "attachments": {},
   "cell_type": "markdown",
   "metadata": {},
   "source": [
    "## List comprehensions\n",
    "There is also a more \"pythonic\" way of generating lists from existing lists. These are called list comprehensions.\n",
    "\n",
    "The idea is to fit on a single line both the description of what should be done to each item on the list, and the assignment of the result to a new list.\n",
    "\n",
    "In the above example, the operation performed on each item on the list was very simple: each integer was converted into a string. Let's see what this would look like implemented with a list comprehension:\n"
   ]
  },
  {
   "cell_type": "code",
   "execution_count": 2,
   "metadata": {},
   "outputs": [],
   "source": [
    "\n",
    "numbers = [1, 2, 3, 6, 5, 4, 7]\n",
    "strings = [str(number) for number in numbers]\n"
   ]
  },
  {
   "attachments": {
    "11_1_2.png": {
     "image/png": "[encoded data removed]"
    }
   },
   "cell_type": "markdown",
   "metadata": {},
   "source": [
    "The second line above contains many of the same elements as the more traditional iterative apporach, but the syntax is different. One way of generalising a list comprehension statement would be\n",
    "\n",
    "```python\n",
    "[<expression> for <item> in <series>]\n",
    "```\n",
    "\n",
    "The square brackets around the list comprehension statement signal to Python that the result should be a new list. One by one, each item in the original list is processed, and the result is stored in the new list, just like in the iterative approach above. As a result we have a new list with exactly as many items as were in the original, and all items have been processed in an identical fashion.\n",
    "\n",
    "(NB: the originals for the images in this part are temporarily missing, which is why there is some Finnish vocabulary in the illustrations in this part. We are working on fixing this.)\n",
    "\n",
    "![11_1_2.png](attachment:11_1_2.png)\n",
    "List comprehensions can handle much more complicated operations as well. We can perform calculations, such as multiplying the original items by ten:\n"
   ]
  },
  {
   "cell_type": "code",
   "execution_count": null,
   "metadata": {},
   "outputs": [],
   "source": [
    "\n",
    "numbers = list(range(1,10))\n",
    "print(numbers)\n",
    "\n",
    "numbers_multiplied = [number * 10 for number in numbers]\n",
    "print(numbers_multiplied)\n"
   ]
  },
  {
   "cell_type": "markdown",
   "metadata": {},
   "source": [
    "Sample output\n",
    "[1, 2, 3, 4, 5, 6, 7, 8, 9]\n",
    "[10, 20, 30, 40, 50, 60, 70, 80, 90]\n"
   ]
  },
  {
   "cell_type": "markdown",
   "metadata": {},
   "source": [
    "\n",
    "In fact, the expression within the list comprehension statement can be any Python expression. You can even call functions you've defined yourself:\n"
   ]
  },
  {
   "cell_type": "code",
   "execution_count": null,
   "metadata": {},
   "outputs": [],
   "source": [
    "\n",
    "def factorial(n: int):\n",
    "    \"\"\" The function calculates the factorial n! for integers above zero \"\"\"\n",
    "    k = 1\n",
    "    while n >= 2:\n",
    "        k *= n\n",
    "        n -= 1\n",
    "    return k\n",
    "\n",
    "if __name__ == \"__main__\":\n",
    "    numbers = [5, 2, 4, 3, 0]\n",
    "    factorials = [factorial(number) for number in numbers]\n",
    "    print(factorials)\n"
   ]
  },
  {
   "cell_type": "markdown",
   "metadata": {},
   "source": [
    "Sample output\n",
    "[120, 2, 24, 6, 1]\n"
   ]
  },
  {
   "cell_type": "markdown",
   "metadata": {},
   "source": [
    "\n",
    "With the more familiar for loop the same process could be expressed like this:\n"
   ]
  },
  {
   "cell_type": "code",
   "execution_count": null,
   "metadata": {},
   "outputs": [],
   "source": [
    "\n",
    "def factorial(n: int):\n",
    "    \"\"\" The function calculates the factorial n! for integers above zero \"\"\"\n",
    "    k = 1\n",
    "    while n >= 2:\n",
    "        k *= n\n",
    "        n -= 1\n",
    "    return k\n",
    "\n",
    "if __name__ == \"__main__\":\n",
    "    numbers = [5, 2, 4, 3, 0]\n",
    "    factorials = []\n",
    "    for number in numbers:\n",
    "        factorials.append(factorial(number))\n",
    "    print(factorials)\n"
   ]
  },
  {
   "cell_type": "markdown",
   "metadata": {},
   "source": [
    "List comprehensions allow us to express the same functionality more consisely, usually without losing any of the readability.\n",
    "\n",
    "We can also return a list comprehension statement from a function directly. If we needed a function for producing factorials for lists of numbers, we could achieve it very concisely:\n"
   ]
  },
  {
   "cell_type": "code",
   "execution_count": null,
   "metadata": {},
   "outputs": [],
   "source": [
    "\n",
    "def factorials(numbers: list):\n",
    "    return [factorial(number) for number in numbers]"
   ]
  },
  {
   "attachments": {},
   "cell_type": "markdown",
   "metadata": {},
   "source": [
    "# Programming exercise:Square roots\n",
    "\n",
    "\n",
    "Please write a function named square_roots(numbers: list) which takes a list of integers as its argument. The function should return a new list containing the square roots of the original integers.\n",
    "\n",
    "The math module from the Python standard library contains a suitable function for calculating the square root.\n",
    "\n",
    "The function should use a list comprehension. The maximum length of the function is two lines of code, including the header line beginning with the def keyword.\n",
    "\n",
    "The function should work as follows:\n",
    "\n",
    "```python\n",
    "lines = square_roots([1,2,3,4])\n",
    "for line in lines:\n",
    "    print(line)\n",
    "```\n",
    "Sample output\n",
    "```console\n",
    "1.0\n",
    "1.4142135623730951\n",
    "1.7320508075688772\n",
    "2.0\n",
    "```"
   ]
  },
  {
   "cell_type": "code",
   "execution_count": 5,
   "metadata": {},
   "outputs": [
    {
     "name": "stdout",
     "output_type": "stream",
     "text": [
      "1.0\n",
      "1.4142135623730951\n",
      "1.7320508075688772\n",
      "2.0\n"
     ]
    }
   ],
   "source": [
    "from math import sqrt\n",
    "\n",
    "def square_roots(numbers: list):\n",
    "    return [sqrt(number) for number in numbers]\n",
    "\n",
    "\n",
    "lines = square_roots([1,2,3,4])\n",
    "for line in lines:\n",
    "    print(line)"
   ]
  },
  {
   "attachments": {},
   "cell_type": "markdown",
   "metadata": {},
   "source": [
    "# Programming exercise:Rows of stars\n",
    "\n",
    "\n",
    "Please write a function named rows_of_stars(numbers: list) which takes a list of integers as its argument. The function should return a new list containing rows of stars. The length of each row should correspond to the integer at the same index in the original list. The function should use a list comprehension to achieve this.\n",
    "\n",
    "The maximum length of the function is two lines of code, including the header line beginning with the def keyword.\n",
    "\n",
    "The function should work as follows:\n",
    "\n",
    "```python\n",
    "rows = rows_of_stars([1,2,3,4])\n",
    "for row in rows:\n",
    "    print(row)\n",
    "\n",
    "print()\n",
    "\n",
    "rows = rows_of_stars([4, 3, 2, 1, 10])\n",
    "for row in rows:\n",
    "    print(row)\n",
    "```\n",
    "Sample output\n",
    "```console\n",
    "*\n",
    "**\n",
    "***\n",
    "****\n",
    "\n",
    "****\n",
    "***\n",
    "**\n",
    "*\n",
    "**********\n",
    "```"
   ]
  },
  {
   "cell_type": "code",
   "execution_count": 7,
   "metadata": {},
   "outputs": [
    {
     "name": "stdout",
     "output_type": "stream",
     "text": [
      "*\n",
      "**\n",
      "***\n",
      "****\n",
      "\n",
      "****\n",
      "***\n",
      "**\n",
      "*\n",
      "**********\n"
     ]
    }
   ],
   "source": [
    "def rows_of_stars(numbers: list):\n",
    "    return [(\"*\" * number) for number in numbers]\n",
    "\n",
    "rows = rows_of_stars([1,2,3,4])\n",
    "for row in rows:\n",
    "    print(row)\n",
    "\n",
    "print()\n",
    "\n",
    "rows = rows_of_stars([4, 3, 2, 1, 10])\n",
    "for row in rows:\n",
    "    print(row)"
   ]
  },
  {
   "attachments": {},
   "cell_type": "markdown",
   "metadata": {},
   "source": [
    "# Programming exercise:Best exam result\n",
    "\n",
    "The exercise template contains the class definition ExamResult. The class has the following public attributes:\n",
    "\n",
    "* name\n",
    "* grade1\n",
    "* grade2\n",
    "* grade3\n",
    "\n",
    "Please write a function named best_results(results: list) which takes a list of ExamResult objects as its argument.\n",
    "\n",
    "The function should return a new list containing only the best result from each ExamResult object. The function should use a list comprehension to achieve this.\n",
    "\n",
    "The maximum length of the function is two lines of code, including the header line beginning with the def keyword.\n",
    "\n",
    "The function should work as follows:\n",
    "\n",
    "```python\n",
    "result1 = ExamResult(\"Peter\",5,3,4)\n",
    "result2 = ExamResult(\"Pippa\",3,4,1)\n",
    "result3 = ExamResult(\"Paul\",2,1,3)\n",
    "results = [result1, result2, result3]\n",
    "print(best_results(results))\n",
    "```\n",
    "Sample output\n",
    "```console\n",
    "[5, 4, 3]\n",
    "```"
   ]
  },
  {
   "cell_type": "code",
   "execution_count": 12,
   "metadata": {},
   "outputs": [
    {
     "name": "stdout",
     "output_type": "stream",
     "text": [
      "[5, 4, 3]\n"
     ]
    }
   ],
   "source": [
    "# WRITE YOUR SOLUTION HERE:\n",
    "class ExamResult:\n",
    "    def __init__(self, name: str, grade1: int, grade2: int, grade3: int):\n",
    "        self.name = name\n",
    "        self.grade1 = grade1\n",
    "        self.grade2 = grade2\n",
    "        self.grade3 = grade3\n",
    "\n",
    "    def __str__(self):\n",
    "        return (f'Name:{self.name}, grade1: {self.grade1}' +\n",
    "            f', grade2: {self.grade2}, grade3: {self.grade3}')\n",
    "\n",
    "def best_results(results: list):\n",
    "    return [max(result.grade1,result.grade2, result.grade3) for result in results]\n",
    "\n",
    "\n",
    "result1 = ExamResult(\"Peter\",5,3,4)\n",
    "result2 = ExamResult(\"Pippa\",3,4,1)\n",
    "result3 = ExamResult(\"Paul\",2,1,3)\n",
    "results = [result1, result2, result3]\n",
    "print(best_results(results))"
   ]
  },
  {
   "attachments": {},
   "cell_type": "markdown",
   "metadata": {},
   "source": [
    "# Programming exercise:Lengths\n",
    "\n",
    "Please write a function named lengths(lists: list) which takes a list containing lists of integers as its argument. The function should return a new list, containing the lengths of the lists within the argument list.\n",
    "\n",
    "The function should use a list comprehension to achieve this. The maximum length of the function is two lines of code, including the header line beginning with the def keyword.\n",
    "\n",
    "The function should work as follows:\n",
    "\n",
    "```python\n",
    "lists = [[1,2,3,4,5], [324, -1, 31, 7],[]]\n",
    "print(lengths(lists))\n",
    "```\n",
    "Sample output\n",
    "```console\n",
    "[5, 4, 0]\n",
    "```"
   ]
  },
  {
   "cell_type": "code",
   "execution_count": 18,
   "metadata": {},
   "outputs": [
    {
     "name": "stdout",
     "output_type": "stream",
     "text": [
      "[5, 4, 0]\n"
     ]
    },
    {
     "data": {
      "text/plain": [
       "3"
      ]
     },
     "execution_count": 18,
     "metadata": {},
     "output_type": "execute_result"
    }
   ],
   "source": [
    "def lengths(lists: list):\n",
    "    return [len(list) for list in lists]\n",
    "\n",
    "lists = [[1,2,3,4,5], [324, -1, 31, 7],[]]\n",
    "print(lengths(lists))\n",
    "\n",
    "len([1,2,3])\n"
   ]
  },
  {
   "attachments": {},
   "cell_type": "markdown",
   "metadata": {},
   "source": [
    "# Filtering items\n",
    "In the examples above all of our lists remained the same length before and after a list comprehension operation. In each case, all the items in the original list were used as the basis of the new list. But sometimes we only need some of the original items. How can this be achieved?\n",
    "\n",
    "A list comprehension statement also allows for a condition, so that we can check the items against the condition and select only those which match. The general syntax is as follows:\n",
    "\n",
    "```python\n",
    "[<expression> for <item> in <series> if <Boolean expression>]\n",
    "```\n",
    "\n",
    "The statement above is otherwise identical to the general form introduced in the beginning of this section, but now there is an if statement at the end. Only those items from the original list for which the Boolean expression is true are used as the basis of the new list.\n",
    "\n",
    "In the example below we select all the even items from the original list as the basis of the new list. In fact, these items are not further processed in any way; they are assigned to the new list as is:\n"
   ]
  },
  {
   "cell_type": "code",
   "execution_count": null,
   "metadata": {},
   "outputs": [],
   "source": [
    "\n",
    "numbers = [1, 1, 2, 3, 4, 6, 4, 5, 7, 10, 12, 3]\n",
    "\n",
    "even_items = [item for item in numbers if item % 2 == 0]\n",
    "print(even_items)\n"
   ]
  },
  {
   "cell_type": "markdown",
   "metadata": {},
   "source": [
    "\n",
    "The expression in the list comprehension statement above is just a simple item, which means that no operations are to be performed on the items in the list. The expression could be any Python expression, just like in the previous examples. For example, the following list comprehension statement takes all the even items in a list, multiplies each by ten, and stores the result in a new list:\n"
   ]
  },
  {
   "cell_type": "code",
   "execution_count": null,
   "metadata": {},
   "outputs": [],
   "source": [
    "\n",
    "numbers = [1, 1, 2, 3, 4, 6, 4, 5, 7, 10, 12, 3]\n",
    "\n",
    "even_items = [item * 10 for item in numbers if item % 2 == 0]\n",
    "print(even_items)\n"
   ]
  },
  {
   "cell_type": "markdown",
   "metadata": {},
   "source": [
    "\n",
    "As you come across more and more complicated list comprehensions, you may find it useful to try reading the condition first. After all, the items are processed only if they pass the test, so it often makes sense to first figure out which items pass the filtering stage. Sometimes the expression in a list comprehension statement would not even be possible for all the items in the original list.\n",
    "\n",
    "For example, the factorial operation is only defined for non-negative integers. If we can't be sure a list only contains values of zero or above, the contents have to be filtered before passing them on to the factorial function we made before:\n"
   ]
  },
  {
   "cell_type": "code",
   "execution_count": null,
   "metadata": {},
   "outputs": [],
   "source": [
    "\n",
    "def factorial(n: int):\n",
    "    \"\"\" The function calculates the factorial n! for integers above zero \"\"\"\n",
    "    k = 1\n",
    "    while n >= 2:\n",
    "        k *= n\n",
    "        n -= 1\n",
    "    return k\n",
    "\n",
    "if __name__ == \"__main__\":\n",
    "    numbers = [-2, 3, -1, 4, -10, 5, 1]\n",
    "    factorials = [factorial(number) for number in numbers if number >= 0]\n",
    "    print(factorials)\n"
   ]
  },
  {
   "cell_type": "markdown",
   "metadata": {},
   "source": [
    "\n",
    "As we saw in our very first list comprehension example, where integers were converted into strings, the items in the new list do not have to be of the same type as the items in the original list. Continuing from the factorial example above, we can create a tuple from each original item and its processed counterpart, and store these in a list, combining everything we've learned so far in a single list comprehension statement:\n"
   ]
  },
  {
   "cell_type": "code",
   "execution_count": null,
   "metadata": {},
   "outputs": [],
   "source": [
    "\n",
    "def factorial(n: int):\n",
    "    \"\"\" The function calculates the factorial n! for integers above zero \"\"\"\n",
    "    k = 1\n",
    "    while n >= 2:\n",
    "        k *= n\n",
    "        n -= 1\n",
    "    return k\n",
    "\n",
    "if __name__ == \"__main__\":\n",
    "    numbers = [-2, 3, 2, 1, 4, -10, 5, 1, 6]\n",
    "    # the variable name abbreviated here so that this would be easier to read\n",
    "    factorials = [(n, factorial(n)) for n in numbers if n > 0 and n % 2 == 0]\n",
    "    print(factorials)\n"
   ]
  },
  {
   "cell_type": "markdown",
   "metadata": {},
   "source": [
    "\n",
    "Picking the above example apart, we have the Boolean expression n > 0 and n % 2 == 0. This means that only items which are both positive and divisible by two are accepted for further processing from the original list.\n",
    "\n",
    "These positive, even numbers are then each in turn processed into the format (n, factorial(n)). This is a tuple, where the first item is the number itself, and the second item is the result returned by the factorial function."
   ]
  },
  {
   "attachments": {},
   "cell_type": "markdown",
   "metadata": {},
   "source": [
    "# Programming exercise:Remove smaller than\n",
    "\n",
    "Please write a function named remove_smaller_than(numbers: list, limit: int) which takes a list of integers and a limit value (also in integer format) as its arguments.\n",
    "\n",
    "The function should use a list comprehension to produce a new list without the values which are smaller than the limit value.\n",
    "\n",
    "The maximum length of the function is two lines of code, including the header line beginning with the def keyword.\n",
    "\n",
    "An example of the function in use:\n",
    "\n",
    "```python\n",
    "numbers = [1,65, 32, -6, 9, 11]\n",
    "print(remove_smaller_than(numbers, 10))\n",
    "\n",
    "print(remove_smaller_than([-4, 7, 8, -100], 0))\n",
    "```\n",
    "Sample output```console\n",
    "\n",
    "[65, 32, 11]\n",
    "[7, 8]\n",
    "```"
   ]
  },
  {
   "cell_type": "code",
   "execution_count": 22,
   "metadata": {},
   "outputs": [
    {
     "name": "stdout",
     "output_type": "stream",
     "text": [
      "[65, 32, 11]\n",
      "[7, 8]\n"
     ]
    }
   ],
   "source": [
    "def remove_smaller_than(numbers: list, limit: int):\n",
    "    return [number for number in numbers if number > limit]\n",
    "\n",
    "\n",
    "numbers = [1,65, 32, -6, 9, 11]\n",
    "print(remove_smaller_than(numbers, 10))\n",
    "\n",
    "print(remove_smaller_than([-4, 7, 8, -100], 0))"
   ]
  },
  {
   "attachments": {},
   "cell_type": "markdown",
   "metadata": {},
   "source": [
    "# Programming exercise:Begin with a vowel\n",
    "\n",
    "Please write a function named begin_with_vowel(words: list) which takes a list of strings as its argument.\n",
    "\n",
    "The function should use a list comprehension technique to create and return a new list, containing only those words from the original list which begin with a vowel (a, e, i, o, u). Both lowercase and uppercase letters should be accepted.\n",
    "\n",
    "The maximum length of the function is two lines of code, including the header line beginning with the def keyword.\n",
    "\n",
    "An example of the function in use:\n",
    "\n",
    "```python\n",
    "word_list = [\"automobile\",\"motorbike\",\"Animal\",\"cat\",\"Dog\",\"APPLE\",\"orange\"]\n",
    "for vowelled in begin_with_vowel(word_list):\n",
    "    print(vowelled)\n",
    "```\n",
    "Sample output\n",
    "```console\n",
    "automobile\n",
    "Animal\n",
    "APPLE\n",
    "orange\n",
    "```"
   ]
  },
  {
   "cell_type": "code",
   "execution_count": 24,
   "metadata": {},
   "outputs": [
    {
     "name": "stdout",
     "output_type": "stream",
     "text": [
      "automobile\n",
      "Animal\n",
      "APPLE\n",
      "orange\n"
     ]
    }
   ],
   "source": [
    "def begin_with_vowel(words: list):\n",
    "    return [word for word in words if word[0] in \"aeiouAEIOU\"]\n",
    "\n",
    "word_list = [\"automobile\",\"motorbike\",\"Animal\",\"cat\",\"Dog\",\"APPLE\",\"orange\"]\n",
    "for vowelled in begin_with_vowel(word_list):\n",
    "    print(vowelled)"
   ]
  },
  {
   "attachments": {},
   "cell_type": "markdown",
   "metadata": {},
   "source": [
    "Alternative execution with list comprehensions\n",
    "Often when we have a conditional statement, we also include an else branch. As we can use conditions in list comprehensions, the else branch is also available with list comprehensions. The general syntax of the conditional used with list comprehensions looks like this:\n"
   ]
  },
  {
   "attachments": {},
   "cell_type": "markdown",
   "metadata": {},
   "source": [
    "\n",
    "```python\n",
    "<expression 1> if <condition> else <expression 2>\n",
    "\n",
    "```\n",
    "We came across these single line conditionals, or ternary operators, already in part 7. The expression above evaluates to either expression 1 or expression 2, depending on whether the condition is true or false.\n",
    "\n",
    "As a refresher on the subject, if we needed to print out the larger of two numbers, and we wanted to use just a single print statement, we could fit it all on a single line:\n"
   ]
  },
  {
   "cell_type": "code",
   "execution_count": 25,
   "metadata": {},
   "outputs": [
    {
     "name": "stdout",
     "output_type": "stream",
     "text": [
      "2\n"
     ]
    }
   ],
   "source": [
    "\n",
    "number1 = int(input(\"Type in number 1:\"))\n",
    "number2 = int(input(\"Type in number 2:\"))\n",
    "print (number1 if number1 > number2 else number2)\n"
   ]
  },
  {
   "attachments": {},
   "cell_type": "markdown",
   "metadata": {},
   "source": [
    "Combining the ternary operator syntax with a list comprehension statement yields the following general structure:\n",
    "\n",
    "```python\n",
    "[<expression 1> if <condition> else <expression 2> for <item> in <series>]\n",
    "```\n",
    "\n",
    "This may look a little confusing, as the conditional structure now comes before the actual list comprehension part. This is just the way the syntax has been defined, at least at the moment. If there is also an else branch, the conditional comes first. If there is just an if, it goes to the end. You can try swapping them around and see what happens.\n",
    "\n",
    "Including an else operator means that we will again process every item from the original list. Depending on whether the condition is true or false, either expression 1 or expression 2 is performed on each item on the list.\n",
    "\n",
    "The following example checks if the items on a list are zero or above. Any such item is accepted as is, but all negative items are negated, so that the sign is changed from negative to positive. The result is a list containing the absolute values of the items in the original list.\n"
   ]
  },
  {
   "cell_type": "code",
   "execution_count": 26,
   "metadata": {},
   "outputs": [
    {
     "name": "stdout",
     "output_type": "stream",
     "text": [
      "[1, 3, 45, 110, 2, 9, 11]\n"
     ]
    }
   ],
   "source": [
    "\n",
    "numbers = [1, -3, 45, -110, 2, 9, -11]\n",
    "abs_vals = [number if number >= 0 else -number for number in numbers]\n",
    "print(abs_vals)\n"
   ]
  },
  {
   "cell_type": "markdown",
   "metadata": {},
   "source": [
    "\n",
    "Reiterating what happens above: if the condition number >= 0 is true, the item undergoes expression number, and the result is the item itself. If the condition is false, the item undergoes expression -number, so that it becomes positive in value.\n",
    "\n",
    "In the following example we have the function string_lengths which takes a list as its argument, and returns another list with the lengths of any strings in the original list. This function is okay with list items of any type, however. If the item is a string, it calculates its length. If the item is anything else, it inserts -1 in the list it returns.\n"
   ]
  },
  {
   "cell_type": "code",
   "execution_count": null,
   "metadata": {},
   "outputs": [],
   "source": [
    "\n",
    "def string_lengths(my_list: list):\n",
    "    \"\"\" The function returns the lengths of strings in a new list \"\"\"\n",
    "    return [len(item) if type(item) == str else -1 for item in my_list]\n",
    "\n",
    "if __name__ == \"__main__\":\n",
    "    test_list = [\"hi\", 3, True, \"there\", -123.344, \"toodlepip\", 2, False]\n",
    "    lengths = string_lengths(test_list)\n",
    "    print(lengths)"
   ]
  },
  {
   "attachments": {},
   "cell_type": "markdown",
   "metadata": {},
   "source": [
    "# Programming exercise:Lottery numbers\n",
    "\n",
    "NB: Some exercises have multiple parts, and you can receive points for the different parts separately. You can submit a partially completed exercise by choosing 'Submit Solution' from the menu next to the button for executing tests .\n",
    "\n",
    "LotteryNumbers matched\n",
    "Please write a class named LotteryNumbers which takes the week number (an integer value) and a list of seven integers as its constructor arguments. The list should contain the correct lottery numbers for the given week.\n",
    "\n",
    "Please also write a method named number_of_hits(numbers: list) which takes a list of integers as its argument. The method returns the number of correct entries in the parameter list.\n",
    "\n",
    "The method should use a list comprehension to achieve this. The maximum length of the function is two lines of code, including the header line beginning with the def keyword.\n",
    "\n",
    "An example of how the class and function are used:\n",
    "\n",
    "```python\n",
    "week5 = LotteryNumbers(5, [1,2,3,4,5,6,7])\n",
    "my_numbers = [1,4,7,11,13,19,24]\n",
    "\n",
    "print(week5.number_of_hits(my_numbers))\n",
    "```\n",
    "Sample output\n",
    "```console\n",
    "3\n",
    "```"
   ]
  },
  {
   "cell_type": "code",
   "execution_count": 30,
   "metadata": {},
   "outputs": [
    {
     "name": "stdout",
     "output_type": "stream",
     "text": [
      "3\n"
     ]
    }
   ],
   "source": [
    "class LotteryNumbers:\n",
    "    def __init__(self, week: int, numbers: list):\n",
    "        self.week = week\n",
    "        self.numbers = numbers\n",
    "    \n",
    "    def number_of_hits(self, numbers: list):\n",
    "        return len([item for item in self.numbers if item in numbers])\n",
    "    \n",
    "\n",
    "week5 = LotteryNumbers(5, [1,2,3,4,5,6,7])\n",
    "my_numbers = [1,4,7,11,13,19,24]\n",
    "\n",
    "print(week5.number_of_hits(my_numbers))\n"
   ]
  },
  {
   "cell_type": "markdown",
   "metadata": {},
   "source": [
    "## LotteryNumbers matched in place\n",
    "Please write a method named hits_in_place(numbers) which takes a list of seven integers as its argument, and returns a new list of seven integers. The new list contains only those items from the original list which match the week's correct numbers. These must remain at the same indexes as they were in the original list. The rest of the indexes should be filled with values -1.\n",
    "\n",
    "The method should use a list comprehension to achieve this. The maximum length of the function is two lines of code, including the header line beginning with the def keyword.\n",
    "\n",
    "Please take a look at the example below:\n",
    "\n",
    "```python\n",
    "week8 = LotteryNumbers(8, [1,2,3,10,20,30,33])\n",
    "my_numbers = [1,4,7,10,11,20,30]\n",
    "\n",
    "print(week8.hits_in_place(my_numbers))\n",
    "```\n",
    "Sample output\n",
    "```console\n",
    "[1, -1, -1, 10, -1, 20, 30]\n",
    "```"
   ]
  },
  {
   "cell_type": "code",
   "execution_count": 36,
   "metadata": {},
   "outputs": [
    {
     "name": "stdout",
     "output_type": "stream",
     "text": [
      "[1, -1, -1, 10, -1, 20, 30]\n"
     ]
    }
   ],
   "source": [
    "class LotteryNumbers:\n",
    "    def __init__(self, week: int, numbers: list):\n",
    "        self.week = week\n",
    "        self.numbers = numbers\n",
    "    \n",
    "    def number_of_hits(self, numbers: list):\n",
    "        return len([item for item in self.numbers if item in numbers])\n",
    "    \n",
    "    def hits_in_place(self, numbers: list):\n",
    "        match = []\n",
    "        for item in numbers:\n",
    "            if item in self.numbers:\n",
    "                match.append(item)\n",
    "            else:\n",
    "                match.append(-1)\n",
    "        \n",
    "        return [item if item in self.numbers else -1 for item in numbers]\n",
    "    \n",
    "week8 = LotteryNumbers(8, [1,2,3,10,20,30,33])\n",
    "my_numbers = [1,4,7,10,11,20,30]\n",
    "\n",
    "print(week8.hits_in_place(my_numbers))\n",
    "    "
   ]
  },
  {
   "cell_type": "code",
   "execution_count": null,
   "metadata": {},
   "outputs": [],
   "source": []
  }
 ],
 "metadata": {
  "kernelspec": {
   "display_name": ".venv",
   "language": "python",
   "name": "python3"
  },
  "language_info": {
   "codemirror_mode": {
    "name": "ipython",
    "version": 3
   },
   "file_extension": ".py",
   "mimetype": "text/x-python",
   "name": "python",
   "nbconvert_exporter": "python",
   "pygments_lexer": "ipython3",
   "version": "3.10.10"
  },
  "orig_nbformat": 4
 },
 "nbformat": 4,
 "nbformat_minor": 2
}
