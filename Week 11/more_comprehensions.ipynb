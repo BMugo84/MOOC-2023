{
 "cells": [
  {
   "attachments": {},
   "cell_type": "markdown",
   "metadata": {},
   "source": [
    "# More comprehensionsLearning objectives\n",
    "After this section\n",
    "\n",
    "* You will be able to use comprehensions with strings\n",
    "* You will know how to use comprehensions with your own classes\n",
    "* You will be able to create dictionary comprehensions"
   ]
  },
  {
   "attachments": {},
   "cell_type": "markdown",
   "metadata": {},
   "source": [
    "Lists are perhaps the most common target for comprehensions, but comprehensions work on any series of items, including strings. Just like in the list examples in the previous section, if a list comprehension is performed on a string, the items (i.e. the characters) in the string are plucked one by one, processed according to the expression given, and stored in a list.\n"
   ]
  },
  {
   "cell_type": "code",
   "execution_count": 1,
   "metadata": {},
   "outputs": [
    {
     "name": "stdout",
     "output_type": "stream",
     "text": [
      "['P', 'E', 'T', 'E', 'R', ' ', 'P', 'Y', 'T', 'H', 'O', 'N']\n"
     ]
    }
   ],
   "source": [
    "\n",
    "name = \"Peter Python\"\n",
    "\n",
    "uppercased = [character.upper() for character in name]\n",
    "print(uppercased)\n"
   ]
  },
  {
   "cell_type": "markdown",
   "metadata": {},
   "source": [
    "\n",
    "The result is indeed a list, as dictated by the bracket notation around the comprehension statement. If we wanted a string instead, we could use the string method join to parse the list into a string. Remember, the method is called on the string we want to use as the \"glue\" between the characters. Let's take a look at some examples:\n"
   ]
  },
  {
   "cell_type": "code",
   "execution_count": 2,
   "metadata": {},
   "outputs": [
    {
     "name": "stdout",
     "output_type": "stream",
     "text": [
      "['P', 'e', 't', 'e', 'r']\n",
      "Peter\n",
      "P e t e r\n",
      "P,e,t,e,r\n",
      "P and e and t and e and r\n"
     ]
    }
   ],
   "source": [
    "\n",
    "name = \"Peter\"\n",
    "char_list = list(name)\n",
    "print(char_list)\n",
    "\n",
    "print(\"\".join(char_list))\n",
    "print(\" \".join(char_list))\n",
    "print(\",\".join(char_list))\n",
    "print(\" and \".join(char_list))\n"
   ]
  },
  {
   "cell_type": "markdown",
   "metadata": {},
   "source": [
    "\n",
    "List comprehensions and the join method make it easy to create new strings based on other strings. We could, for example, make a string which contains only the vowels from another string:\n"
   ]
  },
  {
   "cell_type": "code",
   "execution_count": 3,
   "metadata": {},
   "outputs": [
    {
     "name": "stdout",
     "output_type": "stream",
     "text": [
      "eoeeiiae\n"
     ]
    }
   ],
   "source": [
    "\n",
    "test_string = \"Hello there, this is a test!\"\n",
    "\n",
    "vowels = [character for character in test_string if character in \"aeiou\"]\n",
    "new_string = \"\".join(vowels)\n",
    "\n",
    "print(new_string)\n"
   ]
  },
  {
   "cell_type": "markdown",
   "metadata": {},
   "source": [
    "\n",
    "In the example above the list comprehension and the join method are on separate lines, but they could be combined into a single expression:\n"
   ]
  },
  {
   "cell_type": "code",
   "execution_count": null,
   "metadata": {},
   "outputs": [],
   "source": [
    "\n",
    "test_string = \"Hello there, this is a test!\"\n",
    "\n",
    "vowel_string = \"\".join([character for character in test_string if character in \"aeiou\"])\n",
    "\n",
    "print(vowel_string)\n"
   ]
  },
  {
   "cell_type": "markdown",
   "metadata": {},
   "source": [
    "Many Python programmers swear by these oneliners, so it is well worth your while to learn to read them. We could even add the split method to the mix, so that we can process entire sentences efficiently with a single statement. In the example below the first character from each word in a sentence is removed:\n"
   ]
  },
  {
   "cell_type": "code",
   "execution_count": 4,
   "metadata": {},
   "outputs": [
    {
     "name": "stdout",
     "output_type": "stream",
     "text": [
      "heila eeps n elling eashells n he eashore\n"
     ]
    }
   ],
   "source": [
    "\n",
    "sentence = \"Sheila keeps on selling seashells on the seashore\"\n",
    "\n",
    "sentence_no_initials = \" \".join([word[1:] for word in sentence.split()])\n",
    "print(sentence_no_initials)\n"
   ]
  },
  {
   "cell_type": "markdown",
   "metadata": {},
   "source": [
    "Sample output\n",
    "heila eeps n elling eashells n he eashore\n"
   ]
  },
  {
   "cell_type": "markdown",
   "metadata": {},
   "source": [
    "\n",
    "Let's go through this step by step:\n",
    "\n",
    "word[1:] extracts a substring from the second character (at index 1) onwards\n",
    "sentence.split() splits the sentence into sections at the given character. In this case there is no argument given to the method, so the sentence is split at space characters by default\n",
    "\" \".join() combines the items in the list into a new string using a space character between the items\n",
    "A more traditional iterative approach could look like this\n"
   ]
  },
  {
   "cell_type": "code",
   "execution_count": null,
   "metadata": {},
   "outputs": [],
   "source": [
    "sentence = \"Sheila keeps on selling seashells on the seashore\"\n",
    "\n",
    "word_list = []\n",
    "words = sentence.split()\n",
    "for word in words:\n",
    "    word_no_initials = word[1:]\n",
    "    word_list.append(word_no_initials)\n",
    "\n",
    "sentence_no_initials = \" \".join(word_list)\n",
    "\n",
    "print(sentence_no_initials)"
   ]
  },
  {
   "attachments": {},
   "cell_type": "markdown",
   "metadata": {},
   "source": [
    "# Programming exercise:Filter forbidden\n",
    "\n",
    "\n",
    "Please write a function named filter_forbidden(string: str, forbidden: str) which takes two strings as its arguments. The function should return a new version of the first string. It should not contain any characters from the second string.\n",
    "\n",
    "The function should be implemented using list comprehensions. The maximum length of the function is three lines of code, including the header line beginning with the def keyword.\n",
    "\n",
    "Please have a look at the example below.\n",
    "\n",
    "```python\n",
    "sentence = \"Once! upon, a time: there was a python!??!?!\"\n",
    "filtered = filter_forbidden(sentence, \"!?:,.\")\n",
    "print(filtered)\n",
    "```\n",
    "Sample output\n",
    "```console\n",
    "Once upon a time there was a python\n",
    "```"
   ]
  },
  {
   "cell_type": "code",
   "execution_count": 8,
   "metadata": {},
   "outputs": [
    {
     "name": "stdout",
     "output_type": "stream",
     "text": [
      "Once upon a time there was a python\n"
     ]
    }
   ],
   "source": [
    "def filter_forbidden(string: str, forbidden: str):\n",
    "    return \"\".join([char for char in string if char not in forbidden])\n",
    "\n",
    "\n",
    "sentence = \"Once! upon, a time: there was a python!??!?!\"\n",
    "filtered = filter_forbidden(sentence, \"!?:,.\")\n",
    "print(filtered)"
   ]
  },
  {
   "attachments": {},
   "cell_type": "markdown",
   "metadata": {},
   "source": [
    "# Own classes and comprehensions\n",
    "Comprehensions can be a useful tool for processing or formulating instances of your own classes, as we'll see in the following examples.\n",
    "\n",
    "First, let's have a look at the class Country which is a simple model for a single country, with attributes for the name and the population. In the main function below we first create some Country objects, and then use a list comprehension to select only those whose population is greater than five million.\n"
   ]
  },
  {
   "cell_type": "code",
   "execution_count": 10,
   "metadata": {},
   "outputs": [
    {
     "name": "stdout",
     "output_type": "stream",
     "text": [
      "Finland\n",
      "Sweden\n"
     ]
    }
   ],
   "source": [
    "\n",
    "class Country:\n",
    "    \"\"\" This class models a single country with population \"\"\"\n",
    "    def __init__(self, name: str, population: int):\n",
    "        self.name = name\n",
    "        self.population = population\n",
    "\n",
    "if __name__ == \"__main__\":\n",
    "    finland = Country(\"Finland\", 6000000)\n",
    "    malta = Country(\"Malta\", 500000)\n",
    "    sweden = Country(\"Sweden\", 10000000)\n",
    "    iceland = Country(\"Iceland\", 350000)\n",
    "\n",
    "    countries = [finland, malta, sweden, iceland]\n",
    "\n",
    "    bigger_countries = [country.name for country in countries if country.population > 5000000]\n",
    "    for country in bigger_countries:\n",
    "        print(country)\n"
   ]
  },
  {
   "cell_type": "markdown",
   "metadata": {},
   "source": [
    "\n",
    "In the list comprehension above we selected only the name attribute from the Country objects, so the contents of the list could be printed directly. We could also create a new list of the countries themselves and access the name attribute in the for loop. This would be useful if the same list of countries was used also later in the program, or if we needed the population attribute in the for loop as well:\n"
   ]
  },
  {
   "cell_type": "code",
   "execution_count": null,
   "metadata": {},
   "outputs": [],
   "source": [
    "\n",
    "if __name__ == \"__main__\":\n",
    "    finland = Country(\"Finland\", 6000000)\n",
    "    malta = Country(\"Malta\", 500000)\n",
    "    sweden = Country(\"Sweden\", 10000000)\n",
    "    iceland = Country(\"Iceland\", 350000)\n",
    "\n",
    "    countries = [finland, malta, sweden, iceland]\n",
    "\n",
    "    bigger_countries = [country for country in countries if country.population > 5000000]\n",
    "    for country in bigger_countries:\n",
    "        print(country.name, country.population)\n"
   ]
  },
  {
   "cell_type": "markdown",
   "metadata": {},
   "source": [
    "In the next example we have a class named RunningEvent which models a single foot race event with attributes for the length and the name of the race. We will use list comprehensions to create RunningEvent objects based on a list of race lengths.\n",
    "\n",
    "The parameter name has a default value in the constructor of the RunningEvent class, whIch is why we do not need to pass the name as an argument.\n"
   ]
  },
  {
   "cell_type": "code",
   "execution_count": 9,
   "metadata": {},
   "outputs": [
    {
     "name": "stdout",
     "output_type": "stream",
     "text": [
      "[100 m. (no name), 200 m. (no name), 1500 m. (no name), 3000 m. (no name), 42195 m. (no name)]\n",
      "[100 m. (no name), 200 m. (no name), 1500 m. (no name), 3000 m. (no name), 42195 m. (Marathon)]\n"
     ]
    }
   ],
   "source": [
    "\n",
    "class RunningEvent:\n",
    "    \"\"\" The class models a foot race event of a length of n metres  \"\"\"\n",
    "    def __init__(self, length: int, name: str = \"no name\"):\n",
    "        self.length = length\n",
    "        self.name = name\n",
    "\n",
    "    def __repr__(self):\n",
    "        return f\"{self.length} m. ({self.name})\"\n",
    "\n",
    "if __name__ == \"__main__\":\n",
    "    lengths = [100, 200, 1500, 3000, 42195]\n",
    "    events = [RunningEvent(length) for length in lengths]\n",
    "\n",
    "    # Print out all events\n",
    "    print(events)\n",
    "\n",
    "    # Pick one from the list and give it a name\n",
    "    marathon = events[-1] # the last item in the list\n",
    "    marathon.name = \"Marathon\"\n",
    "\n",
    "    # Print out everything again, including the new name\n",
    "    print(events)\n"
   ]
  },
  {
   "cell_type": "markdown",
   "metadata": {},
   "source": [
    "\n",
    "Now, let's find out what makes a series of items \"comprehendible\". In the previous part we learnt how to make our own classes iterable. It is exactly this same feature which also allows for list comprehensions. If your own class is iterable, it can be used as the basis of a list comprehension statement. The following class definitions are copied directly from part 10:\n"
   ]
  },
  {
   "cell_type": "code",
   "execution_count": 11,
   "metadata": {},
   "outputs": [
    {
     "name": "stdout",
     "output_type": "stream",
     "text": [
      "['The Life of Python', 'The Old Man and the C', 'A Good Cup of Java']\n"
     ]
    }
   ],
   "source": [
    "\n",
    "class Book:\n",
    "    def __init__(self, name: str, author: str, page_count: int):\n",
    "        self.name = name\n",
    "        self.author = author\n",
    "        self.page_count = page_count\n",
    "\n",
    "class Bookshelf:\n",
    "    def __init__(self):\n",
    "        self._books = []\n",
    "\n",
    "    def add_book(self, book: Book):\n",
    "        self._books.append(book)\n",
    "\n",
    "    # This is the iterator initialization method\n",
    "    # The iteration variable(s) should be initialized here\n",
    "    def __iter__(self):\n",
    "        self.n = 0\n",
    "        # the method returns a reference to the object itself as \n",
    "        # the iterator is implemented within the same class definition\n",
    "        return self\n",
    "\n",
    "    # This method returns the next item within the object\n",
    "    # If all items have been traversed, the StopIteration event is raised\n",
    "    def __next__(self):\n",
    "        if self.n < len(self._books):\n",
    "            # Select the current item from the list within the object\n",
    "            book = self._books[self.n]\n",
    "            # increase the counter (i.e. iteration variable) by one\n",
    "            self.n += 1\n",
    "            # return the current item\n",
    "            return book\n",
    "        else:\n",
    "            # All books have been traversed\n",
    "            raise StopIteration\n",
    "\n",
    "# Test your classes\n",
    "if __name__ == \"__main__\":\n",
    "    b1 = Book(\"The Life of Python\", \"Montague Python\", 123)\n",
    "    b2 = Book(\"The Old Man and the C\", \"Ernest Hemingjavay\", 204)\n",
    "    b3 = Book(\"A Good Cup of Java\", \"Caffee Coder\", 997)\n",
    "\n",
    "    shelf = Bookshelf()\n",
    "    shelf.add_book(b1)\n",
    "    shelf.add_book(b2)\n",
    "    shelf.add_book(b3)\n",
    "\n",
    "    # Create a list containing the names of all books\n",
    "    book_names = [book.name for book in shelf]\n",
    "    print(book_names)"
   ]
  },
  {
   "cell_type": "markdown",
   "metadata": {},
   "source": []
  },
  {
   "attachments": {},
   "cell_type": "markdown",
   "metadata": {},
   "source": [
    "# Programming exercise:Products in shopping list\n",
    "\n",
    "\n",
    "In part 10 you created an iterable shopping list, and we just learnt that an object created from an iterable class can be used with list comprehensions. The exercise template contains a stripped down version of the ShoppingList with just enough functionality to fulfil the requirements of this exercise.\n",
    "\n",
    "Please write a function named products_in_shopping_list(shopping_list, amount: int) which takes a ShoppingList object and an integer value as its arguments. The function returns a list of product names. The list should include only the products with at least the number of items specified by the amount parameter.\n",
    "\n",
    "The function should be implemented using list comprehensions. The maximum length of the function is two lines of code, including the header line beginning with the def keyword. The ShoppingList class definition should not be modified.\n",
    "\n",
    "The function should work as follows:\n",
    "\n",
    "```python\n",
    "my_list = ShoppingList()\n",
    "my_list.add(\"bananas\", 10)\n",
    "my_list.add(\"apples\", 5)\n",
    "my_list.add(\"alcohol free beer\", 24)\n",
    "my_list.add(\"pineapple\", 1)\n",
    "\n",
    "print(\"the shopping list contains at least 8 of the following items:\")\n",
    "for product in products_in_shopping_list(my_list, 8):\n",
    "    print(product)\n",
    "```\n",
    "Sample output\n",
    "```console\n",
    "the shopping list contains at least 8 of the following items:\n",
    "bananas\n",
    "alcohol free beer\n",
    "```"
   ]
  },
  {
   "cell_type": "code",
   "execution_count": 13,
   "metadata": {},
   "outputs": [
    {
     "name": "stdout",
     "output_type": "stream",
     "text": [
      "the shopping list contains at least 8 of the following items:\n",
      "bananas\n",
      "alcohol free beer\n"
     ]
    }
   ],
   "source": [
    "# TEE RATKAISUSI TÄHÄN:\n",
    "class ShoppingList:\n",
    "    def __init__(self):\n",
    "        self.products = []\n",
    "\n",
    "    def number_of_items(self):\n",
    "        return len(self.products)\n",
    "\n",
    "    def add(self, product: str, number: int):\n",
    "        self.products.append((product, number))\n",
    "\n",
    "    def product(self, n: int):\n",
    "        return self.products[n - 1][0]\n",
    "\n",
    "    def number(self, n: int):\n",
    "        return self.products[n - 1][1]\n",
    "    \n",
    "    def __iter__(self):\n",
    "        self.n = 0\n",
    "        return self\n",
    "    \n",
    "    def __next__(self):\n",
    "        if self.n < len(self.products):\n",
    "            item = self.products[self.n]\n",
    "            self.n += 1\n",
    "\n",
    "            return item\n",
    "        else:\n",
    "            raise StopIteration\n",
    "        \n",
    "\n",
    "def products_in_shopping_list(shopping_list: ShoppingList, amount: int):\n",
    "    return [item[0] for item in shopping_list.products if item[1] >= amount]\n",
    "\n",
    "my_list = ShoppingList()\n",
    "my_list.add(\"bananas\", 10)\n",
    "my_list.add(\"apples\", 5)\n",
    "my_list.add(\"alcohol free beer\", 24)\n",
    "my_list.add(\"pineapple\", 1)\n",
    "\n",
    "print(\"the shopping list contains at least 8 of the following items:\")\n",
    "for product in products_in_shopping_list(my_list, 8):\n",
    "    print(product)"
   ]
  },
  {
   "attachments": {},
   "cell_type": "markdown",
   "metadata": {},
   "source": [
    "# Programming exercise:Price difference of cheaper properties\n",
    "\n",
    "This exercise is a slightly modified version of the exercise Comparing properties from part 9.\n",
    "\n",
    "Please write a function named cheaper_properties(properties: list, reference: RealProperty) which takes a list of properties and a single RealProperty object as its arguments. The function should return a list containing only those properties in the original list which are cheaper than the reference property, along with the price difference. The items in the returned list should be tuples, where the first item is the property itself and the second is the difference in price.\n",
    "\n",
    "The function should be implemented using list comprehensions. The maximum length of the function is two lines of code, including the header line beginning with the def keyword.\n",
    "\n",
    "The code for the RealProperty class is included in the exercise template and should not be changed.\n",
    "\n",
    "An example of the function in action:\n",
    "```python\n",
    "\n",
    "a1 = RealProperty(1, 16, 5500, \"Central studio\")\n",
    "a2 = RealProperty(2, 38, 4200, \"Two bedrooms downtown\")\n",
    "a3 = RealProperty(3, 78, 2500, \"Three bedrooms in the suburbs\")\n",
    "a4 = RealProperty(6, 215, 500, \"Farm in the middle of nowhere\")\n",
    "a5 = RealProperty(4, 105, 1700, \"Loft in a small town\")\n",
    "a6 = RealProperty(25, 1200, 2500, \"Countryside mansion\")\n",
    "\n",
    "properties = [a1, a2, a3, a4, a5, a6]\n",
    "\n",
    "print(f\"cheaper options when compared to {a3.description}:\")\n",
    "for item in cheaper_properties(properties, a3):\n",
    "    print(f\"{item[0].description:35} price difference {item[1]} euros\")\n",
    "```\n",
    "Sample output\n",
    "```console\n",
    "cheaper options when compared to Three bedrooms in the suburbs:\n",
    "Central studio                                    price difference 107000 euros\n",
    "Two bedrooms downtown               price difference 35400 euros\n",
    "Farm in the middle of nowhere       price difference 87500 euros\n",
    "Loft in a small town                           price difference 16500 euros\n",
    "```"
   ]
  },
  {
   "cell_type": "code",
   "execution_count": 4,
   "metadata": {},
   "outputs": [
    {
     "name": "stdout",
     "output_type": "stream",
     "text": [
      "cheaper options when compared to Three bedrooms in the suburbs:\n",
      "Central studio                      price difference 107000 euros\n",
      "Two bedrooms downtown               price difference 35400 euros\n",
      "Farm in the middle of nowhere       price difference 87500 euros\n",
      "Loft in a small town                price difference 16500 euros\n"
     ]
    }
   ],
   "source": [
    "class RealProperty:\n",
    "    def __init__(self, rooms: int , square_meters: int, price_per_sqm: int, description: str):\n",
    "        self.rooms = rooms\n",
    "        self.square_meters = square_meters\n",
    "        self.price_per_sqm = price_per_sqm\n",
    "        self.description = description\n",
    "\n",
    "    def bigger(self, compared_to):\n",
    "        return self.square_meters > compared_to.square_meters\n",
    "\n",
    "    def price_difference(self, compared_to):\n",
    "        # Function abs returns absolute value\n",
    "        difference = abs((self.price_per_sqm * self.square_meters) - (compared_to.price_per_sqm * compared_to.square_meters))\n",
    "        return difference\n",
    "\n",
    "    def more_expensive(self, compared_to):\n",
    "        difference = (self.price_per_sqm * self.square_meters) - (compared_to.price_per_sqm * compared_to.square_meters)\n",
    "        return difference > 0\n",
    "\n",
    "\n",
    "    def __repr__(self):\n",
    "        return (f'RealProperty(rooms = {self.rooms}, square_meters = {self.square_meters}, ' + \n",
    "            f'price_per_sqm = {self.price_per_sqm}, description = {self.description})')\n",
    "\n",
    "\n",
    "def cheaper_properties(properties: list, reference: RealProperty):\n",
    "    return  [(property, property.price_difference(reference)) for property in properties if reference.more_expensive(property)]\n",
    "\n",
    "\n",
    "a1 = RealProperty(1, 16, 5500, \"Central studio\")\n",
    "a2 = RealProperty(2, 38, 4200, \"Two bedrooms downtown\")\n",
    "a3 = RealProperty(3, 78, 2500, \"Three bedrooms in the suburbs\")\n",
    "a4 = RealProperty(6, 215, 500, \"Farm in the middle of nowhere\")\n",
    "a5 = RealProperty(4, 105, 1700, \"Loft in a small town\")\n",
    "a6 = RealProperty(25, 1200, 2500, \"Countryside mansion\")\n",
    "\n",
    "properties = [a1, a2, a3, a4, a5, a6]\n",
    "\n",
    "print(f\"cheaper options when compared to {a3.description}:\")\n",
    "for item in cheaper_properties(properties, a3):\n",
    "    print(f\"{item[0].description:35} price difference {item[1]} euros\")"
   ]
  },
  {
   "attachments": {},
   "cell_type": "markdown",
   "metadata": {},
   "source": [
    "# Comprehensions and dictionaries\n",
    "There is nothing intrinsically \"listey\" about comprehensions. The result is a list because the comprehension statement is encased in square brackets, which indicate a Python list. Comprehensions work just as well with Python dictionaries if you use curly brackets instead. Remember, though, that dictionaries require key-value pairs. Both must be specified when a dictionary is created, also with comprehensions.\n",
    "\n",
    "The basis of a comprehension can be any iterable series, be it a list, a string, a tuple, a dictionary, any of your own iterable classes, and so forth.\n",
    "\n",
    "In the following example we use a string as the basis of a dictionary. The dictionary contains all the unique characters in the string, along with the number of times they occurred:\n"
   ]
  },
  {
   "cell_type": "code",
   "execution_count": null,
   "metadata": {},
   "outputs": [],
   "source": [
    "\n",
    "sentence = \"hello there\"\n",
    "\n",
    "char_counts = {character : sentence.count(character) for character in sentence}\n",
    "print(char_counts)\n"
   ]
  },
  {
   "attachments": {},
   "cell_type": "markdown",
   "metadata": {},
   "source": [
    "\n",
    "The principle of the comprehension statement is exactly the same as with lists, but instead of a single value, the expression now consists of a key and a value. The general syntax looks like this:\n",
    "\n",
    "```python\n",
    "{<key expression> : <value expression> for <item> in <series>}\n",
    "```\n",
    "\n",
    "To finish off this section, lets take a look at factorials again. This time we store the results in a dictionary. The number itself is the key, while the value is the result of the factorial from our function:\n"
   ]
  },
  {
   "cell_type": "code",
   "execution_count": null,
   "metadata": {},
   "outputs": [],
   "source": [
    "\n",
    "def factorial(n: int):\n",
    "    \"\"\" The function calculates the factorial n! for integers above zero \"\"\"\n",
    "    k = 1\n",
    "    while n >= 2:\n",
    "        k *= n\n",
    "        n -= 1\n",
    "    return k\n",
    "\n",
    "if __name__ == \"__main__\":\n",
    "    numbers = [-2, 3, 2, 1, 4, -10, 5, 1, 6]\n",
    "    factorials = {number : factorial(number) for number in numbers if number > 0}\n",
    "    print(factorials)"
   ]
  },
  {
   "attachments": {},
   "cell_type": "markdown",
   "metadata": {},
   "source": [
    "# Programming exercise:Lengths of strings\n",
    "\n",
    "Please write a function named lengths(strings: list) which takes a list of strings as its argument. The function should return a dictionary with the strings in the list as the keys and their lengths as the values.\n",
    "\n",
    "The function should be implemented with a dictionary comprehension. The maximum length of the function is two lines of code, including the header line beginning with the def keyword.\n",
    "\n",
    "The function should work as follows:\n",
    "\n",
    "```python\n",
    "word_list = [\"once\", \"upon\" , \"a\", \"time\", \"in\"]\n",
    "\n",
    "word_lengths = lengths(word_list)\n",
    "print(word_lengths)\n",
    "```\n",
    "Sample output\n",
    "```console\n",
    "{'once': 4, 'upon': 4, 'a': 1, 'time': 4, 'in': 2}\n",
    "```"
   ]
  },
  {
   "cell_type": "code",
   "execution_count": 8,
   "metadata": {},
   "outputs": [
    {
     "name": "stdout",
     "output_type": "stream",
     "text": [
      "{'once': 4, 'upon': 4, 'a': 1, 'time': 4, 'in': 2}\n"
     ]
    }
   ],
   "source": [
    "def lengths(strings: list):\n",
    "    return {item : len(item) for item in strings}\n",
    "\n",
    "word_list = [\"once\", \"upon\" , \"a\", \"time\", \"in\"]\n",
    "\n",
    "word_lengths = lengths(word_list)\n",
    "print(word_lengths)"
   ]
  },
  {
   "attachments": {},
   "cell_type": "markdown",
   "metadata": {},
   "source": [
    "# Programming exercise:Most common words\n",
    "\n",
    "Please write a function named most_common_words(filename: str, lower_limit: int) which takes a filename and an integer value for a lower limit as its arguments. The function should return a dictionary containing the occurrences of the words which appear at least the number of times specified in the lower_limit parameter.\n",
    "\n",
    "For example, say the function was used to process a file named comprehensions.txt with the following contents:\n",
    "\n",
    "```console\n",
    "List comprehension is an elegant way to define and create lists based on existing lists.\n",
    "List comprehension is generally more compact and faster than normal functions and loops for creating list.\n",
    "However, we should avoid writing very long list comprehensions in one line to ensure that code is user-friendly.\n",
    "Remember, every list comprehension can be rewritten in for loop, but every for loop can’t be rewritten in the form of list comprehension.\n",
    "```\n",
    "When the function is called with the arguments most_common_words(\"comprehensions.txt\", 3) it should return\n",
    "\n",
    "Sample output\n",
    "```console\n",
    "{'comprehension': 4, 'is': 3, 'and': 3, 'for': 3, 'list': 4, 'in': 3}\n",
    "```\n",
    "\n",
    "NB: the case of letters affects the results, and all inflected forms are unique words in this exercise. That is, the words List, lists and list are each separate words here, and only list has enough occurrences to make it to the returned list. All punctutation should be removed before counting up the occurrences.\n",
    "\n",
    "It is up to you to decide how to implement this. The easiest way would likely be to make use of list and dictionary comprehensions."
   ]
  },
  {
   "cell_type": "code",
   "execution_count": 10,
   "metadata": {},
   "outputs": [
    {
     "data": {
      "text/plain": [
       "{'comprehension': 3, 'is': 3, 'and': 3, 'for': 3, 'list': 3, 'in': 3}"
      ]
     },
     "execution_count": 10,
     "metadata": {},
     "output_type": "execute_result"
    }
   ],
   "source": [
    "def most_common_words(filename: str, lower_limit: int) -> dict:\n",
    "    word_counts = {}\n",
    "\n",
    "    with open(filename, \"r\") as file:\n",
    "        for line in file:\n",
    "            words = line.strip().split()\n",
    "            for word in words:\n",
    "                if word in word_counts:\n",
    "                    word_counts[word] += 1\n",
    "                else:\n",
    "                    word_counts[word] = 1\n",
    "\n",
    "    common_words = {word: count for word, count in word_counts.items() if count >= lower_limit}\n",
    "    return common_words\n",
    "\n",
    "\n",
    "\n",
    "most_common_words(\"comprehensions.txt\", 3)\n"
   ]
  },
  {
   "cell_type": "code",
   "execution_count": null,
   "metadata": {},
   "outputs": [],
   "source": []
  }
 ],
 "metadata": {
  "kernelspec": {
   "display_name": ".venv",
   "language": "python",
   "name": "python3"
  },
  "language_info": {
   "codemirror_mode": {
    "name": "ipython",
    "version": 3
   },
   "file_extension": ".py",
   "mimetype": "text/x-python",
   "name": "python",
   "nbconvert_exporter": "python",
   "pygments_lexer": "ipython3",
   "version": "3.10.10"
  },
  "orig_nbformat": 4
 },
 "nbformat": 4,
 "nbformat_minor": 2
}
